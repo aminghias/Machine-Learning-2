{
 "cells": [
  {
   "cell_type": "markdown",
   "id": "cb1a3e77",
   "metadata": {},
   "source": [
    "# CSE603: Machine Learning - II"
   ]
  },
  {
   "cell_type": "markdown",
   "id": "e3501e61",
   "metadata": {},
   "source": [
    "# Assignment 2"
   ]
  },
  {
   "cell_type": "markdown",
   "id": "1f90aab9",
   "metadata": {},
   "source": [
    "### Submitted by:\n",
    "#### Name      : Muhammad Amin Ghias\n",
    "#### ERP ID    : 25366"
   ]
  },
  {
   "cell_type": "markdown",
   "id": "0486f00d",
   "metadata": {},
   "source": [
    "Date : 16th October 2022"
   ]
  },
  {
   "cell_type": "markdown",
   "metadata": {},
   "source": [
    "# Imprting Libraries"
   ]
  },
  {
   "cell_type": "code",
   "execution_count": 1,
   "metadata": {},
   "outputs": [
    {
     "name": "stderr",
     "output_type": "stream",
     "text": [
      "NumExpr defaulting to 8 threads.\n"
     ]
    }
   ],
   "source": [
    "import numpy as np\n",
    "import pandas as pd\n",
    "import seaborn as sns\n",
    "import matplotlib.pyplot as plt\n",
    "import scipy\n",
    "from scipy.stats import skew\n",
    "from scipy.stats import kurtosis\n",
    "from scipy.stats import multivariate_normal\n",
    "\n",
    "\n",
    "from scipy import stats\n",
    "from scipy.optimize import curve_fit\n",
    "from scipy import asarray as ar,exp\n",
    "\n",
    "import lazypredict\n",
    "\n",
    "from lazypredict.Supervised import LazyRegressor\n",
    "\n",
    "from sklearn.ensemble import RandomForestRegressor\n",
    "from sklearn.ensemble import GradientBoostingRegressor\n",
    "from sklearn.model_selection import train_test_split, RepeatedKFold, GridSearchCV, cross_val_score\n",
    "\n",
    "from sklearn.preprocessing import MinMaxScaler\n",
    "\n",
    "\n",
    "\n",
    "pd.set_option(\"display.precision\", 8)"
   ]
  },
  {
   "cell_type": "code",
   "execution_count": null,
   "metadata": {},
   "outputs": [],
   "source": []
  },
  {
   "cell_type": "markdown",
   "metadata": {},
   "source": [
    "## DataFrame"
   ]
  },
  {
   "cell_type": "code",
   "execution_count": 2,
   "metadata": {},
   "outputs": [
    {
     "name": "stdout",
     "output_type": "stream",
     "text": [
      "(17379, 17)\n",
      "Index(['instant', 'dteday', 'season', 'yr', 'mnth', 'hr', 'holiday', 'weekday',\n",
      "       'workingday', 'weathersit', 'temp', 'atemp', 'hum', 'windspeed',\n",
      "       'casual', 'registered', 'cnt'],\n",
      "      dtype='object')\n"
     ]
    },
    {
     "data": {
      "text/html": [
       "<div><div id=b3539f22-4189-4e5d-9dde-34fa9a2180b9 style=\"display:none; background-color:#9D6CFF; color:white; width:200px; height:30px; padding-left:5px; border-radius:4px; flex-direction:row; justify-content:space-around; align-items:center;\" onmouseover=\"this.style.backgroundColor='#BA9BF8'\" onmouseout=\"this.style.backgroundColor='#9D6CFF'\" onclick=\"window.commands?.execute('create-mitosheet-from-dataframe-output');\">See Full Dataframe in Mito</div> <script> if (window.commands.hasCommand('create-mitosheet-from-dataframe-output')) document.getElementById('b3539f22-4189-4e5d-9dde-34fa9a2180b9').style.display = 'flex' </script> <table border=\"1\" class=\"dataframe\">\n",
       "  <thead>\n",
       "    <tr style=\"text-align: right;\">\n",
       "      <th></th>\n",
       "      <th>instant</th>\n",
       "      <th>dteday</th>\n",
       "      <th>season</th>\n",
       "      <th>yr</th>\n",
       "      <th>mnth</th>\n",
       "      <th>hr</th>\n",
       "      <th>holiday</th>\n",
       "      <th>weekday</th>\n",
       "      <th>workingday</th>\n",
       "      <th>weathersit</th>\n",
       "      <th>temp</th>\n",
       "      <th>atemp</th>\n",
       "      <th>hum</th>\n",
       "      <th>windspeed</th>\n",
       "      <th>casual</th>\n",
       "      <th>registered</th>\n",
       "      <th>cnt</th>\n",
       "    </tr>\n",
       "  </thead>\n",
       "  <tbody>\n",
       "    <tr>\n",
       "      <th>0</th>\n",
       "      <td>1</td>\n",
       "      <td>2011-01-01</td>\n",
       "      <td>1</td>\n",
       "      <td>0</td>\n",
       "      <td>1</td>\n",
       "      <td>0</td>\n",
       "      <td>0</td>\n",
       "      <td>6</td>\n",
       "      <td>0</td>\n",
       "      <td>1</td>\n",
       "      <td>0.24</td>\n",
       "      <td>0.29</td>\n",
       "      <td>0.81</td>\n",
       "      <td>0.00</td>\n",
       "      <td>3</td>\n",
       "      <td>13</td>\n",
       "      <td>16</td>\n",
       "    </tr>\n",
       "    <tr>\n",
       "      <th>1</th>\n",
       "      <td>2</td>\n",
       "      <td>2011-01-01</td>\n",
       "      <td>1</td>\n",
       "      <td>0</td>\n",
       "      <td>1</td>\n",
       "      <td>1</td>\n",
       "      <td>0</td>\n",
       "      <td>6</td>\n",
       "      <td>0</td>\n",
       "      <td>1</td>\n",
       "      <td>0.22</td>\n",
       "      <td>0.27</td>\n",
       "      <td>0.80</td>\n",
       "      <td>0.00</td>\n",
       "      <td>8</td>\n",
       "      <td>32</td>\n",
       "      <td>40</td>\n",
       "    </tr>\n",
       "    <tr>\n",
       "      <th>2</th>\n",
       "      <td>3</td>\n",
       "      <td>2011-01-01</td>\n",
       "      <td>1</td>\n",
       "      <td>0</td>\n",
       "      <td>1</td>\n",
       "      <td>2</td>\n",
       "      <td>0</td>\n",
       "      <td>6</td>\n",
       "      <td>0</td>\n",
       "      <td>1</td>\n",
       "      <td>0.22</td>\n",
       "      <td>0.27</td>\n",
       "      <td>0.80</td>\n",
       "      <td>0.00</td>\n",
       "      <td>5</td>\n",
       "      <td>27</td>\n",
       "      <td>32</td>\n",
       "    </tr>\n",
       "    <tr>\n",
       "      <th>3</th>\n",
       "      <td>4</td>\n",
       "      <td>2011-01-01</td>\n",
       "      <td>1</td>\n",
       "      <td>0</td>\n",
       "      <td>1</td>\n",
       "      <td>3</td>\n",
       "      <td>0</td>\n",
       "      <td>6</td>\n",
       "      <td>0</td>\n",
       "      <td>1</td>\n",
       "      <td>0.24</td>\n",
       "      <td>0.29</td>\n",
       "      <td>0.75</td>\n",
       "      <td>0.00</td>\n",
       "      <td>3</td>\n",
       "      <td>10</td>\n",
       "      <td>13</td>\n",
       "    </tr>\n",
       "    <tr>\n",
       "      <th>4</th>\n",
       "      <td>5</td>\n",
       "      <td>2011-01-01</td>\n",
       "      <td>1</td>\n",
       "      <td>0</td>\n",
       "      <td>1</td>\n",
       "      <td>4</td>\n",
       "      <td>0</td>\n",
       "      <td>6</td>\n",
       "      <td>0</td>\n",
       "      <td>1</td>\n",
       "      <td>0.24</td>\n",
       "      <td>0.29</td>\n",
       "      <td>0.75</td>\n",
       "      <td>0.00</td>\n",
       "      <td>0</td>\n",
       "      <td>1</td>\n",
       "      <td>1</td>\n",
       "    </tr>\n",
       "  </tbody>\n",
       "</table></div>"
      ],
      "text/plain": [
       "   instant      dteday  season  yr  mnth  hr  holiday  weekday  workingday  \\\n",
       "0        1  2011-01-01       1   0     1   0        0        6           0   \n",
       "1        2  2011-01-01       1   0     1   1        0        6           0   \n",
       "2        3  2011-01-01       1   0     1   2        0        6           0   \n",
       "3        4  2011-01-01       1   0     1   3        0        6           0   \n",
       "4        5  2011-01-01       1   0     1   4        0        6           0   \n",
       "\n",
       "   weathersit  temp  atemp  hum  windspeed  casual  registered  cnt  \n",
       "0           1  0.24   0.29 0.81       0.00       3          13   16  \n",
       "1           1  0.22   0.27 0.80       0.00       8          32   40  \n",
       "2           1  0.22   0.27 0.80       0.00       5          27   32  \n",
       "3           1  0.24   0.29 0.75       0.00       3          10   13  \n",
       "4           1  0.24   0.29 0.75       0.00       0           1    1  "
      ]
     },
     "execution_count": 2,
     "metadata": {},
     "output_type": "execute_result"
    }
   ],
   "source": [
    "df_original=pd.read_csv('hour.csv')\n",
    "print(df_original.shape)\n",
    "print(df_original.columns)\n",
    "df_original.head()"
   ]
  },
  {
   "cell_type": "markdown",
   "metadata": {},
   "source": [
    "## About dataset: \n",
    "\n",
    "This dataset  is of Bike Sharing Dataset Data Set taken from UCI- Machine Learning repository\n",
    "\n",
    "url\n",
    "\n",
    "https://archive.ics.uci.edu/ml/datasets/Bike+Sharing+Dataset"
   ]
  },
  {
   "cell_type": "code",
   "execution_count": 3,
   "metadata": {},
   "outputs": [],
   "source": [
    "df=df_original.copy()"
   ]
  },
  {
   "cell_type": "code",
   "execution_count": 4,
   "metadata": {},
   "outputs": [
    {
     "name": "stdout",
     "output_type": "stream",
     "text": [
      "(17379, 17)\n",
      "instant         int64\n",
      "dteday         object\n",
      "season          int64\n",
      "yr              int64\n",
      "mnth            int64\n",
      "hr              int64\n",
      "holiday         int64\n",
      "weekday         int64\n",
      "workingday      int64\n",
      "weathersit      int64\n",
      "temp          float64\n",
      "atemp         float64\n",
      "hum           float64\n",
      "windspeed     float64\n",
      "casual          int64\n",
      "registered      int64\n",
      "cnt             int64\n",
      "dtype: object\n"
     ]
    },
    {
     "data": {
      "text/plain": [
       "instant       0\n",
       "dteday        0\n",
       "season        0\n",
       "yr            0\n",
       "mnth          0\n",
       "hr            0\n",
       "holiday       0\n",
       "weekday       0\n",
       "workingday    0\n",
       "weathersit    0\n",
       "temp          0\n",
       "atemp         0\n",
       "hum           0\n",
       "windspeed     0\n",
       "casual        0\n",
       "registered    0\n",
       "cnt           0\n",
       "dtype: int64"
      ]
     },
     "execution_count": 4,
     "metadata": {},
     "output_type": "execute_result"
    }
   ],
   "source": [
    "print(df.shape)\n",
    "print(df.dtypes)\n",
    "df.isna().sum()"
   ]
  },
  {
   "cell_type": "code",
   "execution_count": 5,
   "metadata": {},
   "outputs": [
    {
     "data": {
      "text/plain": [
       "'dteday'"
      ]
     },
     "execution_count": 5,
     "metadata": {},
     "output_type": "execute_result"
    }
   ],
   "source": [
    "d= df.dtypes == object\n",
    "c=d[d== True]\n",
    "c.index[0]"
   ]
  },
  {
   "cell_type": "code",
   "execution_count": 6,
   "metadata": {},
   "outputs": [],
   "source": [
    "df=df.drop(columns=c.index[0])"
   ]
  },
  {
   "cell_type": "code",
   "execution_count": 7,
   "metadata": {},
   "outputs": [
    {
     "data": {
      "text/plain": [
       "instant       float64\n",
       "season        float64\n",
       "yr            float64\n",
       "mnth          float64\n",
       "hr            float64\n",
       "holiday       float64\n",
       "weekday       float64\n",
       "workingday    float64\n",
       "weathersit    float64\n",
       "temp          float64\n",
       "atemp         float64\n",
       "hum           float64\n",
       "windspeed     float64\n",
       "casual        float64\n",
       "registered    float64\n",
       "cnt           float64\n",
       "dtype: object"
      ]
     },
     "execution_count": 7,
     "metadata": {},
     "output_type": "execute_result"
    }
   ],
   "source": [
    "df=df.astype(float)\n",
    "df.dtypes"
   ]
  },
  {
   "cell_type": "markdown",
   "metadata": {},
   "source": [
    "## Feature Selection "
   ]
  },
  {
   "cell_type": "code",
   "execution_count": 8,
   "metadata": {},
   "outputs": [
    {
     "name": "stdout",
     "output_type": "stream",
     "text": [
      "(17379, 15)\n"
     ]
    },
    {
     "data": {
      "image/png": "[encoded data removed]",
      "text/plain": [
       "<Figure size 1296x504 with 1 Axes>"
      ]
     },
     "metadata": {
      "needs_background": "light"
     },
     "output_type": "display_data"
    },
    {
     "name": "stdout",
     "output_type": "stream",
     "text": [
      "Index(['registered', 'casual', 'hr', 'atemp', 'instant', 'temp', 'hum', 'yr',\n",
      "       'cnt'],\n",
      "      dtype='object')\n"
     ]
    }
   ],
   "source": [
    "X=df.drop(columns='cnt')\n",
    "print(X.shape)\n",
    "y= df.cnt\n",
    "\n",
    "\n",
    "trainX, testX, trainy, testy = train_test_split(X, y, test_size=0.3, random_state=2)\n",
    "    \n",
    "    \n",
    "clfRF = RandomForestRegressor(max_depth=5, max_features=4, min_samples_split=8,\n",
    "                n_estimators=100)#, random_state=0)\n",
    "clfRF.fit(trainX, trainy)\n",
    "importance_rf = pd.Series(clfRF.feature_importances_, index=trainX.columns)\n",
    "    \n",
    "\n",
    "clfGB = GradientBoostingRegressor(max_depth=2,n_estimators=50)#, random_state=0)\n",
    "clfGB.fit(trainX, trainy)\n",
    "importance_GB = pd.Series(clfGB.feature_importances_, index=trainX.columns)\n",
    "\n",
    "importance_sorted = importance_GB + importance_rf\n",
    "\n",
    "importance_sorted = importance_rf.sort_values()\n",
    "\n",
    "\n",
    "plt.figure(figsize=(18, 7))\n",
    "importance_sorted.nlargest(20).plot(kind='barh', color='orange')\n",
    "\n",
    "plt.title(\"Feature Importance Random Forest+ Gradient Boosting\")\n",
    "plt.show()\n",
    "\n",
    "\n",
    "z= int(0.5*len(df.columns))\n",
    "z\n",
    "\n",
    "b=importance_sorted.nlargest(z)\n",
    "\n",
    "col = list(b.index)\n",
    "\n",
    "col.append('cnt')\n",
    "col\n",
    "\n",
    "dfr =df[col]\n",
    "\n",
    "print(dfr.columns)"
   ]
  },
  {
   "cell_type": "markdown",
   "metadata": {},
   "source": [
    "### Chose the best 50% features"
   ]
  },
  {
   "cell_type": "markdown",
   "metadata": {},
   "source": [
    "# EDA on the best features dataset"
   ]
  },
  {
   "cell_type": "code",
   "execution_count": 9,
   "metadata": {},
   "outputs": [
    {
     "data": {
      "text/html": [
       "<div><div id=99d3e42b-f059-4fa1-9cca-c3e508cabe1a style=\"display:none; background-color:#9D6CFF; color:white; width:200px; height:30px; padding-left:5px; border-radius:4px; flex-direction:row; justify-content:space-around; align-items:center;\" onmouseover=\"this.style.backgroundColor='#BA9BF8'\" onmouseout=\"this.style.backgroundColor='#9D6CFF'\" onclick=\"window.commands?.execute('create-mitosheet-from-dataframe-output');\">See Full Dataframe in Mito</div> <script> if (window.commands.hasCommand('create-mitosheet-from-dataframe-output')) document.getElementById('99d3e42b-f059-4fa1-9cca-c3e508cabe1a').style.display = 'flex' </script> <table border=\"1\" class=\"dataframe\">\n",
       "  <thead>\n",
       "    <tr style=\"text-align: right;\">\n",
       "      <th></th>\n",
       "      <th>registered</th>\n",
       "      <th>casual</th>\n",
       "      <th>hr</th>\n",
       "      <th>atemp</th>\n",
       "      <th>instant</th>\n",
       "      <th>temp</th>\n",
       "      <th>hum</th>\n",
       "      <th>yr</th>\n",
       "      <th>cnt</th>\n",
       "    </tr>\n",
       "  </thead>\n",
       "  <tbody>\n",
       "    <tr>\n",
       "      <th>0</th>\n",
       "      <td>13.00</td>\n",
       "      <td>3.00</td>\n",
       "      <td>0.00</td>\n",
       "      <td>0.29</td>\n",
       "      <td>1.00</td>\n",
       "      <td>0.24</td>\n",
       "      <td>0.81</td>\n",
       "      <td>0.00</td>\n",
       "      <td>16.00</td>\n",
       "    </tr>\n",
       "    <tr>\n",
       "      <th>1</th>\n",
       "      <td>32.00</td>\n",
       "      <td>8.00</td>\n",
       "      <td>1.00</td>\n",
       "      <td>0.27</td>\n",
       "      <td>2.00</td>\n",
       "      <td>0.22</td>\n",
       "      <td>0.80</td>\n",
       "      <td>0.00</td>\n",
       "      <td>40.00</td>\n",
       "    </tr>\n",
       "    <tr>\n",
       "      <th>2</th>\n",
       "      <td>27.00</td>\n",
       "      <td>5.00</td>\n",
       "      <td>2.00</td>\n",
       "      <td>0.27</td>\n",
       "      <td>3.00</td>\n",
       "      <td>0.22</td>\n",
       "      <td>0.80</td>\n",
       "      <td>0.00</td>\n",
       "      <td>32.00</td>\n",
       "    </tr>\n",
       "    <tr>\n",
       "      <th>3</th>\n",
       "      <td>10.00</td>\n",
       "      <td>3.00</td>\n",
       "      <td>3.00</td>\n",
       "      <td>0.29</td>\n",
       "      <td>4.00</td>\n",
       "      <td>0.24</td>\n",
       "      <td>0.75</td>\n",
       "      <td>0.00</td>\n",
       "      <td>13.00</td>\n",
       "    </tr>\n",
       "    <tr>\n",
       "      <th>4</th>\n",
       "      <td>1.00</td>\n",
       "      <td>0.00</td>\n",
       "      <td>4.00</td>\n",
       "      <td>0.29</td>\n",
       "      <td>5.00</td>\n",
       "      <td>0.24</td>\n",
       "      <td>0.75</td>\n",
       "      <td>0.00</td>\n",
       "      <td>1.00</td>\n",
       "    </tr>\n",
       "  </tbody>\n",
       "</table></div>"
      ],
      "text/plain": [
       "   registered  casual   hr  atemp  instant  temp  hum   yr   cnt\n",
       "0       13.00    3.00 0.00   0.29     1.00  0.24 0.81 0.00 16.00\n",
       "1       32.00    8.00 1.00   0.27     2.00  0.22 0.80 0.00 40.00\n",
       "2       27.00    5.00 2.00   0.27     3.00  0.22 0.80 0.00 32.00\n",
       "3       10.00    3.00 3.00   0.29     4.00  0.24 0.75 0.00 13.00\n",
       "4        1.00    0.00 4.00   0.29     5.00  0.24 0.75 0.00  1.00"
      ]
     },
     "execution_count": 9,
     "metadata": {},
     "output_type": "execute_result"
    }
   ],
   "source": [
    "dfr.head()"
   ]
  },
  {
   "cell_type": "code",
   "execution_count": 10,
   "metadata": {},
   "outputs": [
    {
     "data": {
      "text/plain": [
       "(17379, 9)"
      ]
     },
     "execution_count": 10,
     "metadata": {},
     "output_type": "execute_result"
    }
   ],
   "source": [
    "dfr.shape\n"
   ]
  },
  {
   "cell_type": "code",
   "execution_count": null,
   "metadata": {},
   "outputs": [],
   "source": []
  },
  {
   "cell_type": "markdown",
   "metadata": {},
   "source": [
    "### Checking distplot of all remaining Features"
   ]
  },
  {
   "cell_type": "code",
   "execution_count": 11,
   "metadata": {},
   "outputs": [
    {
     "data": {
      "image/png": "[encoded data removed]",
      "text/plain": [
       "<Figure size 1800x5760 with 9 Axes>"
      ]
     },
     "metadata": {
      "needs_background": "light"
     },
     "output_type": "display_data"
    }
   ],
   "source": [
    "k=int(len(dfr.columns)/2)+1\n",
    "\n",
    "plt.figure(figsize=(25, 80))\n",
    "\n",
    "for i, col in enumerate(dfr.columns):\n",
    "\n",
    "    plt.subplot(k, 2, i+1)\n",
    "    try:\n",
    "        sns.distplot(dfr[col])\n",
    "        # plt.hist(dfr[col])\n",
    "        plt.tight_layout()\n",
    "        plt.title(col,size=30)\n",
    "        plt.xlabel(\"Values\")\n",
    "        plt.ylabel(\"Counts\")\n",
    "    except:\n",
    "        print(col)"
   ]
  },
  {
   "cell_type": "markdown",
   "metadata": {},
   "source": [
    "### yr distribution is not close to normal, whereas other columns distribution is skewed and somewaht normala gaussian"
   ]
  },
  {
   "cell_type": "markdown",
   "metadata": {},
   "source": [
    "#### Removing yr also"
   ]
  },
  {
   "cell_type": "code",
   "execution_count": 12,
   "metadata": {},
   "outputs": [
    {
     "name": "stdout",
     "output_type": "stream",
     "text": [
      "(17379, 9)\n",
      "(17379, 8)\n"
     ]
    }
   ],
   "source": [
    "print(dfr.shape)\n",
    "df_n=dfr.drop(columns='yr')\n",
    "print(df_n.shape)"
   ]
  },
  {
   "cell_type": "code",
   "execution_count": 13,
   "metadata": {},
   "outputs": [],
   "source": [
    "df_s=df_n.copy()"
   ]
  },
  {
   "cell_type": "code",
   "execution_count": 14,
   "metadata": {},
   "outputs": [
    {
     "data": {
      "text/html": [
       "<div><div id=41d94710-1ee4-4b79-af20-dfb274d4536d style=\"display:none; background-color:#9D6CFF; color:white; width:200px; height:30px; padding-left:5px; border-radius:4px; flex-direction:row; justify-content:space-around; align-items:center;\" onmouseover=\"this.style.backgroundColor='#BA9BF8'\" onmouseout=\"this.style.backgroundColor='#9D6CFF'\" onclick=\"window.commands?.execute('create-mitosheet-from-dataframe-output');\">See Full Dataframe in Mito</div> <script> if (window.commands.hasCommand('create-mitosheet-from-dataframe-output')) document.getElementById('41d94710-1ee4-4b79-af20-dfb274d4536d').style.display = 'flex' </script> <table border=\"1\" class=\"dataframe\">\n",
       "  <thead>\n",
       "    <tr style=\"text-align: right;\">\n",
       "      <th></th>\n",
       "      <th>registered</th>\n",
       "      <th>casual</th>\n",
       "      <th>hr</th>\n",
       "      <th>atemp</th>\n",
       "      <th>instant</th>\n",
       "      <th>temp</th>\n",
       "      <th>hum</th>\n",
       "      <th>cnt</th>\n",
       "    </tr>\n",
       "  </thead>\n",
       "  <tbody>\n",
       "    <tr>\n",
       "      <th>0</th>\n",
       "      <td>13.00</td>\n",
       "      <td>3.00</td>\n",
       "      <td>0.00</td>\n",
       "      <td>0.29</td>\n",
       "      <td>1.00</td>\n",
       "      <td>0.24</td>\n",
       "      <td>0.81</td>\n",
       "      <td>16.00</td>\n",
       "    </tr>\n",
       "    <tr>\n",
       "      <th>1</th>\n",
       "      <td>32.00</td>\n",
       "      <td>8.00</td>\n",
       "      <td>1.00</td>\n",
       "      <td>0.27</td>\n",
       "      <td>2.00</td>\n",
       "      <td>0.22</td>\n",
       "      <td>0.80</td>\n",
       "      <td>40.00</td>\n",
       "    </tr>\n",
       "    <tr>\n",
       "      <th>2</th>\n",
       "      <td>27.00</td>\n",
       "      <td>5.00</td>\n",
       "      <td>2.00</td>\n",
       "      <td>0.27</td>\n",
       "      <td>3.00</td>\n",
       "      <td>0.22</td>\n",
       "      <td>0.80</td>\n",
       "      <td>32.00</td>\n",
       "    </tr>\n",
       "    <tr>\n",
       "      <th>3</th>\n",
       "      <td>10.00</td>\n",
       "      <td>3.00</td>\n",
       "      <td>3.00</td>\n",
       "      <td>0.29</td>\n",
       "      <td>4.00</td>\n",
       "      <td>0.24</td>\n",
       "      <td>0.75</td>\n",
       "      <td>13.00</td>\n",
       "    </tr>\n",
       "    <tr>\n",
       "      <th>4</th>\n",
       "      <td>1.00</td>\n",
       "      <td>0.00</td>\n",
       "      <td>4.00</td>\n",
       "      <td>0.29</td>\n",
       "      <td>5.00</td>\n",
       "      <td>0.24</td>\n",
       "      <td>0.75</td>\n",
       "      <td>1.00</td>\n",
       "    </tr>\n",
       "  </tbody>\n",
       "</table></div>"
      ],
      "text/plain": [
       "   registered  casual   hr  atemp  instant  temp  hum   cnt\n",
       "0       13.00    3.00 0.00   0.29     1.00  0.24 0.81 16.00\n",
       "1       32.00    8.00 1.00   0.27     2.00  0.22 0.80 40.00\n",
       "2       27.00    5.00 2.00   0.27     3.00  0.22 0.80 32.00\n",
       "3       10.00    3.00 3.00   0.29     4.00  0.24 0.75 13.00\n",
       "4        1.00    0.00 4.00   0.29     5.00  0.24 0.75  1.00"
      ]
     },
     "execution_count": 14,
     "metadata": {},
     "output_type": "execute_result"
    }
   ],
   "source": [
    "df_s.head()"
   ]
  },
  {
   "cell_type": "markdown",
   "metadata": {},
   "source": [
    "### Scaling dataset"
   ]
  },
  {
   "cell_type": "code",
   "execution_count": 15,
   "metadata": {},
   "outputs": [
    {
     "data": {
      "text/html": [
       "<div><div id=4a46f0e1-4238-49a6-bed2-72584def7026 style=\"display:none; background-color:#9D6CFF; color:white; width:200px; height:30px; padding-left:5px; border-radius:4px; flex-direction:row; justify-content:space-around; align-items:center;\" onmouseover=\"this.style.backgroundColor='#BA9BF8'\" onmouseout=\"this.style.backgroundColor='#9D6CFF'\" onclick=\"window.commands?.execute('create-mitosheet-from-dataframe-output');\">See Full Dataframe in Mito</div> <script> if (window.commands.hasCommand('create-mitosheet-from-dataframe-output')) document.getElementById('4a46f0e1-4238-49a6-bed2-72584def7026').style.display = 'flex' </script> <table border=\"1\" class=\"dataframe\">\n",
       "  <thead>\n",
       "    <tr style=\"text-align: right;\">\n",
       "      <th></th>\n",
       "      <th>registered</th>\n",
       "      <th>casual</th>\n",
       "      <th>hr</th>\n",
       "      <th>atemp</th>\n",
       "      <th>instant</th>\n",
       "      <th>temp</th>\n",
       "      <th>hum</th>\n",
       "      <th>cnt</th>\n",
       "    </tr>\n",
       "  </thead>\n",
       "  <tbody>\n",
       "    <tr>\n",
       "      <th>0</th>\n",
       "      <td>0.01</td>\n",
       "      <td>0.01</td>\n",
       "      <td>0.00</td>\n",
       "      <td>0.29</td>\n",
       "      <td>0.00</td>\n",
       "      <td>0.22</td>\n",
       "      <td>0.81</td>\n",
       "      <td>0.02</td>\n",
       "    </tr>\n",
       "    <tr>\n",
       "      <th>1</th>\n",
       "      <td>0.04</td>\n",
       "      <td>0.02</td>\n",
       "      <td>0.04</td>\n",
       "      <td>0.27</td>\n",
       "      <td>0.00</td>\n",
       "      <td>0.20</td>\n",
       "      <td>0.80</td>\n",
       "      <td>0.04</td>\n",
       "    </tr>\n",
       "    <tr>\n",
       "      <th>2</th>\n",
       "      <td>0.03</td>\n",
       "      <td>0.01</td>\n",
       "      <td>0.09</td>\n",
       "      <td>0.27</td>\n",
       "      <td>0.00</td>\n",
       "      <td>0.20</td>\n",
       "      <td>0.80</td>\n",
       "      <td>0.03</td>\n",
       "    </tr>\n",
       "    <tr>\n",
       "      <th>3</th>\n",
       "      <td>0.01</td>\n",
       "      <td>0.01</td>\n",
       "      <td>0.13</td>\n",
       "      <td>0.29</td>\n",
       "      <td>0.00</td>\n",
       "      <td>0.22</td>\n",
       "      <td>0.75</td>\n",
       "      <td>0.01</td>\n",
       "    </tr>\n",
       "    <tr>\n",
       "      <th>4</th>\n",
       "      <td>0.00</td>\n",
       "      <td>0.00</td>\n",
       "      <td>0.17</td>\n",
       "      <td>0.29</td>\n",
       "      <td>0.00</td>\n",
       "      <td>0.22</td>\n",
       "      <td>0.75</td>\n",
       "      <td>0.00</td>\n",
       "    </tr>\n",
       "  </tbody>\n",
       "</table></div>"
      ],
      "text/plain": [
       "   registered  casual   hr  atemp  instant  temp  hum  cnt\n",
       "0        0.01    0.01 0.00   0.29     0.00  0.22 0.81 0.02\n",
       "1        0.04    0.02 0.04   0.27     0.00  0.20 0.80 0.04\n",
       "2        0.03    0.01 0.09   0.27     0.00  0.20 0.80 0.03\n",
       "3        0.01    0.01 0.13   0.29     0.00  0.22 0.75 0.01\n",
       "4        0.00    0.00 0.17   0.29     0.00  0.22 0.75 0.00"
      ]
     },
     "execution_count": 15,
     "metadata": {},
     "output_type": "execute_result"
    }
   ],
   "source": [
    "# from sklearn.preprocessing import MinMaxScaler\n",
    "scaler = MinMaxScaler(feature_range=(0, 1))\n",
    "X2_Scaled = scaler.fit_transform(df_s)\n",
    "df_n = pd.DataFrame(X2_Scaled)\n",
    "df_n.columns = df_s.columns\n",
    "df_n.head()"
   ]
  },
  {
   "cell_type": "code",
   "execution_count": 16,
   "metadata": {},
   "outputs": [
    {
     "data": {
      "text/plain": [
       "0.00    260\n",
       "0.01    236\n",
       "0.00    231\n",
       "0.00    224\n",
       "0.00    208\n",
       "       ... \n",
       "0.89      1\n",
       "0.76      1\n",
       "0.88      1\n",
       "0.77      1\n",
       "0.85      1\n",
       "Name: cnt, Length: 869, dtype: int64"
      ]
     },
     "execution_count": 16,
     "metadata": {},
     "output_type": "execute_result"
    }
   ],
   "source": [
    "df_n.cnt.value_counts()"
   ]
  },
  {
   "cell_type": "markdown",
   "metadata": {},
   "source": [
    "# Finding probabbilties of all columns and joint probabilty"
   ]
  },
  {
   "cell_type": "code",
   "execution_count": 17,
   "metadata": {},
   "outputs": [
    {
     "data": {
      "text/html": [
       "<div><div id=31596bfb-a5d6-47af-a884-6fc9a7bdc8c0 style=\"display:none; background-color:#9D6CFF; color:white; width:200px; height:30px; padding-left:5px; border-radius:4px; flex-direction:row; justify-content:space-around; align-items:center;\" onmouseover=\"this.style.backgroundColor='#BA9BF8'\" onmouseout=\"this.style.backgroundColor='#9D6CFF'\" onclick=\"window.commands?.execute('create-mitosheet-from-dataframe-output');\">See Full Dataframe in Mito</div> <script> if (window.commands.hasCommand('create-mitosheet-from-dataframe-output')) document.getElementById('31596bfb-a5d6-47af-a884-6fc9a7bdc8c0').style.display = 'flex' </script> <table border=\"1\" class=\"dataframe\">\n",
       "  <thead>\n",
       "    <tr style=\"text-align: right;\">\n",
       "      <th></th>\n",
       "      <th>registered</th>\n",
       "      <th>casual</th>\n",
       "      <th>hr</th>\n",
       "      <th>atemp</th>\n",
       "      <th>instant</th>\n",
       "      <th>temp</th>\n",
       "      <th>hum</th>\n",
       "      <th>cnt</th>\n",
       "    </tr>\n",
       "  </thead>\n",
       "  <tbody>\n",
       "    <tr>\n",
       "      <th>0</th>\n",
       "      <td>13.00</td>\n",
       "      <td>3.00</td>\n",
       "      <td>0.00</td>\n",
       "      <td>0.29</td>\n",
       "      <td>1.00</td>\n",
       "      <td>0.24</td>\n",
       "      <td>0.81</td>\n",
       "      <td>16.00</td>\n",
       "    </tr>\n",
       "    <tr>\n",
       "      <th>1</th>\n",
       "      <td>32.00</td>\n",
       "      <td>8.00</td>\n",
       "      <td>1.00</td>\n",
       "      <td>0.27</td>\n",
       "      <td>2.00</td>\n",
       "      <td>0.22</td>\n",
       "      <td>0.80</td>\n",
       "      <td>40.00</td>\n",
       "    </tr>\n",
       "    <tr>\n",
       "      <th>2</th>\n",
       "      <td>27.00</td>\n",
       "      <td>5.00</td>\n",
       "      <td>2.00</td>\n",
       "      <td>0.27</td>\n",
       "      <td>3.00</td>\n",
       "      <td>0.22</td>\n",
       "      <td>0.80</td>\n",
       "      <td>32.00</td>\n",
       "    </tr>\n",
       "    <tr>\n",
       "      <th>3</th>\n",
       "      <td>10.00</td>\n",
       "      <td>3.00</td>\n",
       "      <td>3.00</td>\n",
       "      <td>0.29</td>\n",
       "      <td>4.00</td>\n",
       "      <td>0.24</td>\n",
       "      <td>0.75</td>\n",
       "      <td>13.00</td>\n",
       "    </tr>\n",
       "    <tr>\n",
       "      <th>4</th>\n",
       "      <td>1.00</td>\n",
       "      <td>0.00</td>\n",
       "      <td>4.00</td>\n",
       "      <td>0.29</td>\n",
       "      <td>5.00</td>\n",
       "      <td>0.24</td>\n",
       "      <td>0.75</td>\n",
       "      <td>1.00</td>\n",
       "    </tr>\n",
       "  </tbody>\n",
       "</table></div>"
      ],
      "text/plain": [
       "   registered  casual   hr  atemp  instant  temp  hum   cnt\n",
       "0       13.00    3.00 0.00   0.29     1.00  0.24 0.81 16.00\n",
       "1       32.00    8.00 1.00   0.27     2.00  0.22 0.80 40.00\n",
       "2       27.00    5.00 2.00   0.27     3.00  0.22 0.80 32.00\n",
       "3       10.00    3.00 3.00   0.29     4.00  0.24 0.75 13.00\n",
       "4        1.00    0.00 4.00   0.29     5.00  0.24 0.75  1.00"
      ]
     },
     "execution_count": 17,
     "metadata": {},
     "output_type": "execute_result"
    }
   ],
   "source": [
    "df_s.head()"
   ]
  },
  {
   "cell_type": "code",
   "execution_count": 18,
   "metadata": {},
   "outputs": [
    {
     "data": {
      "text/html": [
       "<div><div id=44f49c26-4520-4b5e-8461-1914c0957289 style=\"display:none; background-color:#9D6CFF; color:white; width:200px; height:30px; padding-left:5px; border-radius:4px; flex-direction:row; justify-content:space-around; align-items:center;\" onmouseover=\"this.style.backgroundColor='#BA9BF8'\" onmouseout=\"this.style.backgroundColor='#9D6CFF'\" onclick=\"window.commands?.execute('create-mitosheet-from-dataframe-output');\">See Full Dataframe in Mito</div> <script> if (window.commands.hasCommand('create-mitosheet-from-dataframe-output')) document.getElementById('44f49c26-4520-4b5e-8461-1914c0957289').style.display = 'flex' </script> <table border=\"1\" class=\"dataframe\">\n",
       "  <thead>\n",
       "    <tr style=\"text-align: right;\">\n",
       "      <th></th>\n",
       "      <th>registered</th>\n",
       "      <th>casual</th>\n",
       "      <th>hr</th>\n",
       "      <th>atemp</th>\n",
       "      <th>instant</th>\n",
       "      <th>temp</th>\n",
       "      <th>hum</th>\n",
       "      <th>cnt</th>\n",
       "    </tr>\n",
       "  </thead>\n",
       "  <tbody>\n",
       "    <tr>\n",
       "      <th>count</th>\n",
       "      <td>17379.00</td>\n",
       "      <td>17379.00</td>\n",
       "      <td>17379.00</td>\n",
       "      <td>17379.00</td>\n",
       "      <td>17379.00</td>\n",
       "      <td>17379.00</td>\n",
       "      <td>17379.00</td>\n",
       "      <td>17379.00</td>\n",
       "    </tr>\n",
       "    <tr>\n",
       "      <th>mean</th>\n",
       "      <td>153.79</td>\n",
       "      <td>35.68</td>\n",
       "      <td>11.55</td>\n",
       "      <td>0.48</td>\n",
       "      <td>8690.00</td>\n",
       "      <td>0.50</td>\n",
       "      <td>0.63</td>\n",
       "      <td>189.46</td>\n",
       "    </tr>\n",
       "    <tr>\n",
       "      <th>std</th>\n",
       "      <td>151.36</td>\n",
       "      <td>49.31</td>\n",
       "      <td>6.91</td>\n",
       "      <td>0.17</td>\n",
       "      <td>5017.03</td>\n",
       "      <td>0.19</td>\n",
       "      <td>0.19</td>\n",
       "      <td>181.39</td>\n",
       "    </tr>\n",
       "    <tr>\n",
       "      <th>min</th>\n",
       "      <td>0.00</td>\n",
       "      <td>0.00</td>\n",
       "      <td>0.00</td>\n",
       "      <td>0.00</td>\n",
       "      <td>1.00</td>\n",
       "      <td>0.02</td>\n",
       "      <td>0.00</td>\n",
       "      <td>1.00</td>\n",
       "    </tr>\n",
       "    <tr>\n",
       "      <th>25%</th>\n",
       "      <td>34.00</td>\n",
       "      <td>4.00</td>\n",
       "      <td>6.00</td>\n",
       "      <td>0.33</td>\n",
       "      <td>4345.50</td>\n",
       "      <td>0.34</td>\n",
       "      <td>0.48</td>\n",
       "      <td>40.00</td>\n",
       "    </tr>\n",
       "    <tr>\n",
       "      <th>50%</th>\n",
       "      <td>115.00</td>\n",
       "      <td>17.00</td>\n",
       "      <td>12.00</td>\n",
       "      <td>0.48</td>\n",
       "      <td>8690.00</td>\n",
       "      <td>0.50</td>\n",
       "      <td>0.63</td>\n",
       "      <td>142.00</td>\n",
       "    </tr>\n",
       "    <tr>\n",
       "      <th>75%</th>\n",
       "      <td>220.00</td>\n",
       "      <td>48.00</td>\n",
       "      <td>18.00</td>\n",
       "      <td>0.62</td>\n",
       "      <td>13034.50</td>\n",
       "      <td>0.66</td>\n",
       "      <td>0.78</td>\n",
       "      <td>281.00</td>\n",
       "    </tr>\n",
       "    <tr>\n",
       "      <th>max</th>\n",
       "      <td>886.00</td>\n",
       "      <td>367.00</td>\n",
       "      <td>23.00</td>\n",
       "      <td>1.00</td>\n",
       "      <td>17379.00</td>\n",
       "      <td>1.00</td>\n",
       "      <td>1.00</td>\n",
       "      <td>977.00</td>\n",
       "    </tr>\n",
       "  </tbody>\n",
       "</table></div>"
      ],
      "text/plain": [
       "       registered   casual       hr    atemp  instant     temp      hum  \\\n",
       "count    17379.00 17379.00 17379.00 17379.00 17379.00 17379.00 17379.00   \n",
       "mean       153.79    35.68    11.55     0.48  8690.00     0.50     0.63   \n",
       "std        151.36    49.31     6.91     0.17  5017.03     0.19     0.19   \n",
       "min          0.00     0.00     0.00     0.00     1.00     0.02     0.00   \n",
       "25%         34.00     4.00     6.00     0.33  4345.50     0.34     0.48   \n",
       "50%        115.00    17.00    12.00     0.48  8690.00     0.50     0.63   \n",
       "75%        220.00    48.00    18.00     0.62 13034.50     0.66     0.78   \n",
       "max        886.00   367.00    23.00     1.00 17379.00     1.00     1.00   \n",
       "\n",
       "           cnt  \n",
       "count 17379.00  \n",
       "mean    189.46  \n",
       "std     181.39  \n",
       "min       1.00  \n",
       "25%      40.00  \n",
       "50%     142.00  \n",
       "75%     281.00  \n",
       "max     977.00  "
      ]
     },
     "execution_count": 18,
     "metadata": {},
     "output_type": "execute_result"
    }
   ],
   "source": [
    "df_s.describe()"
   ]
  },
  {
   "cell_type": "code",
   "execution_count": 19,
   "metadata": {},
   "outputs": [
    {
     "data": {
      "text/html": [
       "<div><div id=935ee8d4-8cb0-4d8e-bb42-9d5729cdd16e style=\"display:none; background-color:#9D6CFF; color:white; width:200px; height:30px; padding-left:5px; border-radius:4px; flex-direction:row; justify-content:space-around; align-items:center;\" onmouseover=\"this.style.backgroundColor='#BA9BF8'\" onmouseout=\"this.style.backgroundColor='#9D6CFF'\" onclick=\"window.commands?.execute('create-mitosheet-from-dataframe-output');\">See Full Dataframe in Mito</div> <script> if (window.commands.hasCommand('create-mitosheet-from-dataframe-output')) document.getElementById('935ee8d4-8cb0-4d8e-bb42-9d5729cdd16e').style.display = 'flex' </script> <table border=\"1\" class=\"dataframe\">\n",
       "  <thead>\n",
       "    <tr style=\"text-align: right;\">\n",
       "      <th></th>\n",
       "      <th>registered</th>\n",
       "      <th>casual</th>\n",
       "      <th>hr</th>\n",
       "      <th>atemp</th>\n",
       "      <th>instant</th>\n",
       "      <th>temp</th>\n",
       "      <th>hum</th>\n",
       "      <th>cnt</th>\n",
       "    </tr>\n",
       "  </thead>\n",
       "  <tbody>\n",
       "    <tr>\n",
       "      <th>count</th>\n",
       "      <td>17379.00</td>\n",
       "      <td>17379.00</td>\n",
       "      <td>17379.00</td>\n",
       "      <td>17379.00</td>\n",
       "      <td>17379.00</td>\n",
       "      <td>17379.00</td>\n",
       "      <td>17379.00</td>\n",
       "      <td>17379.00</td>\n",
       "    </tr>\n",
       "    <tr>\n",
       "      <th>mean</th>\n",
       "      <td>0.17</td>\n",
       "      <td>0.10</td>\n",
       "      <td>0.50</td>\n",
       "      <td>0.48</td>\n",
       "      <td>0.50</td>\n",
       "      <td>0.49</td>\n",
       "      <td>0.63</td>\n",
       "      <td>0.19</td>\n",
       "    </tr>\n",
       "    <tr>\n",
       "      <th>std</th>\n",
       "      <td>0.17</td>\n",
       "      <td>0.13</td>\n",
       "      <td>0.30</td>\n",
       "      <td>0.17</td>\n",
       "      <td>0.29</td>\n",
       "      <td>0.20</td>\n",
       "      <td>0.19</td>\n",
       "      <td>0.19</td>\n",
       "    </tr>\n",
       "    <tr>\n",
       "      <th>min</th>\n",
       "      <td>0.00</td>\n",
       "      <td>0.00</td>\n",
       "      <td>0.00</td>\n",
       "      <td>0.00</td>\n",
       "      <td>0.00</td>\n",
       "      <td>0.00</td>\n",
       "      <td>0.00</td>\n",
       "      <td>0.00</td>\n",
       "    </tr>\n",
       "    <tr>\n",
       "      <th>25%</th>\n",
       "      <td>0.04</td>\n",
       "      <td>0.01</td>\n",
       "      <td>0.26</td>\n",
       "      <td>0.33</td>\n",
       "      <td>0.25</td>\n",
       "      <td>0.33</td>\n",
       "      <td>0.48</td>\n",
       "      <td>0.04</td>\n",
       "    </tr>\n",
       "    <tr>\n",
       "      <th>50%</th>\n",
       "      <td>0.13</td>\n",
       "      <td>0.05</td>\n",
       "      <td>0.52</td>\n",
       "      <td>0.48</td>\n",
       "      <td>0.50</td>\n",
       "      <td>0.49</td>\n",
       "      <td>0.63</td>\n",
       "      <td>0.14</td>\n",
       "    </tr>\n",
       "    <tr>\n",
       "      <th>75%</th>\n",
       "      <td>0.25</td>\n",
       "      <td>0.13</td>\n",
       "      <td>0.78</td>\n",
       "      <td>0.62</td>\n",
       "      <td>0.75</td>\n",
       "      <td>0.65</td>\n",
       "      <td>0.78</td>\n",
       "      <td>0.29</td>\n",
       "    </tr>\n",
       "    <tr>\n",
       "      <th>max</th>\n",
       "      <td>1.00</td>\n",
       "      <td>1.00</td>\n",
       "      <td>1.00</td>\n",
       "      <td>1.00</td>\n",
       "      <td>1.00</td>\n",
       "      <td>1.00</td>\n",
       "      <td>1.00</td>\n",
       "      <td>1.00</td>\n",
       "    </tr>\n",
       "  </tbody>\n",
       "</table></div>"
      ],
      "text/plain": [
       "       registered   casual       hr    atemp  instant     temp      hum  \\\n",
       "count    17379.00 17379.00 17379.00 17379.00 17379.00 17379.00 17379.00   \n",
       "mean         0.17     0.10     0.50     0.48     0.50     0.49     0.63   \n",
       "std          0.17     0.13     0.30     0.17     0.29     0.20     0.19   \n",
       "min          0.00     0.00     0.00     0.00     0.00     0.00     0.00   \n",
       "25%          0.04     0.01     0.26     0.33     0.25     0.33     0.48   \n",
       "50%          0.13     0.05     0.52     0.48     0.50     0.49     0.63   \n",
       "75%          0.25     0.13     0.78     0.62     0.75     0.65     0.78   \n",
       "max          1.00     1.00     1.00     1.00     1.00     1.00     1.00   \n",
       "\n",
       "           cnt  \n",
       "count 17379.00  \n",
       "mean      0.19  \n",
       "std       0.19  \n",
       "min       0.00  \n",
       "25%       0.04  \n",
       "50%       0.14  \n",
       "75%       0.29  \n",
       "max       1.00  "
      ]
     },
     "execution_count": 19,
     "metadata": {},
     "output_type": "execute_result"
    }
   ],
   "source": [
    "df_n.describe()"
   ]
  },
  {
   "cell_type": "code",
   "execution_count": 20,
   "metadata": {},
   "outputs": [
    {
     "data": {
      "text/html": [
       "<div><div id=13cbbe7f-3bae-40d5-9d05-51f16b2cfa70 style=\"display:none; background-color:#9D6CFF; color:white; width:200px; height:30px; padding-left:5px; border-radius:4px; flex-direction:row; justify-content:space-around; align-items:center;\" onmouseover=\"this.style.backgroundColor='#BA9BF8'\" onmouseout=\"this.style.backgroundColor='#9D6CFF'\" onclick=\"window.commands?.execute('create-mitosheet-from-dataframe-output');\">See Full Dataframe in Mito</div> <script> if (window.commands.hasCommand('create-mitosheet-from-dataframe-output')) document.getElementById('13cbbe7f-3bae-40d5-9d05-51f16b2cfa70').style.display = 'flex' </script> <table border=\"1\" class=\"dataframe\">\n",
       "  <thead>\n",
       "    <tr style=\"text-align: right;\">\n",
       "      <th></th>\n",
       "      <th>registered</th>\n",
       "      <th>casual</th>\n",
       "      <th>hr</th>\n",
       "      <th>atemp</th>\n",
       "      <th>instant</th>\n",
       "      <th>temp</th>\n",
       "      <th>hum</th>\n",
       "      <th>cnt</th>\n",
       "    </tr>\n",
       "  </thead>\n",
       "  <tbody>\n",
       "    <tr>\n",
       "      <th>0</th>\n",
       "      <td>0.01</td>\n",
       "      <td>0.01</td>\n",
       "      <td>0.00</td>\n",
       "      <td>0.29</td>\n",
       "      <td>0.00</td>\n",
       "      <td>0.22</td>\n",
       "      <td>0.81</td>\n",
       "      <td>0.02</td>\n",
       "    </tr>\n",
       "    <tr>\n",
       "      <th>1</th>\n",
       "      <td>0.04</td>\n",
       "      <td>0.02</td>\n",
       "      <td>0.04</td>\n",
       "      <td>0.27</td>\n",
       "      <td>0.00</td>\n",
       "      <td>0.20</td>\n",
       "      <td>0.80</td>\n",
       "      <td>0.04</td>\n",
       "    </tr>\n",
       "    <tr>\n",
       "      <th>2</th>\n",
       "      <td>0.03</td>\n",
       "      <td>0.01</td>\n",
       "      <td>0.09</td>\n",
       "      <td>0.27</td>\n",
       "      <td>0.00</td>\n",
       "      <td>0.20</td>\n",
       "      <td>0.80</td>\n",
       "      <td>0.03</td>\n",
       "    </tr>\n",
       "    <tr>\n",
       "      <th>3</th>\n",
       "      <td>0.01</td>\n",
       "      <td>0.01</td>\n",
       "      <td>0.13</td>\n",
       "      <td>0.29</td>\n",
       "      <td>0.00</td>\n",
       "      <td>0.22</td>\n",
       "      <td>0.75</td>\n",
       "      <td>0.01</td>\n",
       "    </tr>\n",
       "    <tr>\n",
       "      <th>4</th>\n",
       "      <td>0.00</td>\n",
       "      <td>0.00</td>\n",
       "      <td>0.17</td>\n",
       "      <td>0.29</td>\n",
       "      <td>0.00</td>\n",
       "      <td>0.22</td>\n",
       "      <td>0.75</td>\n",
       "      <td>0.00</td>\n",
       "    </tr>\n",
       "  </tbody>\n",
       "</table></div>"
      ],
      "text/plain": [
       "   registered  casual   hr  atemp  instant  temp  hum  cnt\n",
       "0        0.01    0.01 0.00   0.29     0.00  0.22 0.81 0.02\n",
       "1        0.04    0.02 0.04   0.27     0.00  0.20 0.80 0.04\n",
       "2        0.03    0.01 0.09   0.27     0.00  0.20 0.80 0.03\n",
       "3        0.01    0.01 0.13   0.29     0.00  0.22 0.75 0.01\n",
       "4        0.00    0.00 0.17   0.29     0.00  0.22 0.75 0.00"
      ]
     },
     "execution_count": 20,
     "metadata": {},
     "output_type": "execute_result"
    }
   ],
   "source": [
    "df_n.head()"
   ]
  },
  {
   "cell_type": "markdown",
   "metadata": {},
   "source": [
    "#### Findining probabilities of all columns"
   ]
  },
  {
   "cell_type": "code",
   "execution_count": 21,
   "metadata": {},
   "outputs": [
    {
     "data": {
      "text/plain": [
       "registered    float64\n",
       "casual        float64\n",
       "hr            float64\n",
       "atemp         float64\n",
       "instant       float64\n",
       "temp          float64\n",
       "hum           float64\n",
       "cnt           float64\n",
       "dtype: object"
      ]
     },
     "execution_count": 21,
     "metadata": {},
     "output_type": "execute_result"
    }
   ],
   "source": [
    "df_n.dtypes"
   ]
  },
  {
   "cell_type": "code",
   "execution_count": 22,
   "metadata": {},
   "outputs": [
    {
     "data": {
      "text/html": [
       "<div><div id=fbfffaa9-a7bf-4509-bd71-a0069fc8a75a style=\"display:none; background-color:#9D6CFF; color:white; width:200px; height:30px; padding-left:5px; border-radius:4px; flex-direction:row; justify-content:space-around; align-items:center;\" onmouseover=\"this.style.backgroundColor='#BA9BF8'\" onmouseout=\"this.style.backgroundColor='#9D6CFF'\" onclick=\"window.commands?.execute('create-mitosheet-from-dataframe-output');\">See Full Dataframe in Mito</div> <script> if (window.commands.hasCommand('create-mitosheet-from-dataframe-output')) document.getElementById('fbfffaa9-a7bf-4509-bd71-a0069fc8a75a').style.display = 'flex' </script> <table border=\"1\" class=\"dataframe\">\n",
       "  <thead>\n",
       "    <tr style=\"text-align: right;\">\n",
       "      <th></th>\n",
       "      <th>registered</th>\n",
       "      <th>casual</th>\n",
       "      <th>hr</th>\n",
       "      <th>atemp</th>\n",
       "      <th>instant</th>\n",
       "      <th>temp</th>\n",
       "      <th>hum</th>\n",
       "      <th>cnt</th>\n",
       "      <th>prob_registered</th>\n",
       "      <th>prob_casual</th>\n",
       "      <th>prob_hr</th>\n",
       "      <th>prob_atemp</th>\n",
       "      <th>prob_instant</th>\n",
       "      <th>prob_temp</th>\n",
       "      <th>prob_hum</th>\n",
       "      <th>prob_cnt</th>\n",
       "    </tr>\n",
       "  </thead>\n",
       "  <tbody>\n",
       "    <tr>\n",
       "      <th>0</th>\n",
       "      <td>0.01</td>\n",
       "      <td>0.01</td>\n",
       "      <td>0.00</td>\n",
       "      <td>0.29</td>\n",
       "      <td>0.00</td>\n",
       "      <td>0.22</td>\n",
       "      <td>0.81</td>\n",
       "      <td>0.02</td>\n",
       "      <td>0.01</td>\n",
       "      <td>0.04</td>\n",
       "      <td>0.04</td>\n",
       "      <td>0.03</td>\n",
       "      <td>0.00</td>\n",
       "      <td>0.03</td>\n",
       "      <td>0.02</td>\n",
       "      <td>0.01</td>\n",
       "    </tr>\n",
       "    <tr>\n",
       "      <th>1</th>\n",
       "      <td>0.04</td>\n",
       "      <td>0.02</td>\n",
       "      <td>0.04</td>\n",
       "      <td>0.27</td>\n",
       "      <td>0.00</td>\n",
       "      <td>0.20</td>\n",
       "      <td>0.80</td>\n",
       "      <td>0.04</td>\n",
       "      <td>0.00</td>\n",
       "      <td>0.02</td>\n",
       "      <td>0.04</td>\n",
       "      <td>0.02</td>\n",
       "      <td>0.00</td>\n",
       "      <td>0.02</td>\n",
       "      <td>0.01</td>\n",
       "      <td>0.00</td>\n",
       "    </tr>\n",
       "    <tr>\n",
       "      <th>2</th>\n",
       "      <td>0.03</td>\n",
       "      <td>0.01</td>\n",
       "      <td>0.09</td>\n",
       "      <td>0.27</td>\n",
       "      <td>0.00</td>\n",
       "      <td>0.20</td>\n",
       "      <td>0.80</td>\n",
       "      <td>0.03</td>\n",
       "      <td>0.00</td>\n",
       "      <td>0.03</td>\n",
       "      <td>0.04</td>\n",
       "      <td>0.02</td>\n",
       "      <td>0.00</td>\n",
       "      <td>0.02</td>\n",
       "      <td>0.01</td>\n",
       "      <td>0.00</td>\n",
       "    </tr>\n",
       "    <tr>\n",
       "      <th>3</th>\n",
       "      <td>0.01</td>\n",
       "      <td>0.01</td>\n",
       "      <td>0.13</td>\n",
       "      <td>0.29</td>\n",
       "      <td>0.00</td>\n",
       "      <td>0.22</td>\n",
       "      <td>0.75</td>\n",
       "      <td>0.01</td>\n",
       "      <td>0.01</td>\n",
       "      <td>0.04</td>\n",
       "      <td>0.04</td>\n",
       "      <td>0.03</td>\n",
       "      <td>0.00</td>\n",
       "      <td>0.03</td>\n",
       "      <td>0.01</td>\n",
       "      <td>0.01</td>\n",
       "    </tr>\n",
       "    <tr>\n",
       "      <th>4</th>\n",
       "      <td>0.00</td>\n",
       "      <td>0.00</td>\n",
       "      <td>0.17</td>\n",
       "      <td>0.29</td>\n",
       "      <td>0.00</td>\n",
       "      <td>0.22</td>\n",
       "      <td>0.75</td>\n",
       "      <td>0.00</td>\n",
       "      <td>0.01</td>\n",
       "      <td>0.09</td>\n",
       "      <td>0.04</td>\n",
       "      <td>0.03</td>\n",
       "      <td>0.00</td>\n",
       "      <td>0.03</td>\n",
       "      <td>0.01</td>\n",
       "      <td>0.01</td>\n",
       "    </tr>\n",
       "  </tbody>\n",
       "</table></div>"
      ],
      "text/plain": [
       "   registered  casual   hr  atemp  instant  temp  hum  cnt  prob_registered  \\\n",
       "0        0.01    0.01 0.00   0.29     0.00  0.22 0.81 0.02             0.01   \n",
       "1        0.04    0.02 0.04   0.27     0.00  0.20 0.80 0.04             0.00   \n",
       "2        0.03    0.01 0.09   0.27     0.00  0.20 0.80 0.03             0.00   \n",
       "3        0.01    0.01 0.13   0.29     0.00  0.22 0.75 0.01             0.01   \n",
       "4        0.00    0.00 0.17   0.29     0.00  0.22 0.75 0.00             0.01   \n",
       "\n",
       "   prob_casual  prob_hr  prob_atemp  prob_instant  prob_temp  prob_hum  \\\n",
       "0         0.04     0.04        0.03          0.00       0.03      0.02   \n",
       "1         0.02     0.04        0.02          0.00       0.02      0.01   \n",
       "2         0.03     0.04        0.02          0.00       0.02      0.01   \n",
       "3         0.04     0.04        0.03          0.00       0.03      0.01   \n",
       "4         0.09     0.04        0.03          0.00       0.03      0.01   \n",
       "\n",
       "   prob_cnt  \n",
       "0      0.01  \n",
       "1      0.00  \n",
       "2      0.00  \n",
       "3      0.01  \n",
       "4      0.01  "
      ]
     },
     "execution_count": 22,
     "metadata": {},
     "output_type": "execute_result"
    }
   ],
   "source": [
    "df_n_prob=df_n.copy()\n",
    "\n",
    "def f1(b):\n",
    "    \n",
    "    k=df_n[df_n[i] == b].shape[0]\n",
    "    return(k/len(df_n))\n",
    "\n",
    "for i in df_n.columns:\n",
    "    df_n_prob['prob_'+i] = df_n[i].apply(f1)\n",
    "\n",
    "df_n_prob.head()"
   ]
  },
  {
   "cell_type": "code",
   "execution_count": 23,
   "metadata": {},
   "outputs": [
    {
     "data": {
      "text/html": [
       "<div><div id=482f8553-5f7c-4ef1-8eaa-4714632c6d2b style=\"display:none; background-color:#9D6CFF; color:white; width:200px; height:30px; padding-left:5px; border-radius:4px; flex-direction:row; justify-content:space-around; align-items:center;\" onmouseover=\"this.style.backgroundColor='#BA9BF8'\" onmouseout=\"this.style.backgroundColor='#9D6CFF'\" onclick=\"window.commands?.execute('create-mitosheet-from-dataframe-output');\">See Full Dataframe in Mito</div> <script> if (window.commands.hasCommand('create-mitosheet-from-dataframe-output')) document.getElementById('482f8553-5f7c-4ef1-8eaa-4714632c6d2b').style.display = 'flex' </script> <table border=\"1\" class=\"dataframe\">\n",
       "  <thead>\n",
       "    <tr style=\"text-align: right;\">\n",
       "      <th></th>\n",
       "      <th>registered</th>\n",
       "      <th>casual</th>\n",
       "      <th>hr</th>\n",
       "      <th>atemp</th>\n",
       "      <th>instant</th>\n",
       "      <th>temp</th>\n",
       "      <th>hum</th>\n",
       "      <th>cnt</th>\n",
       "      <th>prob_registered</th>\n",
       "      <th>prob_casual</th>\n",
       "      <th>prob_hr</th>\n",
       "      <th>prob_atemp</th>\n",
       "      <th>prob_instant</th>\n",
       "      <th>prob_temp</th>\n",
       "      <th>prob_hum</th>\n",
       "      <th>prob_cnt</th>\n",
       "    </tr>\n",
       "  </thead>\n",
       "  <tbody>\n",
       "    <tr>\n",
       "      <th>0</th>\n",
       "      <td>0.01</td>\n",
       "      <td>0.01</td>\n",
       "      <td>0.00</td>\n",
       "      <td>0.29</td>\n",
       "      <td>0.00</td>\n",
       "      <td>0.22</td>\n",
       "      <td>0.81</td>\n",
       "      <td>0.02</td>\n",
       "      <td>0.01</td>\n",
       "      <td>0.04</td>\n",
       "      <td>0.04</td>\n",
       "      <td>0.03</td>\n",
       "      <td>0.00</td>\n",
       "      <td>0.03</td>\n",
       "      <td>0.02</td>\n",
       "      <td>0.01</td>\n",
       "    </tr>\n",
       "    <tr>\n",
       "      <th>1</th>\n",
       "      <td>0.04</td>\n",
       "      <td>0.02</td>\n",
       "      <td>0.04</td>\n",
       "      <td>0.27</td>\n",
       "      <td>0.00</td>\n",
       "      <td>0.20</td>\n",
       "      <td>0.80</td>\n",
       "      <td>0.04</td>\n",
       "      <td>0.00</td>\n",
       "      <td>0.02</td>\n",
       "      <td>0.04</td>\n",
       "      <td>0.02</td>\n",
       "      <td>0.00</td>\n",
       "      <td>0.02</td>\n",
       "      <td>0.01</td>\n",
       "      <td>0.00</td>\n",
       "    </tr>\n",
       "    <tr>\n",
       "      <th>2</th>\n",
       "      <td>0.03</td>\n",
       "      <td>0.01</td>\n",
       "      <td>0.09</td>\n",
       "      <td>0.27</td>\n",
       "      <td>0.00</td>\n",
       "      <td>0.20</td>\n",
       "      <td>0.80</td>\n",
       "      <td>0.03</td>\n",
       "      <td>0.00</td>\n",
       "      <td>0.03</td>\n",
       "      <td>0.04</td>\n",
       "      <td>0.02</td>\n",
       "      <td>0.00</td>\n",
       "      <td>0.02</td>\n",
       "      <td>0.01</td>\n",
       "      <td>0.00</td>\n",
       "    </tr>\n",
       "    <tr>\n",
       "      <th>3</th>\n",
       "      <td>0.01</td>\n",
       "      <td>0.01</td>\n",
       "      <td>0.13</td>\n",
       "      <td>0.29</td>\n",
       "      <td>0.00</td>\n",
       "      <td>0.22</td>\n",
       "      <td>0.75</td>\n",
       "      <td>0.01</td>\n",
       "      <td>0.01</td>\n",
       "      <td>0.04</td>\n",
       "      <td>0.04</td>\n",
       "      <td>0.03</td>\n",
       "      <td>0.00</td>\n",
       "      <td>0.03</td>\n",
       "      <td>0.01</td>\n",
       "      <td>0.01</td>\n",
       "    </tr>\n",
       "    <tr>\n",
       "      <th>4</th>\n",
       "      <td>0.00</td>\n",
       "      <td>0.00</td>\n",
       "      <td>0.17</td>\n",
       "      <td>0.29</td>\n",
       "      <td>0.00</td>\n",
       "      <td>0.22</td>\n",
       "      <td>0.75</td>\n",
       "      <td>0.00</td>\n",
       "      <td>0.01</td>\n",
       "      <td>0.09</td>\n",
       "      <td>0.04</td>\n",
       "      <td>0.03</td>\n",
       "      <td>0.00</td>\n",
       "      <td>0.03</td>\n",
       "      <td>0.01</td>\n",
       "      <td>0.01</td>\n",
       "    </tr>\n",
       "  </tbody>\n",
       "</table></div>"
      ],
      "text/plain": [
       "   registered  casual   hr  atemp  instant  temp  hum  cnt  prob_registered  \\\n",
       "0        0.01    0.01 0.00   0.29     0.00  0.22 0.81 0.02             0.01   \n",
       "1        0.04    0.02 0.04   0.27     0.00  0.20 0.80 0.04             0.00   \n",
       "2        0.03    0.01 0.09   0.27     0.00  0.20 0.80 0.03             0.00   \n",
       "3        0.01    0.01 0.13   0.29     0.00  0.22 0.75 0.01             0.01   \n",
       "4        0.00    0.00 0.17   0.29     0.00  0.22 0.75 0.00             0.01   \n",
       "\n",
       "   prob_casual  prob_hr  prob_atemp  prob_instant  prob_temp  prob_hum  \\\n",
       "0         0.04     0.04        0.03          0.00       0.03      0.02   \n",
       "1         0.02     0.04        0.02          0.00       0.02      0.01   \n",
       "2         0.03     0.04        0.02          0.00       0.02      0.01   \n",
       "3         0.04     0.04        0.03          0.00       0.03      0.01   \n",
       "4         0.09     0.04        0.03          0.00       0.03      0.01   \n",
       "\n",
       "   prob_cnt  \n",
       "0      0.01  \n",
       "1      0.00  \n",
       "2      0.00  \n",
       "3      0.01  \n",
       "4      0.01  "
      ]
     },
     "execution_count": 23,
     "metadata": {},
     "output_type": "execute_result"
    }
   ],
   "source": [
    "df_n_prob.head()"
   ]
  },
  {
   "cell_type": "code",
   "execution_count": 24,
   "metadata": {},
   "outputs": [
    {
     "data": {
      "text/plain": [
       "registered         float64\n",
       "casual             float64\n",
       "hr                 float64\n",
       "atemp              float64\n",
       "instant            float64\n",
       "temp               float64\n",
       "hum                float64\n",
       "cnt                float64\n",
       "prob_registered    float64\n",
       "prob_casual        float64\n",
       "prob_hr            float64\n",
       "prob_atemp         float64\n",
       "prob_instant       float64\n",
       "prob_temp          float64\n",
       "prob_hum           float64\n",
       "prob_cnt           float64\n",
       "dtype: object"
      ]
     },
     "execution_count": 24,
     "metadata": {},
     "output_type": "execute_result"
    }
   ],
   "source": [
    "df_n_prob.dtypes"
   ]
  },
  {
   "cell_type": "code",
   "execution_count": 25,
   "metadata": {},
   "outputs": [
    {
     "data": {
      "text/plain": [
       "0.00    574\n",
       "0.00    507\n",
       "0.00    465\n",
       "0.00    442\n",
       "0.00    440\n",
       "       ... \n",
       "0.00     69\n",
       "0.00     68\n",
       "0.00     65\n",
       "0.00     60\n",
       "0.00     56\n",
       "Name: prob_cnt, Length: 89, dtype: int64"
      ]
     },
     "execution_count": 25,
     "metadata": {},
     "output_type": "execute_result"
    }
   ],
   "source": [
    "df_n_prob.prob_cnt.value_counts()"
   ]
  },
  {
   "cell_type": "code",
   "execution_count": 26,
   "metadata": {},
   "outputs": [
    {
     "data": {
      "text/plain": [
       "array([6.04177456e-03, 3.33736118e-03, 3.91276828e-03, 6.50210024e-03,\n",
       "       9.09143219e-03, 1.19684677e-02, 1.28891191e-02, 1.04724092e-02,\n",
       "       5.58144888e-03, 3.85522757e-03, 2.70441337e-03, 2.76195408e-03,\n",
       "       2.30162840e-03, 2.99211692e-03, 2.24408769e-03, 1.89884343e-03,\n",
       "       3.74014615e-03, 3.45244260e-03, 4.89096035e-03, 3.10719834e-03,\n",
       "       5.86915243e-03, 7.36521089e-03, 1.35796076e-02, 5.23620461e-03,\n",
       "       2.35916911e-03, 2.81949479e-03, 2.87703550e-03, 3.68260544e-03,\n",
       "       4.31555325e-03, 1.49605846e-02, 2.93457621e-03, 2.53179124e-03,\n",
       "       1.66868059e-03, 7.01996663e-03, 1.32919040e-02, 1.95638414e-03,\n",
       "       1.43851775e-03, 2.64687266e-03, 1.55359917e-03, 2.47425053e-03,\n",
       "       2.58933195e-03, 8.45848438e-03, 2.07146556e-03, 3.04965763e-03,\n",
       "       3.16473905e-03, 1.84130272e-03, 1.78376201e-03, 3.97030899e-03,\n",
       "       2.01392485e-03, 2.41670982e-03, 4.66079751e-03, 1.13930606e-02,\n",
       "       1.61113988e-03, 5.12112319e-03, 4.14293112e-03, 8.91881006e-03,\n",
       "       3.22227976e-03, 2.18654698e-03, 4.37309396e-03, 4.54571609e-03,\n",
       "       4.08539041e-03, 1.72622130e-03, 5.17866390e-03, 2.12900627e-03,\n",
       "       1.20835491e-03, 1.38097704e-03, 1.26589562e-03, 1.09327349e-03,\n",
       "       9.78192071e-04, 1.49605846e-03, 1.03573278e-03, 1.15081420e-03,\n",
       "       1.32343633e-03, 8.05569941e-04, 6.90488521e-04, 9.20651361e-04,\n",
       "       6.32947811e-04, 7.48029231e-04, 8.63110651e-04, 5.17866390e-04,\n",
       "       4.02784970e-04, 4.60325680e-04, 3.45244260e-04, 5.75407101e-04,\n",
       "       2.30162840e-04, 1.72622130e-04, 2.87703550e-04, 5.75407101e-05,\n",
       "       1.15081420e-04])"
      ]
     },
     "execution_count": 26,
     "metadata": {},
     "output_type": "execute_result"
    }
   ],
   "source": [
    "df_n_prob.prob_cnt.unique()"
   ]
  },
  {
   "cell_type": "markdown",
   "metadata": {},
   "source": [
    "### Joint probability"
   ]
  },
  {
   "cell_type": "code",
   "execution_count": 27,
   "metadata": {},
   "outputs": [
    {
     "data": {
      "text/plain": [
       "Index(['registered', 'casual', 'hr', 'atemp', 'instant', 'temp', 'hum', 'cnt'], dtype='object')"
      ]
     },
     "execution_count": 27,
     "metadata": {},
     "output_type": "execute_result"
    }
   ],
   "source": [
    "col=df_n.columns\n",
    "col"
   ]
  },
  {
   "cell_type": "code",
   "execution_count": 28,
   "metadata": {},
   "outputs": [
    {
     "data": {
      "text/plain": [
       "'registered'"
      ]
     },
     "execution_count": 28,
     "metadata": {},
     "output_type": "execute_result"
    }
   ],
   "source": [
    "col[0]"
   ]
  },
  {
   "cell_type": "code",
   "execution_count": 29,
   "metadata": {},
   "outputs": [
    {
     "name": "stdout",
     "output_type": "stream",
     "text": [
      "done\n"
     ]
    }
   ],
   "source": [
    "\n",
    "def f1(a):\n",
    "    \n",
    "    \n",
    "    k=df_n[ (df_n[col[0]] == a[col[0]]) & (df_n[col[1]] == a[col[1]]) & (df_n[col[2]] == a[col[2]]) \n",
    "           & (df_n[col[3]] == a[col[3]]) & (df_n[col[4]] == a[col[4]]) & (df_n[col[5]] == a[col[5]])  \n",
    "           & (df_n[col[6]] == a[col[6]]) & (df_n[col[7]] == a[col[7]]) ].shape[0]\n",
    "   \n",
    "    \n",
    "    return(k/len(df_n))\n",
    "    \n",
    "\n",
    "df_n_prob['prob_joint'] = df_n.apply(f1,axis=1)\n",
    "\n",
    "print('done')\n"
   ]
  },
  {
   "cell_type": "code",
   "execution_count": 30,
   "metadata": {},
   "outputs": [
    {
     "data": {
      "text/html": [
       "<div><div id=0d67def3-c19a-4bad-bdfd-81038ace4f23 style=\"display:none; background-color:#9D6CFF; color:white; width:200px; height:30px; padding-left:5px; border-radius:4px; flex-direction:row; justify-content:space-around; align-items:center;\" onmouseover=\"this.style.backgroundColor='#BA9BF8'\" onmouseout=\"this.style.backgroundColor='#9D6CFF'\" onclick=\"window.commands?.execute('create-mitosheet-from-dataframe-output');\">See Full Dataframe in Mito</div> <script> if (window.commands.hasCommand('create-mitosheet-from-dataframe-output')) document.getElementById('0d67def3-c19a-4bad-bdfd-81038ace4f23').style.display = 'flex' </script> <table border=\"1\" class=\"dataframe\">\n",
       "  <thead>\n",
       "    <tr style=\"text-align: right;\">\n",
       "      <th></th>\n",
       "      <th>registered</th>\n",
       "      <th>casual</th>\n",
       "      <th>hr</th>\n",
       "      <th>atemp</th>\n",
       "      <th>instant</th>\n",
       "      <th>temp</th>\n",
       "      <th>hum</th>\n",
       "      <th>cnt</th>\n",
       "      <th>prob_registered</th>\n",
       "      <th>prob_casual</th>\n",
       "      <th>prob_hr</th>\n",
       "      <th>prob_atemp</th>\n",
       "      <th>prob_instant</th>\n",
       "      <th>prob_temp</th>\n",
       "      <th>prob_hum</th>\n",
       "      <th>prob_cnt</th>\n",
       "      <th>prob_joint</th>\n",
       "    </tr>\n",
       "  </thead>\n",
       "  <tbody>\n",
       "    <tr>\n",
       "      <th>0</th>\n",
       "      <td>0.01</td>\n",
       "      <td>0.01</td>\n",
       "      <td>0.00</td>\n",
       "      <td>0.29</td>\n",
       "      <td>0.00</td>\n",
       "      <td>0.22</td>\n",
       "      <td>0.81</td>\n",
       "      <td>0.02</td>\n",
       "      <td>0.01</td>\n",
       "      <td>0.04</td>\n",
       "      <td>0.04</td>\n",
       "      <td>0.03</td>\n",
       "      <td>0.00</td>\n",
       "      <td>0.03</td>\n",
       "      <td>0.02</td>\n",
       "      <td>0.01</td>\n",
       "      <td>0.00</td>\n",
       "    </tr>\n",
       "    <tr>\n",
       "      <th>1</th>\n",
       "      <td>0.04</td>\n",
       "      <td>0.02</td>\n",
       "      <td>0.04</td>\n",
       "      <td>0.27</td>\n",
       "      <td>0.00</td>\n",
       "      <td>0.20</td>\n",
       "      <td>0.80</td>\n",
       "      <td>0.04</td>\n",
       "      <td>0.00</td>\n",
       "      <td>0.02</td>\n",
       "      <td>0.04</td>\n",
       "      <td>0.02</td>\n",
       "      <td>0.00</td>\n",
       "      <td>0.02</td>\n",
       "      <td>0.01</td>\n",
       "      <td>0.00</td>\n",
       "      <td>0.00</td>\n",
       "    </tr>\n",
       "    <tr>\n",
       "      <th>2</th>\n",
       "      <td>0.03</td>\n",
       "      <td>0.01</td>\n",
       "      <td>0.09</td>\n",
       "      <td>0.27</td>\n",
       "      <td>0.00</td>\n",
       "      <td>0.20</td>\n",
       "      <td>0.80</td>\n",
       "      <td>0.03</td>\n",
       "      <td>0.00</td>\n",
       "      <td>0.03</td>\n",
       "      <td>0.04</td>\n",
       "      <td>0.02</td>\n",
       "      <td>0.00</td>\n",
       "      <td>0.02</td>\n",
       "      <td>0.01</td>\n",
       "      <td>0.00</td>\n",
       "      <td>0.00</td>\n",
       "    </tr>\n",
       "    <tr>\n",
       "      <th>3</th>\n",
       "      <td>0.01</td>\n",
       "      <td>0.01</td>\n",
       "      <td>0.13</td>\n",
       "      <td>0.29</td>\n",
       "      <td>0.00</td>\n",
       "      <td>0.22</td>\n",
       "      <td>0.75</td>\n",
       "      <td>0.01</td>\n",
       "      <td>0.01</td>\n",
       "      <td>0.04</td>\n",
       "      <td>0.04</td>\n",
       "      <td>0.03</td>\n",
       "      <td>0.00</td>\n",
       "      <td>0.03</td>\n",
       "      <td>0.01</td>\n",
       "      <td>0.01</td>\n",
       "      <td>0.00</td>\n",
       "    </tr>\n",
       "    <tr>\n",
       "      <th>4</th>\n",
       "      <td>0.00</td>\n",
       "      <td>0.00</td>\n",
       "      <td>0.17</td>\n",
       "      <td>0.29</td>\n",
       "      <td>0.00</td>\n",
       "      <td>0.22</td>\n",
       "      <td>0.75</td>\n",
       "      <td>0.00</td>\n",
       "      <td>0.01</td>\n",
       "      <td>0.09</td>\n",
       "      <td>0.04</td>\n",
       "      <td>0.03</td>\n",
       "      <td>0.00</td>\n",
       "      <td>0.03</td>\n",
       "      <td>0.01</td>\n",
       "      <td>0.01</td>\n",
       "      <td>0.00</td>\n",
       "    </tr>\n",
       "  </tbody>\n",
       "</table></div>"
      ],
      "text/plain": [
       "   registered  casual   hr  atemp  instant  temp  hum  cnt  prob_registered  \\\n",
       "0        0.01    0.01 0.00   0.29     0.00  0.22 0.81 0.02             0.01   \n",
       "1        0.04    0.02 0.04   0.27     0.00  0.20 0.80 0.04             0.00   \n",
       "2        0.03    0.01 0.09   0.27     0.00  0.20 0.80 0.03             0.00   \n",
       "3        0.01    0.01 0.13   0.29     0.00  0.22 0.75 0.01             0.01   \n",
       "4        0.00    0.00 0.17   0.29     0.00  0.22 0.75 0.00             0.01   \n",
       "\n",
       "   prob_casual  prob_hr  prob_atemp  prob_instant  prob_temp  prob_hum  \\\n",
       "0         0.04     0.04        0.03          0.00       0.03      0.02   \n",
       "1         0.02     0.04        0.02          0.00       0.02      0.01   \n",
       "2         0.03     0.04        0.02          0.00       0.02      0.01   \n",
       "3         0.04     0.04        0.03          0.00       0.03      0.01   \n",
       "4         0.09     0.04        0.03          0.00       0.03      0.01   \n",
       "\n",
       "   prob_cnt  prob_joint  \n",
       "0      0.01        0.00  \n",
       "1      0.00        0.00  \n",
       "2      0.00        0.00  \n",
       "3      0.01        0.00  \n",
       "4      0.01        0.00  "
      ]
     },
     "execution_count": 30,
     "metadata": {},
     "output_type": "execute_result"
    }
   ],
   "source": [
    "df_n_prob.head()"
   ]
  },
  {
   "cell_type": "code",
   "execution_count": 31,
   "metadata": {},
   "outputs": [
    {
     "data": {
      "text/plain": [
       "array([5.75407101e-05])"
      ]
     },
     "execution_count": 31,
     "metadata": {},
     "output_type": "execute_result"
    }
   ],
   "source": [
    "df_n_prob.prob_joint.unique()"
   ]
  },
  {
   "cell_type": "markdown",
   "metadata": {},
   "source": [
    "#### This shows that all the rows in dataset are unique and hence the ombined joint probability is same for all rows"
   ]
  },
  {
   "cell_type": "markdown",
   "metadata": {},
   "source": [
    "# Applying automl Lazy predict all models "
   ]
  },
  {
   "cell_type": "markdown",
   "metadata": {},
   "source": [
    "### Making samller dataset to run lazy predict as full dataset takes tooo much time"
   ]
  },
  {
   "cell_type": "code",
   "execution_count": 32,
   "metadata": {},
   "outputs": [
    {
     "name": "stdout",
     "output_type": "stream",
     "text": [
      "(1738, 8)\n"
     ]
    }
   ],
   "source": [
    "df_np=df_n.sample(frac =.1)\n",
    "print(df_np.shape)"
   ]
  },
  {
   "cell_type": "code",
   "execution_count": 33,
   "metadata": {},
   "outputs": [
    {
     "name": "stderr",
     "output_type": "stream",
     "text": [
      " 12%|█▏        | 5/42 [00:00<00:01, 23.48it/s]"
     ]
    },
    {
     "name": "stdout",
     "output_type": "stream",
     "text": [
      "{'Model': 'AdaBoostRegressor', 'R-Squared': 0.9863170371995472, 'Adjusted R-Squared': 0.9857400447922993, 'RMSE': 0.025198610228843725, 'Time taken': 0.13633990287780762}\n",
      "{'Model': 'BaggingRegressor', 'R-Squared': 0.9982308627198548, 'Adjusted R-Squared': 0.9981562605453909, 'RMSE': 0.00906081541075562, 'Time taken': 0.06661653518676758}\n",
      "{'Model': 'BayesianRidge', 'R-Squared': 1.0, 'Adjusted R-Squared': 1.0, 'RMSE': 4.4298138997308907e-11, 'Time taken': 0.012111663818359375}\n",
      "{'Model': 'DecisionTreeRegressor', 'R-Squared': 0.9954275343341394, 'Adjusted R-Squared': 0.9952347195169043, 'RMSE': 0.014566718994049026, 'Time taken': 0.016000032424926758}\n",
      "{'Model': 'DummyRegressor', 'R-Squared': -0.03652990261383349, 'Adjusted R-Squared': -0.08023899489273023, 'RMSE': 0.21931959414447405, 'Time taken': 0.009000301361083984}\n",
      "{'Model': 'ElasticNet', 'R-Squared': -0.03652990261383349, 'Adjusted R-Squared': -0.08023899489273023, 'RMSE': 0.21931959414447405, 'Time taken': 0.010064125061035156}\n",
      "{'Model': 'ElasticNetCV', 'R-Squared': 0.9999983816706696, 'Adjusted R-Squared': 0.9999983134278665, 'RMSE': 0.0002740437920963047, 'Time taken': 0.05086970329284668}\n",
      "{'Model': 'ExtraTreeRegressor', 'R-Squared': 0.9951237000361265, 'Adjusted R-Squared': 0.9949180729292162, 'RMSE': 0.01504290533242213, 'Time taken': 0.014539003372192383}\n"
     ]
    },
    {
     "name": "stderr",
     "output_type": "stream",
     "text": [
      " 21%|██▏       | 9/42 [00:00<00:02, 12.99it/s]"
     ]
    },
    {
     "name": "stdout",
     "output_type": "stream",
     "text": [
      "{'Model': 'ExtraTreesRegressor', 'R-Squared': 0.999497018193909, 'Adjusted R-Squared': 0.9994758081177485, 'RMSE': 0.004831284958889558, 'Time taken': 0.34553980827331543}\n",
      "GammaRegressor model failed to execute\n",
      "Some value(s) of y are out of the valid range for family GammaDistribution\n"
     ]
    },
    {
     "name": "stderr",
     "output_type": "stream",
     "text": [
      " 26%|██▌       | 11/42 [00:01<00:06,  4.78it/s]"
     ]
    },
    {
     "name": "stdout",
     "output_type": "stream",
     "text": [
      "{'Model': 'GaussianProcessRegressor', 'R-Squared': 0.986227857599538, 'Adjusted R-Squared': 0.9856471046067474, 'RMSE': 0.025280593653279147, 'Time taken': 1.0837557315826416}\n",
      "{'Model': 'GradientBoostingRegressor', 'R-Squared': 0.9986647832178334, 'Adjusted R-Squared': 0.9986084788956938, 'RMSE': 0.007871588941918311, 'Time taken': 0.17368555068969727}\n"
     ]
    },
    {
     "name": "stderr",
     "output_type": "stream",
     "text": [
      " 33%|███▎      | 14/42 [00:02<00:06,  4.33it/s]"
     ]
    },
    {
     "name": "stdout",
     "output_type": "stream",
     "text": [
      "{'Model': 'HistGradientBoostingRegressor', 'R-Squared': 0.9982297871149203, 'Adjusted R-Squared': 0.9981551395836218, 'RMSE': 0.009063569401923734, 'Time taken': 0.5764064788818359}\n",
      "{'Model': 'HuberRegressor', 'R-Squared': 1.0, 'Adjusted R-Squared': 1.0, 'RMSE': 3.5360023423920576e-12, 'Time taken': 0.10581398010253906}\n",
      "{'Model': 'KNeighborsRegressor', 'R-Squared': 0.9800514750912408, 'Adjusted R-Squared': 0.9792102722336425, 'RMSE': 0.030425793226820493, 'Time taken': 0.014576911926269531}\n"
     ]
    },
    {
     "name": "stderr",
     "output_type": "stream",
     "text": [
      " 57%|█████▋    | 24/42 [00:03<00:01,  9.21it/s]"
     ]
    },
    {
     "name": "stdout",
     "output_type": "stream",
     "text": [
      "{'Model': 'KernelRidge', 'R-Squared': 0.20547205947949054, 'Adjusted R-Squared': 0.17196786921657747, 'RMSE': 0.19201762906844128, 'Time taken': 0.7832961082458496}\n",
      "{'Model': 'Lars', 'R-Squared': 1.0, 'Adjusted R-Squared': 1.0, 'RMSE': 3.565616732356285e-16, 'Time taken': 0.008005142211914062}\n",
      "{'Model': 'LarsCV', 'R-Squared': 1.0, 'Adjusted R-Squared': 1.0, 'RMSE': 3.565616732356285e-16, 'Time taken': 0.012500524520874023}\n",
      "{'Model': 'Lasso', 'R-Squared': -0.03652990261383349, 'Adjusted R-Squared': -0.08023899489273023, 'RMSE': 0.21931959414447405, 'Time taken': 0.007999420166015625}\n",
      "{'Model': 'LassoCV', 'R-Squared': 0.9999987104790257, 'Adjusted R-Squared': 0.9999986561016352, 'RMSE': 0.00024462493373183326, 'Time taken': 0.042325735092163086}\n",
      "{'Model': 'LassoLars', 'R-Squared': -0.03652990261383349, 'Adjusted R-Squared': -0.08023899489273023, 'RMSE': 0.21931959414447405, 'Time taken': 0.007953882217407227}\n",
      "{'Model': 'LassoLarsCV', 'R-Squared': 1.0, 'Adjusted R-Squared': 1.0, 'RMSE': 3.565616732356285e-16, 'Time taken': 0.011002779006958008}\n",
      "{'Model': 'LassoLarsIC', 'R-Squared': 1.0, 'Adjusted R-Squared': 1.0, 'RMSE': 3.565616732356285e-16, 'Time taken': 0.00905466079711914}\n",
      "{'Model': 'LinearRegression', 'R-Squared': 1.0, 'Adjusted R-Squared': 1.0, 'RMSE': 2.724348512404514e-16, 'Time taken': 0.007073402404785156}\n",
      "{'Model': 'LinearSVR', 'R-Squared': 0.999999999999984, 'Adjusted R-Squared': 0.9999999999999833, 'RMSE': 2.7281020723338537e-08, 'Time taken': 0.006926536560058594}\n",
      "{'Model': 'MLPRegressor', 'R-Squared': 0.9678722269137507, 'Adjusted R-Squared': 0.9665174413016799, 'RMSE': 0.03861240276846939, 'Time taken': 0.1757500171661377}\n"
     ]
    },
    {
     "name": "stderr",
     "output_type": "stream",
     "text": [
      " 64%|██████▍   | 27/42 [00:05<00:03,  4.39it/s]"
     ]
    },
    {
     "name": "stdout",
     "output_type": "stream",
     "text": [
      "{'Model': 'NuSVR', 'R-Squared': 0.999767497469097, 'Adjusted R-Squared': 0.9997576931455047, 'RMSE': 0.003284735152111186, 'Time taken': 1.5277576446533203}\n",
      "{'Model': 'OrthogonalMatchingPursuit', 'R-Squared': 0.9466984790835669, 'Adjusted R-Squared': 0.9444508245870907, 'RMSE': 0.04973433513561072, 'Time taken': 0.008606433868408203}\n",
      "{'Model': 'OrthogonalMatchingPursuitCV', 'R-Squared': 1.0, 'Adjusted R-Squared': 1.0, 'RMSE': 2.15192079736132e-16, 'Time taken': 0.013693571090698242}\n",
      "{'Model': 'PassiveAggressiveRegressor', 'R-Squared': 0.9445252707031517, 'Adjusted R-Squared': 0.9421859748894292, 'RMSE': 0.05073808966740588, 'Time taken': 0.008444070816040039}\n",
      "{'Model': 'PoissonRegressor', 'R-Squared': 0.4875825833178137, 'Adjusted R-Squared': 0.46597461996374556, 'RMSE': 0.15420500052176728, 'Time taken': 0.011001110076904297}\n"
     ]
    },
    {
     "name": "stderr",
     "output_type": "stream",
     "text": [
      " 76%|███████▌  | 32/42 [03:23<02:32, 15.24s/it]"
     ]
    },
    {
     "name": "stdout",
     "output_type": "stream",
     "text": [
      "{'Model': 'QuantileRegressor', 'R-Squared': -0.1867461502429799, 'Adjusted R-Squared': -0.2367896626026238, 'RMSE': 0.2346742462251819, 'Time taken': 197.96784090995789}\n",
      "{'Model': 'RANSACRegressor', 'R-Squared': 1.0, 'Adjusted R-Squared': 1.0, 'RMSE': 2.258014896285561e-16, 'Time taken': 0.01210641860961914}\n"
     ]
    },
    {
     "name": "stderr",
     "output_type": "stream",
     "text": [
      " 81%|████████  | 34/42 [03:23<01:40, 12.55s/it]"
     ]
    },
    {
     "name": "stdout",
     "output_type": "stream",
     "text": [
      "{'Model': 'RandomForestRegressor', 'R-Squared': 0.9986394762321941, 'Adjusted R-Squared': 0.9985821047480095, 'RMSE': 0.00794583573077773, 'Time taken': 0.4480431079864502}\n",
      "{'Model': 'Ridge', 'R-Squared': 0.9999995922911435, 'Adjusted R-Squared': 0.9999995750986014, 'RMSE': 0.0001375503147726695, 'Time taken': 0.007313728332519531}\n",
      "{'Model': 'RidgeCV', 'R-Squared': 0.9999999959151583, 'Adjusted R-Squared': 0.999999995742906, 'RMSE': 1.3768103722558953e-05, 'Time taken': 0.009027719497680664}\n",
      "{'Model': 'SGDRegressor', 'R-Squared': 0.999998924109012, 'Adjusted R-Squared': 0.999998878740115, 'RMSE': 0.00022344500500140054, 'Time taken': 0.008000612258911133}\n",
      "{'Model': 'SVR', 'R-Squared': 0.9513587882516702, 'Adjusted R-Squared': 0.9493076528164996, 'RMSE': 0.04751040237598442, 'Time taken': 0.010999441146850586}\n",
      "{'Model': 'TransformedTargetRegressor', 'R-Squared': 1.0, 'Adjusted R-Squared': 1.0, 'RMSE': 2.724348512404514e-16, 'Time taken': 0.008142948150634766}\n",
      "{'Model': 'TweedieRegressor', 'R-Squared': 0.8230227587896658, 'Adjusted R-Squared': 0.815559863075977, 'RMSE': 0.09062441711068227, 'Time taken': 0.010190248489379883}\n"
     ]
    },
    {
     "name": "stderr",
     "output_type": "stream",
     "text": [
      "100%|██████████| 42/42 [03:24<00:00,  4.87s/it]"
     ]
    },
    {
     "name": "stdout",
     "output_type": "stream",
     "text": [
      "{'Model': 'XGBRegressor', 'R-Squared': 0.998528722502338, 'Adjusted R-Squared': 0.9984666806801474, 'RMSE': 0.008262925025799912, 'Time taken': 0.7361762523651123}\n",
      "{'Model': 'LGBMRegressor', 'R-Squared': 0.9987672057070903, 'Adjusted R-Squared': 0.998715220405582, 'RMSE': 0.007563656953974123, 'Time taken': 0.09604215621948242}\n",
      "                               Adjusted R-Squared  R-Squared  RMSE  Time Taken\n",
      "Model                                                                         \n",
      "LassoLarsCV                                  1.00       1.00  0.00        0.01\n",
      "OrthogonalMatchingPursuitCV                  1.00       1.00  0.00        0.01\n",
      "LarsCV                                       1.00       1.00  0.00        0.01\n",
      "Lars                                         1.00       1.00  0.00        0.01\n",
      "LinearRegression                             1.00       1.00  0.00        0.01\n",
      "HuberRegressor                               1.00       1.00  0.00        0.11\n",
      "RANSACRegressor                              1.00       1.00  0.00        0.01\n",
      "TransformedTargetRegressor                   1.00       1.00  0.00        0.01\n",
      "BayesianRidge                                1.00       1.00  0.00        0.01\n",
      "LassoLarsIC                                  1.00       1.00  0.00        0.01\n",
      "LinearSVR                                    1.00       1.00  0.00        0.01\n",
      "RidgeCV                                      1.00       1.00  0.00        0.01\n",
      "Ridge                                        1.00       1.00  0.00        0.01\n",
      "SGDRegressor                                 1.00       1.00  0.00        0.01\n",
      "LassoCV                                      1.00       1.00  0.00        0.04\n",
      "ElasticNetCV                                 1.00       1.00  0.00        0.05\n",
      "NuSVR                                        1.00       1.00  0.00        1.53\n",
      "ExtraTreesRegressor                          1.00       1.00  0.00        0.35\n",
      "LGBMRegressor                                1.00       1.00  0.01        0.10\n",
      "GradientBoostingRegressor                    1.00       1.00  0.01        0.17\n",
      "RandomForestRegressor                        1.00       1.00  0.01        0.45\n",
      "XGBRegressor                                 1.00       1.00  0.01        0.74\n",
      "BaggingRegressor                             1.00       1.00  0.01        0.07\n",
      "HistGradientBoostingRegressor                1.00       1.00  0.01        0.58\n",
      "DecisionTreeRegressor                        1.00       1.00  0.01        0.02\n",
      "ExtraTreeRegressor                           0.99       1.00  0.02        0.01\n",
      "AdaBoostRegressor                            0.99       0.99  0.03        0.14\n",
      "GaussianProcessRegressor                     0.99       0.99  0.03        1.08\n",
      "KNeighborsRegressor                          0.98       0.98  0.03        0.01\n",
      "MLPRegressor                                 0.97       0.97  0.04        0.18\n",
      "SVR                                          0.95       0.95  0.05        0.01\n",
      "OrthogonalMatchingPursuit                    0.94       0.95  0.05        0.01\n",
      "PassiveAggressiveRegressor                   0.94       0.94  0.05        0.01\n",
      "TweedieRegressor                             0.82       0.82  0.09        0.01\n",
      "PoissonRegressor                             0.47       0.49  0.15        0.01\n",
      "KernelRidge                                  0.17       0.21  0.19        0.78\n",
      "LassoLars                                   -0.08      -0.04  0.22        0.01\n",
      "DummyRegressor                              -0.08      -0.04  0.22        0.01\n",
      "ElasticNet                                  -0.08      -0.04  0.22        0.01\n",
      "Lasso                                       -0.08      -0.04  0.22        0.01\n",
      "QuantileRegressor                           -0.24      -0.19  0.23      197.97\n"
     ]
    },
    {
     "name": "stderr",
     "output_type": "stream",
     "text": [
      "\n"
     ]
    }
   ],
   "source": [
    "X= df_np.drop(columns='cnt')\n",
    "X\n",
    "y=df_np['cnt']\n",
    "y\n",
    "offset = int(X.shape[0] * 0.9)\n",
    "\n",
    "### splitting dataset into training and testing part.\n",
    "X_train, y_train = X[:offset], y[:offset]\n",
    "X_test, y_test = X[offset:], y[offset:]\n",
    "\n",
    "reg = LazyRegressor(verbose=10, ignore_warnings=False, custom_metric=None)\n",
    "\n",
    "### fitting data in LazyClassifier\n",
    "models, predictions = reg.fit(X_train, X_test, y_train, y_test)\n",
    "print(models)"
   ]
  },
  {
   "cell_type": "code",
   "execution_count": null,
   "metadata": {},
   "outputs": [],
   "source": []
  },
  {
   "cell_type": "markdown",
   "metadata": {},
   "source": [
    "# Creating dataset by Multivariate Gausian"
   ]
  },
  {
   "cell_type": "code",
   "execution_count": 34,
   "metadata": {},
   "outputs": [
    {
     "data": {
      "text/plain": [
       "<AxesSubplot:ylabel='Density'>"
      ]
     },
     "execution_count": 34,
     "metadata": {},
     "output_type": "execute_result"
    },
    {
     "data": {
      "image/png": "[encoded data removed]",
      "text/plain": [
       "<Figure size 432x288 with 1 Axes>"
      ]
     },
     "metadata": {
      "needs_background": "light"
     },
     "output_type": "display_data"
    }
   ],
   "source": [
    "sns.distplot(df_n)"
   ]
  },
  {
   "cell_type": "code",
   "execution_count": 35,
   "metadata": {},
   "outputs": [
    {
     "data": {
      "text/html": [
       "<div><div id=ffe64202-0ed5-4b24-9a27-56f591a323b2 style=\"display:none; background-color:#9D6CFF; color:white; width:200px; height:30px; padding-left:5px; border-radius:4px; flex-direction:row; justify-content:space-around; align-items:center;\" onmouseover=\"this.style.backgroundColor='#BA9BF8'\" onmouseout=\"this.style.backgroundColor='#9D6CFF'\" onclick=\"window.commands?.execute('create-mitosheet-from-dataframe-output');\">See Full Dataframe in Mito</div> <script> if (window.commands.hasCommand('create-mitosheet-from-dataframe-output')) document.getElementById('ffe64202-0ed5-4b24-9a27-56f591a323b2').style.display = 'flex' </script> <table border=\"1\" class=\"dataframe\">\n",
       "  <thead>\n",
       "    <tr style=\"text-align: right;\">\n",
       "      <th></th>\n",
       "      <th>registered</th>\n",
       "      <th>casual</th>\n",
       "      <th>hr</th>\n",
       "      <th>atemp</th>\n",
       "      <th>instant</th>\n",
       "      <th>temp</th>\n",
       "      <th>hum</th>\n",
       "      <th>cnt</th>\n",
       "    </tr>\n",
       "  </thead>\n",
       "  <tbody>\n",
       "    <tr>\n",
       "      <th>registered</th>\n",
       "      <td>0.03</td>\n",
       "      <td>0.01</td>\n",
       "      <td>0.02</td>\n",
       "      <td>0.01</td>\n",
       "      <td>0.01</td>\n",
       "      <td>0.01</td>\n",
       "      <td>-0.01</td>\n",
       "      <td>0.03</td>\n",
       "    </tr>\n",
       "    <tr>\n",
       "      <th>casual</th>\n",
       "      <td>0.01</td>\n",
       "      <td>0.02</td>\n",
       "      <td>0.01</td>\n",
       "      <td>0.01</td>\n",
       "      <td>0.01</td>\n",
       "      <td>0.01</td>\n",
       "      <td>-0.01</td>\n",
       "      <td>0.02</td>\n",
       "    </tr>\n",
       "    <tr>\n",
       "      <th>hr</th>\n",
       "      <td>0.02</td>\n",
       "      <td>0.01</td>\n",
       "      <td>0.09</td>\n",
       "      <td>0.01</td>\n",
       "      <td>-0.00</td>\n",
       "      <td>0.01</td>\n",
       "      <td>-0.02</td>\n",
       "      <td>0.02</td>\n",
       "    </tr>\n",
       "    <tr>\n",
       "      <th>atemp</th>\n",
       "      <td>0.01</td>\n",
       "      <td>0.01</td>\n",
       "      <td>0.01</td>\n",
       "      <td>0.03</td>\n",
       "      <td>0.01</td>\n",
       "      <td>0.03</td>\n",
       "      <td>-0.00</td>\n",
       "      <td>0.01</td>\n",
       "    </tr>\n",
       "    <tr>\n",
       "      <th>instant</th>\n",
       "      <td>0.01</td>\n",
       "      <td>0.01</td>\n",
       "      <td>-0.00</td>\n",
       "      <td>0.01</td>\n",
       "      <td>0.08</td>\n",
       "      <td>0.01</td>\n",
       "      <td>0.00</td>\n",
       "      <td>0.01</td>\n",
       "    </tr>\n",
       "    <tr>\n",
       "      <th>temp</th>\n",
       "      <td>0.01</td>\n",
       "      <td>0.01</td>\n",
       "      <td>0.01</td>\n",
       "      <td>0.03</td>\n",
       "      <td>0.01</td>\n",
       "      <td>0.04</td>\n",
       "      <td>-0.00</td>\n",
       "      <td>0.01</td>\n",
       "    </tr>\n",
       "    <tr>\n",
       "      <th>hum</th>\n",
       "      <td>-0.01</td>\n",
       "      <td>-0.01</td>\n",
       "      <td>-0.02</td>\n",
       "      <td>-0.00</td>\n",
       "      <td>0.00</td>\n",
       "      <td>-0.00</td>\n",
       "      <td>0.04</td>\n",
       "      <td>-0.01</td>\n",
       "    </tr>\n",
       "    <tr>\n",
       "      <th>cnt</th>\n",
       "      <td>0.03</td>\n",
       "      <td>0.02</td>\n",
       "      <td>0.02</td>\n",
       "      <td>0.01</td>\n",
       "      <td>0.01</td>\n",
       "      <td>0.01</td>\n",
       "      <td>-0.01</td>\n",
       "      <td>0.03</td>\n",
       "    </tr>\n",
       "  </tbody>\n",
       "</table></div>"
      ],
      "text/plain": [
       "            registered  casual    hr  atemp  instant  temp   hum   cnt\n",
       "registered        0.03    0.01  0.02   0.01     0.01  0.01 -0.01  0.03\n",
       "casual            0.01    0.02  0.01   0.01     0.01  0.01 -0.01  0.02\n",
       "hr                0.02    0.01  0.09   0.01    -0.00  0.01 -0.02  0.02\n",
       "atemp             0.01    0.01  0.01   0.03     0.01  0.03 -0.00  0.01\n",
       "instant           0.01    0.01 -0.00   0.01     0.08  0.01  0.00  0.01\n",
       "temp              0.01    0.01  0.01   0.03     0.01  0.04 -0.00  0.01\n",
       "hum              -0.01   -0.01 -0.02  -0.00     0.00 -0.00  0.04 -0.01\n",
       "cnt               0.03    0.02  0.02   0.01     0.01  0.01 -0.01  0.03"
      ]
     },
     "execution_count": 35,
     "metadata": {},
     "output_type": "execute_result"
    }
   ],
   "source": [
    "df_n.cov()"
   ]
  },
  {
   "cell_type": "code",
   "execution_count": 36,
   "metadata": {},
   "outputs": [],
   "source": [
    "mean=df_n.mean()"
   ]
  },
  {
   "cell_type": "code",
   "execution_count": 37,
   "metadata": {},
   "outputs": [
    {
     "data": {
      "text/plain": [
       "registered   0.17\n",
       "casual       0.10\n",
       "hr           0.50\n",
       "atemp        0.48\n",
       "instant      0.50\n",
       "temp         0.49\n",
       "hum          0.63\n",
       "cnt          0.19\n",
       "dtype: float64"
      ]
     },
     "execution_count": 37,
     "metadata": {},
     "output_type": "execute_result"
    }
   ],
   "source": [
    "mean"
   ]
  },
  {
   "cell_type": "code",
   "execution_count": 38,
   "metadata": {},
   "outputs": [
    {
     "data": {
      "text/plain": [
       "registered   0.00\n",
       "casual       0.00\n",
       "hr           0.72\n",
       "atemp        0.62\n",
       "instant      0.50\n",
       "temp         0.61\n",
       "hum          0.88\n",
       "cnt          0.00\n",
       "dtype: float64"
      ]
     },
     "execution_count": 38,
     "metadata": {},
     "output_type": "execute_result"
    }
   ],
   "source": [
    "mode=df_n.mode().mean()\n",
    "mode"
   ]
  },
  {
   "cell_type": "code",
   "execution_count": 39,
   "metadata": {},
   "outputs": [
    {
     "data": {
      "text/plain": [
       "(17379, 9)"
      ]
     },
     "execution_count": 39,
     "metadata": {},
     "output_type": "execute_result"
    }
   ],
   "source": [
    "dfr.shape"
   ]
  },
  {
   "cell_type": "markdown",
   "metadata": {},
   "source": [
    "# Part 1 Making datset on the basis of mean of columns and covariance matrix"
   ]
  },
  {
   "cell_type": "code",
   "execution_count": 42,
   "metadata": {},
   "outputs": [
    {
     "data": {
      "text/html": [
       "<div><div id=bf50cd00-bb98-4bd8-972b-231fe56575e0 style=\"display:none; background-color:#9D6CFF; color:white; width:200px; height:30px; padding-left:5px; border-radius:4px; flex-direction:row; justify-content:space-around; align-items:center;\" onmouseover=\"this.style.backgroundColor='#BA9BF8'\" onmouseout=\"this.style.backgroundColor='#9D6CFF'\" onclick=\"window.commands?.execute('create-mitosheet-from-dataframe-output');\">See Full Dataframe in Mito</div> <script> if (window.commands.hasCommand('create-mitosheet-from-dataframe-output')) document.getElementById('bf50cd00-bb98-4bd8-972b-231fe56575e0').style.display = 'flex' </script> <table border=\"1\" class=\"dataframe\">\n",
       "  <thead>\n",
       "    <tr style=\"text-align: right;\">\n",
       "      <th></th>\n",
       "      <th>registered</th>\n",
       "      <th>casual</th>\n",
       "      <th>hr</th>\n",
       "      <th>atemp</th>\n",
       "      <th>instant</th>\n",
       "      <th>temp</th>\n",
       "      <th>hum</th>\n",
       "      <th>cnt</th>\n",
       "    </tr>\n",
       "  </thead>\n",
       "  <tbody>\n",
       "    <tr>\n",
       "      <th>0</th>\n",
       "      <td>0.01</td>\n",
       "      <td>0.01</td>\n",
       "      <td>0.00</td>\n",
       "      <td>0.29</td>\n",
       "      <td>0.00</td>\n",
       "      <td>0.22</td>\n",
       "      <td>0.81</td>\n",
       "      <td>0.02</td>\n",
       "    </tr>\n",
       "    <tr>\n",
       "      <th>1</th>\n",
       "      <td>0.04</td>\n",
       "      <td>0.02</td>\n",
       "      <td>0.04</td>\n",
       "      <td>0.27</td>\n",
       "      <td>0.00</td>\n",
       "      <td>0.20</td>\n",
       "      <td>0.80</td>\n",
       "      <td>0.04</td>\n",
       "    </tr>\n",
       "    <tr>\n",
       "      <th>2</th>\n",
       "      <td>0.03</td>\n",
       "      <td>0.01</td>\n",
       "      <td>0.09</td>\n",
       "      <td>0.27</td>\n",
       "      <td>0.00</td>\n",
       "      <td>0.20</td>\n",
       "      <td>0.80</td>\n",
       "      <td>0.03</td>\n",
       "    </tr>\n",
       "    <tr>\n",
       "      <th>3</th>\n",
       "      <td>0.01</td>\n",
       "      <td>0.01</td>\n",
       "      <td>0.13</td>\n",
       "      <td>0.29</td>\n",
       "      <td>0.00</td>\n",
       "      <td>0.22</td>\n",
       "      <td>0.75</td>\n",
       "      <td>0.01</td>\n",
       "    </tr>\n",
       "    <tr>\n",
       "      <th>4</th>\n",
       "      <td>0.00</td>\n",
       "      <td>0.00</td>\n",
       "      <td>0.17</td>\n",
       "      <td>0.29</td>\n",
       "      <td>0.00</td>\n",
       "      <td>0.22</td>\n",
       "      <td>0.75</td>\n",
       "      <td>0.00</td>\n",
       "    </tr>\n",
       "  </tbody>\n",
       "</table></div>"
      ],
      "text/plain": [
       "   registered  casual   hr  atemp  instant  temp  hum  cnt\n",
       "0        0.01    0.01 0.00   0.29     0.00  0.22 0.81 0.02\n",
       "1        0.04    0.02 0.04   0.27     0.00  0.20 0.80 0.04\n",
       "2        0.03    0.01 0.09   0.27     0.00  0.20 0.80 0.03\n",
       "3        0.01    0.01 0.13   0.29     0.00  0.22 0.75 0.01\n",
       "4        0.00    0.00 0.17   0.29     0.00  0.22 0.75 0.00"
      ]
     },
     "execution_count": 42,
     "metadata": {},
     "output_type": "execute_result"
    }
   ],
   "source": [
    "df_n.head()"
   ]
  },
  {
   "cell_type": "code",
   "execution_count": 41,
   "metadata": {},
   "outputs": [],
   "source": [
    "random_seed=1000\n",
    "cov = df_n.cov()\n",
    "mean= df_n.mean()\n",
    "\n",
    "# distr = multivariate_normal(cov = cov, mean = mean,\n",
    "# \t\t\t\t\t\t\t\tseed = random_seed)\n",
    "\n",
    "distr = multivariate_normal(cov = cov, mean = mean,\n",
    "\t\t\t\t\t\t\t\tseed = random_seed,allow_singular=True)\n",
    "\n",
    "\n",
    "data = distr.rvs(size = df_n.shape[0])"
   ]
  },
  {
   "cell_type": "markdown",
   "metadata": {},
   "source": [
    "### Generated data"
   ]
  },
  {
   "cell_type": "code",
   "execution_count": 43,
   "metadata": {},
   "outputs": [],
   "source": [
    "df_g=pd.DataFrame(data)"
   ]
  },
  {
   "cell_type": "code",
   "execution_count": 44,
   "metadata": {},
   "outputs": [
    {
     "data": {
      "text/html": [
       "<div><div id=b2cd78d3-89e7-4313-86be-b51a2685db3f style=\"display:none; background-color:#9D6CFF; color:white; width:200px; height:30px; padding-left:5px; border-radius:4px; flex-direction:row; justify-content:space-around; align-items:center;\" onmouseover=\"this.style.backgroundColor='#BA9BF8'\" onmouseout=\"this.style.backgroundColor='#9D6CFF'\" onclick=\"window.commands?.execute('create-mitosheet-from-dataframe-output');\">See Full Dataframe in Mito</div> <script> if (window.commands.hasCommand('create-mitosheet-from-dataframe-output')) document.getElementById('b2cd78d3-89e7-4313-86be-b51a2685db3f').style.display = 'flex' </script> <table border=\"1\" class=\"dataframe\">\n",
       "  <thead>\n",
       "    <tr style=\"text-align: right;\">\n",
       "      <th></th>\n",
       "      <th>0</th>\n",
       "      <th>1</th>\n",
       "      <th>2</th>\n",
       "      <th>3</th>\n",
       "      <th>4</th>\n",
       "      <th>5</th>\n",
       "      <th>6</th>\n",
       "      <th>7</th>\n",
       "    </tr>\n",
       "  </thead>\n",
       "  <tbody>\n",
       "    <tr>\n",
       "      <th>0</th>\n",
       "      <td>0.21</td>\n",
       "      <td>0.18</td>\n",
       "      <td>0.68</td>\n",
       "      <td>0.60</td>\n",
       "      <td>0.69</td>\n",
       "      <td>0.63</td>\n",
       "      <td>0.63</td>\n",
       "      <td>0.26</td>\n",
       "    </tr>\n",
       "    <tr>\n",
       "      <th>1</th>\n",
       "      <td>0.06</td>\n",
       "      <td>0.01</td>\n",
       "      <td>0.46</td>\n",
       "      <td>0.31</td>\n",
       "      <td>0.41</td>\n",
       "      <td>0.31</td>\n",
       "      <td>0.40</td>\n",
       "      <td>0.06</td>\n",
       "    </tr>\n",
       "    <tr>\n",
       "      <th>2</th>\n",
       "      <td>0.24</td>\n",
       "      <td>0.09</td>\n",
       "      <td>0.46</td>\n",
       "      <td>0.32</td>\n",
       "      <td>0.81</td>\n",
       "      <td>0.30</td>\n",
       "      <td>0.47</td>\n",
       "      <td>0.25</td>\n",
       "    </tr>\n",
       "    <tr>\n",
       "      <th>3</th>\n",
       "      <td>0.07</td>\n",
       "      <td>0.25</td>\n",
       "      <td>0.10</td>\n",
       "      <td>0.56</td>\n",
       "      <td>0.77</td>\n",
       "      <td>0.58</td>\n",
       "      <td>0.61</td>\n",
       "      <td>0.15</td>\n",
       "    </tr>\n",
       "    <tr>\n",
       "      <th>4</th>\n",
       "      <td>0.11</td>\n",
       "      <td>0.02</td>\n",
       "      <td>0.71</td>\n",
       "      <td>0.62</td>\n",
       "      <td>0.55</td>\n",
       "      <td>0.69</td>\n",
       "      <td>0.82</td>\n",
       "      <td>0.11</td>\n",
       "    </tr>\n",
       "  </tbody>\n",
       "</table></div>"
      ],
      "text/plain": [
       "     0    1    2    3    4    5    6    7\n",
       "0 0.21 0.18 0.68 0.60 0.69 0.63 0.63 0.26\n",
       "1 0.06 0.01 0.46 0.31 0.41 0.31 0.40 0.06\n",
       "2 0.24 0.09 0.46 0.32 0.81 0.30 0.47 0.25\n",
       "3 0.07 0.25 0.10 0.56 0.77 0.58 0.61 0.15\n",
       "4 0.11 0.02 0.71 0.62 0.55 0.69 0.82 0.11"
      ]
     },
     "execution_count": 44,
     "metadata": {},
     "output_type": "execute_result"
    }
   ],
   "source": [
    "df_g.head()"
   ]
  },
  {
   "cell_type": "code",
   "execution_count": 45,
   "metadata": {},
   "outputs": [],
   "source": [
    "df_g.columns = df_n.columns"
   ]
  },
  {
   "cell_type": "code",
   "execution_count": 46,
   "metadata": {},
   "outputs": [
    {
     "data": {
      "text/html": [
       "<div><div id=567697d9-7787-43a3-b764-232a56a8cb81 style=\"display:none; background-color:#9D6CFF; color:white; width:200px; height:30px; padding-left:5px; border-radius:4px; flex-direction:row; justify-content:space-around; align-items:center;\" onmouseover=\"this.style.backgroundColor='#BA9BF8'\" onmouseout=\"this.style.backgroundColor='#9D6CFF'\" onclick=\"window.commands?.execute('create-mitosheet-from-dataframe-output');\">See Full Dataframe in Mito</div> <script> if (window.commands.hasCommand('create-mitosheet-from-dataframe-output')) document.getElementById('567697d9-7787-43a3-b764-232a56a8cb81').style.display = 'flex' </script> <table border=\"1\" class=\"dataframe\">\n",
       "  <thead>\n",
       "    <tr style=\"text-align: right;\">\n",
       "      <th></th>\n",
       "      <th>registered</th>\n",
       "      <th>casual</th>\n",
       "      <th>hr</th>\n",
       "      <th>atemp</th>\n",
       "      <th>instant</th>\n",
       "      <th>temp</th>\n",
       "      <th>hum</th>\n",
       "      <th>cnt</th>\n",
       "    </tr>\n",
       "  </thead>\n",
       "  <tbody>\n",
       "    <tr>\n",
       "      <th>0</th>\n",
       "      <td>0.21</td>\n",
       "      <td>0.18</td>\n",
       "      <td>0.68</td>\n",
       "      <td>0.60</td>\n",
       "      <td>0.69</td>\n",
       "      <td>0.63</td>\n",
       "      <td>0.63</td>\n",
       "      <td>0.26</td>\n",
       "    </tr>\n",
       "    <tr>\n",
       "      <th>1</th>\n",
       "      <td>0.06</td>\n",
       "      <td>0.01</td>\n",
       "      <td>0.46</td>\n",
       "      <td>0.31</td>\n",
       "      <td>0.41</td>\n",
       "      <td>0.31</td>\n",
       "      <td>0.40</td>\n",
       "      <td>0.06</td>\n",
       "    </tr>\n",
       "    <tr>\n",
       "      <th>2</th>\n",
       "      <td>0.24</td>\n",
       "      <td>0.09</td>\n",
       "      <td>0.46</td>\n",
       "      <td>0.32</td>\n",
       "      <td>0.81</td>\n",
       "      <td>0.30</td>\n",
       "      <td>0.47</td>\n",
       "      <td>0.25</td>\n",
       "    </tr>\n",
       "    <tr>\n",
       "      <th>3</th>\n",
       "      <td>0.07</td>\n",
       "      <td>0.25</td>\n",
       "      <td>0.10</td>\n",
       "      <td>0.56</td>\n",
       "      <td>0.77</td>\n",
       "      <td>0.58</td>\n",
       "      <td>0.61</td>\n",
       "      <td>0.15</td>\n",
       "    </tr>\n",
       "    <tr>\n",
       "      <th>4</th>\n",
       "      <td>0.11</td>\n",
       "      <td>0.02</td>\n",
       "      <td>0.71</td>\n",
       "      <td>0.62</td>\n",
       "      <td>0.55</td>\n",
       "      <td>0.69</td>\n",
       "      <td>0.82</td>\n",
       "      <td>0.11</td>\n",
       "    </tr>\n",
       "  </tbody>\n",
       "</table></div>"
      ],
      "text/plain": [
       "   registered  casual   hr  atemp  instant  temp  hum  cnt\n",
       "0        0.21    0.18 0.68   0.60     0.69  0.63 0.63 0.26\n",
       "1        0.06    0.01 0.46   0.31     0.41  0.31 0.40 0.06\n",
       "2        0.24    0.09 0.46   0.32     0.81  0.30 0.47 0.25\n",
       "3        0.07    0.25 0.10   0.56     0.77  0.58 0.61 0.15\n",
       "4        0.11    0.02 0.71   0.62     0.55  0.69 0.82 0.11"
      ]
     },
     "execution_count": 46,
     "metadata": {},
     "output_type": "execute_result"
    }
   ],
   "source": [
    "df_g.head()"
   ]
  },
  {
   "cell_type": "code",
   "execution_count": 47,
   "metadata": {},
   "outputs": [
    {
     "data": {
      "text/plain": [
       "<AxesSubplot:ylabel='Density'>"
      ]
     },
     "execution_count": 47,
     "metadata": {},
     "output_type": "execute_result"
    },
    {
     "data": {
      "image/png": "[encoded data removed]",
      "text/plain": [
       "<Figure size 432x288 with 1 Axes>"
      ]
     },
     "metadata": {
      "needs_background": "light"
     },
     "output_type": "display_data"
    }
   ],
   "source": [
    "sns.distplot(df_g)"
   ]
  },
  {
   "cell_type": "code",
   "execution_count": 48,
   "metadata": {},
   "outputs": [
    {
     "data": {
      "text/html": [
       "<div><div id=1a685670-2963-4a85-9111-84ee7d297e65 style=\"display:none; background-color:#9D6CFF; color:white; width:200px; height:30px; padding-left:5px; border-radius:4px; flex-direction:row; justify-content:space-around; align-items:center;\" onmouseover=\"this.style.backgroundColor='#BA9BF8'\" onmouseout=\"this.style.backgroundColor='#9D6CFF'\" onclick=\"window.commands?.execute('create-mitosheet-from-dataframe-output');\">See Full Dataframe in Mito</div> <script> if (window.commands.hasCommand('create-mitosheet-from-dataframe-output')) document.getElementById('1a685670-2963-4a85-9111-84ee7d297e65').style.display = 'flex' </script> <table border=\"1\" class=\"dataframe\">\n",
       "  <thead>\n",
       "    <tr style=\"text-align: right;\">\n",
       "      <th></th>\n",
       "      <th>registered</th>\n",
       "      <th>casual</th>\n",
       "      <th>hr</th>\n",
       "      <th>atemp</th>\n",
       "      <th>instant</th>\n",
       "      <th>temp</th>\n",
       "      <th>hum</th>\n",
       "      <th>cnt</th>\n",
       "    </tr>\n",
       "  </thead>\n",
       "  <tbody>\n",
       "    <tr>\n",
       "      <th>count</th>\n",
       "      <td>17379.00</td>\n",
       "      <td>17379.00</td>\n",
       "      <td>17379.00</td>\n",
       "      <td>17379.00</td>\n",
       "      <td>17379.00</td>\n",
       "      <td>17379.00</td>\n",
       "      <td>17379.00</td>\n",
       "      <td>17379.00</td>\n",
       "    </tr>\n",
       "    <tr>\n",
       "      <th>mean</th>\n",
       "      <td>0.17</td>\n",
       "      <td>0.10</td>\n",
       "      <td>0.50</td>\n",
       "      <td>0.48</td>\n",
       "      <td>0.50</td>\n",
       "      <td>0.49</td>\n",
       "      <td>0.63</td>\n",
       "      <td>0.19</td>\n",
       "    </tr>\n",
       "    <tr>\n",
       "      <th>std</th>\n",
       "      <td>0.17</td>\n",
       "      <td>0.13</td>\n",
       "      <td>0.30</td>\n",
       "      <td>0.17</td>\n",
       "      <td>0.29</td>\n",
       "      <td>0.20</td>\n",
       "      <td>0.19</td>\n",
       "      <td>0.19</td>\n",
       "    </tr>\n",
       "    <tr>\n",
       "      <th>min</th>\n",
       "      <td>0.00</td>\n",
       "      <td>0.00</td>\n",
       "      <td>0.00</td>\n",
       "      <td>0.00</td>\n",
       "      <td>0.00</td>\n",
       "      <td>0.00</td>\n",
       "      <td>0.00</td>\n",
       "      <td>0.00</td>\n",
       "    </tr>\n",
       "    <tr>\n",
       "      <th>25%</th>\n",
       "      <td>0.04</td>\n",
       "      <td>0.01</td>\n",
       "      <td>0.26</td>\n",
       "      <td>0.33</td>\n",
       "      <td>0.25</td>\n",
       "      <td>0.33</td>\n",
       "      <td>0.48</td>\n",
       "      <td>0.04</td>\n",
       "    </tr>\n",
       "    <tr>\n",
       "      <th>50%</th>\n",
       "      <td>0.13</td>\n",
       "      <td>0.05</td>\n",
       "      <td>0.52</td>\n",
       "      <td>0.48</td>\n",
       "      <td>0.50</td>\n",
       "      <td>0.49</td>\n",
       "      <td>0.63</td>\n",
       "      <td>0.14</td>\n",
       "    </tr>\n",
       "    <tr>\n",
       "      <th>75%</th>\n",
       "      <td>0.25</td>\n",
       "      <td>0.13</td>\n",
       "      <td>0.78</td>\n",
       "      <td>0.62</td>\n",
       "      <td>0.75</td>\n",
       "      <td>0.65</td>\n",
       "      <td>0.78</td>\n",
       "      <td>0.29</td>\n",
       "    </tr>\n",
       "    <tr>\n",
       "      <th>max</th>\n",
       "      <td>1.00</td>\n",
       "      <td>1.00</td>\n",
       "      <td>1.00</td>\n",
       "      <td>1.00</td>\n",
       "      <td>1.00</td>\n",
       "      <td>1.00</td>\n",
       "      <td>1.00</td>\n",
       "      <td>1.00</td>\n",
       "    </tr>\n",
       "  </tbody>\n",
       "</table></div>"
      ],
      "text/plain": [
       "       registered   casual       hr    atemp  instant     temp      hum  \\\n",
       "count    17379.00 17379.00 17379.00 17379.00 17379.00 17379.00 17379.00   \n",
       "mean         0.17     0.10     0.50     0.48     0.50     0.49     0.63   \n",
       "std          0.17     0.13     0.30     0.17     0.29     0.20     0.19   \n",
       "min          0.00     0.00     0.00     0.00     0.00     0.00     0.00   \n",
       "25%          0.04     0.01     0.26     0.33     0.25     0.33     0.48   \n",
       "50%          0.13     0.05     0.52     0.48     0.50     0.49     0.63   \n",
       "75%          0.25     0.13     0.78     0.62     0.75     0.65     0.78   \n",
       "max          1.00     1.00     1.00     1.00     1.00     1.00     1.00   \n",
       "\n",
       "           cnt  \n",
       "count 17379.00  \n",
       "mean      0.19  \n",
       "std       0.19  \n",
       "min       0.00  \n",
       "25%       0.04  \n",
       "50%       0.14  \n",
       "75%       0.29  \n",
       "max       1.00  "
      ]
     },
     "execution_count": 48,
     "metadata": {},
     "output_type": "execute_result"
    }
   ],
   "source": [
    "df_n.describe()"
   ]
  },
  {
   "cell_type": "code",
   "execution_count": 49,
   "metadata": {},
   "outputs": [
    {
     "data": {
      "text/html": [
       "<div><div id=f6150801-1b17-4e20-9ce0-3c795a846fea style=\"display:none; background-color:#9D6CFF; color:white; width:200px; height:30px; padding-left:5px; border-radius:4px; flex-direction:row; justify-content:space-around; align-items:center;\" onmouseover=\"this.style.backgroundColor='#BA9BF8'\" onmouseout=\"this.style.backgroundColor='#9D6CFF'\" onclick=\"window.commands?.execute('create-mitosheet-from-dataframe-output');\">See Full Dataframe in Mito</div> <script> if (window.commands.hasCommand('create-mitosheet-from-dataframe-output')) document.getElementById('f6150801-1b17-4e20-9ce0-3c795a846fea').style.display = 'flex' </script> <table border=\"1\" class=\"dataframe\">\n",
       "  <thead>\n",
       "    <tr style=\"text-align: right;\">\n",
       "      <th></th>\n",
       "      <th>registered</th>\n",
       "      <th>casual</th>\n",
       "      <th>hr</th>\n",
       "      <th>atemp</th>\n",
       "      <th>instant</th>\n",
       "      <th>temp</th>\n",
       "      <th>hum</th>\n",
       "      <th>cnt</th>\n",
       "    </tr>\n",
       "  </thead>\n",
       "  <tbody>\n",
       "    <tr>\n",
       "      <th>count</th>\n",
       "      <td>17379.00</td>\n",
       "      <td>17379.00</td>\n",
       "      <td>17379.00</td>\n",
       "      <td>17379.00</td>\n",
       "      <td>17379.00</td>\n",
       "      <td>17379.00</td>\n",
       "      <td>17379.00</td>\n",
       "      <td>17379.00</td>\n",
       "    </tr>\n",
       "    <tr>\n",
       "      <th>mean</th>\n",
       "      <td>0.18</td>\n",
       "      <td>0.10</td>\n",
       "      <td>0.50</td>\n",
       "      <td>0.48</td>\n",
       "      <td>0.50</td>\n",
       "      <td>0.49</td>\n",
       "      <td>0.62</td>\n",
       "      <td>0.19</td>\n",
       "    </tr>\n",
       "    <tr>\n",
       "      <th>std</th>\n",
       "      <td>0.17</td>\n",
       "      <td>0.14</td>\n",
       "      <td>0.30</td>\n",
       "      <td>0.17</td>\n",
       "      <td>0.29</td>\n",
       "      <td>0.20</td>\n",
       "      <td>0.19</td>\n",
       "      <td>0.19</td>\n",
       "    </tr>\n",
       "    <tr>\n",
       "      <th>min</th>\n",
       "      <td>-0.53</td>\n",
       "      <td>-0.42</td>\n",
       "      <td>-0.62</td>\n",
       "      <td>-0.29</td>\n",
       "      <td>-0.94</td>\n",
       "      <td>-0.40</td>\n",
       "      <td>-0.14</td>\n",
       "      <td>-0.51</td>\n",
       "    </tr>\n",
       "    <tr>\n",
       "      <th>25%</th>\n",
       "      <td>0.06</td>\n",
       "      <td>0.01</td>\n",
       "      <td>0.30</td>\n",
       "      <td>0.36</td>\n",
       "      <td>0.31</td>\n",
       "      <td>0.36</td>\n",
       "      <td>0.49</td>\n",
       "      <td>0.07</td>\n",
       "    </tr>\n",
       "    <tr>\n",
       "      <th>50%</th>\n",
       "      <td>0.18</td>\n",
       "      <td>0.10</td>\n",
       "      <td>0.50</td>\n",
       "      <td>0.48</td>\n",
       "      <td>0.50</td>\n",
       "      <td>0.49</td>\n",
       "      <td>0.62</td>\n",
       "      <td>0.20</td>\n",
       "    </tr>\n",
       "    <tr>\n",
       "      <th>75%</th>\n",
       "      <td>0.29</td>\n",
       "      <td>0.19</td>\n",
       "      <td>0.71</td>\n",
       "      <td>0.59</td>\n",
       "      <td>0.70</td>\n",
       "      <td>0.62</td>\n",
       "      <td>0.76</td>\n",
       "      <td>0.32</td>\n",
       "    </tr>\n",
       "    <tr>\n",
       "      <th>max</th>\n",
       "      <td>0.90</td>\n",
       "      <td>0.68</td>\n",
       "      <td>1.65</td>\n",
       "      <td>1.13</td>\n",
       "      <td>1.60</td>\n",
       "      <td>1.23</td>\n",
       "      <td>1.37</td>\n",
       "      <td>0.95</td>\n",
       "    </tr>\n",
       "  </tbody>\n",
       "</table></div>"
      ],
      "text/plain": [
       "       registered   casual       hr    atemp  instant     temp      hum  \\\n",
       "count    17379.00 17379.00 17379.00 17379.00 17379.00 17379.00 17379.00   \n",
       "mean         0.18     0.10     0.50     0.48     0.50     0.49     0.62   \n",
       "std          0.17     0.14     0.30     0.17     0.29     0.20     0.19   \n",
       "min         -0.53    -0.42    -0.62    -0.29    -0.94    -0.40    -0.14   \n",
       "25%          0.06     0.01     0.30     0.36     0.31     0.36     0.49   \n",
       "50%          0.18     0.10     0.50     0.48     0.50     0.49     0.62   \n",
       "75%          0.29     0.19     0.71     0.59     0.70     0.62     0.76   \n",
       "max          0.90     0.68     1.65     1.13     1.60     1.23     1.37   \n",
       "\n",
       "           cnt  \n",
       "count 17379.00  \n",
       "mean      0.19  \n",
       "std       0.19  \n",
       "min      -0.51  \n",
       "25%       0.07  \n",
       "50%       0.20  \n",
       "75%       0.32  \n",
       "max       0.95  "
      ]
     },
     "execution_count": 49,
     "metadata": {},
     "output_type": "execute_result"
    }
   ],
   "source": [
    "df_g.describe()"
   ]
  },
  {
   "cell_type": "markdown",
   "metadata": {},
   "source": [
    "# Finding probabbilties of all columns and joint probabilty on generated data set"
   ]
  },
  {
   "cell_type": "markdown",
   "metadata": {},
   "source": [
    "#### Findining probabilities of all columns"
   ]
  },
  {
   "cell_type": "code",
   "execution_count": 51,
   "metadata": {},
   "outputs": [
    {
     "name": "stdout",
     "output_type": "stream",
     "text": [
      "done\n"
     ]
    },
    {
     "data": {
      "text/plain": [
       "array([0.])"
      ]
     },
     "execution_count": 51,
     "metadata": {},
     "output_type": "execute_result"
    }
   ],
   "source": [
    "df_g_prob=df_g.copy()\n",
    "\n",
    "def f1(b):\n",
    "    \n",
    "    k=df_g[df_g[i] == b].shape[0]\n",
    "    return(k/len(df_g))\n",
    "\n",
    "for i in df_g.columns:\n",
    "    # print(i)\n",
    "    \n",
    "    df_g_prob['prob_'+i] = df_g[i].apply(f1)\n",
    "\n",
    "df_g_prob.head()\n",
    "\n",
    "\n",
    "\n",
    "### Joint probability\n",
    "df_g.columns\n",
    "\n",
    "def f1(a):\n",
    "    \n",
    "    \n",
    "    k=df_n[ (df_n[col[0]] == a[col[0]]) & (df_n[col[1]] == a[col[1]]) & (df_n[col[2]] == a[col[2]]) \n",
    "        & (df_n[col[3]] == a[col[3]]) & (df_n[col[4]] == a[col[4]]) & (df_n[col[5]] == a[col[5]])  \n",
    "        & (df_n[col[6]] == a[col[6]]) & (df_n[col[7]] == a[col[7]]) ].shape[0]\n",
    "   \n",
    "    \n",
    "    return(k/len(df_g))\n",
    "    \n",
    "\n",
    "df_g_prob['prob_joint'] = df_g.apply(f1,axis=1)\n",
    "\n",
    "print('done')\n",
    "\n",
    "# df_g\n",
    "df_g_prob.head()\n",
    "df_g_prob.prob_joint.unique()"
   ]
  },
  {
   "cell_type": "markdown",
   "metadata": {},
   "source": [
    "#### This shows that all the rows in dataset are unique and hence the ombined joint probability is same for all rows"
   ]
  },
  {
   "cell_type": "markdown",
   "metadata": {},
   "source": [
    "## Use model on new generated dataset"
   ]
  },
  {
   "cell_type": "markdown",
   "metadata": {},
   "source": [
    "### Again creating smaller smaple dataset for running lazy predic models on generated dataste"
   ]
  },
  {
   "cell_type": "code",
   "execution_count": 52,
   "metadata": {},
   "outputs": [
    {
     "name": "stdout",
     "output_type": "stream",
     "text": [
      "(1738, 8)\n"
     ]
    }
   ],
   "source": [
    "df_gp=df_g.sample(frac =.1)\n",
    "print(df_gp.shape)"
   ]
  },
  {
   "cell_type": "code",
   "execution_count": 53,
   "metadata": {},
   "outputs": [
    {
     "name": "stderr",
     "output_type": "stream",
     "text": [
      "  5%|▍         | 2/42 [00:00<00:06,  6.03it/s]"
     ]
    },
    {
     "name": "stdout",
     "output_type": "stream",
     "text": [
      "{'Model': 'AdaBoostRegressor', 'R-Squared': 0.9709485423948779, 'Adjusted R-Squared': 0.9697234809296017, 'RMSE': 0.03509888548285439, 'Time taken': 0.2449512481689453}\n",
      "{'Model': 'BaggingRegressor', 'R-Squared': 0.9981848238892729, 'Adjusted R-Squared': 0.9981082803183386, 'RMSE': 0.00877341648319295, 'Time taken': 0.10939502716064453}\n",
      "{'Model': 'BayesianRidge', 'R-Squared': 0.9999999999999994, 'Adjusted R-Squared': 0.9999999999999994, 'RMSE': 4.7368161300436116e-09, 'Time taken': 0.011005401611328125}\n",
      "{'Model': 'DecisionTreeRegressor', 'R-Squared': 0.9957686663508255, 'Adjusted R-Squared': 0.9955902366186314, 'RMSE': 0.013395162869298233, 'Time taken': 0.014125347137451172}\n",
      "{'Model': 'DummyRegressor', 'R-Squared': -0.0011181603857339795, 'Adjusted R-Squared': -0.04333398642609643, 'RMSE': 0.20604023305274438, 'Time taken': 0.0071582794189453125}\n",
      "{'Model': 'ElasticNet', 'R-Squared': -0.0011181603857339795, 'Adjusted R-Squared': -0.04333398642609643, 'RMSE': 0.20604023305274438, 'Time taken': 0.010553359985351562}\n"
     ]
    },
    {
     "name": "stderr",
     "output_type": "stream",
     "text": [
      " 17%|█▋        | 7/42 [00:00<00:01, 20.31it/s]"
     ]
    },
    {
     "name": "stdout",
     "output_type": "stream",
     "text": [
      "{'Model': 'ElasticNetCV', 'R-Squared': 0.9999984390289588, 'Adjusted R-Squared': 0.9999983732048787, 'RMSE': 0.00025728044944705393, 'Time taken': 0.06381440162658691}\n",
      "{'Model': 'ExtraTreeRegressor', 'R-Squared': 0.9925465134303576, 'Adjusted R-Squared': 0.9922322097798305, 'RMSE': 0.017778253694863713, 'Time taken': 0.02195286750793457}\n"
     ]
    },
    {
     "name": "stderr",
     "output_type": "stream",
     "text": [
      " 24%|██▍       | 10/42 [00:00<00:02, 12.43it/s]"
     ]
    },
    {
     "name": "stdout",
     "output_type": "stream",
     "text": [
      "{'Model': 'ExtraTreesRegressor', 'R-Squared': 0.9995140730011403, 'Adjusted R-Squared': 0.999493582103598, 'RMSE': 0.004539362624958873, 'Time taken': 0.3481888771057129}\n",
      "GammaRegressor model failed to execute\n",
      "Some value(s) of y are out of the valid range for family GammaDistribution\n",
      "{'Model': 'GaussianProcessRegressor', 'R-Squared': 0.9657676798950747, 'Adjusted R-Squared': 0.9643241483243851, 'RMSE': 0.03810022408122123, 'Time taken': 1.0544230937957764}\n"
     ]
    },
    {
     "name": "stderr",
     "output_type": "stream",
     "text": [
      " 29%|██▊       | 12/42 [00:02<00:07,  4.12it/s]"
     ]
    },
    {
     "name": "stdout",
     "output_type": "stream",
     "text": [
      "{'Model': 'GradientBoostingRegressor', 'R-Squared': 0.9986505344314509, 'Adjusted R-Squared': 0.9985936292568736, 'RMSE': 0.0075646748683997345, 'Time taken': 0.26268506050109863}\n"
     ]
    },
    {
     "name": "stderr",
     "output_type": "stream",
     "text": [
      " 33%|███▎      | 14/42 [00:02<00:07,  3.68it/s]"
     ]
    },
    {
     "name": "stdout",
     "output_type": "stream",
     "text": [
      "{'Model': 'HistGradientBoostingRegressor', 'R-Squared': 0.9964995605002426, 'Adjusted R-Squared': 0.9963519516056745, 'RMSE': 0.012183460246717247, 'Time taken': 0.6182756423950195}\n",
      "{'Model': 'HuberRegressor', 'R-Squared': 0.9999999999999994, 'Adjusted R-Squared': 0.9999999999999994, 'RMSE': 4.732779957317753e-09, 'Time taken': 0.071441650390625}\n",
      "{'Model': 'KNeighborsRegressor', 'R-Squared': 0.9482054279081247, 'Adjusted R-Squared': 0.9460213194464191, 'RMSE': 0.04686530927292802, 'Time taken': 0.016561508178710938}\n"
     ]
    },
    {
     "name": "stderr",
     "output_type": "stream",
     "text": [
      " 55%|█████▍    | 23/42 [00:03<00:02,  7.64it/s]"
     ]
    },
    {
     "name": "stdout",
     "output_type": "stream",
     "text": [
      "{'Model': 'KernelRidge', 'R-Squared': 0.0854249621774702, 'Adjusted R-Squared': 0.04685854491989361, 'RMSE': 0.19693324380585459, 'Time taken': 0.7194032669067383}\n",
      "{'Model': 'Lars', 'R-Squared': 0.9999999999999994, 'Adjusted R-Squared': 0.9999999999999994, 'RMSE': 4.739867057474183e-09, 'Time taken': 0.008998632431030273}\n",
      "{'Model': 'LarsCV', 'R-Squared': 0.9999999999999994, 'Adjusted R-Squared': 0.9999999999999994, 'RMSE': 4.739867057474183e-09, 'Time taken': 0.012934207916259766}\n",
      "{'Model': 'Lasso', 'R-Squared': -0.0011181603857339795, 'Adjusted R-Squared': -0.04333398642609643, 'RMSE': 0.20604023305274438, 'Time taken': 0.008000850677490234}\n",
      "{'Model': 'LassoCV', 'R-Squared': 0.9999987333753079, 'Adjusted R-Squared': 0.9999986799634233, 'RMSE': 0.00023175725466498764, 'Time taken': 0.042836904525756836}\n",
      "{'Model': 'LassoLars', 'R-Squared': -0.0011181603857339795, 'Adjusted R-Squared': -0.04333398642609643, 'RMSE': 0.20604023305274438, 'Time taken': 0.007234334945678711}\n",
      "{'Model': 'LassoLarsCV', 'R-Squared': 0.9999999999999994, 'Adjusted R-Squared': 0.9999999999999994, 'RMSE': 4.739867057474183e-09, 'Time taken': 0.010509967803955078}\n",
      "{'Model': 'LassoLarsIC', 'R-Squared': 0.9999999999999994, 'Adjusted R-Squared': 0.9999999999999994, 'RMSE': 4.739867057474183e-09, 'Time taken': 0.009288311004638672}\n",
      "{'Model': 'LinearRegression', 'R-Squared': 0.9999999999999994, 'Adjusted R-Squared': 0.9999999999999994, 'RMSE': 4.735145953912274e-09, 'Time taken': 0.007070779800415039}\n",
      "{'Model': 'LinearSVR', 'R-Squared': 0.9999999999999961, 'Adjusted R-Squared': 0.999999999999996, 'RMSE': 1.2914513676584882e-08, 'Time taken': 0.007662296295166016}\n"
     ]
    },
    {
     "name": "stderr",
     "output_type": "stream",
     "text": [
      " 62%|██████▏   | 26/42 [00:03<00:01,  8.75it/s]"
     ]
    },
    {
     "name": "stdout",
     "output_type": "stream",
     "text": [
      "{'Model': 'MLPRegressor', 'R-Squared': 0.9462100771261941, 'Adjusted R-Squared': 0.9439418273664553, 'RMSE': 0.047759505714893895, 'Time taken': 0.18846678733825684}\n"
     ]
    },
    {
     "name": "stderr",
     "output_type": "stream",
     "text": [
      " 69%|██████▉   | 29/42 [00:06<00:03,  3.56it/s]"
     ]
    },
    {
     "name": "stdout",
     "output_type": "stream",
     "text": [
      "{'Model': 'NuSVR', 'R-Squared': 0.9975743440928969, 'Adjusted R-Squared': 0.997472057398019, 'RMSE': 0.0101420082512171, 'Time taken': 2.1355364322662354}\n",
      "{'Model': 'OrthogonalMatchingPursuit', 'R-Squared': 0.9568922054352382, 'Adjusted R-Squared': 0.9550744068692543, 'RMSE': 0.042755034862936754, 'Time taken': 0.010210990905761719}\n",
      "{'Model': 'OrthogonalMatchingPursuitCV', 'R-Squared': 0.9999999999999994, 'Adjusted R-Squared': 0.9999999999999994, 'RMSE': 4.732321214966751e-09, 'Time taken': 0.013130664825439453}\n",
      "{'Model': 'PassiveAggressiveRegressor', 'R-Squared': 0.9763679838549342, 'Adjusted R-Squared': 0.9753714530536363, 'RMSE': 0.03165627062385649, 'Time taken': 0.007997274398803711}\n",
      "PoissonRegressor model failed to execute\n",
      "Some value(s) of y are out of the valid range for family PoissonDistribution\n"
     ]
    },
    {
     "name": "stderr",
     "output_type": "stream",
     "text": [
      " 76%|███████▌  | 32/42 [03:31<03:15, 19.55s/it]"
     ]
    },
    {
     "name": "stdout",
     "output_type": "stream",
     "text": [
      "{'Model': 'QuantileRegressor', 'R-Squared': -0.0009476720657211057, 'Adjusted R-Squared': -0.043156308839576996, 'RMSE': 0.2060226881962836, 'Time taken': 205.6309552192688}\n",
      "{'Model': 'RANSACRegressor', 'R-Squared': 0.9999999999999994, 'Adjusted R-Squared': 0.9999999999999994, 'RMSE': 4.735145953912274e-09, 'Time taken': 0.012921810150146484}\n"
     ]
    },
    {
     "name": "stderr",
     "output_type": "stream",
     "text": [
      " 95%|█████████▌| 40/42 [03:32<00:16,  8.13s/it]"
     ]
    },
    {
     "name": "stdout",
     "output_type": "stream",
     "text": [
      "{'Model': 'RandomForestRegressor', 'R-Squared': 0.9985854028169513, 'Adjusted R-Squared': 0.9985257511285095, 'RMSE': 0.007745077308841779, 'Time taken': 0.8111870288848877}\n",
      "{'Model': 'Ridge', 'R-Squared': 0.9999996264791348, 'Adjusted R-Squared': 0.9999996107282549, 'RMSE': 0.00012585393419258672, 'Time taken': 0.018731355667114258}\n",
      "{'Model': 'RidgeCV', 'R-Squared': 0.9999999962546982, 'Adjusted R-Squared': 0.9999999960967637, 'RMSE': 1.2602385930517658e-05, 'Time taken': 0.021174192428588867}\n",
      "{'Model': 'SGDRegressor', 'R-Squared': 0.9999996457831802, 'Adjusted R-Squared': 0.9999996308463264, 'RMSE': 0.00012255864546254023, 'Time taken': 0.014352083206176758}\n",
      "{'Model': 'SVR', 'R-Squared': 0.9459538467093686, 'Adjusted R-Squared': 0.9436747920525347, 'RMSE': 0.047873122714431546, 'Time taken': 0.022477149963378906}\n",
      "{'Model': 'TransformedTargetRegressor', 'R-Squared': 0.9999999999999994, 'Adjusted R-Squared': 0.9999999999999994, 'RMSE': 4.735145953912274e-09, 'Time taken': 0.011094093322753906}\n",
      "{'Model': 'TweedieRegressor', 'R-Squared': 0.8347761174776919, 'Adjusted R-Squared': 0.8278088453231367, 'RMSE': 0.08370391557271128, 'Time taken': 0.02062058448791504}\n"
     ]
    },
    {
     "name": "stderr",
     "output_type": "stream",
     "text": [
      "100%|██████████| 42/42 [03:32<00:00,  5.07s/it]"
     ]
    },
    {
     "name": "stdout",
     "output_type": "stream",
     "text": [
      "{'Model': 'XGBRegressor', 'R-Squared': 0.9985435392820798, 'Adjusted R-Squared': 0.9984821222638542, 'RMSE': 0.007858845493606114, 'Time taken': 0.1816272735595703}\n",
      "{'Model': 'LGBMRegressor', 'R-Squared': 0.9964380729386997, 'Adjusted R-Squared': 0.9962878711951508, 'RMSE': 0.012289999738942408, 'Time taken': 0.10146045684814453}\n",
      "                               Adjusted R-Squared  R-Squared  RMSE  Time Taken\n",
      "Model                                                                         \n",
      "LassoLarsCV                                  1.00       1.00  0.00        0.01\n",
      "HuberRegressor                               1.00       1.00  0.00        0.07\n",
      "LassoLarsIC                                  1.00       1.00  0.00        0.01\n",
      "OrthogonalMatchingPursuitCV                  1.00       1.00  0.00        0.01\n",
      "LarsCV                                       1.00       1.00  0.00        0.01\n",
      "Lars                                         1.00       1.00  0.00        0.01\n",
      "RANSACRegressor                              1.00       1.00  0.00        0.01\n",
      "LinearRegression                             1.00       1.00  0.00        0.01\n",
      "TransformedTargetRegressor                   1.00       1.00  0.00        0.01\n",
      "BayesianRidge                                1.00       1.00  0.00        0.01\n",
      "LinearSVR                                    1.00       1.00  0.00        0.01\n",
      "RidgeCV                                      1.00       1.00  0.00        0.02\n",
      "SGDRegressor                                 1.00       1.00  0.00        0.01\n",
      "Ridge                                        1.00       1.00  0.00        0.02\n",
      "LassoCV                                      1.00       1.00  0.00        0.04\n",
      "ElasticNetCV                                 1.00       1.00  0.00        0.06\n",
      "ExtraTreesRegressor                          1.00       1.00  0.00        0.35\n",
      "GradientBoostingRegressor                    1.00       1.00  0.01        0.26\n",
      "RandomForestRegressor                        1.00       1.00  0.01        0.81\n",
      "XGBRegressor                                 1.00       1.00  0.01        0.18\n",
      "BaggingRegressor                             1.00       1.00  0.01        0.11\n",
      "NuSVR                                        1.00       1.00  0.01        2.14\n",
      "HistGradientBoostingRegressor                1.00       1.00  0.01        0.62\n",
      "LGBMRegressor                                1.00       1.00  0.01        0.10\n",
      "DecisionTreeRegressor                        1.00       1.00  0.01        0.01\n",
      "ExtraTreeRegressor                           0.99       0.99  0.02        0.02\n",
      "PassiveAggressiveRegressor                   0.98       0.98  0.03        0.01\n",
      "AdaBoostRegressor                            0.97       0.97  0.04        0.24\n",
      "GaussianProcessRegressor                     0.96       0.97  0.04        1.05\n",
      "OrthogonalMatchingPursuit                    0.96       0.96  0.04        0.01\n",
      "KNeighborsRegressor                          0.95       0.95  0.05        0.02\n",
      "MLPRegressor                                 0.94       0.95  0.05        0.19\n",
      "SVR                                          0.94       0.95  0.05        0.02\n",
      "TweedieRegressor                             0.83       0.83  0.08        0.02\n",
      "KernelRidge                                  0.05       0.09  0.20        0.72\n",
      "QuantileRegressor                           -0.04      -0.00  0.21      205.63\n",
      "LassoLars                                   -0.04      -0.00  0.21        0.01\n",
      "Lasso                                       -0.04      -0.00  0.21        0.01\n",
      "ElasticNet                                  -0.04      -0.00  0.21        0.01\n",
      "DummyRegressor                              -0.04      -0.00  0.21        0.01\n"
     ]
    },
    {
     "name": "stderr",
     "output_type": "stream",
     "text": [
      "\n"
     ]
    }
   ],
   "source": [
    "X= df_gp.drop(columns='cnt')\n",
    "X\n",
    "y=df_gp['cnt']\n",
    "y\n",
    "offset = int(X.shape[0] * 0.9)\n",
    "\n",
    "### splitting dataset into training and testing part.\n",
    "X_train, y_train = X[:offset], y[:offset]\n",
    "X_test, y_test = X[offset:], y[offset:]\n",
    "\n",
    "reg = LazyRegressor(verbose=10, ignore_warnings=False, custom_metric=None)\n",
    "\n",
    "\n",
    "\n",
    "### fitting data in LazyClassifier\n",
    "models_1, predictions = reg.fit(X_train, X_test, y_train, y_test)\n",
    "\n",
    "print(models_1)"
   ]
  },
  {
   "cell_type": "markdown",
   "metadata": {},
   "source": [
    "# Part 2- Making multivariate gausian based on mean of the modes of columns and covariance matrix"
   ]
  },
  {
   "cell_type": "code",
   "execution_count": 54,
   "metadata": {},
   "outputs": [],
   "source": [
    "random_seed=1000\n",
    "cov = df_n.cov()\n",
    "# mean= df_n.mean()\n",
    "\n",
    "mode=df_n.mode().mean()\n",
    "# mode\n",
    "\n",
    "# distr = multivariate_normal(cov = cov, mean = mode,\n",
    "# \t\t\t\t\t\t\t\tseed = random_seed)\n",
    "\n",
    "distr = multivariate_normal(cov = cov, mean = mean,\n",
    "\t\t\t\t\t\t\t\tseed = random_seed,allow_singular=True)\n",
    "\n",
    "\n",
    "data = distr.rvs(size = df_n.shape[0])"
   ]
  },
  {
   "cell_type": "markdown",
   "metadata": {},
   "source": [
    "### Generated data"
   ]
  },
  {
   "cell_type": "code",
   "execution_count": 55,
   "metadata": {},
   "outputs": [],
   "source": [
    "df_g=pd.DataFrame(data)"
   ]
  },
  {
   "cell_type": "code",
   "execution_count": 56,
   "metadata": {},
   "outputs": [
    {
     "data": {
      "text/html": [
       "<div><div id=5078da4c-5cd3-48a5-9245-740889011572 style=\"display:none; background-color:#9D6CFF; color:white; width:200px; height:30px; padding-left:5px; border-radius:4px; flex-direction:row; justify-content:space-around; align-items:center;\" onmouseover=\"this.style.backgroundColor='#BA9BF8'\" onmouseout=\"this.style.backgroundColor='#9D6CFF'\" onclick=\"window.commands?.execute('create-mitosheet-from-dataframe-output');\">See Full Dataframe in Mito</div> <script> if (window.commands.hasCommand('create-mitosheet-from-dataframe-output')) document.getElementById('5078da4c-5cd3-48a5-9245-740889011572').style.display = 'flex' </script> <table border=\"1\" class=\"dataframe\">\n",
       "  <thead>\n",
       "    <tr style=\"text-align: right;\">\n",
       "      <th></th>\n",
       "      <th>0</th>\n",
       "      <th>1</th>\n",
       "      <th>2</th>\n",
       "      <th>3</th>\n",
       "      <th>4</th>\n",
       "      <th>5</th>\n",
       "      <th>6</th>\n",
       "      <th>7</th>\n",
       "    </tr>\n",
       "  </thead>\n",
       "  <tbody>\n",
       "    <tr>\n",
       "      <th>0</th>\n",
       "      <td>0.21</td>\n",
       "      <td>0.18</td>\n",
       "      <td>0.68</td>\n",
       "      <td>0.60</td>\n",
       "      <td>0.69</td>\n",
       "      <td>0.63</td>\n",
       "      <td>0.63</td>\n",
       "      <td>0.26</td>\n",
       "    </tr>\n",
       "    <tr>\n",
       "      <th>1</th>\n",
       "      <td>0.06</td>\n",
       "      <td>0.01</td>\n",
       "      <td>0.46</td>\n",
       "      <td>0.31</td>\n",
       "      <td>0.41</td>\n",
       "      <td>0.31</td>\n",
       "      <td>0.40</td>\n",
       "      <td>0.06</td>\n",
       "    </tr>\n",
       "    <tr>\n",
       "      <th>2</th>\n",
       "      <td>0.24</td>\n",
       "      <td>0.09</td>\n",
       "      <td>0.46</td>\n",
       "      <td>0.32</td>\n",
       "      <td>0.81</td>\n",
       "      <td>0.30</td>\n",
       "      <td>0.47</td>\n",
       "      <td>0.25</td>\n",
       "    </tr>\n",
       "    <tr>\n",
       "      <th>3</th>\n",
       "      <td>0.07</td>\n",
       "      <td>0.25</td>\n",
       "      <td>0.10</td>\n",
       "      <td>0.56</td>\n",
       "      <td>0.77</td>\n",
       "      <td>0.58</td>\n",
       "      <td>0.61</td>\n",
       "      <td>0.15</td>\n",
       "    </tr>\n",
       "    <tr>\n",
       "      <th>4</th>\n",
       "      <td>0.11</td>\n",
       "      <td>0.02</td>\n",
       "      <td>0.71</td>\n",
       "      <td>0.62</td>\n",
       "      <td>0.55</td>\n",
       "      <td>0.69</td>\n",
       "      <td>0.82</td>\n",
       "      <td>0.11</td>\n",
       "    </tr>\n",
       "  </tbody>\n",
       "</table></div>"
      ],
      "text/plain": [
       "     0    1    2    3    4    5    6    7\n",
       "0 0.21 0.18 0.68 0.60 0.69 0.63 0.63 0.26\n",
       "1 0.06 0.01 0.46 0.31 0.41 0.31 0.40 0.06\n",
       "2 0.24 0.09 0.46 0.32 0.81 0.30 0.47 0.25\n",
       "3 0.07 0.25 0.10 0.56 0.77 0.58 0.61 0.15\n",
       "4 0.11 0.02 0.71 0.62 0.55 0.69 0.82 0.11"
      ]
     },
     "execution_count": 56,
     "metadata": {},
     "output_type": "execute_result"
    }
   ],
   "source": [
    "df_g.head()"
   ]
  },
  {
   "cell_type": "code",
   "execution_count": 57,
   "metadata": {},
   "outputs": [],
   "source": [
    "df_g.columns = df_n.columns"
   ]
  },
  {
   "cell_type": "code",
   "execution_count": 58,
   "metadata": {},
   "outputs": [
    {
     "data": {
      "text/html": [
       "<div><div id=e3d583dc-89e0-41a2-ac84-92d788fc9a31 style=\"display:none; background-color:#9D6CFF; color:white; width:200px; height:30px; padding-left:5px; border-radius:4px; flex-direction:row; justify-content:space-around; align-items:center;\" onmouseover=\"this.style.backgroundColor='#BA9BF8'\" onmouseout=\"this.style.backgroundColor='#9D6CFF'\" onclick=\"window.commands?.execute('create-mitosheet-from-dataframe-output');\">See Full Dataframe in Mito</div> <script> if (window.commands.hasCommand('create-mitosheet-from-dataframe-output')) document.getElementById('e3d583dc-89e0-41a2-ac84-92d788fc9a31').style.display = 'flex' </script> <table border=\"1\" class=\"dataframe\">\n",
       "  <thead>\n",
       "    <tr style=\"text-align: right;\">\n",
       "      <th></th>\n",
       "      <th>registered</th>\n",
       "      <th>casual</th>\n",
       "      <th>hr</th>\n",
       "      <th>atemp</th>\n",
       "      <th>instant</th>\n",
       "      <th>temp</th>\n",
       "      <th>hum</th>\n",
       "      <th>cnt</th>\n",
       "    </tr>\n",
       "  </thead>\n",
       "  <tbody>\n",
       "    <tr>\n",
       "      <th>0</th>\n",
       "      <td>0.21</td>\n",
       "      <td>0.18</td>\n",
       "      <td>0.68</td>\n",
       "      <td>0.60</td>\n",
       "      <td>0.69</td>\n",
       "      <td>0.63</td>\n",
       "      <td>0.63</td>\n",
       "      <td>0.26</td>\n",
       "    </tr>\n",
       "    <tr>\n",
       "      <th>1</th>\n",
       "      <td>0.06</td>\n",
       "      <td>0.01</td>\n",
       "      <td>0.46</td>\n",
       "      <td>0.31</td>\n",
       "      <td>0.41</td>\n",
       "      <td>0.31</td>\n",
       "      <td>0.40</td>\n",
       "      <td>0.06</td>\n",
       "    </tr>\n",
       "    <tr>\n",
       "      <th>2</th>\n",
       "      <td>0.24</td>\n",
       "      <td>0.09</td>\n",
       "      <td>0.46</td>\n",
       "      <td>0.32</td>\n",
       "      <td>0.81</td>\n",
       "      <td>0.30</td>\n",
       "      <td>0.47</td>\n",
       "      <td>0.25</td>\n",
       "    </tr>\n",
       "    <tr>\n",
       "      <th>3</th>\n",
       "      <td>0.07</td>\n",
       "      <td>0.25</td>\n",
       "      <td>0.10</td>\n",
       "      <td>0.56</td>\n",
       "      <td>0.77</td>\n",
       "      <td>0.58</td>\n",
       "      <td>0.61</td>\n",
       "      <td>0.15</td>\n",
       "    </tr>\n",
       "    <tr>\n",
       "      <th>4</th>\n",
       "      <td>0.11</td>\n",
       "      <td>0.02</td>\n",
       "      <td>0.71</td>\n",
       "      <td>0.62</td>\n",
       "      <td>0.55</td>\n",
       "      <td>0.69</td>\n",
       "      <td>0.82</td>\n",
       "      <td>0.11</td>\n",
       "    </tr>\n",
       "  </tbody>\n",
       "</table></div>"
      ],
      "text/plain": [
       "   registered  casual   hr  atemp  instant  temp  hum  cnt\n",
       "0        0.21    0.18 0.68   0.60     0.69  0.63 0.63 0.26\n",
       "1        0.06    0.01 0.46   0.31     0.41  0.31 0.40 0.06\n",
       "2        0.24    0.09 0.46   0.32     0.81  0.30 0.47 0.25\n",
       "3        0.07    0.25 0.10   0.56     0.77  0.58 0.61 0.15\n",
       "4        0.11    0.02 0.71   0.62     0.55  0.69 0.82 0.11"
      ]
     },
     "execution_count": 58,
     "metadata": {},
     "output_type": "execute_result"
    }
   ],
   "source": [
    "df_g.head()"
   ]
  },
  {
   "cell_type": "code",
   "execution_count": 59,
   "metadata": {},
   "outputs": [
    {
     "data": {
      "text/plain": [
       "<AxesSubplot:ylabel='Density'>"
      ]
     },
     "execution_count": 59,
     "metadata": {},
     "output_type": "execute_result"
    },
    {
     "data": {
      "image/png": "[encoded data removed]",
      "text/plain": [
       "<Figure size 432x288 with 1 Axes>"
      ]
     },
     "metadata": {
      "needs_background": "light"
     },
     "output_type": "display_data"
    }
   ],
   "source": [
    "sns.distplot(df_g)"
   ]
  },
  {
   "cell_type": "code",
   "execution_count": 60,
   "metadata": {},
   "outputs": [
    {
     "data": {
      "text/html": [
       "<div><div id=e5358b7e-d45b-4c84-8653-dbf31c118dcc style=\"display:none; background-color:#9D6CFF; color:white; width:200px; height:30px; padding-left:5px; border-radius:4px; flex-direction:row; justify-content:space-around; align-items:center;\" onmouseover=\"this.style.backgroundColor='#BA9BF8'\" onmouseout=\"this.style.backgroundColor='#9D6CFF'\" onclick=\"window.commands?.execute('create-mitosheet-from-dataframe-output');\">See Full Dataframe in Mito</div> <script> if (window.commands.hasCommand('create-mitosheet-from-dataframe-output')) document.getElementById('e5358b7e-d45b-4c84-8653-dbf31c118dcc').style.display = 'flex' </script> <table border=\"1\" class=\"dataframe\">\n",
       "  <thead>\n",
       "    <tr style=\"text-align: right;\">\n",
       "      <th></th>\n",
       "      <th>registered</th>\n",
       "      <th>casual</th>\n",
       "      <th>hr</th>\n",
       "      <th>atemp</th>\n",
       "      <th>instant</th>\n",
       "      <th>temp</th>\n",
       "      <th>hum</th>\n",
       "      <th>cnt</th>\n",
       "    </tr>\n",
       "  </thead>\n",
       "  <tbody>\n",
       "    <tr>\n",
       "      <th>count</th>\n",
       "      <td>17379.00</td>\n",
       "      <td>17379.00</td>\n",
       "      <td>17379.00</td>\n",
       "      <td>17379.00</td>\n",
       "      <td>17379.00</td>\n",
       "      <td>17379.00</td>\n",
       "      <td>17379.00</td>\n",
       "      <td>17379.00</td>\n",
       "    </tr>\n",
       "    <tr>\n",
       "      <th>mean</th>\n",
       "      <td>0.17</td>\n",
       "      <td>0.10</td>\n",
       "      <td>0.50</td>\n",
       "      <td>0.48</td>\n",
       "      <td>0.50</td>\n",
       "      <td>0.49</td>\n",
       "      <td>0.63</td>\n",
       "      <td>0.19</td>\n",
       "    </tr>\n",
       "    <tr>\n",
       "      <th>std</th>\n",
       "      <td>0.17</td>\n",
       "      <td>0.13</td>\n",
       "      <td>0.30</td>\n",
       "      <td>0.17</td>\n",
       "      <td>0.29</td>\n",
       "      <td>0.20</td>\n",
       "      <td>0.19</td>\n",
       "      <td>0.19</td>\n",
       "    </tr>\n",
       "    <tr>\n",
       "      <th>min</th>\n",
       "      <td>0.00</td>\n",
       "      <td>0.00</td>\n",
       "      <td>0.00</td>\n",
       "      <td>0.00</td>\n",
       "      <td>0.00</td>\n",
       "      <td>0.00</td>\n",
       "      <td>0.00</td>\n",
       "      <td>0.00</td>\n",
       "    </tr>\n",
       "    <tr>\n",
       "      <th>25%</th>\n",
       "      <td>0.04</td>\n",
       "      <td>0.01</td>\n",
       "      <td>0.26</td>\n",
       "      <td>0.33</td>\n",
       "      <td>0.25</td>\n",
       "      <td>0.33</td>\n",
       "      <td>0.48</td>\n",
       "      <td>0.04</td>\n",
       "    </tr>\n",
       "    <tr>\n",
       "      <th>50%</th>\n",
       "      <td>0.13</td>\n",
       "      <td>0.05</td>\n",
       "      <td>0.52</td>\n",
       "      <td>0.48</td>\n",
       "      <td>0.50</td>\n",
       "      <td>0.49</td>\n",
       "      <td>0.63</td>\n",
       "      <td>0.14</td>\n",
       "    </tr>\n",
       "    <tr>\n",
       "      <th>75%</th>\n",
       "      <td>0.25</td>\n",
       "      <td>0.13</td>\n",
       "      <td>0.78</td>\n",
       "      <td>0.62</td>\n",
       "      <td>0.75</td>\n",
       "      <td>0.65</td>\n",
       "      <td>0.78</td>\n",
       "      <td>0.29</td>\n",
       "    </tr>\n",
       "    <tr>\n",
       "      <th>max</th>\n",
       "      <td>1.00</td>\n",
       "      <td>1.00</td>\n",
       "      <td>1.00</td>\n",
       "      <td>1.00</td>\n",
       "      <td>1.00</td>\n",
       "      <td>1.00</td>\n",
       "      <td>1.00</td>\n",
       "      <td>1.00</td>\n",
       "    </tr>\n",
       "  </tbody>\n",
       "</table></div>"
      ],
      "text/plain": [
       "       registered   casual       hr    atemp  instant     temp      hum  \\\n",
       "count    17379.00 17379.00 17379.00 17379.00 17379.00 17379.00 17379.00   \n",
       "mean         0.17     0.10     0.50     0.48     0.50     0.49     0.63   \n",
       "std          0.17     0.13     0.30     0.17     0.29     0.20     0.19   \n",
       "min          0.00     0.00     0.00     0.00     0.00     0.00     0.00   \n",
       "25%          0.04     0.01     0.26     0.33     0.25     0.33     0.48   \n",
       "50%          0.13     0.05     0.52     0.48     0.50     0.49     0.63   \n",
       "75%          0.25     0.13     0.78     0.62     0.75     0.65     0.78   \n",
       "max          1.00     1.00     1.00     1.00     1.00     1.00     1.00   \n",
       "\n",
       "           cnt  \n",
       "count 17379.00  \n",
       "mean      0.19  \n",
       "std       0.19  \n",
       "min       0.00  \n",
       "25%       0.04  \n",
       "50%       0.14  \n",
       "75%       0.29  \n",
       "max       1.00  "
      ]
     },
     "execution_count": 60,
     "metadata": {},
     "output_type": "execute_result"
    }
   ],
   "source": [
    "df_n.describe()"
   ]
  },
  {
   "cell_type": "code",
   "execution_count": 61,
   "metadata": {},
   "outputs": [
    {
     "data": {
      "text/html": [
       "<div><div id=b37dd1d2-93f3-4be7-81ca-38797e2af444 style=\"display:none; background-color:#9D6CFF; color:white; width:200px; height:30px; padding-left:5px; border-radius:4px; flex-direction:row; justify-content:space-around; align-items:center;\" onmouseover=\"this.style.backgroundColor='#BA9BF8'\" onmouseout=\"this.style.backgroundColor='#9D6CFF'\" onclick=\"window.commands?.execute('create-mitosheet-from-dataframe-output');\">See Full Dataframe in Mito</div> <script> if (window.commands.hasCommand('create-mitosheet-from-dataframe-output')) document.getElementById('b37dd1d2-93f3-4be7-81ca-38797e2af444').style.display = 'flex' </script> <table border=\"1\" class=\"dataframe\">\n",
       "  <thead>\n",
       "    <tr style=\"text-align: right;\">\n",
       "      <th></th>\n",
       "      <th>registered</th>\n",
       "      <th>casual</th>\n",
       "      <th>hr</th>\n",
       "      <th>atemp</th>\n",
       "      <th>instant</th>\n",
       "      <th>temp</th>\n",
       "      <th>hum</th>\n",
       "      <th>cnt</th>\n",
       "    </tr>\n",
       "  </thead>\n",
       "  <tbody>\n",
       "    <tr>\n",
       "      <th>count</th>\n",
       "      <td>17379.00</td>\n",
       "      <td>17379.00</td>\n",
       "      <td>17379.00</td>\n",
       "      <td>17379.00</td>\n",
       "      <td>17379.00</td>\n",
       "      <td>17379.00</td>\n",
       "      <td>17379.00</td>\n",
       "      <td>17379.00</td>\n",
       "    </tr>\n",
       "    <tr>\n",
       "      <th>mean</th>\n",
       "      <td>0.18</td>\n",
       "      <td>0.10</td>\n",
       "      <td>0.50</td>\n",
       "      <td>0.48</td>\n",
       "      <td>0.50</td>\n",
       "      <td>0.49</td>\n",
       "      <td>0.62</td>\n",
       "      <td>0.19</td>\n",
       "    </tr>\n",
       "    <tr>\n",
       "      <th>std</th>\n",
       "      <td>0.17</td>\n",
       "      <td>0.14</td>\n",
       "      <td>0.30</td>\n",
       "      <td>0.17</td>\n",
       "      <td>0.29</td>\n",
       "      <td>0.20</td>\n",
       "      <td>0.19</td>\n",
       "      <td>0.19</td>\n",
       "    </tr>\n",
       "    <tr>\n",
       "      <th>min</th>\n",
       "      <td>-0.53</td>\n",
       "      <td>-0.42</td>\n",
       "      <td>-0.62</td>\n",
       "      <td>-0.29</td>\n",
       "      <td>-0.94</td>\n",
       "      <td>-0.40</td>\n",
       "      <td>-0.14</td>\n",
       "      <td>-0.51</td>\n",
       "    </tr>\n",
       "    <tr>\n",
       "      <th>25%</th>\n",
       "      <td>0.06</td>\n",
       "      <td>0.01</td>\n",
       "      <td>0.30</td>\n",
       "      <td>0.36</td>\n",
       "      <td>0.31</td>\n",
       "      <td>0.36</td>\n",
       "      <td>0.49</td>\n",
       "      <td>0.07</td>\n",
       "    </tr>\n",
       "    <tr>\n",
       "      <th>50%</th>\n",
       "      <td>0.18</td>\n",
       "      <td>0.10</td>\n",
       "      <td>0.50</td>\n",
       "      <td>0.48</td>\n",
       "      <td>0.50</td>\n",
       "      <td>0.49</td>\n",
       "      <td>0.62</td>\n",
       "      <td>0.20</td>\n",
       "    </tr>\n",
       "    <tr>\n",
       "      <th>75%</th>\n",
       "      <td>0.29</td>\n",
       "      <td>0.19</td>\n",
       "      <td>0.71</td>\n",
       "      <td>0.59</td>\n",
       "      <td>0.70</td>\n",
       "      <td>0.62</td>\n",
       "      <td>0.76</td>\n",
       "      <td>0.32</td>\n",
       "    </tr>\n",
       "    <tr>\n",
       "      <th>max</th>\n",
       "      <td>0.90</td>\n",
       "      <td>0.68</td>\n",
       "      <td>1.65</td>\n",
       "      <td>1.13</td>\n",
       "      <td>1.60</td>\n",
       "      <td>1.23</td>\n",
       "      <td>1.37</td>\n",
       "      <td>0.95</td>\n",
       "    </tr>\n",
       "  </tbody>\n",
       "</table></div>"
      ],
      "text/plain": [
       "       registered   casual       hr    atemp  instant     temp      hum  \\\n",
       "count    17379.00 17379.00 17379.00 17379.00 17379.00 17379.00 17379.00   \n",
       "mean         0.18     0.10     0.50     0.48     0.50     0.49     0.62   \n",
       "std          0.17     0.14     0.30     0.17     0.29     0.20     0.19   \n",
       "min         -0.53    -0.42    -0.62    -0.29    -0.94    -0.40    -0.14   \n",
       "25%          0.06     0.01     0.30     0.36     0.31     0.36     0.49   \n",
       "50%          0.18     0.10     0.50     0.48     0.50     0.49     0.62   \n",
       "75%          0.29     0.19     0.71     0.59     0.70     0.62     0.76   \n",
       "max          0.90     0.68     1.65     1.13     1.60     1.23     1.37   \n",
       "\n",
       "           cnt  \n",
       "count 17379.00  \n",
       "mean      0.19  \n",
       "std       0.19  \n",
       "min      -0.51  \n",
       "25%       0.07  \n",
       "50%       0.20  \n",
       "75%       0.32  \n",
       "max       0.95  "
      ]
     },
     "execution_count": 61,
     "metadata": {},
     "output_type": "execute_result"
    }
   ],
   "source": [
    "df_g.describe()"
   ]
  },
  {
   "cell_type": "markdown",
   "metadata": {},
   "source": [
    "# Finding probabbilties of all columns and joint probabilty on generated data set"
   ]
  },
  {
   "cell_type": "markdown",
   "metadata": {},
   "source": [
    "#### Findining probabilities of all columns"
   ]
  },
  {
   "cell_type": "code",
   "execution_count": 62,
   "metadata": {},
   "outputs": [
    {
     "name": "stdout",
     "output_type": "stream",
     "text": [
      "done\n"
     ]
    },
    {
     "data": {
      "text/plain": [
       "array([0.])"
      ]
     },
     "execution_count": 62,
     "metadata": {},
     "output_type": "execute_result"
    }
   ],
   "source": [
    "df_g_prob=df_g.copy()\n",
    "\n",
    "def f1(b):\n",
    "    \n",
    "    k=df_g[df_g[i] == b].shape[0]\n",
    "    return(k/len(df_g))\n",
    "\n",
    "for i in df_g.columns:\n",
    "    # print(i)\n",
    "    \n",
    "    df_g_prob['prob_'+i] = df_g[i].apply(f1)\n",
    "\n",
    "df_g_prob.head()\n",
    "\n",
    "\n",
    "\n",
    "### Joint probability\n",
    "df_g.columns\n",
    "\n",
    "def f1(a):\n",
    "    \n",
    "    k=df_n[ (df_n[col[0]] == a[col[0]]) & (df_n[col[1]] == a[col[1]]) & (df_n[col[2]] == a[col[2]]) \n",
    "        & (df_n[col[3]] == a[col[3]]) & (df_n[col[4]] == a[col[4]]) & (df_n[col[5]] == a[col[5]])  \n",
    "        & (df_n[col[6]] == a[col[6]]) & (df_n[col[7]] == a[col[7]]) ].shape[0]\n",
    "   \n",
    "    \n",
    "    return(k/len(df_g))\n",
    "    \n",
    "\n",
    "df_g_prob['prob_joint'] = df_g.apply(f1,axis=1)\n",
    "\n",
    "print('done')\n",
    "\n",
    "# df_g\n",
    "df_g_prob.head()\n",
    "df_g_prob.prob_joint.unique()"
   ]
  },
  {
   "cell_type": "markdown",
   "metadata": {},
   "source": [
    "#### This shows that all the rows in dataset are unique and hence the ombined joint probability is same for all rows"
   ]
  },
  {
   "cell_type": "markdown",
   "metadata": {},
   "source": [
    "## Use model on new generated dataset"
   ]
  },
  {
   "cell_type": "markdown",
   "metadata": {},
   "source": [
    "### Again creating smaller smaple dataset for running lazy predic models on generated dataste"
   ]
  },
  {
   "cell_type": "code",
   "execution_count": 63,
   "metadata": {},
   "outputs": [
    {
     "name": "stdout",
     "output_type": "stream",
     "text": [
      "(1738, 8)\n"
     ]
    }
   ],
   "source": [
    "df_gp=df_g.sample(frac =.1)\n",
    "print(df_gp.shape)"
   ]
  },
  {
   "cell_type": "code",
   "execution_count": 65,
   "metadata": {},
   "outputs": [
    {
     "name": "stderr",
     "output_type": "stream",
     "text": [
      " 12%|█▏        | 5/42 [00:00<00:01, 21.13it/s]"
     ]
    },
    {
     "name": "stdout",
     "output_type": "stream",
     "text": [
      "{'Model': 'AdaBoostRegressor', 'R-Squared': 0.9834687021119879, 'Adjusted R-Squared': 0.9827715991889995, 'RMSE': 0.023933278932268993, 'Time taken': 0.16659212112426758}\n",
      "{'Model': 'BaggingRegressor', 'R-Squared': 0.9957721136962596, 'Adjusted R-Squared': 0.9955938293340537, 'RMSE': 0.012103483329132976, 'Time taken': 0.06667542457580566}\n",
      "{'Model': 'BayesianRidge', 'R-Squared': 0.9999999999999993, 'Adjusted R-Squared': 0.9999999999999993, 'RMSE': 4.947960020222331e-09, 'Time taken': 0.010067224502563477}\n",
      "{'Model': 'DecisionTreeRegressor', 'R-Squared': 0.9901704481254114, 'Adjusted R-Squared': 0.989755948949977, 'RMSE': 0.018455065289034803, 'Time taken': 0.018050670623779297}\n",
      "{'Model': 'DummyRegressor', 'R-Squared': -0.0009756042863389158, 'Adjusted R-Squared': -0.04318541892491945, 'RMSE': 0.18623464394825073, 'Time taken': 0.009997129440307617}\n",
      "{'Model': 'ElasticNet', 'R-Squared': -0.0009756042863389158, 'Adjusted R-Squared': -0.04318541892491945, 'RMSE': 0.18623464394825073, 'Time taken': 0.007998466491699219}\n",
      "{'Model': 'ElasticNetCV', 'R-Squared': 0.9999984546542167, 'Adjusted R-Squared': 0.9999983894890331, 'RMSE': 0.000231399044969258, 'Time taken': 0.04354238510131836}\n",
      "{'Model': 'ExtraTreeRegressor', 'R-Squared': 0.9847932673292642, 'Adjusted R-Squared': 0.9841520195660404, 'RMSE': 0.022954438941789772, 'Time taken': 0.010198116302490234}\n"
     ]
    },
    {
     "name": "stderr",
     "output_type": "stream",
     "text": [
      " 21%|██▏       | 9/42 [00:00<00:02, 13.56it/s]"
     ]
    },
    {
     "name": "stdout",
     "output_type": "stream",
     "text": [
      "{'Model': 'ExtraTreesRegressor', 'R-Squared': 0.9984437588199231, 'Adjusted R-Squared': 0.9983781341918475, 'RMSE': 0.007343230793018089, 'Time taken': 0.3203589916229248}\n",
      "GammaRegressor model failed to execute\n",
      "Some value(s) of y are out of the valid range for family GammaDistribution\n"
     ]
    },
    {
     "name": "stderr",
     "output_type": "stream",
     "text": [
      " 26%|██▌       | 11/42 [00:01<00:06,  5.14it/s]"
     ]
    },
    {
     "name": "stdout",
     "output_type": "stream",
     "text": [
      "{'Model': 'GaussianProcessRegressor', 'R-Squared': 0.9373333994154627, 'Adjusted R-Squared': 0.9346908319209339, 'RMSE': 0.046597948252791815, 'Time taken': 0.999908447265625}\n",
      "{'Model': 'GradientBoostingRegressor', 'R-Squared': 0.9983279577791142, 'Adjusted R-Squared': 0.9982574499746191, 'RMSE': 0.007611536709898591, 'Time taken': 0.25177550315856934}\n"
     ]
    },
    {
     "name": "stderr",
     "output_type": "stream",
     "text": [
      " 31%|███       | 13/42 [00:02<00:07,  3.83it/s]"
     ]
    },
    {
     "name": "stdout",
     "output_type": "stream",
     "text": [
      "{'Model': 'HistGradientBoostingRegressor', 'R-Squared': 0.9936426643674773, 'Adjusted R-Squared': 0.9933745839492384, 'RMSE': 0.014841790489013238, 'Time taken': 0.5990910530090332}\n",
      "{'Model': 'HuberRegressor', 'R-Squared': 0.9999999999999993, 'Adjusted R-Squared': 0.9999999999999993, 'RMSE': 4.941607640304565e-09, 'Time taken': 0.07613062858581543}\n",
      "{'Model': 'KNeighborsRegressor', 'R-Squared': 0.9500578194830513, 'Adjusted R-Squared': 0.9479518239190836, 'RMSE': 0.04159896032381776, 'Time taken': 0.019501686096191406}\n"
     ]
    },
    {
     "name": "stderr",
     "output_type": "stream",
     "text": [
      " 52%|█████▏    | 22/42 [00:03<00:02,  7.24it/s]"
     ]
    },
    {
     "name": "stdout",
     "output_type": "stream",
     "text": [
      "{'Model': 'KernelRidge', 'R-Squared': -0.039725300469494185, 'Adjusted R-Squared': -0.08356913844109948, 'RMSE': 0.18980516771466743, 'Time taken': 0.7380819320678711}\n",
      "{'Model': 'Lars', 'R-Squared': 0.9999999999999993, 'Adjusted R-Squared': 0.9999999999999993, 'RMSE': 4.941612038520084e-09, 'Time taken': 0.00944375991821289}\n",
      "{'Model': 'LarsCV', 'R-Squared': 0.9999999999999993, 'Adjusted R-Squared': 0.9999999999999993, 'RMSE': 4.941612038520084e-09, 'Time taken': 0.01418304443359375}\n",
      "{'Model': 'Lasso', 'R-Squared': -0.0009756042863389158, 'Adjusted R-Squared': -0.04318541892491945, 'RMSE': 0.18623464394825073, 'Time taken': 0.00892496109008789}\n",
      "{'Model': 'LassoCV', 'R-Squared': 0.9999987669229499, 'Adjusted R-Squared': 0.9999987149257249, 'RMSE': 0.00020670159786602516, 'Time taken': 0.053288936614990234}\n",
      "{'Model': 'LassoLars', 'R-Squared': -0.0009756042863389158, 'Adjusted R-Squared': -0.04318541892491945, 'RMSE': 0.18623464394825073, 'Time taken': 0.010066747665405273}\n",
      "{'Model': 'LassoLarsCV', 'R-Squared': 0.9999999999999993, 'Adjusted R-Squared': 0.9999999999999993, 'RMSE': 4.941612038520084e-09, 'Time taken': 0.016242027282714844}\n",
      "{'Model': 'LassoLarsIC', 'R-Squared': 0.9999999999999993, 'Adjusted R-Squared': 0.9999999999999993, 'RMSE': 4.941612038520084e-09, 'Time taken': 0.014981985092163086}\n",
      "{'Model': 'LinearRegression', 'R-Squared': 0.9999999999999993, 'Adjusted R-Squared': 0.9999999999999993, 'RMSE': 4.944350482572259e-09, 'Time taken': 0.009014606475830078}\n",
      "{'Model': 'LinearSVR', 'R-Squared': 0.9999999999999977, 'Adjusted R-Squared': 0.9999999999999976, 'RMSE': 8.900360844436594e-09, 'Time taken': 0.011993885040283203}\n"
     ]
    },
    {
     "name": "stderr",
     "output_type": "stream",
     "text": [
      " 62%|██████▏   | 26/42 [00:03<00:01,  8.82it/s]"
     ]
    },
    {
     "name": "stdout",
     "output_type": "stream",
     "text": [
      "{'Model': 'MLPRegressor', 'R-Squared': 0.929744290513342, 'Adjusted R-Squared': 0.926781700354266, 'RMSE': 0.04933890859611414, 'Time taken': 0.21555733680725098}\n"
     ]
    },
    {
     "name": "stderr",
     "output_type": "stream",
     "text": [
      " 67%|██████▋   | 28/42 [00:05<00:04,  3.37it/s]"
     ]
    },
    {
     "name": "stdout",
     "output_type": "stream",
     "text": [
      "{'Model': 'NuSVR', 'R-Squared': 0.9972657987766463, 'Adjusted R-Squared': 0.9971505011346977, 'RMSE': 0.009733386368343956, 'Time taken': 2.1353847980499268}\n",
      "{'Model': 'OrthogonalMatchingPursuit', 'R-Squared': 0.946875803436811, 'Adjusted R-Squared': 0.944635626473303, 'RMSE': 0.042903716471951125, 'Time taken': 0.008002042770385742}\n",
      "{'Model': 'OrthogonalMatchingPursuitCV', 'R-Squared': 0.9999999999999993, 'Adjusted R-Squared': 0.9999999999999993, 'RMSE': 4.929222031195277e-09, 'Time taken': 0.010915040969848633}\n",
      "{'Model': 'PassiveAggressiveRegressor', 'R-Squared': 0.9691646990872247, 'Adjusted R-Squared': 0.9678644153137944, 'RMSE': 0.0326868313251338, 'Time taken': 0.005982875823974609}\n",
      "PoissonRegressor model failed to execute\n",
      "Some value(s) of y are out of the valid range for family PoissonDistribution\n"
     ]
    },
    {
     "name": "stderr",
     "output_type": "stream",
     "text": [
      " 76%|███████▌  | 32/42 [03:15<02:49, 16.98s/it]"
     ]
    },
    {
     "name": "stdout",
     "output_type": "stream",
     "text": [
      "{'Model': 'QuantileRegressor', 'R-Squared': -0.0009581374862528413, 'Adjusted R-Squared': -0.04316721557302272, 'RMSE': 0.18623301906475115, 'Time taken': 189.80428457260132}\n",
      "{'Model': 'RANSACRegressor', 'R-Squared': 0.9999999999999993, 'Adjusted R-Squared': 0.9999999999999993, 'RMSE': 4.944350482572259e-09, 'Time taken': 0.009018659591674805}\n"
     ]
    },
    {
     "name": "stderr",
     "output_type": "stream",
     "text": [
      " 81%|████████  | 34/42 [03:16<01:48, 13.61s/it]"
     ]
    },
    {
     "name": "stdout",
     "output_type": "stream",
     "text": [
      "{'Model': 'RandomForestRegressor', 'R-Squared': 0.9966128948650715, 'Adjusted R-Squared': 0.9964700651304661, 'RMSE': 0.010833357251122172, 'Time taken': 0.5539531707763672}\n",
      "{'Model': 'Ridge', 'R-Squared': 0.999999677032451, 'Adjusted R-Squared': 0.9999996634133375, 'RMSE': 0.00010578599378514867, 'Time taken': 0.008917093276977539}\n",
      "{'Model': 'RidgeCV', 'R-Squared': 0.999999996763257, 'Adjusted R-Squared': 0.9999999966267679, 'RMSE': 1.0590167701937354e-05, 'Time taken': 0.011083841323852539}\n",
      "{'Model': 'SGDRegressor', 'R-Squared': 0.9999998007386985, 'Adjusted R-Squared': 0.9999997923361136, 'RMSE': 8.309219043165743e-05, 'Time taken': 0.007993698120117188}\n",
      "{'Model': 'SVR', 'R-Squared': 0.9445427118710445, 'Adjusted R-Squared': 0.9422041515282573, 'RMSE': 0.0438357095623025, 'Time taken': 0.012000322341918945}\n",
      "{'Model': 'TransformedTargetRegressor', 'R-Squared': 0.9999999999999993, 'Adjusted R-Squared': 0.9999999999999993, 'RMSE': 4.944350482572259e-09, 'Time taken': 0.008920431137084961}\n",
      "{'Model': 'TweedieRegressor', 'R-Squared': 0.848145531826103, 'Adjusted R-Squared': 0.8417420301561194, 'RMSE': 0.07253748838636036, 'Time taken': 0.012996912002563477}\n"
     ]
    },
    {
     "name": "stderr",
     "output_type": "stream",
     "text": [
      "100%|██████████| 42/42 [03:16<00:00,  4.68s/it]"
     ]
    },
    {
     "name": "stdout",
     "output_type": "stream",
     "text": [
      "{'Model': 'XGBRegressor', 'R-Squared': 0.9976592259429589, 'Adjusted R-Squared': 0.9975605186032042, 'RMSE': 0.009005928075504233, 'Time taken': 0.17694616317749023}\n",
      "{'Model': 'LGBMRegressor', 'R-Squared': 0.9934072691832263, 'Adjusted R-Squared': 0.993129262462037, 'RMSE': 0.015114068922305468, 'Time taken': 0.15532231330871582}\n",
      "                               Adjusted R-Squared  R-Squared  RMSE  Time Taken\n",
      "Model                                                                         \n",
      "LassoLarsCV                                  1.00       1.00  0.00        0.02\n",
      "HuberRegressor                               1.00       1.00  0.00        0.08\n",
      "LassoLarsIC                                  1.00       1.00  0.00        0.01\n",
      "OrthogonalMatchingPursuitCV                  1.00       1.00  0.00        0.01\n",
      "LarsCV                                       1.00       1.00  0.00        0.01\n",
      "Lars                                         1.00       1.00  0.00        0.01\n",
      "RANSACRegressor                              1.00       1.00  0.00        0.01\n",
      "LinearRegression                             1.00       1.00  0.00        0.01\n",
      "TransformedTargetRegressor                   1.00       1.00  0.00        0.01\n",
      "BayesianRidge                                1.00       1.00  0.00        0.01\n",
      "LinearSVR                                    1.00       1.00  0.00        0.01\n",
      "RidgeCV                                      1.00       1.00  0.00        0.01\n",
      "SGDRegressor                                 1.00       1.00  0.00        0.01\n",
      "Ridge                                        1.00       1.00  0.00        0.01\n",
      "LassoCV                                      1.00       1.00  0.00        0.05\n",
      "ElasticNetCV                                 1.00       1.00  0.00        0.04\n",
      "ExtraTreesRegressor                          1.00       1.00  0.01        0.32\n",
      "GradientBoostingRegressor                    1.00       1.00  0.01        0.25\n",
      "XGBRegressor                                 1.00       1.00  0.01        0.18\n",
      "NuSVR                                        1.00       1.00  0.01        2.14\n",
      "RandomForestRegressor                        1.00       1.00  0.01        0.55\n",
      "BaggingRegressor                             1.00       1.00  0.01        0.07\n",
      "HistGradientBoostingRegressor                0.99       0.99  0.01        0.60\n",
      "LGBMRegressor                                0.99       0.99  0.02        0.16\n",
      "DecisionTreeRegressor                        0.99       0.99  0.02        0.02\n",
      "ExtraTreeRegressor                           0.98       0.98  0.02        0.01\n",
      "AdaBoostRegressor                            0.98       0.98  0.02        0.17\n",
      "PassiveAggressiveRegressor                   0.97       0.97  0.03        0.01\n",
      "KNeighborsRegressor                          0.95       0.95  0.04        0.02\n",
      "OrthogonalMatchingPursuit                    0.94       0.95  0.04        0.01\n",
      "SVR                                          0.94       0.94  0.04        0.01\n",
      "GaussianProcessRegressor                     0.93       0.94  0.05        1.00\n",
      "MLPRegressor                                 0.93       0.93  0.05        0.22\n",
      "TweedieRegressor                             0.84       0.85  0.07        0.01\n",
      "QuantileRegressor                           -0.04      -0.00  0.19      189.80\n",
      "LassoLars                                   -0.04      -0.00  0.19        0.01\n",
      "Lasso                                       -0.04      -0.00  0.19        0.01\n",
      "ElasticNet                                  -0.04      -0.00  0.19        0.01\n",
      "DummyRegressor                              -0.04      -0.00  0.19        0.01\n",
      "KernelRidge                                 -0.08      -0.04  0.19        0.74\n"
     ]
    },
    {
     "name": "stderr",
     "output_type": "stream",
     "text": [
      "\n"
     ]
    }
   ],
   "source": [
    "X= df_gp.drop(columns='cnt')\n",
    "X\n",
    "y=df_gp['cnt']\n",
    "y\n",
    "offset = int(X.shape[0] * 0.9)\n",
    "\n",
    "### splitting dataset into training and testing part.\n",
    "X_train, y_train = X[:offset], y[:offset]\n",
    "X_test, y_test = X[offset:], y[offset:]\n",
    "\n",
    "reg = LazyRegressor(verbose=10, ignore_warnings=False, custom_metric=None)\n",
    "\n",
    "\n",
    "### fitting data in LazyClassifier\n",
    "models_2, predictions = reg.fit(X_train, X_test, y_train, y_test)\n",
    "print(models_2)"
   ]
  },
  {
   "cell_type": "markdown",
   "metadata": {},
   "source": [
    "# Part 3- Making multivariate gausian based on mean of the modes of columns and corelation matrix"
   ]
  },
  {
   "cell_type": "code",
   "execution_count": 66,
   "metadata": {},
   "outputs": [],
   "source": [
    "random_seed=1000\n",
    "# cov = df_n.cov()\n",
    "\n",
    "cov = df_n.corr()\n",
    "# mean= df_n.mean()\n",
    "\n",
    "mode=df_n.mode().mean()\n",
    "# mode\n",
    "\n",
    "# distr = multivariate_normal(cov = cov, mean = mode,\n",
    "# \t\t\t\t\t\t\t\tseed = random_seed)\n",
    "\n",
    "distr = multivariate_normal(cov = cov, mean = mean,\n",
    "\t\t\t\t\t\t\t\tseed = random_seed,allow_singular=True)\n",
    "\n",
    "\n",
    "data = distr.rvs(size = df_n.shape[0])"
   ]
  },
  {
   "cell_type": "markdown",
   "metadata": {},
   "source": [
    "### Generated data"
   ]
  },
  {
   "cell_type": "code",
   "execution_count": 67,
   "metadata": {},
   "outputs": [],
   "source": [
    "df_g=pd.DataFrame(data)"
   ]
  },
  {
   "cell_type": "code",
   "execution_count": 68,
   "metadata": {},
   "outputs": [
    {
     "data": {
      "text/html": [
       "<div><div id=edd33233-6e6a-4618-8e9f-dc8977411698 style=\"display:none; background-color:#9D6CFF; color:white; width:200px; height:30px; padding-left:5px; border-radius:4px; flex-direction:row; justify-content:space-around; align-items:center;\" onmouseover=\"this.style.backgroundColor='#BA9BF8'\" onmouseout=\"this.style.backgroundColor='#9D6CFF'\" onclick=\"window.commands?.execute('create-mitosheet-from-dataframe-output');\">See Full Dataframe in Mito</div> <script> if (window.commands.hasCommand('create-mitosheet-from-dataframe-output')) document.getElementById('edd33233-6e6a-4618-8e9f-dc8977411698').style.display = 'flex' </script> <table border=\"1\" class=\"dataframe\">\n",
       "  <thead>\n",
       "    <tr style=\"text-align: right;\">\n",
       "      <th></th>\n",
       "      <th>0</th>\n",
       "      <th>1</th>\n",
       "      <th>2</th>\n",
       "      <th>3</th>\n",
       "      <th>4</th>\n",
       "      <th>5</th>\n",
       "      <th>6</th>\n",
       "      <th>7</th>\n",
       "    </tr>\n",
       "  </thead>\n",
       "  <tbody>\n",
       "    <tr>\n",
       "      <th>0</th>\n",
       "      <td>0.79</td>\n",
       "      <td>1.13</td>\n",
       "      <td>0.57</td>\n",
       "      <td>0.79</td>\n",
       "      <td>0.73</td>\n",
       "      <td>0.79</td>\n",
       "      <td>-0.12</td>\n",
       "      <td>0.99</td>\n",
       "    </tr>\n",
       "    <tr>\n",
       "      <th>1</th>\n",
       "      <td>0.27</td>\n",
       "      <td>-0.66</td>\n",
       "      <td>-0.41</td>\n",
       "      <td>0.19</td>\n",
       "      <td>0.18</td>\n",
       "      <td>0.15</td>\n",
       "      <td>1.98</td>\n",
       "      <td>0.07</td>\n",
       "    </tr>\n",
       "    <tr>\n",
       "      <th>2</th>\n",
       "      <td>1.10</td>\n",
       "      <td>-0.04</td>\n",
       "      <td>0.77</td>\n",
       "      <td>-0.17</td>\n",
       "      <td>1.23</td>\n",
       "      <td>-0.11</td>\n",
       "      <td>1.37</td>\n",
       "      <td>0.93</td>\n",
       "    </tr>\n",
       "    <tr>\n",
       "      <th>3</th>\n",
       "      <td>0.13</td>\n",
       "      <td>0.98</td>\n",
       "      <td>1.06</td>\n",
       "      <td>-0.91</td>\n",
       "      <td>-0.44</td>\n",
       "      <td>-0.90</td>\n",
       "      <td>0.50</td>\n",
       "      <td>0.40</td>\n",
       "    </tr>\n",
       "    <tr>\n",
       "      <th>4</th>\n",
       "      <td>0.19</td>\n",
       "      <td>0.40</td>\n",
       "      <td>-0.30</td>\n",
       "      <td>0.98</td>\n",
       "      <td>0.67</td>\n",
       "      <td>0.77</td>\n",
       "      <td>-0.90</td>\n",
       "      <td>0.29</td>\n",
       "    </tr>\n",
       "  </tbody>\n",
       "</table></div>"
      ],
      "text/plain": [
       "     0     1     2     3     4     5     6    7\n",
       "0 0.79  1.13  0.57  0.79  0.73  0.79 -0.12 0.99\n",
       "1 0.27 -0.66 -0.41  0.19  0.18  0.15  1.98 0.07\n",
       "2 1.10 -0.04  0.77 -0.17  1.23 -0.11  1.37 0.93\n",
       "3 0.13  0.98  1.06 -0.91 -0.44 -0.90  0.50 0.40\n",
       "4 0.19  0.40 -0.30  0.98  0.67  0.77 -0.90 0.29"
      ]
     },
     "execution_count": 68,
     "metadata": {},
     "output_type": "execute_result"
    }
   ],
   "source": [
    "df_g.head()"
   ]
  },
  {
   "cell_type": "code",
   "execution_count": 69,
   "metadata": {},
   "outputs": [],
   "source": [
    "df_g.columns = df_n.columns"
   ]
  },
  {
   "cell_type": "code",
   "execution_count": 70,
   "metadata": {},
   "outputs": [
    {
     "data": {
      "text/html": [
       "<div><div id=78c4d96e-3212-41c1-92ca-581977de4f69 style=\"display:none; background-color:#9D6CFF; color:white; width:200px; height:30px; padding-left:5px; border-radius:4px; flex-direction:row; justify-content:space-around; align-items:center;\" onmouseover=\"this.style.backgroundColor='#BA9BF8'\" onmouseout=\"this.style.backgroundColor='#9D6CFF'\" onclick=\"window.commands?.execute('create-mitosheet-from-dataframe-output');\">See Full Dataframe in Mito</div> <script> if (window.commands.hasCommand('create-mitosheet-from-dataframe-output')) document.getElementById('78c4d96e-3212-41c1-92ca-581977de4f69').style.display = 'flex' </script> <table border=\"1\" class=\"dataframe\">\n",
       "  <thead>\n",
       "    <tr style=\"text-align: right;\">\n",
       "      <th></th>\n",
       "      <th>registered</th>\n",
       "      <th>casual</th>\n",
       "      <th>hr</th>\n",
       "      <th>atemp</th>\n",
       "      <th>instant</th>\n",
       "      <th>temp</th>\n",
       "      <th>hum</th>\n",
       "      <th>cnt</th>\n",
       "    </tr>\n",
       "  </thead>\n",
       "  <tbody>\n",
       "    <tr>\n",
       "      <th>0</th>\n",
       "      <td>0.79</td>\n",
       "      <td>1.13</td>\n",
       "      <td>0.57</td>\n",
       "      <td>0.79</td>\n",
       "      <td>0.73</td>\n",
       "      <td>0.79</td>\n",
       "      <td>-0.12</td>\n",
       "      <td>0.99</td>\n",
       "    </tr>\n",
       "    <tr>\n",
       "      <th>1</th>\n",
       "      <td>0.27</td>\n",
       "      <td>-0.66</td>\n",
       "      <td>-0.41</td>\n",
       "      <td>0.19</td>\n",
       "      <td>0.18</td>\n",
       "      <td>0.15</td>\n",
       "      <td>1.98</td>\n",
       "      <td>0.07</td>\n",
       "    </tr>\n",
       "    <tr>\n",
       "      <th>2</th>\n",
       "      <td>1.10</td>\n",
       "      <td>-0.04</td>\n",
       "      <td>0.77</td>\n",
       "      <td>-0.17</td>\n",
       "      <td>1.23</td>\n",
       "      <td>-0.11</td>\n",
       "      <td>1.37</td>\n",
       "      <td>0.93</td>\n",
       "    </tr>\n",
       "    <tr>\n",
       "      <th>3</th>\n",
       "      <td>0.13</td>\n",
       "      <td>0.98</td>\n",
       "      <td>1.06</td>\n",
       "      <td>-0.91</td>\n",
       "      <td>-0.44</td>\n",
       "      <td>-0.90</td>\n",
       "      <td>0.50</td>\n",
       "      <td>0.40</td>\n",
       "    </tr>\n",
       "    <tr>\n",
       "      <th>4</th>\n",
       "      <td>0.19</td>\n",
       "      <td>0.40</td>\n",
       "      <td>-0.30</td>\n",
       "      <td>0.98</td>\n",
       "      <td>0.67</td>\n",
       "      <td>0.77</td>\n",
       "      <td>-0.90</td>\n",
       "      <td>0.29</td>\n",
       "    </tr>\n",
       "  </tbody>\n",
       "</table></div>"
      ],
      "text/plain": [
       "   registered  casual    hr  atemp  instant  temp   hum  cnt\n",
       "0        0.79    1.13  0.57   0.79     0.73  0.79 -0.12 0.99\n",
       "1        0.27   -0.66 -0.41   0.19     0.18  0.15  1.98 0.07\n",
       "2        1.10   -0.04  0.77  -0.17     1.23 -0.11  1.37 0.93\n",
       "3        0.13    0.98  1.06  -0.91    -0.44 -0.90  0.50 0.40\n",
       "4        0.19    0.40 -0.30   0.98     0.67  0.77 -0.90 0.29"
      ]
     },
     "execution_count": 70,
     "metadata": {},
     "output_type": "execute_result"
    }
   ],
   "source": [
    "df_g.head()"
   ]
  },
  {
   "cell_type": "code",
   "execution_count": 71,
   "metadata": {},
   "outputs": [
    {
     "data": {
      "text/plain": [
       "<AxesSubplot:ylabel='Density'>"
      ]
     },
     "execution_count": 71,
     "metadata": {},
     "output_type": "execute_result"
    },
    {
     "data": {
      "image/png": "[encoded data removed]",
      "text/plain": [
       "<Figure size 432x288 with 1 Axes>"
      ]
     },
     "metadata": {
      "needs_background": "light"
     },
     "output_type": "display_data"
    }
   ],
   "source": [
    "sns.distplot(df_g)"
   ]
  },
  {
   "cell_type": "code",
   "execution_count": 72,
   "metadata": {},
   "outputs": [
    {
     "data": {
      "text/html": [
       "<div><div id=de493b7f-8a2a-4062-a585-27ce4de44fd0 style=\"display:none; background-color:#9D6CFF; color:white; width:200px; height:30px; padding-left:5px; border-radius:4px; flex-direction:row; justify-content:space-around; align-items:center;\" onmouseover=\"this.style.backgroundColor='#BA9BF8'\" onmouseout=\"this.style.backgroundColor='#9D6CFF'\" onclick=\"window.commands?.execute('create-mitosheet-from-dataframe-output');\">See Full Dataframe in Mito</div> <script> if (window.commands.hasCommand('create-mitosheet-from-dataframe-output')) document.getElementById('de493b7f-8a2a-4062-a585-27ce4de44fd0').style.display = 'flex' </script> <table border=\"1\" class=\"dataframe\">\n",
       "  <thead>\n",
       "    <tr style=\"text-align: right;\">\n",
       "      <th></th>\n",
       "      <th>registered</th>\n",
       "      <th>casual</th>\n",
       "      <th>hr</th>\n",
       "      <th>atemp</th>\n",
       "      <th>instant</th>\n",
       "      <th>temp</th>\n",
       "      <th>hum</th>\n",
       "      <th>cnt</th>\n",
       "    </tr>\n",
       "  </thead>\n",
       "  <tbody>\n",
       "    <tr>\n",
       "      <th>count</th>\n",
       "      <td>17379.00</td>\n",
       "      <td>17379.00</td>\n",
       "      <td>17379.00</td>\n",
       "      <td>17379.00</td>\n",
       "      <td>17379.00</td>\n",
       "      <td>17379.00</td>\n",
       "      <td>17379.00</td>\n",
       "      <td>17379.00</td>\n",
       "    </tr>\n",
       "    <tr>\n",
       "      <th>mean</th>\n",
       "      <td>0.17</td>\n",
       "      <td>0.10</td>\n",
       "      <td>0.50</td>\n",
       "      <td>0.48</td>\n",
       "      <td>0.50</td>\n",
       "      <td>0.49</td>\n",
       "      <td>0.63</td>\n",
       "      <td>0.19</td>\n",
       "    </tr>\n",
       "    <tr>\n",
       "      <th>std</th>\n",
       "      <td>0.17</td>\n",
       "      <td>0.13</td>\n",
       "      <td>0.30</td>\n",
       "      <td>0.17</td>\n",
       "      <td>0.29</td>\n",
       "      <td>0.20</td>\n",
       "      <td>0.19</td>\n",
       "      <td>0.19</td>\n",
       "    </tr>\n",
       "    <tr>\n",
       "      <th>min</th>\n",
       "      <td>0.00</td>\n",
       "      <td>0.00</td>\n",
       "      <td>0.00</td>\n",
       "      <td>0.00</td>\n",
       "      <td>0.00</td>\n",
       "      <td>0.00</td>\n",
       "      <td>0.00</td>\n",
       "      <td>0.00</td>\n",
       "    </tr>\n",
       "    <tr>\n",
       "      <th>25%</th>\n",
       "      <td>0.04</td>\n",
       "      <td>0.01</td>\n",
       "      <td>0.26</td>\n",
       "      <td>0.33</td>\n",
       "      <td>0.25</td>\n",
       "      <td>0.33</td>\n",
       "      <td>0.48</td>\n",
       "      <td>0.04</td>\n",
       "    </tr>\n",
       "    <tr>\n",
       "      <th>50%</th>\n",
       "      <td>0.13</td>\n",
       "      <td>0.05</td>\n",
       "      <td>0.52</td>\n",
       "      <td>0.48</td>\n",
       "      <td>0.50</td>\n",
       "      <td>0.49</td>\n",
       "      <td>0.63</td>\n",
       "      <td>0.14</td>\n",
       "    </tr>\n",
       "    <tr>\n",
       "      <th>75%</th>\n",
       "      <td>0.25</td>\n",
       "      <td>0.13</td>\n",
       "      <td>0.78</td>\n",
       "      <td>0.62</td>\n",
       "      <td>0.75</td>\n",
       "      <td>0.65</td>\n",
       "      <td>0.78</td>\n",
       "      <td>0.29</td>\n",
       "    </tr>\n",
       "    <tr>\n",
       "      <th>max</th>\n",
       "      <td>1.00</td>\n",
       "      <td>1.00</td>\n",
       "      <td>1.00</td>\n",
       "      <td>1.00</td>\n",
       "      <td>1.00</td>\n",
       "      <td>1.00</td>\n",
       "      <td>1.00</td>\n",
       "      <td>1.00</td>\n",
       "    </tr>\n",
       "  </tbody>\n",
       "</table></div>"
      ],
      "text/plain": [
       "       registered   casual       hr    atemp  instant     temp      hum  \\\n",
       "count    17379.00 17379.00 17379.00 17379.00 17379.00 17379.00 17379.00   \n",
       "mean         0.17     0.10     0.50     0.48     0.50     0.49     0.63   \n",
       "std          0.17     0.13     0.30     0.17     0.29     0.20     0.19   \n",
       "min          0.00     0.00     0.00     0.00     0.00     0.00     0.00   \n",
       "25%          0.04     0.01     0.26     0.33     0.25     0.33     0.48   \n",
       "50%          0.13     0.05     0.52     0.48     0.50     0.49     0.63   \n",
       "75%          0.25     0.13     0.78     0.62     0.75     0.65     0.78   \n",
       "max          1.00     1.00     1.00     1.00     1.00     1.00     1.00   \n",
       "\n",
       "           cnt  \n",
       "count 17379.00  \n",
       "mean      0.19  \n",
       "std       0.19  \n",
       "min       0.00  \n",
       "25%       0.04  \n",
       "50%       0.14  \n",
       "75%       0.29  \n",
       "max       1.00  "
      ]
     },
     "execution_count": 72,
     "metadata": {},
     "output_type": "execute_result"
    }
   ],
   "source": [
    "df_n.describe()"
   ]
  },
  {
   "cell_type": "code",
   "execution_count": 73,
   "metadata": {},
   "outputs": [
    {
     "data": {
      "text/html": [
       "<div><div id=5a552e44-c7e6-486e-9dfb-9309360acf58 style=\"display:none; background-color:#9D6CFF; color:white; width:200px; height:30px; padding-left:5px; border-radius:4px; flex-direction:row; justify-content:space-around; align-items:center;\" onmouseover=\"this.style.backgroundColor='#BA9BF8'\" onmouseout=\"this.style.backgroundColor='#9D6CFF'\" onclick=\"window.commands?.execute('create-mitosheet-from-dataframe-output');\">See Full Dataframe in Mito</div> <script> if (window.commands.hasCommand('create-mitosheet-from-dataframe-output')) document.getElementById('5a552e44-c7e6-486e-9dfb-9309360acf58').style.display = 'flex' </script> <table border=\"1\" class=\"dataframe\">\n",
       "  <thead>\n",
       "    <tr style=\"text-align: right;\">\n",
       "      <th></th>\n",
       "      <th>registered</th>\n",
       "      <th>casual</th>\n",
       "      <th>hr</th>\n",
       "      <th>atemp</th>\n",
       "      <th>instant</th>\n",
       "      <th>temp</th>\n",
       "      <th>hum</th>\n",
       "      <th>cnt</th>\n",
       "    </tr>\n",
       "  </thead>\n",
       "  <tbody>\n",
       "    <tr>\n",
       "      <th>count</th>\n",
       "      <td>17379.00</td>\n",
       "      <td>17379.00</td>\n",
       "      <td>17379.00</td>\n",
       "      <td>17379.00</td>\n",
       "      <td>17379.00</td>\n",
       "      <td>17379.00</td>\n",
       "      <td>17379.00</td>\n",
       "      <td>17379.00</td>\n",
       "    </tr>\n",
       "    <tr>\n",
       "      <th>mean</th>\n",
       "      <td>0.19</td>\n",
       "      <td>0.10</td>\n",
       "      <td>0.51</td>\n",
       "      <td>0.48</td>\n",
       "      <td>0.50</td>\n",
       "      <td>0.49</td>\n",
       "      <td>0.62</td>\n",
       "      <td>0.21</td>\n",
       "    </tr>\n",
       "    <tr>\n",
       "      <th>std</th>\n",
       "      <td>1.01</td>\n",
       "      <td>1.00</td>\n",
       "      <td>1.01</td>\n",
       "      <td>0.99</td>\n",
       "      <td>1.01</td>\n",
       "      <td>1.00</td>\n",
       "      <td>1.01</td>\n",
       "      <td>1.01</td>\n",
       "    </tr>\n",
       "    <tr>\n",
       "      <th>min</th>\n",
       "      <td>-3.63</td>\n",
       "      <td>-3.49</td>\n",
       "      <td>-3.30</td>\n",
       "      <td>-3.12</td>\n",
       "      <td>-3.24</td>\n",
       "      <td>-3.19</td>\n",
       "      <td>-3.15</td>\n",
       "      <td>-3.71</td>\n",
       "    </tr>\n",
       "    <tr>\n",
       "      <th>25%</th>\n",
       "      <td>-0.49</td>\n",
       "      <td>-0.58</td>\n",
       "      <td>-0.18</td>\n",
       "      <td>-0.19</td>\n",
       "      <td>-0.19</td>\n",
       "      <td>-0.18</td>\n",
       "      <td>-0.06</td>\n",
       "      <td>-0.48</td>\n",
       "    </tr>\n",
       "    <tr>\n",
       "      <th>50%</th>\n",
       "      <td>0.19</td>\n",
       "      <td>0.11</td>\n",
       "      <td>0.49</td>\n",
       "      <td>0.48</td>\n",
       "      <td>0.50</td>\n",
       "      <td>0.50</td>\n",
       "      <td>0.62</td>\n",
       "      <td>0.21</td>\n",
       "    </tr>\n",
       "    <tr>\n",
       "      <th>75%</th>\n",
       "      <td>0.87</td>\n",
       "      <td>0.79</td>\n",
       "      <td>1.20</td>\n",
       "      <td>1.16</td>\n",
       "      <td>1.18</td>\n",
       "      <td>1.17</td>\n",
       "      <td>1.30</td>\n",
       "      <td>0.89</td>\n",
       "    </tr>\n",
       "    <tr>\n",
       "      <th>max</th>\n",
       "      <td>4.86</td>\n",
       "      <td>4.14</td>\n",
       "      <td>4.23</td>\n",
       "      <td>4.26</td>\n",
       "      <td>4.77</td>\n",
       "      <td>4.23</td>\n",
       "      <td>4.65</td>\n",
       "      <td>5.00</td>\n",
       "    </tr>\n",
       "  </tbody>\n",
       "</table></div>"
      ],
      "text/plain": [
       "       registered   casual       hr    atemp  instant     temp      hum  \\\n",
       "count    17379.00 17379.00 17379.00 17379.00 17379.00 17379.00 17379.00   \n",
       "mean         0.19     0.10     0.51     0.48     0.50     0.49     0.62   \n",
       "std          1.01     1.00     1.01     0.99     1.01     1.00     1.01   \n",
       "min         -3.63    -3.49    -3.30    -3.12    -3.24    -3.19    -3.15   \n",
       "25%         -0.49    -0.58    -0.18    -0.19    -0.19    -0.18    -0.06   \n",
       "50%          0.19     0.11     0.49     0.48     0.50     0.50     0.62   \n",
       "75%          0.87     0.79     1.20     1.16     1.18     1.17     1.30   \n",
       "max          4.86     4.14     4.23     4.26     4.77     4.23     4.65   \n",
       "\n",
       "           cnt  \n",
       "count 17379.00  \n",
       "mean      0.21  \n",
       "std       1.01  \n",
       "min      -3.71  \n",
       "25%      -0.48  \n",
       "50%       0.21  \n",
       "75%       0.89  \n",
       "max       5.00  "
      ]
     },
     "execution_count": 73,
     "metadata": {},
     "output_type": "execute_result"
    }
   ],
   "source": [
    "df_g.describe()"
   ]
  },
  {
   "cell_type": "markdown",
   "metadata": {},
   "source": [
    "# Finding probabbilties of all columns and joint probabilty on generated data set"
   ]
  },
  {
   "cell_type": "markdown",
   "metadata": {},
   "source": [
    "#### Findining probabilities of all columns"
   ]
  },
  {
   "cell_type": "code",
   "execution_count": 75,
   "metadata": {},
   "outputs": [
    {
     "name": "stdout",
     "output_type": "stream",
     "text": [
      "done\n"
     ]
    },
    {
     "data": {
      "text/plain": [
       "array([0.])"
      ]
     },
     "execution_count": 75,
     "metadata": {},
     "output_type": "execute_result"
    }
   ],
   "source": [
    "df_g_prob=df_g.copy()\n",
    "\n",
    "def f1(b):\n",
    "    \n",
    "    k=df_g[df_g[i] == b].shape[0]\n",
    "    return(k/len(df_g))\n",
    "\n",
    "for i in df_g.columns:\n",
    "    # print(i)\n",
    "    \n",
    "    df_g_prob['prob_'+i] = df_g[i].apply(f1)\n",
    "\n",
    "df_g_prob.head()\n",
    "\n",
    "\n",
    "\n",
    "### Joint probability\n",
    "df_g.columns\n",
    "\n",
    "def f1(a):\n",
    "    \n",
    "    k=df_n[ (df_n[col[0]] == a[col[0]]) & (df_n[col[1]] == a[col[1]]) & (df_n[col[2]] == a[col[2]]) \n",
    "        & (df_n[col[3]] == a[col[3]]) & (df_n[col[4]] == a[col[4]]) & (df_n[col[5]] == a[col[5]])  \n",
    "        & (df_n[col[6]] == a[col[6]]) & (df_n[col[7]] == a[col[7]]) ].shape[0]\n",
    "    \n",
    "    \n",
    "    return(k/len(df_g))\n",
    "    \n",
    "\n",
    "df_g_prob['prob_joint'] = df_g.apply(f1,axis=1)\n",
    "\n",
    "print('done')\n",
    "\n",
    "# df_g\n",
    "df_g_prob.head()\n",
    "df_g_prob.prob_joint.unique()"
   ]
  },
  {
   "cell_type": "markdown",
   "metadata": {},
   "source": [
    "#### This shows that all the rows in dataset are unique and hence the ombined joint probability is same for all rows"
   ]
  },
  {
   "cell_type": "markdown",
   "metadata": {},
   "source": [
    "## Use model on new generated dataset"
   ]
  },
  {
   "cell_type": "markdown",
   "metadata": {},
   "source": [
    "### Again creating smaller smaple dataset for running lazy predic models on generated dataste"
   ]
  },
  {
   "cell_type": "code",
   "execution_count": 76,
   "metadata": {},
   "outputs": [
    {
     "name": "stdout",
     "output_type": "stream",
     "text": [
      "(1738, 8)\n"
     ]
    }
   ],
   "source": [
    "df_gp=df_g.sample(frac =.1)\n",
    "print(df_gp.shape)"
   ]
  },
  {
   "cell_type": "code",
   "execution_count": 77,
   "metadata": {},
   "outputs": [
    {
     "name": "stderr",
     "output_type": "stream",
     "text": [
      " 10%|▉         | 4/42 [00:00<00:03, 12.23it/s]"
     ]
    },
    {
     "name": "stdout",
     "output_type": "stream",
     "text": [
      "{'Model': 'AdaBoostRegressor', 'R-Squared': 0.9717006868505067, 'Adjusted R-Squared': 0.9705073423201064, 'RMSE': 0.17044757693860196, 'Time taken': 0.2811086177825928}\n",
      "{'Model': 'BaggingRegressor', 'R-Squared': 0.997805382761468, 'Adjusted R-Squared': 0.997712838661048, 'RMSE': 0.04746596092571111, 'Time taken': 0.07850766181945801}\n",
      "{'Model': 'BayesianRidge', 'R-Squared': 0.9999999999999981, 'Adjusted R-Squared': 0.999999999999998, 'RMSE': 4.4549412559345185e-08, 'Time taken': 0.00899052619934082}\n",
      "{'Model': 'DecisionTreeRegressor', 'R-Squared': 0.9923375545793244, 'Adjusted R-Squared': 0.9920144394109827, 'RMSE': 0.08869243560046491, 'Time taken': 0.016269683837890625}\n",
      "{'Model': 'DummyRegressor', 'R-Squared': -0.0010533092322670967, 'Adjusted R-Squared': -0.04326640058543507, 'RMSE': 1.0137514469345066, 'Time taken': 0.011933565139770508}\n",
      "{'Model': 'ElasticNet', 'R-Squared': 0.5379245447509353, 'Adjusted R-Squared': 0.5184394351922398, 'RMSE': 0.6887463880196856, 'Time taken': 0.015001058578491211}\n",
      "{'Model': 'ElasticNetCV', 'R-Squared': 0.9999965879756559, 'Adjusted R-Squared': 0.9999964440951113, 'RMSE': 0.001871582366842322, 'Time taken': 0.05963706970214844}\n"
     ]
    },
    {
     "name": "stderr",
     "output_type": "stream",
     "text": [
      " 19%|█▉        | 8/42 [00:00<00:01, 21.09it/s]"
     ]
    },
    {
     "name": "stdout",
     "output_type": "stream",
     "text": [
      "{'Model': 'ExtraTreeRegressor', 'R-Squared': 0.9921806659662882, 'Adjusted R-Squared': 0.9918509350130593, 'RMSE': 0.08959582387005507, 'Time taken': 0.012130022048950195}\n",
      "{'Model': 'ExtraTreesRegressor', 'R-Squared': 0.9995261112342969, 'Adjusted R-Squared': 0.9995061279730926, 'RMSE': 0.022056728166814553, 'Time taken': 0.3519446849822998}\n",
      "GammaRegressor model failed to execute\n",
      "Some value(s) of y are out of the valid range for family GammaDistribution\n"
     ]
    },
    {
     "name": "stderr",
     "output_type": "stream",
     "text": [
      " 26%|██▌       | 11/42 [00:01<00:06,  4.72it/s]"
     ]
    },
    {
     "name": "stdout",
     "output_type": "stream",
     "text": [
      "{'Model': 'GaussianProcessRegressor', 'R-Squared': 0.964808539876133, 'Adjusted R-Squared': 0.9633245626419941, 'RMSE': 0.19007348058689505, 'Time taken': 1.0379531383514404}\n",
      "{'Model': 'GradientBoostingRegressor', 'R-Squared': 0.9985375853088093, 'Adjusted R-Squared': 0.9984759172194217, 'RMSE': 0.0387470064381944, 'Time taken': 0.2716646194458008}\n"
     ]
    },
    {
     "name": "stderr",
     "output_type": "stream",
     "text": [
      " 31%|███       | 13/42 [00:02<00:07,  3.74it/s]"
     ]
    },
    {
     "name": "stdout",
     "output_type": "stream",
     "text": [
      "{'Model': 'HistGradientBoostingRegressor', 'R-Squared': 0.9980567778004126, 'Adjusted R-Squared': 0.9979748346956107, 'RMSE': 0.04466466859087988, 'Time taken': 0.5599439144134521}\n",
      "{'Model': 'HuberRegressor', 'R-Squared': 0.9999999999999981, 'Adjusted R-Squared': 0.999999999999998, 'RMSE': 4.4539390089684104e-08, 'Time taken': 0.0680091381072998}\n",
      "{'Model': 'KNeighborsRegressor', 'R-Squared': 0.9535472006981153, 'Adjusted R-Squared': 0.9515883477155057, 'RMSE': 0.2183779724292219, 'Time taken': 0.016411542892456055}\n"
     ]
    },
    {
     "name": "stderr",
     "output_type": "stream",
     "text": [
      " 52%|█████▏    | 22/42 [00:03<00:02,  7.16it/s]"
     ]
    },
    {
     "name": "stdout",
     "output_type": "stream",
     "text": [
      "{'Model': 'KernelRidge', 'R-Squared': 0.9432501797147904, 'Adjusted R-Squared': 0.9408571150039683, 'RMSE': 0.24137102213421274, 'Time taken': 0.7109498977661133}\n",
      "{'Model': 'Lars', 'R-Squared': 0.9999999999999981, 'Adjusted R-Squared': 0.999999999999998, 'RMSE': 4.433876201204039e-08, 'Time taken': 0.009232521057128906}\n",
      "{'Model': 'LarsCV', 'R-Squared': 0.9999999999999981, 'Adjusted R-Squared': 0.999999999999998, 'RMSE': 4.433876201204039e-08, 'Time taken': 0.01654338836669922}\n",
      "{'Model': 'Lasso', 'R-Squared': -0.0010533092322670967, 'Adjusted R-Squared': -0.04326640058543507, 'RMSE': 1.0137514469345066, 'Time taken': 0.010437250137329102}\n",
      "{'Model': 'LassoCV', 'R-Squared': 0.9999987377550335, 'Adjusted R-Squared': 0.999998684527836, 'RMSE': 0.001138347106684632, 'Time taken': 0.051073551177978516}\n",
      "{'Model': 'LassoLars', 'R-Squared': -0.0010533092322670967, 'Adjusted R-Squared': -0.04326640058543507, 'RMSE': 1.0137514469345066, 'Time taken': 0.009985208511352539}\n",
      "{'Model': 'LassoLarsCV', 'R-Squared': 0.9999999999999981, 'Adjusted R-Squared': 0.999999999999998, 'RMSE': 4.433876201204039e-08, 'Time taken': 0.014001131057739258}\n",
      "{'Model': 'LassoLarsIC', 'R-Squared': 0.9999999999999981, 'Adjusted R-Squared': 0.999999999999998, 'RMSE': 4.433876201204039e-08, 'Time taken': 0.010511159896850586}\n",
      "{'Model': 'LinearRegression', 'R-Squared': 0.9999999999999981, 'Adjusted R-Squared': 0.999999999999998, 'RMSE': 4.4550158764939086e-08, 'Time taken': 0.00837850570678711}\n",
      "{'Model': 'LinearSVR', 'R-Squared': 0.9999999999999925, 'Adjusted R-Squared': 0.9999999999999921, 'RMSE': 8.783840031193595e-08, 'Time taken': 0.006991863250732422}\n"
     ]
    },
    {
     "name": "stderr",
     "output_type": "stream",
     "text": [
      " 62%|██████▏   | 26/42 [00:03<00:01,  8.59it/s]"
     ]
    },
    {
     "name": "stdout",
     "output_type": "stream",
     "text": [
      "{'Model': 'MLPRegressor', 'R-Squared': 0.996733147233073, 'Adjusted R-Squared': 0.9965953883814557, 'RMSE': 0.05791188019389859, 'Time taken': 0.2498002052307129}\n"
     ]
    },
    {
     "name": "stderr",
     "output_type": "stream",
     "text": [
      " 69%|██████▉   | 29/42 [00:04<00:01,  7.14it/s]"
     ]
    },
    {
     "name": "stdout",
     "output_type": "stream",
     "text": [
      "{'Model': 'NuSVR', 'R-Squared': 0.9966897900916294, 'Adjusted R-Squared': 0.9965502029268186, 'RMSE': 0.05829491205143868, 'Time taken': 0.6002357006072998}\n",
      "{'Model': 'OrthogonalMatchingPursuit', 'R-Squared': 0.9506836526213113, 'Adjusted R-Squared': 0.9486040476113665, 'RMSE': 0.22500819499902372, 'Time taken': 0.00902700424194336}\n",
      "{'Model': 'OrthogonalMatchingPursuitCV', 'R-Squared': 0.9999999999999981, 'Adjusted R-Squared': 0.999999999999998, 'RMSE': 4.457326886526861e-08, 'Time taken': 0.012039422988891602}\n",
      "{'Model': 'PassiveAggressiveRegressor', 'R-Squared': 0.999131968312795, 'Adjusted R-Squared': 0.999095364566949, 'RMSE': 0.029851810351919236, 'Time taken': 0.008075475692749023}\n",
      "PoissonRegressor model failed to execute\n",
      "Some value(s) of y are out of the valid range for family PoissonDistribution\n"
     ]
    },
    {
     "name": "stderr",
     "output_type": "stream",
     "text": [
      " 76%|███████▌  | 32/42 [02:53<02:34, 15.40s/it]"
     ]
    },
    {
     "name": "stdout",
     "output_type": "stream",
     "text": [
      "{'Model': 'QuantileRegressor', 'R-Squared': -0.0007843642773348591, 'Adjusted R-Squared': -0.04298611457818646, 'RMSE': 1.0136152595559833, 'Time taken': 169.37913179397583}\n",
      "{'Model': 'RANSACRegressor', 'R-Squared': 0.9999999999999981, 'Adjusted R-Squared': 0.999999999999998, 'RMSE': 4.4550158764939086e-08, 'Time taken': 0.01300358772277832}\n"
     ]
    },
    {
     "name": "stderr",
     "output_type": "stream",
     "text": [
      " 90%|█████████ | 38/42 [02:54<00:31,  7.79s/it]"
     ]
    },
    {
     "name": "stdout",
     "output_type": "stream",
     "text": [
      "{'Model': 'RandomForestRegressor', 'R-Squared': 0.9986820039867935, 'Adjusted R-Squared': 0.9986264258416583, 'RMSE': 0.036784082888323966, 'Time taken': 0.8260331153869629}\n",
      "{'Model': 'Ridge', 'R-Squared': 0.9999996069761373, 'Adjusted R-Squared': 0.9999995904028419, 'RMSE': 0.0006352027126589052, 'Time taken': 0.014100790023803711}\n",
      "{'Model': 'RidgeCV', 'R-Squared': 0.9999999960618129, 'Adjusted R-Squared': 0.9999999958957447, 'RMSE': 6.358446994372535e-05, 'Time taken': 0.012610197067260742}\n",
      "{'Model': 'SGDRegressor', 'R-Squared': 0.9999997912383732, 'Adjusted R-Squared': 0.9999997824351721, 'RMSE': 0.0004629437449668075, 'Time taken': 0.01657271385192871}\n",
      "{'Model': 'SVR', 'R-Squared': 0.9916248237203681, 'Adjusted R-Squared': 0.9912716536362872, 'RMSE': 0.09272564493495403, 'Time taken': 0.08692502975463867}\n",
      "{'Model': 'TransformedTargetRegressor', 'R-Squared': 0.9999999999999981, 'Adjusted R-Squared': 0.999999999999998, 'RMSE': 4.4550158764939086e-08, 'Time taken': 0.015012741088867188}\n",
      "{'Model': 'TweedieRegressor', 'R-Squared': 0.843594470165884, 'Adjusted R-Squared': 0.8369990562572164, 'RMSE': 0.40070885172091986, 'Time taken': 0.014507770538330078}\n"
     ]
    },
    {
     "name": "stderr",
     "output_type": "stream",
     "text": [
      "100%|██████████| 42/42 [02:55<00:00,  4.17s/it]"
     ]
    },
    {
     "name": "stdout",
     "output_type": "stream",
     "text": [
      "{'Model': 'XGBRegressor', 'R-Squared': 0.998064342825515, 'Adjusted R-Squared': 0.9979827187277958, 'RMSE': 0.04457764333090474, 'Time taken': 0.2480027675628662}\n",
      "{'Model': 'LGBMRegressor', 'R-Squared': 0.997923118578182, 'Adjusted R-Squared': 0.9978355392411173, 'RMSE': 0.04617519466523246, 'Time taken': 0.16490602493286133}\n",
      "                               Adjusted R-Squared  R-Squared  RMSE  Time Taken\n",
      "Model                                                                         \n",
      "LassoLarsCV                                  1.00       1.00  0.00        0.01\n",
      "LinearRegression                             1.00       1.00  0.00        0.01\n",
      "OrthogonalMatchingPursuitCV                  1.00       1.00  0.00        0.01\n",
      "LarsCV                                       1.00       1.00  0.00        0.02\n",
      "Lars                                         1.00       1.00  0.00        0.01\n",
      "RANSACRegressor                              1.00       1.00  0.00        0.01\n",
      "HuberRegressor                               1.00       1.00  0.00        0.07\n",
      "LassoLarsIC                                  1.00       1.00  0.00        0.01\n",
      "TransformedTargetRegressor                   1.00       1.00  0.00        0.02\n",
      "BayesianRidge                                1.00       1.00  0.00        0.01\n",
      "LinearSVR                                    1.00       1.00  0.00        0.01\n",
      "RidgeCV                                      1.00       1.00  0.00        0.01\n",
      "SGDRegressor                                 1.00       1.00  0.00        0.02\n",
      "Ridge                                        1.00       1.00  0.00        0.01\n",
      "LassoCV                                      1.00       1.00  0.00        0.05\n",
      "ElasticNetCV                                 1.00       1.00  0.00        0.06\n",
      "ExtraTreesRegressor                          1.00       1.00  0.02        0.35\n",
      "PassiveAggressiveRegressor                   1.00       1.00  0.03        0.01\n",
      "RandomForestRegressor                        1.00       1.00  0.04        0.83\n",
      "GradientBoostingRegressor                    1.00       1.00  0.04        0.27\n",
      "XGBRegressor                                 1.00       1.00  0.04        0.25\n",
      "HistGradientBoostingRegressor                1.00       1.00  0.04        0.56\n",
      "LGBMRegressor                                1.00       1.00  0.05        0.16\n",
      "BaggingRegressor                             1.00       1.00  0.05        0.08\n",
      "MLPRegressor                                 1.00       1.00  0.06        0.25\n",
      "NuSVR                                        1.00       1.00  0.06        0.60\n",
      "DecisionTreeRegressor                        0.99       0.99  0.09        0.02\n",
      "ExtraTreeRegressor                           0.99       0.99  0.09        0.01\n",
      "SVR                                          0.99       0.99  0.09        0.09\n",
      "AdaBoostRegressor                            0.97       0.97  0.17        0.28\n",
      "GaussianProcessRegressor                     0.96       0.96  0.19        1.04\n",
      "KNeighborsRegressor                          0.95       0.95  0.22        0.02\n",
      "OrthogonalMatchingPursuit                    0.95       0.95  0.23        0.01\n",
      "KernelRidge                                  0.94       0.94  0.24        0.71\n",
      "TweedieRegressor                             0.84       0.84  0.40        0.01\n",
      "ElasticNet                                   0.52       0.54  0.69        0.02\n",
      "QuantileRegressor                           -0.04      -0.00  1.01      169.38\n",
      "Lasso                                       -0.04      -0.00  1.01        0.01\n",
      "LassoLars                                   -0.04      -0.00  1.01        0.01\n",
      "DummyRegressor                              -0.04      -0.00  1.01        0.01\n"
     ]
    },
    {
     "name": "stderr",
     "output_type": "stream",
     "text": [
      "\n"
     ]
    }
   ],
   "source": [
    "X= df_gp.drop(columns='cnt')\n",
    "X\n",
    "y=df_gp['cnt']\n",
    "y\n",
    "offset = int(X.shape[0] * 0.9)\n",
    "\n",
    "### splitting dataset into training and testing part.\n",
    "X_train, y_train = X[:offset], y[:offset]\n",
    "X_test, y_test = X[offset:], y[offset:]\n",
    "\n",
    "reg = LazyRegressor(verbose=10, ignore_warnings=False, custom_metric=None)\n",
    "\n",
    "\n",
    "\n",
    "### fitting data in LazyClassifier\n",
    "models_3, predictions = reg.fit(X_train, X_test, y_train, y_test)\n",
    "print(models_3)"
   ]
  },
  {
   "cell_type": "markdown",
   "metadata": {},
   "source": [
    "# Part 4- Making multivariate gausian based on mean  of columns and corelation matrix"
   ]
  },
  {
   "cell_type": "code",
   "execution_count": 78,
   "metadata": {},
   "outputs": [],
   "source": [
    "random_seed=1000\n",
    "# cov = df_n.cov()\n",
    "\n",
    "cov = df_n.corr()\n",
    "mean= df_n.mean()\n",
    "\n",
    "# mode=df_n.mode().mean()\n",
    "# mode\n",
    "\n",
    "# distr = multivariate_normal(cov = cov, mean = mean,\n",
    "# \t\t\t\t\t\t\t\tseed = random_seed)\n",
    "\n",
    "distr = multivariate_normal(cov = cov, mean = mean,\n",
    "\t\t\t\t\t\t\t\tseed = random_seed,allow_singular=True)\n",
    "\n",
    "\n",
    "data = distr.rvs(size = df_n.shape[0])"
   ]
  },
  {
   "cell_type": "markdown",
   "metadata": {},
   "source": [
    "### Generated data"
   ]
  },
  {
   "cell_type": "code",
   "execution_count": 79,
   "metadata": {},
   "outputs": [],
   "source": [
    "df_g=pd.DataFrame(data)"
   ]
  },
  {
   "cell_type": "code",
   "execution_count": 80,
   "metadata": {},
   "outputs": [
    {
     "data": {
      "text/html": [
       "<div><div id=b4134233-d8cd-487f-89ad-1179ab2d6a90 style=\"display:none; background-color:#9D6CFF; color:white; width:200px; height:30px; padding-left:5px; border-radius:4px; flex-direction:row; justify-content:space-around; align-items:center;\" onmouseover=\"this.style.backgroundColor='#BA9BF8'\" onmouseout=\"this.style.backgroundColor='#9D6CFF'\" onclick=\"window.commands?.execute('create-mitosheet-from-dataframe-output');\">See Full Dataframe in Mito</div> <script> if (window.commands.hasCommand('create-mitosheet-from-dataframe-output')) document.getElementById('b4134233-d8cd-487f-89ad-1179ab2d6a90').style.display = 'flex' </script> <table border=\"1\" class=\"dataframe\">\n",
       "  <thead>\n",
       "    <tr style=\"text-align: right;\">\n",
       "      <th></th>\n",
       "      <th>0</th>\n",
       "      <th>1</th>\n",
       "      <th>2</th>\n",
       "      <th>3</th>\n",
       "      <th>4</th>\n",
       "      <th>5</th>\n",
       "      <th>6</th>\n",
       "      <th>7</th>\n",
       "    </tr>\n",
       "  </thead>\n",
       "  <tbody>\n",
       "    <tr>\n",
       "      <th>0</th>\n",
       "      <td>0.79</td>\n",
       "      <td>1.13</td>\n",
       "      <td>0.57</td>\n",
       "      <td>0.79</td>\n",
       "      <td>0.73</td>\n",
       "      <td>0.79</td>\n",
       "      <td>-0.12</td>\n",
       "      <td>0.99</td>\n",
       "    </tr>\n",
       "    <tr>\n",
       "      <th>1</th>\n",
       "      <td>0.27</td>\n",
       "      <td>-0.66</td>\n",
       "      <td>-0.41</td>\n",
       "      <td>0.19</td>\n",
       "      <td>0.18</td>\n",
       "      <td>0.15</td>\n",
       "      <td>1.98</td>\n",
       "      <td>0.07</td>\n",
       "    </tr>\n",
       "    <tr>\n",
       "      <th>2</th>\n",
       "      <td>1.10</td>\n",
       "      <td>-0.04</td>\n",
       "      <td>0.77</td>\n",
       "      <td>-0.17</td>\n",
       "      <td>1.23</td>\n",
       "      <td>-0.11</td>\n",
       "      <td>1.37</td>\n",
       "      <td>0.93</td>\n",
       "    </tr>\n",
       "    <tr>\n",
       "      <th>3</th>\n",
       "      <td>0.13</td>\n",
       "      <td>0.98</td>\n",
       "      <td>1.06</td>\n",
       "      <td>-0.91</td>\n",
       "      <td>-0.44</td>\n",
       "      <td>-0.90</td>\n",
       "      <td>0.50</td>\n",
       "      <td>0.40</td>\n",
       "    </tr>\n",
       "    <tr>\n",
       "      <th>4</th>\n",
       "      <td>0.19</td>\n",
       "      <td>0.40</td>\n",
       "      <td>-0.30</td>\n",
       "      <td>0.98</td>\n",
       "      <td>0.67</td>\n",
       "      <td>0.77</td>\n",
       "      <td>-0.90</td>\n",
       "      <td>0.29</td>\n",
       "    </tr>\n",
       "  </tbody>\n",
       "</table></div>"
      ],
      "text/plain": [
       "     0     1     2     3     4     5     6    7\n",
       "0 0.79  1.13  0.57  0.79  0.73  0.79 -0.12 0.99\n",
       "1 0.27 -0.66 -0.41  0.19  0.18  0.15  1.98 0.07\n",
       "2 1.10 -0.04  0.77 -0.17  1.23 -0.11  1.37 0.93\n",
       "3 0.13  0.98  1.06 -0.91 -0.44 -0.90  0.50 0.40\n",
       "4 0.19  0.40 -0.30  0.98  0.67  0.77 -0.90 0.29"
      ]
     },
     "execution_count": 80,
     "metadata": {},
     "output_type": "execute_result"
    }
   ],
   "source": [
    "df_g.head()"
   ]
  },
  {
   "cell_type": "code",
   "execution_count": 81,
   "metadata": {},
   "outputs": [],
   "source": [
    "df_g.columns = df_n.columns"
   ]
  },
  {
   "cell_type": "code",
   "execution_count": 82,
   "metadata": {},
   "outputs": [
    {
     "data": {
      "text/html": [
       "<div><div id=1a27f098-f623-450e-9ea5-332d5d21c5a2 style=\"display:none; background-color:#9D6CFF; color:white; width:200px; height:30px; padding-left:5px; border-radius:4px; flex-direction:row; justify-content:space-around; align-items:center;\" onmouseover=\"this.style.backgroundColor='#BA9BF8'\" onmouseout=\"this.style.backgroundColor='#9D6CFF'\" onclick=\"window.commands?.execute('create-mitosheet-from-dataframe-output');\">See Full Dataframe in Mito</div> <script> if (window.commands.hasCommand('create-mitosheet-from-dataframe-output')) document.getElementById('1a27f098-f623-450e-9ea5-332d5d21c5a2').style.display = 'flex' </script> <table border=\"1\" class=\"dataframe\">\n",
       "  <thead>\n",
       "    <tr style=\"text-align: right;\">\n",
       "      <th></th>\n",
       "      <th>registered</th>\n",
       "      <th>casual</th>\n",
       "      <th>hr</th>\n",
       "      <th>atemp</th>\n",
       "      <th>instant</th>\n",
       "      <th>temp</th>\n",
       "      <th>hum</th>\n",
       "      <th>cnt</th>\n",
       "    </tr>\n",
       "  </thead>\n",
       "  <tbody>\n",
       "    <tr>\n",
       "      <th>0</th>\n",
       "      <td>0.79</td>\n",
       "      <td>1.13</td>\n",
       "      <td>0.57</td>\n",
       "      <td>0.79</td>\n",
       "      <td>0.73</td>\n",
       "      <td>0.79</td>\n",
       "      <td>-0.12</td>\n",
       "      <td>0.99</td>\n",
       "    </tr>\n",
       "    <tr>\n",
       "      <th>1</th>\n",
       "      <td>0.27</td>\n",
       "      <td>-0.66</td>\n",
       "      <td>-0.41</td>\n",
       "      <td>0.19</td>\n",
       "      <td>0.18</td>\n",
       "      <td>0.15</td>\n",
       "      <td>1.98</td>\n",
       "      <td>0.07</td>\n",
       "    </tr>\n",
       "    <tr>\n",
       "      <th>2</th>\n",
       "      <td>1.10</td>\n",
       "      <td>-0.04</td>\n",
       "      <td>0.77</td>\n",
       "      <td>-0.17</td>\n",
       "      <td>1.23</td>\n",
       "      <td>-0.11</td>\n",
       "      <td>1.37</td>\n",
       "      <td>0.93</td>\n",
       "    </tr>\n",
       "    <tr>\n",
       "      <th>3</th>\n",
       "      <td>0.13</td>\n",
       "      <td>0.98</td>\n",
       "      <td>1.06</td>\n",
       "      <td>-0.91</td>\n",
       "      <td>-0.44</td>\n",
       "      <td>-0.90</td>\n",
       "      <td>0.50</td>\n",
       "      <td>0.40</td>\n",
       "    </tr>\n",
       "    <tr>\n",
       "      <th>4</th>\n",
       "      <td>0.19</td>\n",
       "      <td>0.40</td>\n",
       "      <td>-0.30</td>\n",
       "      <td>0.98</td>\n",
       "      <td>0.67</td>\n",
       "      <td>0.77</td>\n",
       "      <td>-0.90</td>\n",
       "      <td>0.29</td>\n",
       "    </tr>\n",
       "  </tbody>\n",
       "</table></div>"
      ],
      "text/plain": [
       "   registered  casual    hr  atemp  instant  temp   hum  cnt\n",
       "0        0.79    1.13  0.57   0.79     0.73  0.79 -0.12 0.99\n",
       "1        0.27   -0.66 -0.41   0.19     0.18  0.15  1.98 0.07\n",
       "2        1.10   -0.04  0.77  -0.17     1.23 -0.11  1.37 0.93\n",
       "3        0.13    0.98  1.06  -0.91    -0.44 -0.90  0.50 0.40\n",
       "4        0.19    0.40 -0.30   0.98     0.67  0.77 -0.90 0.29"
      ]
     },
     "execution_count": 82,
     "metadata": {},
     "output_type": "execute_result"
    }
   ],
   "source": [
    "df_g.head()"
   ]
  },
  {
   "cell_type": "code",
   "execution_count": 83,
   "metadata": {},
   "outputs": [
    {
     "data": {
      "text/plain": [
       "<AxesSubplot:ylabel='Density'>"
      ]
     },
     "execution_count": 83,
     "metadata": {},
     "output_type": "execute_result"
    },
    {
     "data": {
      "image/png": "[encoded data removed]",
      "text/plain": [
       "<Figure size 432x288 with 1 Axes>"
      ]
     },
     "metadata": {
      "needs_background": "light"
     },
     "output_type": "display_data"
    }
   ],
   "source": [
    "sns.distplot(df_g)"
   ]
  },
  {
   "cell_type": "code",
   "execution_count": 84,
   "metadata": {},
   "outputs": [
    {
     "data": {
      "text/html": [
       "<div><div id=6b9b4057-005a-4bd5-aaf2-b178ab9655f3 style=\"display:none; background-color:#9D6CFF; color:white; width:200px; height:30px; padding-left:5px; border-radius:4px; flex-direction:row; justify-content:space-around; align-items:center;\" onmouseover=\"this.style.backgroundColor='#BA9BF8'\" onmouseout=\"this.style.backgroundColor='#9D6CFF'\" onclick=\"window.commands?.execute('create-mitosheet-from-dataframe-output');\">See Full Dataframe in Mito</div> <script> if (window.commands.hasCommand('create-mitosheet-from-dataframe-output')) document.getElementById('6b9b4057-005a-4bd5-aaf2-b178ab9655f3').style.display = 'flex' </script> <table border=\"1\" class=\"dataframe\">\n",
       "  <thead>\n",
       "    <tr style=\"text-align: right;\">\n",
       "      <th></th>\n",
       "      <th>registered</th>\n",
       "      <th>casual</th>\n",
       "      <th>hr</th>\n",
       "      <th>atemp</th>\n",
       "      <th>instant</th>\n",
       "      <th>temp</th>\n",
       "      <th>hum</th>\n",
       "      <th>cnt</th>\n",
       "    </tr>\n",
       "  </thead>\n",
       "  <tbody>\n",
       "    <tr>\n",
       "      <th>count</th>\n",
       "      <td>17379.00</td>\n",
       "      <td>17379.00</td>\n",
       "      <td>17379.00</td>\n",
       "      <td>17379.00</td>\n",
       "      <td>17379.00</td>\n",
       "      <td>17379.00</td>\n",
       "      <td>17379.00</td>\n",
       "      <td>17379.00</td>\n",
       "    </tr>\n",
       "    <tr>\n",
       "      <th>mean</th>\n",
       "      <td>0.17</td>\n",
       "      <td>0.10</td>\n",
       "      <td>0.50</td>\n",
       "      <td>0.48</td>\n",
       "      <td>0.50</td>\n",
       "      <td>0.49</td>\n",
       "      <td>0.63</td>\n",
       "      <td>0.19</td>\n",
       "    </tr>\n",
       "    <tr>\n",
       "      <th>std</th>\n",
       "      <td>0.17</td>\n",
       "      <td>0.13</td>\n",
       "      <td>0.30</td>\n",
       "      <td>0.17</td>\n",
       "      <td>0.29</td>\n",
       "      <td>0.20</td>\n",
       "      <td>0.19</td>\n",
       "      <td>0.19</td>\n",
       "    </tr>\n",
       "    <tr>\n",
       "      <th>min</th>\n",
       "      <td>0.00</td>\n",
       "      <td>0.00</td>\n",
       "      <td>0.00</td>\n",
       "      <td>0.00</td>\n",
       "      <td>0.00</td>\n",
       "      <td>0.00</td>\n",
       "      <td>0.00</td>\n",
       "      <td>0.00</td>\n",
       "    </tr>\n",
       "    <tr>\n",
       "      <th>25%</th>\n",
       "      <td>0.04</td>\n",
       "      <td>0.01</td>\n",
       "      <td>0.26</td>\n",
       "      <td>0.33</td>\n",
       "      <td>0.25</td>\n",
       "      <td>0.33</td>\n",
       "      <td>0.48</td>\n",
       "      <td>0.04</td>\n",
       "    </tr>\n",
       "    <tr>\n",
       "      <th>50%</th>\n",
       "      <td>0.13</td>\n",
       "      <td>0.05</td>\n",
       "      <td>0.52</td>\n",
       "      <td>0.48</td>\n",
       "      <td>0.50</td>\n",
       "      <td>0.49</td>\n",
       "      <td>0.63</td>\n",
       "      <td>0.14</td>\n",
       "    </tr>\n",
       "    <tr>\n",
       "      <th>75%</th>\n",
       "      <td>0.25</td>\n",
       "      <td>0.13</td>\n",
       "      <td>0.78</td>\n",
       "      <td>0.62</td>\n",
       "      <td>0.75</td>\n",
       "      <td>0.65</td>\n",
       "      <td>0.78</td>\n",
       "      <td>0.29</td>\n",
       "    </tr>\n",
       "    <tr>\n",
       "      <th>max</th>\n",
       "      <td>1.00</td>\n",
       "      <td>1.00</td>\n",
       "      <td>1.00</td>\n",
       "      <td>1.00</td>\n",
       "      <td>1.00</td>\n",
       "      <td>1.00</td>\n",
       "      <td>1.00</td>\n",
       "      <td>1.00</td>\n",
       "    </tr>\n",
       "  </tbody>\n",
       "</table></div>"
      ],
      "text/plain": [
       "       registered   casual       hr    atemp  instant     temp      hum  \\\n",
       "count    17379.00 17379.00 17379.00 17379.00 17379.00 17379.00 17379.00   \n",
       "mean         0.17     0.10     0.50     0.48     0.50     0.49     0.63   \n",
       "std          0.17     0.13     0.30     0.17     0.29     0.20     0.19   \n",
       "min          0.00     0.00     0.00     0.00     0.00     0.00     0.00   \n",
       "25%          0.04     0.01     0.26     0.33     0.25     0.33     0.48   \n",
       "50%          0.13     0.05     0.52     0.48     0.50     0.49     0.63   \n",
       "75%          0.25     0.13     0.78     0.62     0.75     0.65     0.78   \n",
       "max          1.00     1.00     1.00     1.00     1.00     1.00     1.00   \n",
       "\n",
       "           cnt  \n",
       "count 17379.00  \n",
       "mean      0.19  \n",
       "std       0.19  \n",
       "min       0.00  \n",
       "25%       0.04  \n",
       "50%       0.14  \n",
       "75%       0.29  \n",
       "max       1.00  "
      ]
     },
     "execution_count": 84,
     "metadata": {},
     "output_type": "execute_result"
    }
   ],
   "source": [
    "df_n.describe()"
   ]
  },
  {
   "cell_type": "code",
   "execution_count": 85,
   "metadata": {},
   "outputs": [
    {
     "data": {
      "text/html": [
       "<div><div id=9cd847d4-2ee5-4cbe-90a1-f3433aef8281 style=\"display:none; background-color:#9D6CFF; color:white; width:200px; height:30px; padding-left:5px; border-radius:4px; flex-direction:row; justify-content:space-around; align-items:center;\" onmouseover=\"this.style.backgroundColor='#BA9BF8'\" onmouseout=\"this.style.backgroundColor='#9D6CFF'\" onclick=\"window.commands?.execute('create-mitosheet-from-dataframe-output');\">See Full Dataframe in Mito</div> <script> if (window.commands.hasCommand('create-mitosheet-from-dataframe-output')) document.getElementById('9cd847d4-2ee5-4cbe-90a1-f3433aef8281').style.display = 'flex' </script> <table border=\"1\" class=\"dataframe\">\n",
       "  <thead>\n",
       "    <tr style=\"text-align: right;\">\n",
       "      <th></th>\n",
       "      <th>registered</th>\n",
       "      <th>casual</th>\n",
       "      <th>hr</th>\n",
       "      <th>atemp</th>\n",
       "      <th>instant</th>\n",
       "      <th>temp</th>\n",
       "      <th>hum</th>\n",
       "      <th>cnt</th>\n",
       "    </tr>\n",
       "  </thead>\n",
       "  <tbody>\n",
       "    <tr>\n",
       "      <th>count</th>\n",
       "      <td>17379.00</td>\n",
       "      <td>17379.00</td>\n",
       "      <td>17379.00</td>\n",
       "      <td>17379.00</td>\n",
       "      <td>17379.00</td>\n",
       "      <td>17379.00</td>\n",
       "      <td>17379.00</td>\n",
       "      <td>17379.00</td>\n",
       "    </tr>\n",
       "    <tr>\n",
       "      <th>mean</th>\n",
       "      <td>0.19</td>\n",
       "      <td>0.10</td>\n",
       "      <td>0.51</td>\n",
       "      <td>0.48</td>\n",
       "      <td>0.50</td>\n",
       "      <td>0.49</td>\n",
       "      <td>0.62</td>\n",
       "      <td>0.21</td>\n",
       "    </tr>\n",
       "    <tr>\n",
       "      <th>std</th>\n",
       "      <td>1.01</td>\n",
       "      <td>1.00</td>\n",
       "      <td>1.01</td>\n",
       "      <td>0.99</td>\n",
       "      <td>1.01</td>\n",
       "      <td>1.00</td>\n",
       "      <td>1.01</td>\n",
       "      <td>1.01</td>\n",
       "    </tr>\n",
       "    <tr>\n",
       "      <th>min</th>\n",
       "      <td>-3.63</td>\n",
       "      <td>-3.49</td>\n",
       "      <td>-3.30</td>\n",
       "      <td>-3.12</td>\n",
       "      <td>-3.24</td>\n",
       "      <td>-3.19</td>\n",
       "      <td>-3.15</td>\n",
       "      <td>-3.71</td>\n",
       "    </tr>\n",
       "    <tr>\n",
       "      <th>25%</th>\n",
       "      <td>-0.49</td>\n",
       "      <td>-0.58</td>\n",
       "      <td>-0.18</td>\n",
       "      <td>-0.19</td>\n",
       "      <td>-0.19</td>\n",
       "      <td>-0.18</td>\n",
       "      <td>-0.06</td>\n",
       "      <td>-0.48</td>\n",
       "    </tr>\n",
       "    <tr>\n",
       "      <th>50%</th>\n",
       "      <td>0.19</td>\n",
       "      <td>0.11</td>\n",
       "      <td>0.49</td>\n",
       "      <td>0.48</td>\n",
       "      <td>0.50</td>\n",
       "      <td>0.50</td>\n",
       "      <td>0.62</td>\n",
       "      <td>0.21</td>\n",
       "    </tr>\n",
       "    <tr>\n",
       "      <th>75%</th>\n",
       "      <td>0.87</td>\n",
       "      <td>0.79</td>\n",
       "      <td>1.20</td>\n",
       "      <td>1.16</td>\n",
       "      <td>1.18</td>\n",
       "      <td>1.17</td>\n",
       "      <td>1.30</td>\n",
       "      <td>0.89</td>\n",
       "    </tr>\n",
       "    <tr>\n",
       "      <th>max</th>\n",
       "      <td>4.86</td>\n",
       "      <td>4.14</td>\n",
       "      <td>4.23</td>\n",
       "      <td>4.26</td>\n",
       "      <td>4.77</td>\n",
       "      <td>4.23</td>\n",
       "      <td>4.65</td>\n",
       "      <td>5.00</td>\n",
       "    </tr>\n",
       "  </tbody>\n",
       "</table></div>"
      ],
      "text/plain": [
       "       registered   casual       hr    atemp  instant     temp      hum  \\\n",
       "count    17379.00 17379.00 17379.00 17379.00 17379.00 17379.00 17379.00   \n",
       "mean         0.19     0.10     0.51     0.48     0.50     0.49     0.62   \n",
       "std          1.01     1.00     1.01     0.99     1.01     1.00     1.01   \n",
       "min         -3.63    -3.49    -3.30    -3.12    -3.24    -3.19    -3.15   \n",
       "25%         -0.49    -0.58    -0.18    -0.19    -0.19    -0.18    -0.06   \n",
       "50%          0.19     0.11     0.49     0.48     0.50     0.50     0.62   \n",
       "75%          0.87     0.79     1.20     1.16     1.18     1.17     1.30   \n",
       "max          4.86     4.14     4.23     4.26     4.77     4.23     4.65   \n",
       "\n",
       "           cnt  \n",
       "count 17379.00  \n",
       "mean      0.21  \n",
       "std       1.01  \n",
       "min      -3.71  \n",
       "25%      -0.48  \n",
       "50%       0.21  \n",
       "75%       0.89  \n",
       "max       5.00  "
      ]
     },
     "execution_count": 85,
     "metadata": {},
     "output_type": "execute_result"
    }
   ],
   "source": [
    "df_g.describe()"
   ]
  },
  {
   "cell_type": "markdown",
   "metadata": {},
   "source": [
    "# Finding probabbilties of all columns and joint probabilty on generated data set"
   ]
  },
  {
   "cell_type": "markdown",
   "metadata": {},
   "source": [
    "#### Findining probabilities of all columns"
   ]
  },
  {
   "cell_type": "code",
   "execution_count": 86,
   "metadata": {},
   "outputs": [
    {
     "name": "stdout",
     "output_type": "stream",
     "text": [
      "done\n"
     ]
    },
    {
     "data": {
      "text/plain": [
       "array([0.])"
      ]
     },
     "execution_count": 86,
     "metadata": {},
     "output_type": "execute_result"
    }
   ],
   "source": [
    "df_g_prob=df_g.copy()\n",
    "\n",
    "def f1(b):\n",
    "    \n",
    "    k=df_g[df_g[i] == b].shape[0]\n",
    "    return(k/len(df_g))\n",
    "\n",
    "for i in df_g.columns:\n",
    "    # print(i)\n",
    "    \n",
    "    df_g_prob['prob_'+i] = df_g[i].apply(f1)\n",
    "\n",
    "df_g_prob.head()\n",
    "\n",
    "\n",
    "\n",
    "### Joint probability\n",
    "df_g.columns\n",
    "\n",
    "def f1(a):\n",
    "    \n",
    "    k=df_n[ (df_n[col[0]] == a[col[0]]) & (df_n[col[1]] == a[col[1]]) & (df_n[col[2]] == a[col[2]]) \n",
    "        & (df_n[col[3]] == a[col[3]]) & (df_n[col[4]] == a[col[4]]) & (df_n[col[5]] == a[col[5]])  \n",
    "        & (df_n[col[6]] == a[col[6]]) & (df_n[col[7]] == a[col[7]]) ].shape[0]\n",
    "   \n",
    "    \n",
    "    return(k/len(df_g))\n",
    "    \n",
    "\n",
    "df_g_prob['prob_joint'] = df_g.apply(f1,axis=1)\n",
    "\n",
    "print('done')\n",
    "\n",
    "# df_g\n",
    "df_g_prob.head()\n",
    "df_g_prob.prob_joint.unique()"
   ]
  },
  {
   "cell_type": "markdown",
   "metadata": {},
   "source": [
    "#### This shows that all the rows in dataset are unique and hence the ombined joint probability is same for all rows"
   ]
  },
  {
   "cell_type": "markdown",
   "metadata": {},
   "source": [
    "## Use model on new generated dataset"
   ]
  },
  {
   "cell_type": "markdown",
   "metadata": {},
   "source": [
    "### Again creating smaller smaple dataset for running lazy predic models on generated dataste"
   ]
  },
  {
   "cell_type": "code",
   "execution_count": 87,
   "metadata": {},
   "outputs": [
    {
     "name": "stdout",
     "output_type": "stream",
     "text": [
      "(1738, 8)\n"
     ]
    }
   ],
   "source": [
    "df_gp=df_g.sample(frac =.1)\n",
    "print(df_gp.shape)"
   ]
  },
  {
   "cell_type": "code",
   "execution_count": 88,
   "metadata": {},
   "outputs": [
    {
     "name": "stderr",
     "output_type": "stream",
     "text": [
      " 14%|█▍        | 6/42 [00:00<00:01, 25.92it/s]"
     ]
    },
    {
     "name": "stdout",
     "output_type": "stream",
     "text": [
      "{'Model': 'AdaBoostRegressor', 'R-Squared': 0.9738283183092752, 'Adjusted R-Squared': 0.9727246931777386, 'RMSE': 0.1761422872595565, 'Time taken': 0.16181540489196777}\n",
      "{'Model': 'BaggingRegressor', 'R-Squared': 0.9965399395478793, 'Adjusted R-Squared': 0.9963940333842357, 'RMSE': 0.06404565328949939, 'Time taken': 0.06311941146850586}\n",
      "{'Model': 'BayesianRidge', 'R-Squared': 0.9999999999999983, 'Adjusted R-Squared': 0.9999999999999982, 'RMSE': 4.4387951074699665e-08, 'Time taken': 0.008989810943603516}\n",
      "{'Model': 'DecisionTreeRegressor', 'R-Squared': 0.9923443434580395, 'Adjusted R-Squared': 0.9920215145677158, 'RMSE': 0.09526624277786316, 'Time taken': 0.01599740982055664}\n",
      "{'Model': 'DummyRegressor', 'R-Squared': -3.541040819809993e-05, 'Adjusted R-Squared': -0.04220557831697769, 'RMSE': 1.0888185363654945, 'Time taken': 0.009998321533203125}\n",
      "{'Model': 'ElasticNet', 'R-Squared': 0.5235529125993852, 'Adjusted R-Squared': 0.5034617703596003, 'RMSE': 0.7515452856454972, 'Time taken': 0.0075550079345703125}\n",
      "{'Model': 'ElasticNetCV', 'R-Squared': 0.9999966085614788, 'Adjusted R-Squared': 0.999996465549011, 'RMSE': 0.00200511733223735, 'Time taken': 0.048972129821777344}\n",
      "{'Model': 'ExtraTreeRegressor', 'R-Squared': 0.9928839612893099, 'Adjusted R-Squared': 0.9925838873677748, 'RMSE': 0.09184742131088153, 'Time taken': 0.01001596450805664}\n"
     ]
    },
    {
     "name": "stderr",
     "output_type": "stream",
     "text": [
      " 24%|██▍       | 10/42 [00:00<00:02, 14.35it/s]"
     ]
    },
    {
     "name": "stdout",
     "output_type": "stream",
     "text": [
      "{'Model': 'ExtraTreesRegressor', 'R-Squared': 0.9993518491423695, 'Adjusted R-Squared': 0.9993245174796983, 'RMSE': 0.027719530280312585, 'Time taken': 0.3380701541900635}\n",
      "GammaRegressor model failed to execute\n",
      "Some value(s) of y are out of the valid range for family GammaDistribution\n",
      "{'Model': 'GaussianProcessRegressor', 'R-Squared': 0.9172397564035136, 'Adjusted R-Squared': 0.9137498666133004, 'RMSE': 0.3132266436219086, 'Time taken': 1.098613977432251}\n",
      "{'Model': 'GradientBoostingRegressor', 'R-Squared': 0.9986379263295531, 'Adjusted R-Squared': 0.9985804894880282, 'RMSE': 0.04018353278450769, 'Time taken': 0.2804851531982422}\n"
     ]
    },
    {
     "name": "stderr",
     "output_type": "stream",
     "text": [
      " 36%|███▌      | 15/42 [00:02<00:06,  4.47it/s]"
     ]
    },
    {
     "name": "stdout",
     "output_type": "stream",
     "text": [
      "{'Model': 'HistGradientBoostingRegressor', 'R-Squared': 0.9961290585870507, 'Adjusted R-Squared': 0.9959658261178299, 'RMSE': 0.0677417038391152, 'Time taken': 0.6402792930603027}\n",
      "{'Model': 'HuberRegressor', 'R-Squared': 0.9999999999999983, 'Adjusted R-Squared': 0.9999999999999982, 'RMSE': 4.445347553136126e-08, 'Time taken': 0.08813619613647461}\n",
      "{'Model': 'KNeighborsRegressor', 'R-Squared': 0.9400146686885951, 'Adjusted R-Squared': 0.9374851667658249, 'RMSE': 0.26666765853197333, 'Time taken': 0.018371105194091797}\n"
     ]
    },
    {
     "name": "stderr",
     "output_type": "stream",
     "text": [
      " 55%|█████▍    | 23/42 [00:03<00:02,  7.26it/s]"
     ]
    },
    {
     "name": "stdout",
     "output_type": "stream",
     "text": [
      "{'Model': 'KernelRidge', 'R-Squared': 0.9619300625665139, 'Adjusted R-Squared': 0.9603247037590777, 'RMSE': 0.2124412744963132, 'Time taken': 0.8076391220092773}\n",
      "{'Model': 'Lars', 'R-Squared': 0.9999999999999983, 'Adjusted R-Squared': 0.9999999999999982, 'RMSE': 4.488409985940518e-08, 'Time taken': 0.009270191192626953}\n",
      "{'Model': 'LarsCV', 'R-Squared': 0.9999999999999983, 'Adjusted R-Squared': 0.9999999999999982, 'RMSE': 4.488409985940518e-08, 'Time taken': 0.015512704849243164}\n",
      "{'Model': 'Lasso', 'R-Squared': -3.541040819809993e-05, 'Adjusted R-Squared': -0.04220557831697769, 'RMSE': 1.0888185363654945, 'Time taken': 0.0069997310638427734}\n",
      "{'Model': 'LassoCV', 'R-Squared': 0.9999987109719507, 'Adjusted R-Squared': 0.9999986566153463, 'RMSE': 0.0012361722795067084, 'Time taken': 0.05187582969665527}\n",
      "{'Model': 'LassoLars', 'R-Squared': -3.541040819809993e-05, 'Adjusted R-Squared': -0.04220557831697769, 'RMSE': 1.0888185363654945, 'Time taken': 0.00991964340209961}\n",
      "{'Model': 'LassoLarsCV', 'R-Squared': 0.9999999999999983, 'Adjusted R-Squared': 0.9999999999999982, 'RMSE': 4.488409985940518e-08, 'Time taken': 0.014063119888305664}\n",
      "{'Model': 'LassoLarsIC', 'R-Squared': 0.9999999999999983, 'Adjusted R-Squared': 0.9999999999999982, 'RMSE': 4.488409985940518e-08, 'Time taken': 0.009706735610961914}\n",
      "{'Model': 'LinearRegression', 'R-Squared': 0.9999999999999983, 'Adjusted R-Squared': 0.9999999999999982, 'RMSE': 4.438762457342465e-08, 'Time taken': 0.00800776481628418}\n",
      "{'Model': 'LinearSVR', 'R-Squared': 0.9999999999999936, 'Adjusted R-Squared': 0.9999999999999933, 'RMSE': 8.733246446678675e-08, 'Time taken': 0.008011579513549805}\n"
     ]
    },
    {
     "name": "stderr",
     "output_type": "stream",
     "text": [
      " 62%|██████▏   | 26/42 [00:03<00:01,  8.09it/s]"
     ]
    },
    {
     "name": "stdout",
     "output_type": "stream",
     "text": [
      "{'Model': 'MLPRegressor', 'R-Squared': 0.9962742812251231, 'Adjusted R-Squared': 0.9961171726020861, 'RMSE': 0.0664588545667595, 'Time taken': 0.24187159538269043}\n"
     ]
    },
    {
     "name": "stderr",
     "output_type": "stream",
     "text": [
      " 69%|██████▉   | 29/42 [00:04<00:01,  6.63it/s]"
     ]
    },
    {
     "name": "stdout",
     "output_type": "stream",
     "text": [
      "{'Model': 'NuSVR', 'R-Squared': 0.9855651002774348, 'Adjusted R-Squared': 0.9849563996867242, 'RMSE': 0.13081414358034557, 'Time taken': 0.6379246711730957}\n",
      "{'Model': 'OrthogonalMatchingPursuit', 'R-Squared': 0.9488198901576247, 'Adjusted R-Squared': 0.946661692754633, 'RMSE': 0.24631928967332323, 'Time taken': 0.010120868682861328}\n",
      "{'Model': 'OrthogonalMatchingPursuitCV', 'R-Squared': 0.9999999999999983, 'Adjusted R-Squared': 0.9999999999999982, 'RMSE': 4.456635048553533e-08, 'Time taken': 0.012211322784423828}\n",
      "{'Model': 'PassiveAggressiveRegressor', 'R-Squared': 0.9990714932317154, 'Adjusted R-Squared': 0.999032339331848, 'RMSE': 0.033177247576496746, 'Time taken': 0.007999658584594727}\n",
      "PoissonRegressor model failed to execute\n",
      "Some value(s) of y are out of the valid range for family PoissonDistribution\n"
     ]
    },
    {
     "name": "stderr",
     "output_type": "stream",
     "text": [
      " 76%|███████▌  | 32/42 [02:57<02:45, 16.60s/it]"
     ]
    },
    {
     "name": "stdout",
     "output_type": "stream",
     "text": [
      "{'Model': 'QuantileRegressor', 'R-Squared': -2.8862477661206754e-06, 'Adjusted R-Squared': -0.04217168265580451, 'RMSE': 1.0888008303941221, 'Time taken': 172.37882256507874}\n",
      "{'Model': 'RANSACRegressor', 'R-Squared': 0.9999999999999983, 'Adjusted R-Squared': 0.9999999999999982, 'RMSE': 4.438762457342465e-08, 'Time taken': 0.009001493453979492}\n"
     ]
    },
    {
     "name": "stderr",
     "output_type": "stream",
     "text": [
      " 95%|█████████▌| 40/42 [02:57<00:13,  6.83s/it]"
     ]
    },
    {
     "name": "stdout",
     "output_type": "stream",
     "text": [
      "{'Model': 'RandomForestRegressor', 'R-Squared': 0.9971660794853009, 'Adjusted R-Squared': 0.9970465768129944, 'RMSE': 0.05796177133452078, 'Time taken': 0.5483477115631104}\n",
      "{'Model': 'Ridge', 'R-Squared': 0.9999995671753953, 'Adjusted R-Squared': 0.9999995489237553, 'RMSE': 0.0007163145737767145, 'Time taken': 0.012235641479492188}\n",
      "{'Model': 'RidgeCV', 'R-Squared': 0.9999999956614412, 'Adjusted R-Squared': 0.9999999954784898, 'RMSE': 7.171674343435795e-05, 'Time taken': 0.009857892990112305}\n",
      "{'Model': 'SGDRegressor', 'R-Squared': 0.9999995776266606, 'Adjusted R-Squared': 0.9999995598157366, 'RMSE': 0.0007076134274554548, 'Time taken': 0.012091636657714844}\n",
      "{'Model': 'SVR', 'R-Squared': 0.9781934321008494, 'Adjusted R-Squared': 0.977273878032813, 'RMSE': 0.16078349902759376, 'Time taken': 0.05199885368347168}\n",
      "{'Model': 'TransformedTargetRegressor', 'R-Squared': 0.9999999999999983, 'Adjusted R-Squared': 0.9999999999999982, 'RMSE': 4.438762457342465e-08, 'Time taken': 0.008743047714233398}\n",
      "{'Model': 'TweedieRegressor', 'R-Squared': 0.8304484421944823, 'Adjusted R-Squared': 0.8232986777087075, 'RMSE': 0.44833093755017217, 'Time taken': 0.010608911514282227}\n"
     ]
    },
    {
     "name": "stderr",
     "output_type": "stream",
     "text": [
      "100%|██████████| 42/42 [02:57<00:00,  4.24s/it]"
     ]
    },
    {
     "name": "stdout",
     "output_type": "stream",
     "text": [
      "{'Model': 'XGBRegressor', 'R-Squared': 0.998007128371127, 'Adjusted R-Squared': 0.9979230916156926, 'RMSE': 0.04860573098567939, 'Time taken': 0.1731562614440918}\n",
      "{'Model': 'LGBMRegressor', 'R-Squared': 0.9962061914009126, 'Adjusted R-Squared': 0.9960462115202282, 'RMSE': 0.06706339341017423, 'Time taken': 0.11185860633850098}\n",
      "                               Adjusted R-Squared  R-Squared  RMSE  Time Taken\n",
      "Model                                                                         \n",
      "LassoLarsCV                                  1.00       1.00  0.00        0.01\n",
      "HuberRegressor                               1.00       1.00  0.00        0.09\n",
      "LassoLarsIC                                  1.00       1.00  0.00        0.01\n",
      "OrthogonalMatchingPursuitCV                  1.00       1.00  0.00        0.01\n",
      "LarsCV                                       1.00       1.00  0.00        0.02\n",
      "Lars                                         1.00       1.00  0.00        0.01\n",
      "RANSACRegressor                              1.00       1.00  0.00        0.01\n",
      "LinearRegression                             1.00       1.00  0.00        0.01\n",
      "TransformedTargetRegressor                   1.00       1.00  0.00        0.01\n",
      "BayesianRidge                                1.00       1.00  0.00        0.01\n",
      "LinearSVR                                    1.00       1.00  0.00        0.01\n",
      "RidgeCV                                      1.00       1.00  0.00        0.01\n",
      "SGDRegressor                                 1.00       1.00  0.00        0.01\n",
      "Ridge                                        1.00       1.00  0.00        0.01\n",
      "LassoCV                                      1.00       1.00  0.00        0.05\n",
      "ElasticNetCV                                 1.00       1.00  0.00        0.05\n",
      "ExtraTreesRegressor                          1.00       1.00  0.03        0.34\n",
      "PassiveAggressiveRegressor                   1.00       1.00  0.03        0.01\n",
      "GradientBoostingRegressor                    1.00       1.00  0.04        0.28\n",
      "XGBRegressor                                 1.00       1.00  0.05        0.17\n",
      "RandomForestRegressor                        1.00       1.00  0.06        0.55\n",
      "BaggingRegressor                             1.00       1.00  0.06        0.06\n",
      "MLPRegressor                                 1.00       1.00  0.07        0.24\n",
      "LGBMRegressor                                1.00       1.00  0.07        0.11\n",
      "HistGradientBoostingRegressor                1.00       1.00  0.07        0.64\n",
      "ExtraTreeRegressor                           0.99       0.99  0.09        0.01\n",
      "DecisionTreeRegressor                        0.99       0.99  0.10        0.02\n",
      "NuSVR                                        0.98       0.99  0.13        0.64\n",
      "SVR                                          0.98       0.98  0.16        0.05\n",
      "AdaBoostRegressor                            0.97       0.97  0.18        0.16\n",
      "KernelRidge                                  0.96       0.96  0.21        0.81\n",
      "OrthogonalMatchingPursuit                    0.95       0.95  0.25        0.01\n",
      "KNeighborsRegressor                          0.94       0.94  0.27        0.02\n",
      "GaussianProcessRegressor                     0.91       0.92  0.31        1.10\n",
      "TweedieRegressor                             0.82       0.83  0.45        0.01\n",
      "ElasticNet                                   0.50       0.52  0.75        0.01\n",
      "QuantileRegressor                           -0.04      -0.00  1.09      172.38\n",
      "LassoLars                                   -0.04      -0.00  1.09        0.01\n",
      "Lasso                                       -0.04      -0.00  1.09        0.01\n",
      "DummyRegressor                              -0.04      -0.00  1.09        0.01\n"
     ]
    },
    {
     "name": "stderr",
     "output_type": "stream",
     "text": [
      "\n"
     ]
    }
   ],
   "source": [
    "X= df_gp.drop(columns='cnt')\n",
    "X\n",
    "y=df_gp['cnt']\n",
    "y\n",
    "offset = int(X.shape[0] * 0.9)\n",
    "\n",
    "### splitting dataset into training and testing part.\n",
    "X_train, y_train = X[:offset], y[:offset]\n",
    "X_test, y_test = X[offset:], y[offset:]\n",
    "\n",
    "reg = LazyRegressor(verbose=10, ignore_warnings=False, custom_metric=None)\n",
    "\n",
    "\n",
    "### fitting data in LazyClassifier\n",
    "models_4, predictions = reg.fit(X_train, X_test, y_train, y_test)\n",
    "print(models_4)"
   ]
  },
  {
   "cell_type": "markdown",
   "metadata": {},
   "source": [
    "# Comparing all models results of parts"
   ]
  },
  {
   "cell_type": "code",
   "execution_count": 89,
   "metadata": {},
   "outputs": [
    {
     "name": "stdout",
     "output_type": "stream",
     "text": [
      "                               Adjusted R-Squared  R-Squared  RMSE  Time Taken\n",
      "Model                                                                         \n",
      "LassoLarsCV                                  1.00       1.00  0.00        0.01\n",
      "OrthogonalMatchingPursuitCV                  1.00       1.00  0.00        0.01\n",
      "LarsCV                                       1.00       1.00  0.00        0.01\n",
      "Lars                                         1.00       1.00  0.00        0.01\n",
      "LinearRegression                             1.00       1.00  0.00        0.01\n",
      "HuberRegressor                               1.00       1.00  0.00        0.11\n",
      "RANSACRegressor                              1.00       1.00  0.00        0.01\n",
      "TransformedTargetRegressor                   1.00       1.00  0.00        0.01\n",
      "BayesianRidge                                1.00       1.00  0.00        0.01\n",
      "LassoLarsIC                                  1.00       1.00  0.00        0.01\n",
      "LinearSVR                                    1.00       1.00  0.00        0.01\n",
      "RidgeCV                                      1.00       1.00  0.00        0.01\n",
      "Ridge                                        1.00       1.00  0.00        0.01\n",
      "SGDRegressor                                 1.00       1.00  0.00        0.01\n",
      "LassoCV                                      1.00       1.00  0.00        0.04\n",
      "ElasticNetCV                                 1.00       1.00  0.00        0.05\n",
      "NuSVR                                        1.00       1.00  0.00        1.53\n",
      "ExtraTreesRegressor                          1.00       1.00  0.00        0.35\n",
      "LGBMRegressor                                1.00       1.00  0.01        0.10\n",
      "GradientBoostingRegressor                    1.00       1.00  0.01        0.17\n",
      "RandomForestRegressor                        1.00       1.00  0.01        0.45\n",
      "XGBRegressor                                 1.00       1.00  0.01        0.74\n",
      "BaggingRegressor                             1.00       1.00  0.01        0.07\n",
      "HistGradientBoostingRegressor                1.00       1.00  0.01        0.58\n",
      "DecisionTreeRegressor                        1.00       1.00  0.01        0.02\n",
      "ExtraTreeRegressor                           0.99       1.00  0.02        0.01\n",
      "AdaBoostRegressor                            0.99       0.99  0.03        0.14\n",
      "GaussianProcessRegressor                     0.99       0.99  0.03        1.08\n",
      "KNeighborsRegressor                          0.98       0.98  0.03        0.01\n",
      "MLPRegressor                                 0.97       0.97  0.04        0.18\n",
      "SVR                                          0.95       0.95  0.05        0.01\n",
      "OrthogonalMatchingPursuit                    0.94       0.95  0.05        0.01\n",
      "PassiveAggressiveRegressor                   0.94       0.94  0.05        0.01\n",
      "TweedieRegressor                             0.82       0.82  0.09        0.01\n",
      "PoissonRegressor                             0.47       0.49  0.15        0.01\n",
      "KernelRidge                                  0.17       0.21  0.19        0.78\n",
      "LassoLars                                   -0.08      -0.04  0.22        0.01\n",
      "DummyRegressor                              -0.08      -0.04  0.22        0.01\n",
      "ElasticNet                                  -0.08      -0.04  0.22        0.01\n",
      "Lasso                                       -0.08      -0.04  0.22        0.01\n",
      "QuantileRegressor                           -0.24      -0.19  0.23      197.97\n"
     ]
    }
   ],
   "source": [
    "print(models)"
   ]
  },
  {
   "cell_type": "code",
   "execution_count": 90,
   "metadata": {},
   "outputs": [
    {
     "name": "stdout",
     "output_type": "stream",
     "text": [
      "                               Adjusted R-Squared  R-Squared  RMSE  Time Taken\n",
      "Model                                                                         \n",
      "LassoLarsCV                                  1.00       1.00  0.00        0.01\n",
      "HuberRegressor                               1.00       1.00  0.00        0.07\n",
      "LassoLarsIC                                  1.00       1.00  0.00        0.01\n",
      "OrthogonalMatchingPursuitCV                  1.00       1.00  0.00        0.01\n",
      "LarsCV                                       1.00       1.00  0.00        0.01\n",
      "Lars                                         1.00       1.00  0.00        0.01\n",
      "RANSACRegressor                              1.00       1.00  0.00        0.01\n",
      "LinearRegression                             1.00       1.00  0.00        0.01\n",
      "TransformedTargetRegressor                   1.00       1.00  0.00        0.01\n",
      "BayesianRidge                                1.00       1.00  0.00        0.01\n",
      "LinearSVR                                    1.00       1.00  0.00        0.01\n",
      "RidgeCV                                      1.00       1.00  0.00        0.02\n",
      "SGDRegressor                                 1.00       1.00  0.00        0.01\n",
      "Ridge                                        1.00       1.00  0.00        0.02\n",
      "LassoCV                                      1.00       1.00  0.00        0.04\n",
      "ElasticNetCV                                 1.00       1.00  0.00        0.06\n",
      "ExtraTreesRegressor                          1.00       1.00  0.00        0.35\n",
      "GradientBoostingRegressor                    1.00       1.00  0.01        0.26\n",
      "RandomForestRegressor                        1.00       1.00  0.01        0.81\n",
      "XGBRegressor                                 1.00       1.00  0.01        0.18\n",
      "BaggingRegressor                             1.00       1.00  0.01        0.11\n",
      "NuSVR                                        1.00       1.00  0.01        2.14\n",
      "HistGradientBoostingRegressor                1.00       1.00  0.01        0.62\n",
      "LGBMRegressor                                1.00       1.00  0.01        0.10\n",
      "DecisionTreeRegressor                        1.00       1.00  0.01        0.01\n",
      "ExtraTreeRegressor                           0.99       0.99  0.02        0.02\n",
      "PassiveAggressiveRegressor                   0.98       0.98  0.03        0.01\n",
      "AdaBoostRegressor                            0.97       0.97  0.04        0.24\n",
      "GaussianProcessRegressor                     0.96       0.97  0.04        1.05\n",
      "OrthogonalMatchingPursuit                    0.96       0.96  0.04        0.01\n",
      "KNeighborsRegressor                          0.95       0.95  0.05        0.02\n",
      "MLPRegressor                                 0.94       0.95  0.05        0.19\n",
      "SVR                                          0.94       0.95  0.05        0.02\n",
      "TweedieRegressor                             0.83       0.83  0.08        0.02\n",
      "KernelRidge                                  0.05       0.09  0.20        0.72\n",
      "QuantileRegressor                           -0.04      -0.00  0.21      205.63\n",
      "LassoLars                                   -0.04      -0.00  0.21        0.01\n",
      "Lasso                                       -0.04      -0.00  0.21        0.01\n",
      "ElasticNet                                  -0.04      -0.00  0.21        0.01\n",
      "DummyRegressor                              -0.04      -0.00  0.21        0.01\n"
     ]
    }
   ],
   "source": [
    "print(models_1)"
   ]
  },
  {
   "cell_type": "code",
   "execution_count": 91,
   "metadata": {},
   "outputs": [
    {
     "name": "stdout",
     "output_type": "stream",
     "text": [
      "                               Adjusted R-Squared  R-Squared  RMSE  Time Taken\n",
      "Model                                                                         \n",
      "LassoLarsCV                                  1.00       1.00  0.00        0.02\n",
      "HuberRegressor                               1.00       1.00  0.00        0.08\n",
      "LassoLarsIC                                  1.00       1.00  0.00        0.01\n",
      "OrthogonalMatchingPursuitCV                  1.00       1.00  0.00        0.01\n",
      "LarsCV                                       1.00       1.00  0.00        0.01\n",
      "Lars                                         1.00       1.00  0.00        0.01\n",
      "RANSACRegressor                              1.00       1.00  0.00        0.01\n",
      "LinearRegression                             1.00       1.00  0.00        0.01\n",
      "TransformedTargetRegressor                   1.00       1.00  0.00        0.01\n",
      "BayesianRidge                                1.00       1.00  0.00        0.01\n",
      "LinearSVR                                    1.00       1.00  0.00        0.01\n",
      "RidgeCV                                      1.00       1.00  0.00        0.01\n",
      "SGDRegressor                                 1.00       1.00  0.00        0.01\n",
      "Ridge                                        1.00       1.00  0.00        0.01\n",
      "LassoCV                                      1.00       1.00  0.00        0.05\n",
      "ElasticNetCV                                 1.00       1.00  0.00        0.04\n",
      "ExtraTreesRegressor                          1.00       1.00  0.01        0.32\n",
      "GradientBoostingRegressor                    1.00       1.00  0.01        0.25\n",
      "XGBRegressor                                 1.00       1.00  0.01        0.18\n",
      "NuSVR                                        1.00       1.00  0.01        2.14\n",
      "RandomForestRegressor                        1.00       1.00  0.01        0.55\n",
      "BaggingRegressor                             1.00       1.00  0.01        0.07\n",
      "HistGradientBoostingRegressor                0.99       0.99  0.01        0.60\n",
      "LGBMRegressor                                0.99       0.99  0.02        0.16\n",
      "DecisionTreeRegressor                        0.99       0.99  0.02        0.02\n",
      "ExtraTreeRegressor                           0.98       0.98  0.02        0.01\n",
      "AdaBoostRegressor                            0.98       0.98  0.02        0.17\n",
      "PassiveAggressiveRegressor                   0.97       0.97  0.03        0.01\n",
      "KNeighborsRegressor                          0.95       0.95  0.04        0.02\n",
      "OrthogonalMatchingPursuit                    0.94       0.95  0.04        0.01\n",
      "SVR                                          0.94       0.94  0.04        0.01\n",
      "GaussianProcessRegressor                     0.93       0.94  0.05        1.00\n",
      "MLPRegressor                                 0.93       0.93  0.05        0.22\n",
      "TweedieRegressor                             0.84       0.85  0.07        0.01\n",
      "QuantileRegressor                           -0.04      -0.00  0.19      189.80\n",
      "LassoLars                                   -0.04      -0.00  0.19        0.01\n",
      "Lasso                                       -0.04      -0.00  0.19        0.01\n",
      "ElasticNet                                  -0.04      -0.00  0.19        0.01\n",
      "DummyRegressor                              -0.04      -0.00  0.19        0.01\n",
      "KernelRidge                                 -0.08      -0.04  0.19        0.74\n"
     ]
    }
   ],
   "source": [
    "print(models_2)"
   ]
  },
  {
   "cell_type": "code",
   "execution_count": 92,
   "metadata": {},
   "outputs": [
    {
     "name": "stdout",
     "output_type": "stream",
     "text": [
      "                               Adjusted R-Squared  R-Squared  RMSE  Time Taken\n",
      "Model                                                                         \n",
      "LassoLarsCV                                  1.00       1.00  0.00        0.01\n",
      "LinearRegression                             1.00       1.00  0.00        0.01\n",
      "OrthogonalMatchingPursuitCV                  1.00       1.00  0.00        0.01\n",
      "LarsCV                                       1.00       1.00  0.00        0.02\n",
      "Lars                                         1.00       1.00  0.00        0.01\n",
      "RANSACRegressor                              1.00       1.00  0.00        0.01\n",
      "HuberRegressor                               1.00       1.00  0.00        0.07\n",
      "LassoLarsIC                                  1.00       1.00  0.00        0.01\n",
      "TransformedTargetRegressor                   1.00       1.00  0.00        0.02\n",
      "BayesianRidge                                1.00       1.00  0.00        0.01\n",
      "LinearSVR                                    1.00       1.00  0.00        0.01\n",
      "RidgeCV                                      1.00       1.00  0.00        0.01\n",
      "SGDRegressor                                 1.00       1.00  0.00        0.02\n",
      "Ridge                                        1.00       1.00  0.00        0.01\n",
      "LassoCV                                      1.00       1.00  0.00        0.05\n",
      "ElasticNetCV                                 1.00       1.00  0.00        0.06\n",
      "ExtraTreesRegressor                          1.00       1.00  0.02        0.35\n",
      "PassiveAggressiveRegressor                   1.00       1.00  0.03        0.01\n",
      "RandomForestRegressor                        1.00       1.00  0.04        0.83\n",
      "GradientBoostingRegressor                    1.00       1.00  0.04        0.27\n",
      "XGBRegressor                                 1.00       1.00  0.04        0.25\n",
      "HistGradientBoostingRegressor                1.00       1.00  0.04        0.56\n",
      "LGBMRegressor                                1.00       1.00  0.05        0.16\n",
      "BaggingRegressor                             1.00       1.00  0.05        0.08\n",
      "MLPRegressor                                 1.00       1.00  0.06        0.25\n",
      "NuSVR                                        1.00       1.00  0.06        0.60\n",
      "DecisionTreeRegressor                        0.99       0.99  0.09        0.02\n",
      "ExtraTreeRegressor                           0.99       0.99  0.09        0.01\n",
      "SVR                                          0.99       0.99  0.09        0.09\n",
      "AdaBoostRegressor                            0.97       0.97  0.17        0.28\n",
      "GaussianProcessRegressor                     0.96       0.96  0.19        1.04\n",
      "KNeighborsRegressor                          0.95       0.95  0.22        0.02\n",
      "OrthogonalMatchingPursuit                    0.95       0.95  0.23        0.01\n",
      "KernelRidge                                  0.94       0.94  0.24        0.71\n",
      "TweedieRegressor                             0.84       0.84  0.40        0.01\n",
      "ElasticNet                                   0.52       0.54  0.69        0.02\n",
      "QuantileRegressor                           -0.04      -0.00  1.01      169.38\n",
      "Lasso                                       -0.04      -0.00  1.01        0.01\n",
      "LassoLars                                   -0.04      -0.00  1.01        0.01\n",
      "DummyRegressor                              -0.04      -0.00  1.01        0.01\n"
     ]
    }
   ],
   "source": [
    "print(models_3)"
   ]
  },
  {
   "cell_type": "code",
   "execution_count": 93,
   "metadata": {},
   "outputs": [
    {
     "name": "stdout",
     "output_type": "stream",
     "text": [
      "                               Adjusted R-Squared  R-Squared  RMSE  Time Taken\n",
      "Model                                                                         \n",
      "LassoLarsCV                                  1.00       1.00  0.00        0.01\n",
      "HuberRegressor                               1.00       1.00  0.00        0.09\n",
      "LassoLarsIC                                  1.00       1.00  0.00        0.01\n",
      "OrthogonalMatchingPursuitCV                  1.00       1.00  0.00        0.01\n",
      "LarsCV                                       1.00       1.00  0.00        0.02\n",
      "Lars                                         1.00       1.00  0.00        0.01\n",
      "RANSACRegressor                              1.00       1.00  0.00        0.01\n",
      "LinearRegression                             1.00       1.00  0.00        0.01\n",
      "TransformedTargetRegressor                   1.00       1.00  0.00        0.01\n",
      "BayesianRidge                                1.00       1.00  0.00        0.01\n",
      "LinearSVR                                    1.00       1.00  0.00        0.01\n",
      "RidgeCV                                      1.00       1.00  0.00        0.01\n",
      "SGDRegressor                                 1.00       1.00  0.00        0.01\n",
      "Ridge                                        1.00       1.00  0.00        0.01\n",
      "LassoCV                                      1.00       1.00  0.00        0.05\n",
      "ElasticNetCV                                 1.00       1.00  0.00        0.05\n",
      "ExtraTreesRegressor                          1.00       1.00  0.03        0.34\n",
      "PassiveAggressiveRegressor                   1.00       1.00  0.03        0.01\n",
      "GradientBoostingRegressor                    1.00       1.00  0.04        0.28\n",
      "XGBRegressor                                 1.00       1.00  0.05        0.17\n",
      "RandomForestRegressor                        1.00       1.00  0.06        0.55\n",
      "BaggingRegressor                             1.00       1.00  0.06        0.06\n",
      "MLPRegressor                                 1.00       1.00  0.07        0.24\n",
      "LGBMRegressor                                1.00       1.00  0.07        0.11\n",
      "HistGradientBoostingRegressor                1.00       1.00  0.07        0.64\n",
      "ExtraTreeRegressor                           0.99       0.99  0.09        0.01\n",
      "DecisionTreeRegressor                        0.99       0.99  0.10        0.02\n",
      "NuSVR                                        0.98       0.99  0.13        0.64\n",
      "SVR                                          0.98       0.98  0.16        0.05\n",
      "AdaBoostRegressor                            0.97       0.97  0.18        0.16\n",
      "KernelRidge                                  0.96       0.96  0.21        0.81\n",
      "OrthogonalMatchingPursuit                    0.95       0.95  0.25        0.01\n",
      "KNeighborsRegressor                          0.94       0.94  0.27        0.02\n",
      "GaussianProcessRegressor                     0.91       0.92  0.31        1.10\n",
      "TweedieRegressor                             0.82       0.83  0.45        0.01\n",
      "ElasticNet                                   0.50       0.52  0.75        0.01\n",
      "QuantileRegressor                           -0.04      -0.00  1.09      172.38\n",
      "LassoLars                                   -0.04      -0.00  1.09        0.01\n",
      "Lasso                                       -0.04      -0.00  1.09        0.01\n",
      "DummyRegressor                              -0.04      -0.00  1.09        0.01\n"
     ]
    }
   ],
   "source": [
    "print(models_4)"
   ]
  },
  {
   "cell_type": "markdown",
   "metadata": {},
   "source": [
    "#  gaussian estimate (part 3)"
   ]
  },
  {
   "cell_type": "code",
   "execution_count": 95,
   "metadata": {},
   "outputs": [
    {
     "data": {
      "text/html": [
       "<div><div id=3750ca4a-cd8b-4fb5-bc6f-56737705cae7 style=\"display:none; background-color:#9D6CFF; color:white; width:200px; height:30px; padding-left:5px; border-radius:4px; flex-direction:row; justify-content:space-around; align-items:center;\" onmouseover=\"this.style.backgroundColor='#BA9BF8'\" onmouseout=\"this.style.backgroundColor='#9D6CFF'\" onclick=\"window.commands?.execute('create-mitosheet-from-dataframe-output');\">See Full Dataframe in Mito</div> <script> if (window.commands.hasCommand('create-mitosheet-from-dataframe-output')) document.getElementById('3750ca4a-cd8b-4fb5-bc6f-56737705cae7').style.display = 'flex' </script> <table border=\"1\" class=\"dataframe\">\n",
       "  <thead>\n",
       "    <tr style=\"text-align: right;\">\n",
       "      <th></th>\n",
       "      <th>registered</th>\n",
       "      <th>casual</th>\n",
       "      <th>hr</th>\n",
       "      <th>atemp</th>\n",
       "      <th>instant</th>\n",
       "      <th>temp</th>\n",
       "      <th>hum</th>\n",
       "      <th>cnt</th>\n",
       "    </tr>\n",
       "  </thead>\n",
       "  <tbody>\n",
       "    <tr>\n",
       "      <th>0</th>\n",
       "      <td>0.79</td>\n",
       "      <td>1.13</td>\n",
       "      <td>0.57</td>\n",
       "      <td>0.79</td>\n",
       "      <td>0.73</td>\n",
       "      <td>0.79</td>\n",
       "      <td>-0.12</td>\n",
       "      <td>0.99</td>\n",
       "    </tr>\n",
       "    <tr>\n",
       "      <th>1</th>\n",
       "      <td>0.27</td>\n",
       "      <td>-0.66</td>\n",
       "      <td>-0.41</td>\n",
       "      <td>0.19</td>\n",
       "      <td>0.18</td>\n",
       "      <td>0.15</td>\n",
       "      <td>1.98</td>\n",
       "      <td>0.07</td>\n",
       "    </tr>\n",
       "    <tr>\n",
       "      <th>2</th>\n",
       "      <td>1.10</td>\n",
       "      <td>-0.04</td>\n",
       "      <td>0.77</td>\n",
       "      <td>-0.17</td>\n",
       "      <td>1.23</td>\n",
       "      <td>-0.11</td>\n",
       "      <td>1.37</td>\n",
       "      <td>0.93</td>\n",
       "    </tr>\n",
       "    <tr>\n",
       "      <th>3</th>\n",
       "      <td>0.13</td>\n",
       "      <td>0.98</td>\n",
       "      <td>1.06</td>\n",
       "      <td>-0.91</td>\n",
       "      <td>-0.44</td>\n",
       "      <td>-0.90</td>\n",
       "      <td>0.50</td>\n",
       "      <td>0.40</td>\n",
       "    </tr>\n",
       "    <tr>\n",
       "      <th>4</th>\n",
       "      <td>0.19</td>\n",
       "      <td>0.40</td>\n",
       "      <td>-0.30</td>\n",
       "      <td>0.98</td>\n",
       "      <td>0.67</td>\n",
       "      <td>0.77</td>\n",
       "      <td>-0.90</td>\n",
       "      <td>0.29</td>\n",
       "    </tr>\n",
       "  </tbody>\n",
       "</table></div>"
      ],
      "text/plain": [
       "   registered  casual    hr  atemp  instant  temp   hum  cnt\n",
       "0        0.79    1.13  0.57   0.79     0.73  0.79 -0.12 0.99\n",
       "1        0.27   -0.66 -0.41   0.19     0.18  0.15  1.98 0.07\n",
       "2        1.10   -0.04  0.77  -0.17     1.23 -0.11  1.37 0.93\n",
       "3        0.13    0.98  1.06  -0.91    -0.44 -0.90  0.50 0.40\n",
       "4        0.19    0.40 -0.30   0.98     0.67  0.77 -0.90 0.29"
      ]
     },
     "execution_count": 95,
     "metadata": {},
     "output_type": "execute_result"
    }
   ],
   "source": [
    "random_seed=1000\n",
    "# cov = df_n.cov()\n",
    "\n",
    "cov = df_n.corr()\n",
    "# mean= df_n.mean()\n",
    "\n",
    "mode=df_n.mode().mean()\n",
    "# mode\n",
    "\n",
    "# distr = multivariate_normal(cov = cov, mean = mode,\n",
    "# \t\t\t\t\t\t\t\tseed = random_seed)\n",
    "\n",
    "distr = multivariate_normal(cov = cov, mean = mean,\n",
    "\t\t\t\t\t\t\t\tseed = random_seed,allow_singular=True)\n",
    "\n",
    "\n",
    "data = distr.rvs(size = df_n.shape[0])\n",
    "### Generated data\n",
    "df_g=pd.DataFrame(data)\n",
    "df_g.head()\n",
    "df_g.columns = df_n.columns\n",
    "df_g.head()"
   ]
  },
  {
   "cell_type": "markdown",
   "metadata": {},
   "source": [
    "# Joint distribution plot of original dataste and best generated dataset (part 3)"
   ]
  },
  {
   "cell_type": "markdown",
   "metadata": {},
   "source": [
    "### Orginal dataset"
   ]
  },
  {
   "cell_type": "code",
   "execution_count": 96,
   "metadata": {},
   "outputs": [
    {
     "data": {
      "text/plain": [
       "<AxesSubplot:ylabel='Density'>"
      ]
     },
     "execution_count": 96,
     "metadata": {},
     "output_type": "execute_result"
    },
    {
     "data": {
      "image/png": "[encoded data removed]",
      "text/plain": [
       "<Figure size 432x288 with 1 Axes>"
      ]
     },
     "metadata": {
      "needs_background": "light"
     },
     "output_type": "display_data"
    }
   ],
   "source": [
    "sns.distplot(df_n)"
   ]
  },
  {
   "cell_type": "markdown",
   "metadata": {},
   "source": [
    "### Generated dataset of best model (part 3)"
   ]
  },
  {
   "cell_type": "code",
   "execution_count": 97,
   "metadata": {},
   "outputs": [
    {
     "data": {
      "text/plain": [
       "<AxesSubplot:ylabel='Density'>"
      ]
     },
     "execution_count": 97,
     "metadata": {},
     "output_type": "execute_result"
    },
    {
     "data": {
      "image/png": "[encoded data removed]",
      "text/plain": [
       "<Figure size 432x288 with 1 Axes>"
      ]
     },
     "metadata": {
      "needs_background": "light"
     },
     "output_type": "display_data"
    }
   ],
   "source": [
    "sns.distplot(df_g)"
   ]
  },
  {
   "cell_type": "markdown",
   "metadata": {},
   "source": [
    "### the generated datset has a joint distribution plot which is gaussian"
   ]
  },
  {
   "cell_type": "markdown",
   "metadata": {},
   "source": [
    "# Results\n",
    "\n",
    "### It can be seen that all parts  performed best and has results of ML models result of R2adj = 1.0 which are all closest to results of original dataset this is due to the fact that joint distribution of datset was more gaussian"
   ]
  },
  {
   "cell_type": "markdown",
   "metadata": {},
   "source": [
    "# Conclusion\n",
    "\n",
    "### We have built a mutilvarite gausian on all the columns of dataset, we sued for variations and parts trying to best fit our dataset on multivariate gaussian\n",
    "\n",
    "## Following conclusions were made:\n",
    "\n",
    "## For original dataset:\n",
    "#### The 8 columns are not purely gaussian and are mostly skewed and therefore its combined distribution plot is not pure Gaussian, the best result of ML model from lazy predit is R2adj = 1.0\n",
    "\n",
    "\n",
    "## For part 1 (using mean of columns and covariance matrix):\n",
    "### The comined distribution plot is purely gaussuian as shown in figure also, the best result of ML model from lazy predit is R2adj = 1.0\n",
    "\n",
    "\n",
    "## For part 2 (using mean of mode of columns and covariance matrix):\n",
    "### The comined distribution plot is purely gaussuian as shown in figure also, the best result of ML model from lazy predit is R2adj = 1.0\n",
    "\n",
    "\n",
    "## For part 3 (using mean of mode of columns and correlation matrix):\n",
    "### The comined distribution plot is purely gaussuian as shown in figure also, the best result of ML model from lazy predit is R2adj = 1.0\n",
    "\n",
    "\n",
    "## For part 4 (using mean of  columns and correlation matrix):\n",
    "### The comined distribution plot is purely gaussuian as shown in figure also, the best result of ML model from lazy predit is R2adj = 1.0"
   ]
  },
  {
   "cell_type": "markdown",
   "metadata": {},
   "source": [
    "# Fututure Work:\n",
    "\n",
    "### Can use best models of Lazy predict on complete dataset.\n",
    "### Find ways of using implementing MLE and joint probabilities to find the mean and standard deviation of sample\n"
   ]
  },
  {
   "cell_type": "markdown",
   "metadata": {},
   "source": [
    "# End"
   ]
  }
 ],
 "metadata": {
  "kernelspec": {
   "display_name": "Python 3.8.8 ('base')",
   "language": "python",
   "name": "python3"
  },
  "language_info": {
   "codemirror_mode": {
    "name": "ipython",
    "version": 3
   },
   "file_extension": ".py",
   "mimetype": "text/x-python",
   "name": "python",
   "nbconvert_exporter": "python",
   "pygments_lexer": "ipython3",
   "version": "3.8.8"
  },
  "orig_nbformat": 4,
  "vscode": {
   "interpreter": {
    "hash": "a2ab3825ac7005fb7b26f112e9c99ae62f464c629e30b0d534c3b931b6cbc3ff"
   }
  }
 },
 "nbformat": 4,
 "nbformat_minor": 2
}
