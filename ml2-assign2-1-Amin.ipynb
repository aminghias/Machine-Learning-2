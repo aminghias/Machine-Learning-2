{
 "cells": [
  {
   "cell_type": "markdown",
   "id": "cb1a3e77",
   "metadata": {},
   "source": [
    "# CSE603: Machine Learning - II"
   ]
  },
  {
   "cell_type": "markdown",
   "id": "e3501e61",
   "metadata": {},
   "source": [
    "# Assignment 2  | 2nd dataset"
   ]
  },
  {
   "cell_type": "markdown",
   "id": "1f90aab9",
   "metadata": {},
   "source": [
    "### Submitted by:\n",
    "#### Name      : Muhammad Amin Ghias\n",
    "#### ERP ID    : 25366"
   ]
  },
  {
   "cell_type": "markdown",
   "id": "0486f00d",
   "metadata": {},
   "source": [
    "Date : 16th October 2022"
   ]
  },
  {
   "cell_type": "markdown",
   "metadata": {},
   "source": [
    "# Imprting Libraries"
   ]
  },
  {
   "cell_type": "code",
   "execution_count": 1,
   "metadata": {},
   "outputs": [
    {
     "name": "stderr",
     "output_type": "stream",
     "text": [
      "NumExpr defaulting to 8 threads.\n"
     ]
    }
   ],
   "source": [
    "import numpy as np\n",
    "import pandas as pd\n",
    "import seaborn as sns\n",
    "import matplotlib.pyplot as plt\n",
    "import scipy\n",
    "from scipy.stats import skew\n",
    "from scipy.stats import kurtosis\n",
    "from scipy.stats import multivariate_normal\n",
    "\n",
    "\n",
    "from scipy import stats\n",
    "from scipy.optimize import curve_fit\n",
    "from scipy import asarray as ar,exp\n",
    "\n",
    "import lazypredict\n",
    "\n",
    "from lazypredict.Supervised import LazyRegressor\n",
    "\n",
    "from sklearn.ensemble import RandomForestRegressor\n",
    "from sklearn.ensemble import GradientBoostingRegressor\n",
    "from sklearn.model_selection import train_test_split, RepeatedKFold, GridSearchCV, cross_val_score\n",
    "\n",
    "from sklearn.preprocessing import MinMaxScaler\n",
    "\n",
    "\n",
    "\n",
    "pd.set_option(\"display.precision\", 8)"
   ]
  },
  {
   "cell_type": "code",
   "execution_count": null,
   "metadata": {},
   "outputs": [],
   "source": []
  },
  {
   "cell_type": "markdown",
   "metadata": {},
   "source": [
    "## DataFrame"
   ]
  },
  {
   "cell_type": "code",
   "execution_count": 2,
   "metadata": {},
   "outputs": [
    {
     "name": "stdout",
     "output_type": "stream",
     "text": [
      "(11934, 18)\n",
      "Index(['Lever position ', 'Ship speed (v) ',\n",
      "       'Gas Turbine (GT) shaft torque (GTT) [kN m]  ',\n",
      "       'GT rate of revolutions (GTn) [rpm]  ',\n",
      "       'Gas Generator rate of revolutions (GGn) [rpm]  ',\n",
      "       'Starboard Propeller Torque (Ts) [kN]  ',\n",
      "       'Port Propeller Torque (Tp) [kN]  ',\n",
      "       'Hight Pressure (HP) Turbine exit temperature (T48) [C]  ',\n",
      "       'GT Compressor inlet air temperature (T1) [C]  ',\n",
      "       'GT Compressor outlet air temperature (T2) [C]  ',\n",
      "       'HP Turbine exit pressure (P48) [bar]  ',\n",
      "       'GT Compressor inlet air pressure (P1) [bar]  ',\n",
      "       'GT Compressor outlet air pressure (P2) [bar]  ',\n",
      "       'GT exhaust gas pressure (Pexh) [bar]  ',\n",
      "       'Turbine Injecton Control (TIC) [%]  ', 'Fuel flow (mf) [kg/s]  ',\n",
      "       'GT Compressor decay state coefficient  ',\n",
      "       'GT Turbine decay state coefficient '],\n",
      "      dtype='object')\n"
     ]
    },
    {
     "data": {
      "text/html": [
       "<div><div id=d3b3403d-44ae-437c-a633-1ca604ef48db style=\"display:none; background-color:#9D6CFF; color:white; width:200px; height:30px; padding-left:5px; border-radius:4px; flex-direction:row; justify-content:space-around; align-items:center;\" onmouseover=\"this.style.backgroundColor='#BA9BF8'\" onmouseout=\"this.style.backgroundColor='#9D6CFF'\" onclick=\"window.commands?.execute('create-mitosheet-from-dataframe-output');\">See Full Dataframe in Mito</div> <script> if (window.commands.hasCommand('create-mitosheet-from-dataframe-output')) document.getElementById('d3b3403d-44ae-437c-a633-1ca604ef48db').style.display = 'flex' </script> <table border=\"1\" class=\"dataframe\">\n",
       "  <thead>\n",
       "    <tr style=\"text-align: right;\">\n",
       "      <th></th>\n",
       "      <th>Lever position</th>\n",
       "      <th>Ship speed (v)</th>\n",
       "      <th>Gas Turbine (GT) shaft torque (GTT) [kN m]</th>\n",
       "      <th>GT rate of revolutions (GTn) [rpm]</th>\n",
       "      <th>Gas Generator rate of revolutions (GGn) [rpm]</th>\n",
       "      <th>Starboard Propeller Torque (Ts) [kN]</th>\n",
       "      <th>Port Propeller Torque (Tp) [kN]</th>\n",
       "      <th>Hight Pressure (HP) Turbine exit temperature (T48) [C]</th>\n",
       "      <th>GT Compressor inlet air temperature (T1) [C]</th>\n",
       "      <th>GT Compressor outlet air temperature (T2) [C]</th>\n",
       "      <th>HP Turbine exit pressure (P48) [bar]</th>\n",
       "      <th>GT Compressor inlet air pressure (P1) [bar]</th>\n",
       "      <th>GT Compressor outlet air pressure (P2) [bar]</th>\n",
       "      <th>GT exhaust gas pressure (Pexh) [bar]</th>\n",
       "      <th>Turbine Injecton Control (TIC) [%]</th>\n",
       "      <th>Fuel flow (mf) [kg/s]</th>\n",
       "      <th>GT Compressor decay state coefficient</th>\n",
       "      <th>GT Turbine decay state coefficient</th>\n",
       "    </tr>\n",
       "  </thead>\n",
       "  <tbody>\n",
       "    <tr>\n",
       "      <th>0</th>\n",
       "      <td>1.14</td>\n",
       "      <td>3</td>\n",
       "      <td>289.96</td>\n",
       "      <td>1349.49</td>\n",
       "      <td>6677.38</td>\n",
       "      <td>7.58</td>\n",
       "      <td>7.58</td>\n",
       "      <td>464.01</td>\n",
       "      <td>288</td>\n",
       "      <td>550.56</td>\n",
       "      <td>1.10</td>\n",
       "      <td>1.00</td>\n",
       "      <td>5.95</td>\n",
       "      <td>1.02</td>\n",
       "      <td>7.14</td>\n",
       "      <td>0.08</td>\n",
       "      <td>0.95</td>\n",
       "      <td>0.97</td>\n",
       "    </tr>\n",
       "    <tr>\n",
       "      <th>1</th>\n",
       "      <td>2.09</td>\n",
       "      <td>6</td>\n",
       "      <td>6960.18</td>\n",
       "      <td>1376.17</td>\n",
       "      <td>6828.47</td>\n",
       "      <td>28.20</td>\n",
       "      <td>28.20</td>\n",
       "      <td>635.40</td>\n",
       "      <td>288</td>\n",
       "      <td>581.66</td>\n",
       "      <td>1.33</td>\n",
       "      <td>1.00</td>\n",
       "      <td>7.28</td>\n",
       "      <td>1.02</td>\n",
       "      <td>10.65</td>\n",
       "      <td>0.29</td>\n",
       "      <td>0.95</td>\n",
       "      <td>0.97</td>\n",
       "    </tr>\n",
       "    <tr>\n",
       "      <th>2</th>\n",
       "      <td>3.14</td>\n",
       "      <td>9</td>\n",
       "      <td>8379.23</td>\n",
       "      <td>1386.76</td>\n",
       "      <td>7111.81</td>\n",
       "      <td>60.36</td>\n",
       "      <td>60.36</td>\n",
       "      <td>606.00</td>\n",
       "      <td>288</td>\n",
       "      <td>587.59</td>\n",
       "      <td>1.39</td>\n",
       "      <td>1.00</td>\n",
       "      <td>7.57</td>\n",
       "      <td>1.02</td>\n",
       "      <td>13.09</td>\n",
       "      <td>0.26</td>\n",
       "      <td>0.95</td>\n",
       "      <td>0.97</td>\n",
       "    </tr>\n",
       "    <tr>\n",
       "      <th>3</th>\n",
       "      <td>4.16</td>\n",
       "      <td>12</td>\n",
       "      <td>14724.40</td>\n",
       "      <td>1547.46</td>\n",
       "      <td>7792.63</td>\n",
       "      <td>113.77</td>\n",
       "      <td>113.77</td>\n",
       "      <td>661.47</td>\n",
       "      <td>288</td>\n",
       "      <td>613.85</td>\n",
       "      <td>1.66</td>\n",
       "      <td>1.00</td>\n",
       "      <td>9.01</td>\n",
       "      <td>1.02</td>\n",
       "      <td>18.11</td>\n",
       "      <td>0.36</td>\n",
       "      <td>0.95</td>\n",
       "      <td>0.97</td>\n",
       "    </tr>\n",
       "    <tr>\n",
       "      <th>4</th>\n",
       "      <td>5.14</td>\n",
       "      <td>15</td>\n",
       "      <td>21636.43</td>\n",
       "      <td>1924.31</td>\n",
       "      <td>8494.78</td>\n",
       "      <td>175.31</td>\n",
       "      <td>175.31</td>\n",
       "      <td>731.49</td>\n",
       "      <td>288</td>\n",
       "      <td>645.64</td>\n",
       "      <td>2.08</td>\n",
       "      <td>1.00</td>\n",
       "      <td>11.20</td>\n",
       "      <td>1.03</td>\n",
       "      <td>26.37</td>\n",
       "      <td>0.52</td>\n",
       "      <td>0.95</td>\n",
       "      <td>0.97</td>\n",
       "    </tr>\n",
       "  </tbody>\n",
       "</table></div>"
      ],
      "text/plain": [
       "   Lever position   Ship speed (v)   \\\n",
       "0             1.14                3   \n",
       "1             2.09                6   \n",
       "2             3.14                9   \n",
       "3             4.16               12   \n",
       "4             5.14               15   \n",
       "\n",
       "   Gas Turbine (GT) shaft torque (GTT) [kN m]    \\\n",
       "0                                        289.96   \n",
       "1                                       6960.18   \n",
       "2                                       8379.23   \n",
       "3                                      14724.40   \n",
       "4                                      21636.43   \n",
       "\n",
       "   GT rate of revolutions (GTn) [rpm]    \\\n",
       "0                               1349.49   \n",
       "1                               1376.17   \n",
       "2                               1386.76   \n",
       "3                               1547.46   \n",
       "4                               1924.31   \n",
       "\n",
       "   Gas Generator rate of revolutions (GGn) [rpm]    \\\n",
       "0                                          6677.38   \n",
       "1                                          6828.47   \n",
       "2                                          7111.81   \n",
       "3                                          7792.63   \n",
       "4                                          8494.78   \n",
       "\n",
       "   Starboard Propeller Torque (Ts) [kN]    Port Propeller Torque (Tp) [kN]    \\\n",
       "0                                    7.58                               7.58   \n",
       "1                                   28.20                              28.20   \n",
       "2                                   60.36                              60.36   \n",
       "3                                  113.77                             113.77   \n",
       "4                                  175.31                             175.31   \n",
       "\n",
       "   Hight Pressure (HP) Turbine exit temperature (T48) [C]    \\\n",
       "0                                             464.01          \n",
       "1                                             635.40          \n",
       "2                                             606.00          \n",
       "3                                             661.47          \n",
       "4                                             731.49          \n",
       "\n",
       "   GT Compressor inlet air temperature (T1) [C]    \\\n",
       "0                                             288   \n",
       "1                                             288   \n",
       "2                                             288   \n",
       "3                                             288   \n",
       "4                                             288   \n",
       "\n",
       "   GT Compressor outlet air temperature (T2) [C]    \\\n",
       "0                                           550.56   \n",
       "1                                           581.66   \n",
       "2                                           587.59   \n",
       "3                                           613.85   \n",
       "4                                           645.64   \n",
       "\n",
       "   HP Turbine exit pressure (P48) [bar]    \\\n",
       "0                                    1.10   \n",
       "1                                    1.33   \n",
       "2                                    1.39   \n",
       "3                                    1.66   \n",
       "4                                    2.08   \n",
       "\n",
       "   GT Compressor inlet air pressure (P1) [bar]    \\\n",
       "0                                           1.00   \n",
       "1                                           1.00   \n",
       "2                                           1.00   \n",
       "3                                           1.00   \n",
       "4                                           1.00   \n",
       "\n",
       "   GT Compressor outlet air pressure (P2) [bar]    \\\n",
       "0                                            5.95   \n",
       "1                                            7.28   \n",
       "2                                            7.57   \n",
       "3                                            9.01   \n",
       "4                                           11.20   \n",
       "\n",
       "   GT exhaust gas pressure (Pexh) [bar]    \\\n",
       "0                                    1.02   \n",
       "1                                    1.02   \n",
       "2                                    1.02   \n",
       "3                                    1.02   \n",
       "4                                    1.03   \n",
       "\n",
       "   Turbine Injecton Control (TIC) [%]    Fuel flow (mf) [kg/s]    \\\n",
       "0                                  7.14                     0.08   \n",
       "1                                 10.65                     0.29   \n",
       "2                                 13.09                     0.26   \n",
       "3                                 18.11                     0.36   \n",
       "4                                 26.37                     0.52   \n",
       "\n",
       "   GT Compressor decay state coefficient    \\\n",
       "0                                     0.95   \n",
       "1                                     0.95   \n",
       "2                                     0.95   \n",
       "3                                     0.95   \n",
       "4                                     0.95   \n",
       "\n",
       "   GT Turbine decay state coefficient   \n",
       "0                                 0.97  \n",
       "1                                 0.97  \n",
       "2                                 0.97  \n",
       "3                                 0.97  \n",
       "4                                 0.97  "
      ]
     },
     "execution_count": 2,
     "metadata": {},
     "output_type": "execute_result"
    }
   ],
   "source": [
    "df_original=pd.read_csv('data.csv')\n",
    "print(df_original.shape)\n",
    "print(df_original.columns)\n",
    "df_original.head()"
   ]
  },
  {
   "cell_type": "markdown",
   "metadata": {},
   "source": [
    "## About dataset: \n",
    "\n",
    "This dataset  is of Condition Based Maintenance of Naval Propulsion Plants Data Set taken from UCI- Machine Learning repository\n",
    "\n",
    "url\n",
    "\n",
    "https://data.world/uci/condition-based-maintenance-of-naval-propulsion-plants\n",
    "\n",
    "https://archive.ics.uci.edu/ml/datasets/Condition+Based+Maintenance+of+Naval+Propulsion+Plants\n"
   ]
  },
  {
   "cell_type": "markdown",
   "metadata": {},
   "source": [
    "### Renaming columns"
   ]
  },
  {
   "cell_type": "code",
   "execution_count": 3,
   "metadata": {},
   "outputs": [],
   "source": [
    "c=[]\n",
    "for i in range(len(df_original.columns)):\n",
    "    c.append('c'+str(i))\n",
    "    "
   ]
  },
  {
   "cell_type": "code",
   "execution_count": 4,
   "metadata": {},
   "outputs": [],
   "source": [
    "df=df_original.copy()"
   ]
  },
  {
   "cell_type": "code",
   "execution_count": 5,
   "metadata": {},
   "outputs": [],
   "source": [
    "df.columns=c"
   ]
  },
  {
   "cell_type": "code",
   "execution_count": 6,
   "metadata": {},
   "outputs": [
    {
     "data": {
      "text/html": [
       "<div><div id=7bd34b7b-12ea-4c19-894f-39ddb90f6c77 style=\"display:none; background-color:#9D6CFF; color:white; width:200px; height:30px; padding-left:5px; border-radius:4px; flex-direction:row; justify-content:space-around; align-items:center;\" onmouseover=\"this.style.backgroundColor='#BA9BF8'\" onmouseout=\"this.style.backgroundColor='#9D6CFF'\" onclick=\"window.commands?.execute('create-mitosheet-from-dataframe-output');\">See Full Dataframe in Mito</div> <script> if (window.commands.hasCommand('create-mitosheet-from-dataframe-output')) document.getElementById('7bd34b7b-12ea-4c19-894f-39ddb90f6c77').style.display = 'flex' </script> <table border=\"1\" class=\"dataframe\">\n",
       "  <thead>\n",
       "    <tr style=\"text-align: right;\">\n",
       "      <th></th>\n",
       "      <th>c0</th>\n",
       "      <th>c1</th>\n",
       "      <th>c2</th>\n",
       "      <th>c3</th>\n",
       "      <th>c4</th>\n",
       "      <th>c5</th>\n",
       "      <th>c6</th>\n",
       "      <th>c7</th>\n",
       "      <th>c8</th>\n",
       "      <th>c9</th>\n",
       "      <th>c10</th>\n",
       "      <th>c11</th>\n",
       "      <th>c12</th>\n",
       "      <th>c13</th>\n",
       "      <th>c14</th>\n",
       "      <th>c15</th>\n",
       "      <th>c16</th>\n",
       "      <th>c17</th>\n",
       "    </tr>\n",
       "  </thead>\n",
       "  <tbody>\n",
       "    <tr>\n",
       "      <th>0</th>\n",
       "      <td>1.14</td>\n",
       "      <td>3</td>\n",
       "      <td>289.96</td>\n",
       "      <td>1349.49</td>\n",
       "      <td>6677.38</td>\n",
       "      <td>7.58</td>\n",
       "      <td>7.58</td>\n",
       "      <td>464.01</td>\n",
       "      <td>288</td>\n",
       "      <td>550.56</td>\n",
       "      <td>1.10</td>\n",
       "      <td>1.00</td>\n",
       "      <td>5.95</td>\n",
       "      <td>1.02</td>\n",
       "      <td>7.14</td>\n",
       "      <td>0.08</td>\n",
       "      <td>0.95</td>\n",
       "      <td>0.97</td>\n",
       "    </tr>\n",
       "    <tr>\n",
       "      <th>1</th>\n",
       "      <td>2.09</td>\n",
       "      <td>6</td>\n",
       "      <td>6960.18</td>\n",
       "      <td>1376.17</td>\n",
       "      <td>6828.47</td>\n",
       "      <td>28.20</td>\n",
       "      <td>28.20</td>\n",
       "      <td>635.40</td>\n",
       "      <td>288</td>\n",
       "      <td>581.66</td>\n",
       "      <td>1.33</td>\n",
       "      <td>1.00</td>\n",
       "      <td>7.28</td>\n",
       "      <td>1.02</td>\n",
       "      <td>10.65</td>\n",
       "      <td>0.29</td>\n",
       "      <td>0.95</td>\n",
       "      <td>0.97</td>\n",
       "    </tr>\n",
       "    <tr>\n",
       "      <th>2</th>\n",
       "      <td>3.14</td>\n",
       "      <td>9</td>\n",
       "      <td>8379.23</td>\n",
       "      <td>1386.76</td>\n",
       "      <td>7111.81</td>\n",
       "      <td>60.36</td>\n",
       "      <td>60.36</td>\n",
       "      <td>606.00</td>\n",
       "      <td>288</td>\n",
       "      <td>587.59</td>\n",
       "      <td>1.39</td>\n",
       "      <td>1.00</td>\n",
       "      <td>7.57</td>\n",
       "      <td>1.02</td>\n",
       "      <td>13.09</td>\n",
       "      <td>0.26</td>\n",
       "      <td>0.95</td>\n",
       "      <td>0.97</td>\n",
       "    </tr>\n",
       "    <tr>\n",
       "      <th>3</th>\n",
       "      <td>4.16</td>\n",
       "      <td>12</td>\n",
       "      <td>14724.40</td>\n",
       "      <td>1547.46</td>\n",
       "      <td>7792.63</td>\n",
       "      <td>113.77</td>\n",
       "      <td>113.77</td>\n",
       "      <td>661.47</td>\n",
       "      <td>288</td>\n",
       "      <td>613.85</td>\n",
       "      <td>1.66</td>\n",
       "      <td>1.00</td>\n",
       "      <td>9.01</td>\n",
       "      <td>1.02</td>\n",
       "      <td>18.11</td>\n",
       "      <td>0.36</td>\n",
       "      <td>0.95</td>\n",
       "      <td>0.97</td>\n",
       "    </tr>\n",
       "    <tr>\n",
       "      <th>4</th>\n",
       "      <td>5.14</td>\n",
       "      <td>15</td>\n",
       "      <td>21636.43</td>\n",
       "      <td>1924.31</td>\n",
       "      <td>8494.78</td>\n",
       "      <td>175.31</td>\n",
       "      <td>175.31</td>\n",
       "      <td>731.49</td>\n",
       "      <td>288</td>\n",
       "      <td>645.64</td>\n",
       "      <td>2.08</td>\n",
       "      <td>1.00</td>\n",
       "      <td>11.20</td>\n",
       "      <td>1.03</td>\n",
       "      <td>26.37</td>\n",
       "      <td>0.52</td>\n",
       "      <td>0.95</td>\n",
       "      <td>0.97</td>\n",
       "    </tr>\n",
       "  </tbody>\n",
       "</table></div>"
      ],
      "text/plain": [
       "    c0  c1       c2      c3      c4     c5     c6     c7   c8     c9  c10  \\\n",
       "0 1.14   3   289.96 1349.49 6677.38   7.58   7.58 464.01  288 550.56 1.10   \n",
       "1 2.09   6  6960.18 1376.17 6828.47  28.20  28.20 635.40  288 581.66 1.33   \n",
       "2 3.14   9  8379.23 1386.76 7111.81  60.36  60.36 606.00  288 587.59 1.39   \n",
       "3 4.16  12 14724.40 1547.46 7792.63 113.77 113.77 661.47  288 613.85 1.66   \n",
       "4 5.14  15 21636.43 1924.31 8494.78 175.31 175.31 731.49  288 645.64 2.08   \n",
       "\n",
       "   c11   c12  c13   c14  c15  c16  c17  \n",
       "0 1.00  5.95 1.02  7.14 0.08 0.95 0.97  \n",
       "1 1.00  7.28 1.02 10.65 0.29 0.95 0.97  \n",
       "2 1.00  7.57 1.02 13.09 0.26 0.95 0.97  \n",
       "3 1.00  9.01 1.02 18.11 0.36 0.95 0.97  \n",
       "4 1.00 11.20 1.03 26.37 0.52 0.95 0.97  "
      ]
     },
     "execution_count": 6,
     "metadata": {},
     "output_type": "execute_result"
    }
   ],
   "source": [
    "df.head()"
   ]
  },
  {
   "cell_type": "code",
   "execution_count": 7,
   "metadata": {},
   "outputs": [
    {
     "name": "stdout",
     "output_type": "stream",
     "text": [
      "(11934, 18)\n",
      "c0     float64\n",
      "c1       int64\n",
      "c2     float64\n",
      "c3     float64\n",
      "c4     float64\n",
      "c5     float64\n",
      "c6     float64\n",
      "c7     float64\n",
      "c8       int64\n",
      "c9     float64\n",
      "c10    float64\n",
      "c11    float64\n",
      "c12    float64\n",
      "c13    float64\n",
      "c14    float64\n",
      "c15    float64\n",
      "c16    float64\n",
      "c17    float64\n",
      "dtype: object\n"
     ]
    },
    {
     "data": {
      "text/plain": [
       "c0     0\n",
       "c1     0\n",
       "c2     0\n",
       "c3     0\n",
       "c4     0\n",
       "c5     0\n",
       "c6     0\n",
       "c7     0\n",
       "c8     0\n",
       "c9     0\n",
       "c10    0\n",
       "c11    0\n",
       "c12    0\n",
       "c13    0\n",
       "c14    0\n",
       "c15    0\n",
       "c16    0\n",
       "c17    0\n",
       "dtype: int64"
      ]
     },
     "execution_count": 7,
     "metadata": {},
     "output_type": "execute_result"
    }
   ],
   "source": [
    "print(df.shape)\n",
    "print(df.dtypes)\n",
    "df.isna().sum()"
   ]
  },
  {
   "cell_type": "code",
   "execution_count": 8,
   "metadata": {},
   "outputs": [
    {
     "data": {
      "text/plain": [
       "c0     float64\n",
       "c1     float64\n",
       "c2     float64\n",
       "c3     float64\n",
       "c4     float64\n",
       "c5     float64\n",
       "c6     float64\n",
       "c7     float64\n",
       "c8     float64\n",
       "c9     float64\n",
       "c10    float64\n",
       "c11    float64\n",
       "c12    float64\n",
       "c13    float64\n",
       "c14    float64\n",
       "c15    float64\n",
       "c16    float64\n",
       "c17    float64\n",
       "dtype: object"
      ]
     },
     "execution_count": 8,
     "metadata": {},
     "output_type": "execute_result"
    }
   ],
   "source": [
    "df=df.astype(float)\n",
    "df.dtypes"
   ]
  },
  {
   "cell_type": "markdown",
   "metadata": {},
   "source": [
    "## Feature Selection "
   ]
  },
  {
   "cell_type": "code",
   "execution_count": 9,
   "metadata": {},
   "outputs": [
    {
     "name": "stdout",
     "output_type": "stream",
     "text": [
      "(11934, 17)\n"
     ]
    },
    {
     "data": {
      "image/png": "[encoded data removed]",
      "text/plain": [
       "<Figure size 1296x504 with 1 Axes>"
      ]
     },
     "metadata": {
      "needs_background": "light"
     },
     "output_type": "display_data"
    },
    {
     "name": "stdout",
     "output_type": "stream",
     "text": [
      "Index(['c12', 'c2', 'c14', 'c15', 'c4', 'c3', 'c10', 'c7', 'c6', 'c17'], dtype='object')\n"
     ]
    }
   ],
   "source": [
    "X=df.drop(columns='c17')\n",
    "print(X.shape)\n",
    "y= df.c17\n",
    "\n",
    "\n",
    "trainX, testX, trainy, testy = train_test_split(X, y, test_size=0.3, random_state=2)\n",
    "    \n",
    "    \n",
    "clfRF = RandomForestRegressor(max_depth=5, max_features=4, min_samples_split=8,\n",
    "                n_estimators=100)#, random_state=0)\n",
    "clfRF.fit(trainX, trainy)\n",
    "importance_rf = pd.Series(clfRF.feature_importances_, index=trainX.columns)\n",
    "    \n",
    "\n",
    "clfGB = GradientBoostingRegressor(max_depth=2,n_estimators=50)#, random_state=0)\n",
    "clfGB.fit(trainX, trainy)\n",
    "importance_GB = pd.Series(clfGB.feature_importances_, index=trainX.columns)\n",
    "\n",
    "importance_sorted = importance_GB + importance_rf\n",
    "\n",
    "importance_sorted = importance_rf.sort_values()\n",
    "\n",
    "\n",
    "plt.figure(figsize=(18, 7))\n",
    "importance_sorted.nlargest(20).plot(kind='barh', color='orange')\n",
    "\n",
    "plt.title(\"Feature Importance Random Forest+ Gradient Boosting\")\n",
    "plt.show()\n",
    "\n",
    "\n",
    "z= int(0.5*len(df.columns))\n",
    "z\n",
    "\n",
    "b=importance_sorted.nlargest(z)\n",
    "\n",
    "col = list(b.index)\n",
    "\n",
    "col.append('c17')\n",
    "col\n",
    "\n",
    "dfr =df[col]\n",
    "\n",
    "print(dfr.columns)"
   ]
  },
  {
   "cell_type": "markdown",
   "metadata": {},
   "source": [
    "### Chose the best 50% features"
   ]
  },
  {
   "cell_type": "code",
   "execution_count": null,
   "metadata": {},
   "outputs": [],
   "source": []
  },
  {
   "cell_type": "markdown",
   "metadata": {},
   "source": [
    "# EDA on the best features dataset"
   ]
  },
  {
   "cell_type": "code",
   "execution_count": 10,
   "metadata": {},
   "outputs": [
    {
     "data": {
      "text/html": [
       "<div><div id=b19ee875-b64b-474b-aea4-90f4cf49ae0c style=\"display:none; background-color:#9D6CFF; color:white; width:200px; height:30px; padding-left:5px; border-radius:4px; flex-direction:row; justify-content:space-around; align-items:center;\" onmouseover=\"this.style.backgroundColor='#BA9BF8'\" onmouseout=\"this.style.backgroundColor='#9D6CFF'\" onclick=\"window.commands?.execute('create-mitosheet-from-dataframe-output');\">See Full Dataframe in Mito</div> <script> if (window.commands.hasCommand('create-mitosheet-from-dataframe-output')) document.getElementById('b19ee875-b64b-474b-aea4-90f4cf49ae0c').style.display = 'flex' </script> <table border=\"1\" class=\"dataframe\">\n",
       "  <thead>\n",
       "    <tr style=\"text-align: right;\">\n",
       "      <th></th>\n",
       "      <th>c12</th>\n",
       "      <th>c2</th>\n",
       "      <th>c14</th>\n",
       "      <th>c15</th>\n",
       "      <th>c4</th>\n",
       "      <th>c3</th>\n",
       "      <th>c10</th>\n",
       "      <th>c7</th>\n",
       "      <th>c6</th>\n",
       "      <th>c17</th>\n",
       "    </tr>\n",
       "  </thead>\n",
       "  <tbody>\n",
       "    <tr>\n",
       "      <th>0</th>\n",
       "      <td>5.95</td>\n",
       "      <td>289.96</td>\n",
       "      <td>7.14</td>\n",
       "      <td>0.08</td>\n",
       "      <td>6677.38</td>\n",
       "      <td>1349.49</td>\n",
       "      <td>1.10</td>\n",
       "      <td>464.01</td>\n",
       "      <td>7.58</td>\n",
       "      <td>0.97</td>\n",
       "    </tr>\n",
       "    <tr>\n",
       "      <th>1</th>\n",
       "      <td>7.28</td>\n",
       "      <td>6960.18</td>\n",
       "      <td>10.65</td>\n",
       "      <td>0.29</td>\n",
       "      <td>6828.47</td>\n",
       "      <td>1376.17</td>\n",
       "      <td>1.33</td>\n",
       "      <td>635.40</td>\n",
       "      <td>28.20</td>\n",
       "      <td>0.97</td>\n",
       "    </tr>\n",
       "    <tr>\n",
       "      <th>2</th>\n",
       "      <td>7.57</td>\n",
       "      <td>8379.23</td>\n",
       "      <td>13.09</td>\n",
       "      <td>0.26</td>\n",
       "      <td>7111.81</td>\n",
       "      <td>1386.76</td>\n",
       "      <td>1.39</td>\n",
       "      <td>606.00</td>\n",
       "      <td>60.36</td>\n",
       "      <td>0.97</td>\n",
       "    </tr>\n",
       "    <tr>\n",
       "      <th>3</th>\n",
       "      <td>9.01</td>\n",
       "      <td>14724.40</td>\n",
       "      <td>18.11</td>\n",
       "      <td>0.36</td>\n",
       "      <td>7792.63</td>\n",
       "      <td>1547.46</td>\n",
       "      <td>1.66</td>\n",
       "      <td>661.47</td>\n",
       "      <td>113.77</td>\n",
       "      <td>0.97</td>\n",
       "    </tr>\n",
       "    <tr>\n",
       "      <th>4</th>\n",
       "      <td>11.20</td>\n",
       "      <td>21636.43</td>\n",
       "      <td>26.37</td>\n",
       "      <td>0.52</td>\n",
       "      <td>8494.78</td>\n",
       "      <td>1924.31</td>\n",
       "      <td>2.08</td>\n",
       "      <td>731.49</td>\n",
       "      <td>175.31</td>\n",
       "      <td>0.97</td>\n",
       "    </tr>\n",
       "  </tbody>\n",
       "</table></div>"
      ],
      "text/plain": [
       "    c12       c2   c14  c15      c4      c3  c10     c7     c6  c17\n",
       "0  5.95   289.96  7.14 0.08 6677.38 1349.49 1.10 464.01   7.58 0.97\n",
       "1  7.28  6960.18 10.65 0.29 6828.47 1376.17 1.33 635.40  28.20 0.97\n",
       "2  7.57  8379.23 13.09 0.26 7111.81 1386.76 1.39 606.00  60.36 0.97\n",
       "3  9.01 14724.40 18.11 0.36 7792.63 1547.46 1.66 661.47 113.77 0.97\n",
       "4 11.20 21636.43 26.37 0.52 8494.78 1924.31 2.08 731.49 175.31 0.97"
      ]
     },
     "execution_count": 10,
     "metadata": {},
     "output_type": "execute_result"
    }
   ],
   "source": [
    "dfr.head()"
   ]
  },
  {
   "cell_type": "code",
   "execution_count": 11,
   "metadata": {},
   "outputs": [
    {
     "data": {
      "text/plain": [
       "(11934, 10)"
      ]
     },
     "execution_count": 11,
     "metadata": {},
     "output_type": "execute_result"
    }
   ],
   "source": [
    "dfr.shape\n"
   ]
  },
  {
   "cell_type": "code",
   "execution_count": null,
   "metadata": {},
   "outputs": [],
   "source": []
  },
  {
   "cell_type": "markdown",
   "metadata": {},
   "source": [
    "### Checking distplot of all remaining Features"
   ]
  },
  {
   "cell_type": "code",
   "execution_count": 12,
   "metadata": {},
   "outputs": [
    {
     "data": {
      "image/png": "[encoded data removed]",
      "text/plain": [
       "<Figure size 1800x5760 with 10 Axes>"
      ]
     },
     "metadata": {
      "needs_background": "light"
     },
     "output_type": "display_data"
    }
   ],
   "source": [
    "k=int(len(dfr.columns)/2)+1\n",
    "\n",
    "plt.figure(figsize=(25, 80))\n",
    "\n",
    "for i, col in enumerate(dfr.columns):\n",
    "\n",
    "    plt.subplot(k, 2, i+1)\n",
    "    try:\n",
    "        sns.distplot(dfr[col])\n",
    "        # plt.hist(dfr[col])\n",
    "        plt.tight_layout()\n",
    "        plt.title(col,size=30)\n",
    "        plt.xlabel(\"Values\")\n",
    "        plt.ylabel(\"Counts\")\n",
    "    except:\n",
    "        print(col)"
   ]
  },
  {
   "cell_type": "markdown",
   "metadata": {},
   "source": [
    "### C4 distribution is not close to normal, whereas other columns distribution is skewed and somewaht normala gaussian"
   ]
  },
  {
   "cell_type": "markdown",
   "metadata": {},
   "source": [
    "#### Removing C4 also"
   ]
  },
  {
   "cell_type": "code",
   "execution_count": 13,
   "metadata": {},
   "outputs": [
    {
     "name": "stdout",
     "output_type": "stream",
     "text": [
      "(11934, 10)\n",
      "(11934, 9)\n"
     ]
    }
   ],
   "source": [
    "print(dfr.shape)\n",
    "df_n=dfr.drop(columns='c4')\n",
    "print(df_n.shape)"
   ]
  },
  {
   "cell_type": "code",
   "execution_count": 14,
   "metadata": {},
   "outputs": [],
   "source": [
    "df_s=df_n.copy()"
   ]
  },
  {
   "cell_type": "code",
   "execution_count": 15,
   "metadata": {},
   "outputs": [
    {
     "data": {
      "text/html": [
       "<div><div id=65b6b81c-cdf8-4065-a061-0b8c1b6d8485 style=\"display:none; background-color:#9D6CFF; color:white; width:200px; height:30px; padding-left:5px; border-radius:4px; flex-direction:row; justify-content:space-around; align-items:center;\" onmouseover=\"this.style.backgroundColor='#BA9BF8'\" onmouseout=\"this.style.backgroundColor='#9D6CFF'\" onclick=\"window.commands?.execute('create-mitosheet-from-dataframe-output');\">See Full Dataframe in Mito</div> <script> if (window.commands.hasCommand('create-mitosheet-from-dataframe-output')) document.getElementById('65b6b81c-cdf8-4065-a061-0b8c1b6d8485').style.display = 'flex' </script> <table border=\"1\" class=\"dataframe\">\n",
       "  <thead>\n",
       "    <tr style=\"text-align: right;\">\n",
       "      <th></th>\n",
       "      <th>c12</th>\n",
       "      <th>c2</th>\n",
       "      <th>c14</th>\n",
       "      <th>c15</th>\n",
       "      <th>c3</th>\n",
       "      <th>c10</th>\n",
       "      <th>c7</th>\n",
       "      <th>c6</th>\n",
       "      <th>c17</th>\n",
       "    </tr>\n",
       "  </thead>\n",
       "  <tbody>\n",
       "    <tr>\n",
       "      <th>0</th>\n",
       "      <td>5.95</td>\n",
       "      <td>289.96</td>\n",
       "      <td>7.14</td>\n",
       "      <td>0.08</td>\n",
       "      <td>1349.49</td>\n",
       "      <td>1.10</td>\n",
       "      <td>464.01</td>\n",
       "      <td>7.58</td>\n",
       "      <td>0.97</td>\n",
       "    </tr>\n",
       "    <tr>\n",
       "      <th>1</th>\n",
       "      <td>7.28</td>\n",
       "      <td>6960.18</td>\n",
       "      <td>10.65</td>\n",
       "      <td>0.29</td>\n",
       "      <td>1376.17</td>\n",
       "      <td>1.33</td>\n",
       "      <td>635.40</td>\n",
       "      <td>28.20</td>\n",
       "      <td>0.97</td>\n",
       "    </tr>\n",
       "    <tr>\n",
       "      <th>2</th>\n",
       "      <td>7.57</td>\n",
       "      <td>8379.23</td>\n",
       "      <td>13.09</td>\n",
       "      <td>0.26</td>\n",
       "      <td>1386.76</td>\n",
       "      <td>1.39</td>\n",
       "      <td>606.00</td>\n",
       "      <td>60.36</td>\n",
       "      <td>0.97</td>\n",
       "    </tr>\n",
       "    <tr>\n",
       "      <th>3</th>\n",
       "      <td>9.01</td>\n",
       "      <td>14724.40</td>\n",
       "      <td>18.11</td>\n",
       "      <td>0.36</td>\n",
       "      <td>1547.46</td>\n",
       "      <td>1.66</td>\n",
       "      <td>661.47</td>\n",
       "      <td>113.77</td>\n",
       "      <td>0.97</td>\n",
       "    </tr>\n",
       "    <tr>\n",
       "      <th>4</th>\n",
       "      <td>11.20</td>\n",
       "      <td>21636.43</td>\n",
       "      <td>26.37</td>\n",
       "      <td>0.52</td>\n",
       "      <td>1924.31</td>\n",
       "      <td>2.08</td>\n",
       "      <td>731.49</td>\n",
       "      <td>175.31</td>\n",
       "      <td>0.97</td>\n",
       "    </tr>\n",
       "  </tbody>\n",
       "</table></div>"
      ],
      "text/plain": [
       "    c12       c2   c14  c15      c3  c10     c7     c6  c17\n",
       "0  5.95   289.96  7.14 0.08 1349.49 1.10 464.01   7.58 0.97\n",
       "1  7.28  6960.18 10.65 0.29 1376.17 1.33 635.40  28.20 0.97\n",
       "2  7.57  8379.23 13.09 0.26 1386.76 1.39 606.00  60.36 0.97\n",
       "3  9.01 14724.40 18.11 0.36 1547.46 1.66 661.47 113.77 0.97\n",
       "4 11.20 21636.43 26.37 0.52 1924.31 2.08 731.49 175.31 0.97"
      ]
     },
     "execution_count": 15,
     "metadata": {},
     "output_type": "execute_result"
    }
   ],
   "source": [
    "df_s.head()"
   ]
  },
  {
   "cell_type": "code",
   "execution_count": 16,
   "metadata": {},
   "outputs": [
    {
     "data": {
      "text/html": [
       "<div><div id=45132a1d-5479-4741-aa3c-4c48283cce63 style=\"display:none; background-color:#9D6CFF; color:white; width:200px; height:30px; padding-left:5px; border-radius:4px; flex-direction:row; justify-content:space-around; align-items:center;\" onmouseover=\"this.style.backgroundColor='#BA9BF8'\" onmouseout=\"this.style.backgroundColor='#9D6CFF'\" onclick=\"window.commands?.execute('create-mitosheet-from-dataframe-output');\">See Full Dataframe in Mito</div> <script> if (window.commands.hasCommand('create-mitosheet-from-dataframe-output')) document.getElementById('45132a1d-5479-4741-aa3c-4c48283cce63').style.display = 'flex' </script> <table border=\"1\" class=\"dataframe\">\n",
       "  <thead>\n",
       "    <tr style=\"text-align: right;\">\n",
       "      <th></th>\n",
       "      <th>c12</th>\n",
       "      <th>c2</th>\n",
       "      <th>c14</th>\n",
       "      <th>c15</th>\n",
       "      <th>c3</th>\n",
       "      <th>c10</th>\n",
       "      <th>c7</th>\n",
       "      <th>c6</th>\n",
       "      <th>c17</th>\n",
       "    </tr>\n",
       "  </thead>\n",
       "  <tbody>\n",
       "    <tr>\n",
       "      <th>0</th>\n",
       "      <td>0.69</td>\n",
       "      <td>0.05</td>\n",
       "      <td>7.71</td>\n",
       "      <td>0.79</td>\n",
       "      <td>1.86</td>\n",
       "      <td>0.09</td>\n",
       "      <td>3.21</td>\n",
       "      <td>0.36</td>\n",
       "      <td>0.00</td>\n",
       "    </tr>\n",
       "    <tr>\n",
       "      <th>1</th>\n",
       "      <td>8.40</td>\n",
       "      <td>9.25</td>\n",
       "      <td>11.51</td>\n",
       "      <td>12.41</td>\n",
       "      <td>3.04</td>\n",
       "      <td>6.86</td>\n",
       "      <td>28.66</td>\n",
       "      <td>3.58</td>\n",
       "      <td>0.00</td>\n",
       "    </tr>\n",
       "    <tr>\n",
       "      <th>2</th>\n",
       "      <td>10.09</td>\n",
       "      <td>11.20</td>\n",
       "      <td>14.14</td>\n",
       "      <td>10.83</td>\n",
       "      <td>3.51</td>\n",
       "      <td>8.54</td>\n",
       "      <td>24.30</td>\n",
       "      <td>8.60</td>\n",
       "      <td>0.00</td>\n",
       "    </tr>\n",
       "    <tr>\n",
       "      <th>3</th>\n",
       "      <td>18.36</td>\n",
       "      <td>19.95</td>\n",
       "      <td>19.57</td>\n",
       "      <td>16.44</td>\n",
       "      <td>10.64</td>\n",
       "      <td>16.30</td>\n",
       "      <td>32.54</td>\n",
       "      <td>16.95</td>\n",
       "      <td>0.00</td>\n",
       "    </tr>\n",
       "    <tr>\n",
       "      <th>4</th>\n",
       "      <td>31.01</td>\n",
       "      <td>29.48</td>\n",
       "      <td>28.49</td>\n",
       "      <td>25.74</td>\n",
       "      <td>27.37</td>\n",
       "      <td>28.41</td>\n",
       "      <td>42.93</td>\n",
       "      <td>26.57</td>\n",
       "      <td>0.00</td>\n",
       "    </tr>\n",
       "  </tbody>\n",
       "</table></div>"
      ],
      "text/plain": [
       "    c12    c2   c14   c15    c3   c10    c7    c6  c17\n",
       "0  0.69  0.05  7.71  0.79  1.86  0.09  3.21  0.36 0.00\n",
       "1  8.40  9.25 11.51 12.41  3.04  6.86 28.66  3.58 0.00\n",
       "2 10.09 11.20 14.14 10.83  3.51  8.54 24.30  8.60 0.00\n",
       "3 18.36 19.95 19.57 16.44 10.64 16.30 32.54 16.95 0.00\n",
       "4 31.01 29.48 28.49 25.74 27.37 28.41 42.93 26.57 0.00"
      ]
     },
     "execution_count": 16,
     "metadata": {},
     "output_type": "execute_result"
    }
   ],
   "source": [
    "# from sklearn.preprocessing import MinMaxScaler\n",
    "scaler = MinMaxScaler(feature_range=(0, 100))\n",
    "X2_Scaled = scaler.fit_transform(df_s)\n",
    "df_n = pd.DataFrame(X2_Scaled)\n",
    "df_n.columns = df_s.columns\n",
    "df_n.head()"
   ]
  },
  {
   "cell_type": "code",
   "execution_count": 17,
   "metadata": {},
   "outputs": [
    {
     "data": {
      "text/plain": [
       "0.00      459\n",
       "68.00     459\n",
       "48.00     459\n",
       "80.00     459\n",
       "72.00     459\n",
       "12.00     459\n",
       "44.00     459\n",
       "100.00    459\n",
       "32.00     459\n",
       "76.00     459\n",
       "88.00     459\n",
       "24.00     459\n",
       "56.00     459\n",
       "36.00     459\n",
       "96.00     459\n",
       "8.00      459\n",
       "60.00     459\n",
       "4.00      459\n",
       "40.00     459\n",
       "84.00     459\n",
       "28.00     459\n",
       "52.00     459\n",
       "92.00     459\n",
       "20.00     459\n",
       "64.00     459\n",
       "16.00     459\n",
       "Name: c17, dtype: int64"
      ]
     },
     "execution_count": 17,
     "metadata": {},
     "output_type": "execute_result"
    }
   ],
   "source": [
    "df_n.c17.value_counts()"
   ]
  },
  {
   "cell_type": "markdown",
   "metadata": {},
   "source": [
    "# Finding probabbilties of all columns and joint probabilty"
   ]
  },
  {
   "cell_type": "code",
   "execution_count": 18,
   "metadata": {},
   "outputs": [
    {
     "data": {
      "text/html": [
       "<div><div id=104415a5-45a9-4e5e-a4d5-378ed4e9dcc8 style=\"display:none; background-color:#9D6CFF; color:white; width:200px; height:30px; padding-left:5px; border-radius:4px; flex-direction:row; justify-content:space-around; align-items:center;\" onmouseover=\"this.style.backgroundColor='#BA9BF8'\" onmouseout=\"this.style.backgroundColor='#9D6CFF'\" onclick=\"window.commands?.execute('create-mitosheet-from-dataframe-output');\">See Full Dataframe in Mito</div> <script> if (window.commands.hasCommand('create-mitosheet-from-dataframe-output')) document.getElementById('104415a5-45a9-4e5e-a4d5-378ed4e9dcc8').style.display = 'flex' </script> <table border=\"1\" class=\"dataframe\">\n",
       "  <thead>\n",
       "    <tr style=\"text-align: right;\">\n",
       "      <th></th>\n",
       "      <th>c12</th>\n",
       "      <th>c2</th>\n",
       "      <th>c14</th>\n",
       "      <th>c15</th>\n",
       "      <th>c3</th>\n",
       "      <th>c10</th>\n",
       "      <th>c7</th>\n",
       "      <th>c6</th>\n",
       "      <th>c17</th>\n",
       "    </tr>\n",
       "  </thead>\n",
       "  <tbody>\n",
       "    <tr>\n",
       "      <th>0</th>\n",
       "      <td>5.95</td>\n",
       "      <td>289.96</td>\n",
       "      <td>7.14</td>\n",
       "      <td>0.08</td>\n",
       "      <td>1349.49</td>\n",
       "      <td>1.10</td>\n",
       "      <td>464.01</td>\n",
       "      <td>7.58</td>\n",
       "      <td>0.97</td>\n",
       "    </tr>\n",
       "    <tr>\n",
       "      <th>1</th>\n",
       "      <td>7.28</td>\n",
       "      <td>6960.18</td>\n",
       "      <td>10.65</td>\n",
       "      <td>0.29</td>\n",
       "      <td>1376.17</td>\n",
       "      <td>1.33</td>\n",
       "      <td>635.40</td>\n",
       "      <td>28.20</td>\n",
       "      <td>0.97</td>\n",
       "    </tr>\n",
       "    <tr>\n",
       "      <th>2</th>\n",
       "      <td>7.57</td>\n",
       "      <td>8379.23</td>\n",
       "      <td>13.09</td>\n",
       "      <td>0.26</td>\n",
       "      <td>1386.76</td>\n",
       "      <td>1.39</td>\n",
       "      <td>606.00</td>\n",
       "      <td>60.36</td>\n",
       "      <td>0.97</td>\n",
       "    </tr>\n",
       "    <tr>\n",
       "      <th>3</th>\n",
       "      <td>9.01</td>\n",
       "      <td>14724.40</td>\n",
       "      <td>18.11</td>\n",
       "      <td>0.36</td>\n",
       "      <td>1547.46</td>\n",
       "      <td>1.66</td>\n",
       "      <td>661.47</td>\n",
       "      <td>113.77</td>\n",
       "      <td>0.97</td>\n",
       "    </tr>\n",
       "    <tr>\n",
       "      <th>4</th>\n",
       "      <td>11.20</td>\n",
       "      <td>21636.43</td>\n",
       "      <td>26.37</td>\n",
       "      <td>0.52</td>\n",
       "      <td>1924.31</td>\n",
       "      <td>2.08</td>\n",
       "      <td>731.49</td>\n",
       "      <td>175.31</td>\n",
       "      <td>0.97</td>\n",
       "    </tr>\n",
       "  </tbody>\n",
       "</table></div>"
      ],
      "text/plain": [
       "    c12       c2   c14  c15      c3  c10     c7     c6  c17\n",
       "0  5.95   289.96  7.14 0.08 1349.49 1.10 464.01   7.58 0.97\n",
       "1  7.28  6960.18 10.65 0.29 1376.17 1.33 635.40  28.20 0.97\n",
       "2  7.57  8379.23 13.09 0.26 1386.76 1.39 606.00  60.36 0.97\n",
       "3  9.01 14724.40 18.11 0.36 1547.46 1.66 661.47 113.77 0.97\n",
       "4 11.20 21636.43 26.37 0.52 1924.31 2.08 731.49 175.31 0.97"
      ]
     },
     "execution_count": 18,
     "metadata": {},
     "output_type": "execute_result"
    }
   ],
   "source": [
    "df_s.head()"
   ]
  },
  {
   "cell_type": "code",
   "execution_count": 19,
   "metadata": {},
   "outputs": [
    {
     "data": {
      "text/html": [
       "<div><div id=71b16a66-e288-4e84-bc80-a0de9631fea0 style=\"display:none; background-color:#9D6CFF; color:white; width:200px; height:30px; padding-left:5px; border-radius:4px; flex-direction:row; justify-content:space-around; align-items:center;\" onmouseover=\"this.style.backgroundColor='#BA9BF8'\" onmouseout=\"this.style.backgroundColor='#9D6CFF'\" onclick=\"window.commands?.execute('create-mitosheet-from-dataframe-output');\">See Full Dataframe in Mito</div> <script> if (window.commands.hasCommand('create-mitosheet-from-dataframe-output')) document.getElementById('71b16a66-e288-4e84-bc80-a0de9631fea0').style.display = 'flex' </script> <table border=\"1\" class=\"dataframe\">\n",
       "  <thead>\n",
       "    <tr style=\"text-align: right;\">\n",
       "      <th></th>\n",
       "      <th>c12</th>\n",
       "      <th>c2</th>\n",
       "      <th>c14</th>\n",
       "      <th>c15</th>\n",
       "      <th>c3</th>\n",
       "      <th>c10</th>\n",
       "      <th>c7</th>\n",
       "      <th>c6</th>\n",
       "      <th>c17</th>\n",
       "    </tr>\n",
       "  </thead>\n",
       "  <tbody>\n",
       "    <tr>\n",
       "      <th>count</th>\n",
       "      <td>11934.00</td>\n",
       "      <td>11934.00</td>\n",
       "      <td>11934.00</td>\n",
       "      <td>11934.00</td>\n",
       "      <td>11934.00</td>\n",
       "      <td>11934.00</td>\n",
       "      <td>11934.00</td>\n",
       "      <td>11934.00</td>\n",
       "      <td>11934.00</td>\n",
       "    </tr>\n",
       "    <tr>\n",
       "      <th>mean</th>\n",
       "      <td>12.30</td>\n",
       "      <td>27247.50</td>\n",
       "      <td>33.64</td>\n",
       "      <td>0.66</td>\n",
       "      <td>2136.29</td>\n",
       "      <td>2.35</td>\n",
       "      <td>735.50</td>\n",
       "      <td>227.34</td>\n",
       "      <td>0.99</td>\n",
       "    </tr>\n",
       "    <tr>\n",
       "      <th>std</th>\n",
       "      <td>5.34</td>\n",
       "      <td>22148.61</td>\n",
       "      <td>25.84</td>\n",
       "      <td>0.51</td>\n",
       "      <td>774.08</td>\n",
       "      <td>1.08</td>\n",
       "      <td>173.68</td>\n",
       "      <td>200.50</td>\n",
       "      <td>0.01</td>\n",
       "    </tr>\n",
       "    <tr>\n",
       "      <th>min</th>\n",
       "      <td>5.83</td>\n",
       "      <td>253.55</td>\n",
       "      <td>0.00</td>\n",
       "      <td>0.07</td>\n",
       "      <td>1307.67</td>\n",
       "      <td>1.09</td>\n",
       "      <td>442.36</td>\n",
       "      <td>5.30</td>\n",
       "      <td>0.97</td>\n",
       "    </tr>\n",
       "    <tr>\n",
       "      <th>25%</th>\n",
       "      <td>7.45</td>\n",
       "      <td>8375.88</td>\n",
       "      <td>13.68</td>\n",
       "      <td>0.25</td>\n",
       "      <td>1386.76</td>\n",
       "      <td>1.39</td>\n",
       "      <td>589.87</td>\n",
       "      <td>60.32</td>\n",
       "      <td>0.98</td>\n",
       "    </tr>\n",
       "    <tr>\n",
       "      <th>50%</th>\n",
       "      <td>11.09</td>\n",
       "      <td>21630.66</td>\n",
       "      <td>25.28</td>\n",
       "      <td>0.50</td>\n",
       "      <td>1924.33</td>\n",
       "      <td>2.08</td>\n",
       "      <td>706.04</td>\n",
       "      <td>175.27</td>\n",
       "      <td>0.99</td>\n",
       "    </tr>\n",
       "    <tr>\n",
       "      <th>75%</th>\n",
       "      <td>15.66</td>\n",
       "      <td>39001.43</td>\n",
       "      <td>44.55</td>\n",
       "      <td>0.88</td>\n",
       "      <td>2678.08</td>\n",
       "      <td>2.98</td>\n",
       "      <td>834.07</td>\n",
       "      <td>332.36</td>\n",
       "      <td>0.99</td>\n",
       "    </tr>\n",
       "    <tr>\n",
       "      <th>max</th>\n",
       "      <td>23.14</td>\n",
       "      <td>72784.87</td>\n",
       "      <td>92.56</td>\n",
       "      <td>1.83</td>\n",
       "      <td>3560.74</td>\n",
       "      <td>4.56</td>\n",
       "      <td>1115.80</td>\n",
       "      <td>645.25</td>\n",
       "      <td>1.00</td>\n",
       "    </tr>\n",
       "  </tbody>\n",
       "</table></div>"
      ],
      "text/plain": [
       "           c12       c2      c14      c15       c3      c10       c7       c6  \\\n",
       "count 11934.00 11934.00 11934.00 11934.00 11934.00 11934.00 11934.00 11934.00   \n",
       "mean     12.30 27247.50    33.64     0.66  2136.29     2.35   735.50   227.34   \n",
       "std       5.34 22148.61    25.84     0.51   774.08     1.08   173.68   200.50   \n",
       "min       5.83   253.55     0.00     0.07  1307.67     1.09   442.36     5.30   \n",
       "25%       7.45  8375.88    13.68     0.25  1386.76     1.39   589.87    60.32   \n",
       "50%      11.09 21630.66    25.28     0.50  1924.33     2.08   706.04   175.27   \n",
       "75%      15.66 39001.43    44.55     0.88  2678.08     2.98   834.07   332.36   \n",
       "max      23.14 72784.87    92.56     1.83  3560.74     4.56  1115.80   645.25   \n",
       "\n",
       "           c17  \n",
       "count 11934.00  \n",
       "mean      0.99  \n",
       "std       0.01  \n",
       "min       0.97  \n",
       "25%       0.98  \n",
       "50%       0.99  \n",
       "75%       0.99  \n",
       "max       1.00  "
      ]
     },
     "execution_count": 19,
     "metadata": {},
     "output_type": "execute_result"
    }
   ],
   "source": [
    "df_s.describe()"
   ]
  },
  {
   "cell_type": "code",
   "execution_count": 20,
   "metadata": {},
   "outputs": [
    {
     "data": {
      "text/html": [
       "<div><div id=c8ab95f7-94c8-47de-8c03-c7b29f49b8bc style=\"display:none; background-color:#9D6CFF; color:white; width:200px; height:30px; padding-left:5px; border-radius:4px; flex-direction:row; justify-content:space-around; align-items:center;\" onmouseover=\"this.style.backgroundColor='#BA9BF8'\" onmouseout=\"this.style.backgroundColor='#9D6CFF'\" onclick=\"window.commands?.execute('create-mitosheet-from-dataframe-output');\">See Full Dataframe in Mito</div> <script> if (window.commands.hasCommand('create-mitosheet-from-dataframe-output')) document.getElementById('c8ab95f7-94c8-47de-8c03-c7b29f49b8bc').style.display = 'flex' </script> <table border=\"1\" class=\"dataframe\">\n",
       "  <thead>\n",
       "    <tr style=\"text-align: right;\">\n",
       "      <th></th>\n",
       "      <th>c12</th>\n",
       "      <th>c2</th>\n",
       "      <th>c14</th>\n",
       "      <th>c15</th>\n",
       "      <th>c3</th>\n",
       "      <th>c10</th>\n",
       "      <th>c7</th>\n",
       "      <th>c6</th>\n",
       "      <th>c17</th>\n",
       "    </tr>\n",
       "  </thead>\n",
       "  <tbody>\n",
       "    <tr>\n",
       "      <th>count</th>\n",
       "      <td>11934.00</td>\n",
       "      <td>11934.00</td>\n",
       "      <td>11934.00</td>\n",
       "      <td>11934.00</td>\n",
       "      <td>11934.00</td>\n",
       "      <td>11934.00</td>\n",
       "      <td>11934.00</td>\n",
       "      <td>11934.00</td>\n",
       "      <td>11934.00</td>\n",
       "    </tr>\n",
       "    <tr>\n",
       "      <th>mean</th>\n",
       "      <td>37.37</td>\n",
       "      <td>37.22</td>\n",
       "      <td>36.35</td>\n",
       "      <td>33.70</td>\n",
       "      <td>36.78</td>\n",
       "      <td>36.34</td>\n",
       "      <td>43.53</td>\n",
       "      <td>34.70</td>\n",
       "      <td>50.00</td>\n",
       "    </tr>\n",
       "    <tr>\n",
       "      <th>std</th>\n",
       "      <td>30.83</td>\n",
       "      <td>30.54</td>\n",
       "      <td>27.92</td>\n",
       "      <td>28.75</td>\n",
       "      <td>34.36</td>\n",
       "      <td>31.29</td>\n",
       "      <td>25.79</td>\n",
       "      <td>31.33</td>\n",
       "      <td>30.00</td>\n",
       "    </tr>\n",
       "    <tr>\n",
       "      <th>min</th>\n",
       "      <td>0.00</td>\n",
       "      <td>0.00</td>\n",
       "      <td>0.00</td>\n",
       "      <td>0.00</td>\n",
       "      <td>0.00</td>\n",
       "      <td>0.00</td>\n",
       "      <td>0.00</td>\n",
       "      <td>0.00</td>\n",
       "      <td>0.00</td>\n",
       "    </tr>\n",
       "    <tr>\n",
       "      <th>25%</th>\n",
       "      <td>9.35</td>\n",
       "      <td>11.20</td>\n",
       "      <td>14.78</td>\n",
       "      <td>10.09</td>\n",
       "      <td>3.51</td>\n",
       "      <td>8.54</td>\n",
       "      <td>21.90</td>\n",
       "      <td>8.60</td>\n",
       "      <td>24.00</td>\n",
       "    </tr>\n",
       "    <tr>\n",
       "      <th>50%</th>\n",
       "      <td>30.41</td>\n",
       "      <td>29.47</td>\n",
       "      <td>27.31</td>\n",
       "      <td>24.26</td>\n",
       "      <td>27.37</td>\n",
       "      <td>28.55</td>\n",
       "      <td>39.15</td>\n",
       "      <td>26.56</td>\n",
       "      <td>50.00</td>\n",
       "    </tr>\n",
       "    <tr>\n",
       "      <th>75%</th>\n",
       "      <td>56.78</td>\n",
       "      <td>53.42</td>\n",
       "      <td>48.14</td>\n",
       "      <td>46.15</td>\n",
       "      <td>60.82</td>\n",
       "      <td>54.46</td>\n",
       "      <td>58.16</td>\n",
       "      <td>51.11</td>\n",
       "      <td>76.00</td>\n",
       "    </tr>\n",
       "    <tr>\n",
       "      <th>max</th>\n",
       "      <td>100.00</td>\n",
       "      <td>100.00</td>\n",
       "      <td>100.00</td>\n",
       "      <td>100.00</td>\n",
       "      <td>100.00</td>\n",
       "      <td>100.00</td>\n",
       "      <td>100.00</td>\n",
       "      <td>100.00</td>\n",
       "      <td>100.00</td>\n",
       "    </tr>\n",
       "  </tbody>\n",
       "</table></div>"
      ],
      "text/plain": [
       "           c12       c2      c14      c15       c3      c10       c7       c6  \\\n",
       "count 11934.00 11934.00 11934.00 11934.00 11934.00 11934.00 11934.00 11934.00   \n",
       "mean     37.37    37.22    36.35    33.70    36.78    36.34    43.53    34.70   \n",
       "std      30.83    30.54    27.92    28.75    34.36    31.29    25.79    31.33   \n",
       "min       0.00     0.00     0.00     0.00     0.00     0.00     0.00     0.00   \n",
       "25%       9.35    11.20    14.78    10.09     3.51     8.54    21.90     8.60   \n",
       "50%      30.41    29.47    27.31    24.26    27.37    28.55    39.15    26.56   \n",
       "75%      56.78    53.42    48.14    46.15    60.82    54.46    58.16    51.11   \n",
       "max     100.00   100.00   100.00   100.00   100.00   100.00   100.00   100.00   \n",
       "\n",
       "           c17  \n",
       "count 11934.00  \n",
       "mean     50.00  \n",
       "std      30.00  \n",
       "min       0.00  \n",
       "25%      24.00  \n",
       "50%      50.00  \n",
       "75%      76.00  \n",
       "max     100.00  "
      ]
     },
     "execution_count": 20,
     "metadata": {},
     "output_type": "execute_result"
    }
   ],
   "source": [
    "df_n.describe()"
   ]
  },
  {
   "cell_type": "code",
   "execution_count": 21,
   "metadata": {},
   "outputs": [
    {
     "data": {
      "text/html": [
       "<div><div id=3ebc18ca-fcf4-4f4e-b042-d7e807360a01 style=\"display:none; background-color:#9D6CFF; color:white; width:200px; height:30px; padding-left:5px; border-radius:4px; flex-direction:row; justify-content:space-around; align-items:center;\" onmouseover=\"this.style.backgroundColor='#BA9BF8'\" onmouseout=\"this.style.backgroundColor='#9D6CFF'\" onclick=\"window.commands?.execute('create-mitosheet-from-dataframe-output');\">See Full Dataframe in Mito</div> <script> if (window.commands.hasCommand('create-mitosheet-from-dataframe-output')) document.getElementById('3ebc18ca-fcf4-4f4e-b042-d7e807360a01').style.display = 'flex' </script> <table border=\"1\" class=\"dataframe\">\n",
       "  <thead>\n",
       "    <tr style=\"text-align: right;\">\n",
       "      <th></th>\n",
       "      <th>c12</th>\n",
       "      <th>c2</th>\n",
       "      <th>c14</th>\n",
       "      <th>c15</th>\n",
       "      <th>c3</th>\n",
       "      <th>c10</th>\n",
       "      <th>c7</th>\n",
       "      <th>c6</th>\n",
       "      <th>c17</th>\n",
       "    </tr>\n",
       "  </thead>\n",
       "  <tbody>\n",
       "    <tr>\n",
       "      <th>0</th>\n",
       "      <td>0.69</td>\n",
       "      <td>0.05</td>\n",
       "      <td>7.71</td>\n",
       "      <td>0.79</td>\n",
       "      <td>1.86</td>\n",
       "      <td>0.09</td>\n",
       "      <td>3.21</td>\n",
       "      <td>0.36</td>\n",
       "      <td>0.00</td>\n",
       "    </tr>\n",
       "    <tr>\n",
       "      <th>1</th>\n",
       "      <td>8.40</td>\n",
       "      <td>9.25</td>\n",
       "      <td>11.51</td>\n",
       "      <td>12.41</td>\n",
       "      <td>3.04</td>\n",
       "      <td>6.86</td>\n",
       "      <td>28.66</td>\n",
       "      <td>3.58</td>\n",
       "      <td>0.00</td>\n",
       "    </tr>\n",
       "    <tr>\n",
       "      <th>2</th>\n",
       "      <td>10.09</td>\n",
       "      <td>11.20</td>\n",
       "      <td>14.14</td>\n",
       "      <td>10.83</td>\n",
       "      <td>3.51</td>\n",
       "      <td>8.54</td>\n",
       "      <td>24.30</td>\n",
       "      <td>8.60</td>\n",
       "      <td>0.00</td>\n",
       "    </tr>\n",
       "    <tr>\n",
       "      <th>3</th>\n",
       "      <td>18.36</td>\n",
       "      <td>19.95</td>\n",
       "      <td>19.57</td>\n",
       "      <td>16.44</td>\n",
       "      <td>10.64</td>\n",
       "      <td>16.30</td>\n",
       "      <td>32.54</td>\n",
       "      <td>16.95</td>\n",
       "      <td>0.00</td>\n",
       "    </tr>\n",
       "    <tr>\n",
       "      <th>4</th>\n",
       "      <td>31.01</td>\n",
       "      <td>29.48</td>\n",
       "      <td>28.49</td>\n",
       "      <td>25.74</td>\n",
       "      <td>27.37</td>\n",
       "      <td>28.41</td>\n",
       "      <td>42.93</td>\n",
       "      <td>26.57</td>\n",
       "      <td>0.00</td>\n",
       "    </tr>\n",
       "  </tbody>\n",
       "</table></div>"
      ],
      "text/plain": [
       "    c12    c2   c14   c15    c3   c10    c7    c6  c17\n",
       "0  0.69  0.05  7.71  0.79  1.86  0.09  3.21  0.36 0.00\n",
       "1  8.40  9.25 11.51 12.41  3.04  6.86 28.66  3.58 0.00\n",
       "2 10.09 11.20 14.14 10.83  3.51  8.54 24.30  8.60 0.00\n",
       "3 18.36 19.95 19.57 16.44 10.64 16.30 32.54 16.95 0.00\n",
       "4 31.01 29.48 28.49 25.74 27.37 28.41 42.93 26.57 0.00"
      ]
     },
     "execution_count": 21,
     "metadata": {},
     "output_type": "execute_result"
    }
   ],
   "source": [
    "df_n.head()"
   ]
  },
  {
   "cell_type": "markdown",
   "metadata": {},
   "source": [
    "#### Findining probabilities of all columns"
   ]
  },
  {
   "cell_type": "code",
   "execution_count": 22,
   "metadata": {},
   "outputs": [
    {
     "data": {
      "text/plain": [
       "c12    float64\n",
       "c2     float64\n",
       "c14    float64\n",
       "c15    float64\n",
       "c3     float64\n",
       "c10    float64\n",
       "c7     float64\n",
       "c6     float64\n",
       "c17    float64\n",
       "dtype: object"
      ]
     },
     "execution_count": 22,
     "metadata": {},
     "output_type": "execute_result"
    }
   ],
   "source": [
    "df_n.dtypes"
   ]
  },
  {
   "cell_type": "code",
   "execution_count": 23,
   "metadata": {},
   "outputs": [
    {
     "data": {
      "text/html": [
       "<div><div id=3f074818-f103-48f6-ae36-4b41ef2b5702 style=\"display:none; background-color:#9D6CFF; color:white; width:200px; height:30px; padding-left:5px; border-radius:4px; flex-direction:row; justify-content:space-around; align-items:center;\" onmouseover=\"this.style.backgroundColor='#BA9BF8'\" onmouseout=\"this.style.backgroundColor='#9D6CFF'\" onclick=\"window.commands?.execute('create-mitosheet-from-dataframe-output');\">See Full Dataframe in Mito</div> <script> if (window.commands.hasCommand('create-mitosheet-from-dataframe-output')) document.getElementById('3f074818-f103-48f6-ae36-4b41ef2b5702').style.display = 'flex' </script> <table border=\"1\" class=\"dataframe\">\n",
       "  <thead>\n",
       "    <tr style=\"text-align: right;\">\n",
       "      <th></th>\n",
       "      <th>c12</th>\n",
       "      <th>c2</th>\n",
       "      <th>c14</th>\n",
       "      <th>c15</th>\n",
       "      <th>c3</th>\n",
       "      <th>c10</th>\n",
       "      <th>c7</th>\n",
       "      <th>c6</th>\n",
       "      <th>c17</th>\n",
       "      <th>prob_c12</th>\n",
       "      <th>prob_c2</th>\n",
       "      <th>prob_c14</th>\n",
       "      <th>prob_c15</th>\n",
       "      <th>prob_c3</th>\n",
       "      <th>prob_c10</th>\n",
       "      <th>prob_c7</th>\n",
       "      <th>prob_c6</th>\n",
       "      <th>prob_c17</th>\n",
       "    </tr>\n",
       "  </thead>\n",
       "  <tbody>\n",
       "    <tr>\n",
       "      <th>0</th>\n",
       "      <td>0.69</td>\n",
       "      <td>0.05</td>\n",
       "      <td>7.71</td>\n",
       "      <td>0.79</td>\n",
       "      <td>1.86</td>\n",
       "      <td>0.09</td>\n",
       "      <td>3.21</td>\n",
       "      <td>0.36</td>\n",
       "      <td>0.00</td>\n",
       "      <td>0.00</td>\n",
       "      <td>0.00</td>\n",
       "      <td>0.00</td>\n",
       "      <td>0.00</td>\n",
       "      <td>0.00</td>\n",
       "      <td>0.00</td>\n",
       "      <td>0.00</td>\n",
       "      <td>0.00</td>\n",
       "      <td>0.04</td>\n",
       "    </tr>\n",
       "    <tr>\n",
       "      <th>1</th>\n",
       "      <td>8.40</td>\n",
       "      <td>9.25</td>\n",
       "      <td>11.51</td>\n",
       "      <td>12.41</td>\n",
       "      <td>3.04</td>\n",
       "      <td>6.86</td>\n",
       "      <td>28.66</td>\n",
       "      <td>3.58</td>\n",
       "      <td>0.00</td>\n",
       "      <td>0.00</td>\n",
       "      <td>0.00</td>\n",
       "      <td>0.00</td>\n",
       "      <td>0.00</td>\n",
       "      <td>0.00</td>\n",
       "      <td>0.00</td>\n",
       "      <td>0.00</td>\n",
       "      <td>0.00</td>\n",
       "      <td>0.04</td>\n",
       "    </tr>\n",
       "    <tr>\n",
       "      <th>2</th>\n",
       "      <td>10.09</td>\n",
       "      <td>11.20</td>\n",
       "      <td>14.14</td>\n",
       "      <td>10.83</td>\n",
       "      <td>3.51</td>\n",
       "      <td>8.54</td>\n",
       "      <td>24.30</td>\n",
       "      <td>8.60</td>\n",
       "      <td>0.00</td>\n",
       "      <td>0.00</td>\n",
       "      <td>0.00</td>\n",
       "      <td>0.00</td>\n",
       "      <td>0.00</td>\n",
       "      <td>0.00</td>\n",
       "      <td>0.02</td>\n",
       "      <td>0.00</td>\n",
       "      <td>0.00</td>\n",
       "      <td>0.04</td>\n",
       "    </tr>\n",
       "    <tr>\n",
       "      <th>3</th>\n",
       "      <td>18.36</td>\n",
       "      <td>19.95</td>\n",
       "      <td>19.57</td>\n",
       "      <td>16.44</td>\n",
       "      <td>10.64</td>\n",
       "      <td>16.30</td>\n",
       "      <td>32.54</td>\n",
       "      <td>16.95</td>\n",
       "      <td>0.00</td>\n",
       "      <td>0.00</td>\n",
       "      <td>0.00</td>\n",
       "      <td>0.00</td>\n",
       "      <td>0.00</td>\n",
       "      <td>0.00</td>\n",
       "      <td>0.01</td>\n",
       "      <td>0.00</td>\n",
       "      <td>0.00</td>\n",
       "      <td>0.04</td>\n",
       "    </tr>\n",
       "    <tr>\n",
       "      <th>4</th>\n",
       "      <td>31.01</td>\n",
       "      <td>29.48</td>\n",
       "      <td>28.49</td>\n",
       "      <td>25.74</td>\n",
       "      <td>27.37</td>\n",
       "      <td>28.41</td>\n",
       "      <td>42.93</td>\n",
       "      <td>26.57</td>\n",
       "      <td>0.00</td>\n",
       "      <td>0.00</td>\n",
       "      <td>0.00</td>\n",
       "      <td>0.00</td>\n",
       "      <td>0.00</td>\n",
       "      <td>0.00</td>\n",
       "      <td>0.01</td>\n",
       "      <td>0.00</td>\n",
       "      <td>0.00</td>\n",
       "      <td>0.04</td>\n",
       "    </tr>\n",
       "  </tbody>\n",
       "</table></div>"
      ],
      "text/plain": [
       "    c12    c2   c14   c15    c3   c10    c7    c6  c17  prob_c12  prob_c2  \\\n",
       "0  0.69  0.05  7.71  0.79  1.86  0.09  3.21  0.36 0.00      0.00     0.00   \n",
       "1  8.40  9.25 11.51 12.41  3.04  6.86 28.66  3.58 0.00      0.00     0.00   \n",
       "2 10.09 11.20 14.14 10.83  3.51  8.54 24.30  8.60 0.00      0.00     0.00   \n",
       "3 18.36 19.95 19.57 16.44 10.64 16.30 32.54 16.95 0.00      0.00     0.00   \n",
       "4 31.01 29.48 28.49 25.74 27.37 28.41 42.93 26.57 0.00      0.00     0.00   \n",
       "\n",
       "   prob_c14  prob_c15  prob_c3  prob_c10  prob_c7  prob_c6  prob_c17  \n",
       "0      0.00      0.00     0.00      0.00     0.00     0.00      0.04  \n",
       "1      0.00      0.00     0.00      0.00     0.00     0.00      0.04  \n",
       "2      0.00      0.00     0.00      0.02     0.00     0.00      0.04  \n",
       "3      0.00      0.00     0.00      0.01     0.00     0.00      0.04  \n",
       "4      0.00      0.00     0.00      0.01     0.00     0.00      0.04  "
      ]
     },
     "execution_count": 23,
     "metadata": {},
     "output_type": "execute_result"
    }
   ],
   "source": [
    "df_n_prob=df_n.copy()\n",
    "\n",
    "def f1(b):\n",
    "    \n",
    "    k=df_n[df_n[i] == b].shape[0]\n",
    "    return(k/len(df_n))\n",
    "\n",
    "for i in df_n.columns:\n",
    "    df_n_prob['prob_'+i] = df_n[i].apply(f1)\n",
    "\n",
    "df_n_prob.head()"
   ]
  },
  {
   "cell_type": "code",
   "execution_count": 24,
   "metadata": {},
   "outputs": [
    {
     "data": {
      "text/html": [
       "<div><div id=f8dacf9d-7943-4825-a9ef-0afebb7765ae style=\"display:none; background-color:#9D6CFF; color:white; width:200px; height:30px; padding-left:5px; border-radius:4px; flex-direction:row; justify-content:space-around; align-items:center;\" onmouseover=\"this.style.backgroundColor='#BA9BF8'\" onmouseout=\"this.style.backgroundColor='#9D6CFF'\" onclick=\"window.commands?.execute('create-mitosheet-from-dataframe-output');\">See Full Dataframe in Mito</div> <script> if (window.commands.hasCommand('create-mitosheet-from-dataframe-output')) document.getElementById('f8dacf9d-7943-4825-a9ef-0afebb7765ae').style.display = 'flex' </script> <table border=\"1\" class=\"dataframe\">\n",
       "  <thead>\n",
       "    <tr style=\"text-align: right;\">\n",
       "      <th></th>\n",
       "      <th>c12</th>\n",
       "      <th>c2</th>\n",
       "      <th>c14</th>\n",
       "      <th>c15</th>\n",
       "      <th>c3</th>\n",
       "      <th>c10</th>\n",
       "      <th>c7</th>\n",
       "      <th>c6</th>\n",
       "      <th>c17</th>\n",
       "      <th>prob_c12</th>\n",
       "      <th>prob_c2</th>\n",
       "      <th>prob_c14</th>\n",
       "      <th>prob_c15</th>\n",
       "      <th>prob_c3</th>\n",
       "      <th>prob_c10</th>\n",
       "      <th>prob_c7</th>\n",
       "      <th>prob_c6</th>\n",
       "      <th>prob_c17</th>\n",
       "    </tr>\n",
       "  </thead>\n",
       "  <tbody>\n",
       "    <tr>\n",
       "      <th>0</th>\n",
       "      <td>0.69</td>\n",
       "      <td>0.05</td>\n",
       "      <td>7.71</td>\n",
       "      <td>0.79</td>\n",
       "      <td>1.86</td>\n",
       "      <td>0.09</td>\n",
       "      <td>3.21</td>\n",
       "      <td>0.36</td>\n",
       "      <td>0.00</td>\n",
       "      <td>0.00</td>\n",
       "      <td>0.00</td>\n",
       "      <td>0.00</td>\n",
       "      <td>0.00</td>\n",
       "      <td>0.00</td>\n",
       "      <td>0.00</td>\n",
       "      <td>0.00</td>\n",
       "      <td>0.00</td>\n",
       "      <td>0.04</td>\n",
       "    </tr>\n",
       "    <tr>\n",
       "      <th>1</th>\n",
       "      <td>8.40</td>\n",
       "      <td>9.25</td>\n",
       "      <td>11.51</td>\n",
       "      <td>12.41</td>\n",
       "      <td>3.04</td>\n",
       "      <td>6.86</td>\n",
       "      <td>28.66</td>\n",
       "      <td>3.58</td>\n",
       "      <td>0.00</td>\n",
       "      <td>0.00</td>\n",
       "      <td>0.00</td>\n",
       "      <td>0.00</td>\n",
       "      <td>0.00</td>\n",
       "      <td>0.00</td>\n",
       "      <td>0.00</td>\n",
       "      <td>0.00</td>\n",
       "      <td>0.00</td>\n",
       "      <td>0.04</td>\n",
       "    </tr>\n",
       "    <tr>\n",
       "      <th>2</th>\n",
       "      <td>10.09</td>\n",
       "      <td>11.20</td>\n",
       "      <td>14.14</td>\n",
       "      <td>10.83</td>\n",
       "      <td>3.51</td>\n",
       "      <td>8.54</td>\n",
       "      <td>24.30</td>\n",
       "      <td>8.60</td>\n",
       "      <td>0.00</td>\n",
       "      <td>0.00</td>\n",
       "      <td>0.00</td>\n",
       "      <td>0.00</td>\n",
       "      <td>0.00</td>\n",
       "      <td>0.00</td>\n",
       "      <td>0.02</td>\n",
       "      <td>0.00</td>\n",
       "      <td>0.00</td>\n",
       "      <td>0.04</td>\n",
       "    </tr>\n",
       "    <tr>\n",
       "      <th>3</th>\n",
       "      <td>18.36</td>\n",
       "      <td>19.95</td>\n",
       "      <td>19.57</td>\n",
       "      <td>16.44</td>\n",
       "      <td>10.64</td>\n",
       "      <td>16.30</td>\n",
       "      <td>32.54</td>\n",
       "      <td>16.95</td>\n",
       "      <td>0.00</td>\n",
       "      <td>0.00</td>\n",
       "      <td>0.00</td>\n",
       "      <td>0.00</td>\n",
       "      <td>0.00</td>\n",
       "      <td>0.00</td>\n",
       "      <td>0.01</td>\n",
       "      <td>0.00</td>\n",
       "      <td>0.00</td>\n",
       "      <td>0.04</td>\n",
       "    </tr>\n",
       "    <tr>\n",
       "      <th>4</th>\n",
       "      <td>31.01</td>\n",
       "      <td>29.48</td>\n",
       "      <td>28.49</td>\n",
       "      <td>25.74</td>\n",
       "      <td>27.37</td>\n",
       "      <td>28.41</td>\n",
       "      <td>42.93</td>\n",
       "      <td>26.57</td>\n",
       "      <td>0.00</td>\n",
       "      <td>0.00</td>\n",
       "      <td>0.00</td>\n",
       "      <td>0.00</td>\n",
       "      <td>0.00</td>\n",
       "      <td>0.00</td>\n",
       "      <td>0.01</td>\n",
       "      <td>0.00</td>\n",
       "      <td>0.00</td>\n",
       "      <td>0.04</td>\n",
       "    </tr>\n",
       "  </tbody>\n",
       "</table></div>"
      ],
      "text/plain": [
       "    c12    c2   c14   c15    c3   c10    c7    c6  c17  prob_c12  prob_c2  \\\n",
       "0  0.69  0.05  7.71  0.79  1.86  0.09  3.21  0.36 0.00      0.00     0.00   \n",
       "1  8.40  9.25 11.51 12.41  3.04  6.86 28.66  3.58 0.00      0.00     0.00   \n",
       "2 10.09 11.20 14.14 10.83  3.51  8.54 24.30  8.60 0.00      0.00     0.00   \n",
       "3 18.36 19.95 19.57 16.44 10.64 16.30 32.54 16.95 0.00      0.00     0.00   \n",
       "4 31.01 29.48 28.49 25.74 27.37 28.41 42.93 26.57 0.00      0.00     0.00   \n",
       "\n",
       "   prob_c14  prob_c15  prob_c3  prob_c10  prob_c7  prob_c6  prob_c17  \n",
       "0      0.00      0.00     0.00      0.00     0.00     0.00      0.04  \n",
       "1      0.00      0.00     0.00      0.00     0.00     0.00      0.04  \n",
       "2      0.00      0.00     0.00      0.02     0.00     0.00      0.04  \n",
       "3      0.00      0.00     0.00      0.01     0.00     0.00      0.04  \n",
       "4      0.00      0.00     0.00      0.01     0.00     0.00      0.04  "
      ]
     },
     "execution_count": 24,
     "metadata": {},
     "output_type": "execute_result"
    }
   ],
   "source": [
    "df_n_prob.head()"
   ]
  },
  {
   "cell_type": "code",
   "execution_count": 25,
   "metadata": {},
   "outputs": [
    {
     "data": {
      "text/plain": [
       "c12         float64\n",
       "c2          float64\n",
       "c14         float64\n",
       "c15         float64\n",
       "c3          float64\n",
       "c10         float64\n",
       "c7          float64\n",
       "c6          float64\n",
       "c17         float64\n",
       "prob_c12    float64\n",
       "prob_c2     float64\n",
       "prob_c14    float64\n",
       "prob_c15    float64\n",
       "prob_c3     float64\n",
       "prob_c10    float64\n",
       "prob_c7     float64\n",
       "prob_c6     float64\n",
       "prob_c17    float64\n",
       "dtype: object"
      ]
     },
     "execution_count": 25,
     "metadata": {},
     "output_type": "execute_result"
    }
   ],
   "source": [
    "df_n_prob.dtypes"
   ]
  },
  {
   "cell_type": "code",
   "execution_count": 26,
   "metadata": {},
   "outputs": [
    {
     "data": {
      "text/plain": [
       "0.00    10958\n",
       "0.00      882\n",
       "0.00       90\n",
       "0.00        4\n",
       "Name: prob_c2, dtype: int64"
      ]
     },
     "execution_count": 26,
     "metadata": {},
     "output_type": "execute_result"
    }
   ],
   "source": [
    "df_n_prob.prob_c2.value_counts()"
   ]
  },
  {
   "cell_type": "code",
   "execution_count": 27,
   "metadata": {},
   "outputs": [
    {
     "data": {
      "text/plain": [
       "array([8.37942014e-05, 1.67588403e-04, 2.51382604e-04, 3.35176806e-04])"
      ]
     },
     "execution_count": 27,
     "metadata": {},
     "output_type": "execute_result"
    }
   ],
   "source": [
    "df_n_prob.prob_c2.unique()"
   ]
  },
  {
   "cell_type": "markdown",
   "metadata": {},
   "source": [
    "### Joint probability"
   ]
  },
  {
   "cell_type": "code",
   "execution_count": 28,
   "metadata": {},
   "outputs": [
    {
     "data": {
      "text/plain": [
       "Index(['c12', 'c2', 'c14', 'c15', 'c3', 'c10', 'c7', 'c6', 'c17'], dtype='object')"
      ]
     },
     "execution_count": 28,
     "metadata": {},
     "output_type": "execute_result"
    }
   ],
   "source": [
    "col=df_n.columns\n",
    "col"
   ]
  },
  {
   "cell_type": "code",
   "execution_count": 29,
   "metadata": {},
   "outputs": [
    {
     "data": {
      "text/plain": [
       "'c12'"
      ]
     },
     "execution_count": 29,
     "metadata": {},
     "output_type": "execute_result"
    }
   ],
   "source": [
    "col[0]"
   ]
  },
  {
   "cell_type": "code",
   "execution_count": 30,
   "metadata": {},
   "outputs": [
    {
     "name": "stdout",
     "output_type": "stream",
     "text": [
      "done\n"
     ]
    }
   ],
   "source": [
    "\n",
    "def f1(a):\n",
    "    \n",
    "    \n",
    "    k=df_n[ (df_n[col[0]] == a[col[0]]) & (df_n[col[1]] == a[col[1]]) & (df_n[col[2]] == a[col[2]]) \n",
    "           & (df_n[col[3]] == a[col[3]]) & (df_n[col[4]] == a[col[4]]) & (df_n[col[5]] == a[col[5]])  \n",
    "           & (df_n[col[6]] == a[col[6]]) & (df_n[col[7]] == a[col[7]]) & (df_n[col[8]] == a[col[8]])].shape[0]\n",
    "   \n",
    "    # k=df_n[ (df_n['c12'] == a['c12']) & (df_n['c2'] == a['c2']) & (df_n['c14'] == a['c14']) \n",
    "    #        & (df_n['c15'] == a['c15']) & (df_n['c3'] == a['c3']) & (df_n['c7'] == a['c7'])  \n",
    "    #        & (df_n['c6'] == a['c6']) & (df_n['c10'] == a['c10']) & (df_n['c17'] == a['c17'])].shape[0]\n",
    "    return(k/len(df_n))\n",
    "    \n",
    "\n",
    "df_n_prob['prob_joint'] = df_n.apply(f1,axis=1)\n",
    "\n",
    "print('done')\n",
    "\n",
    "# df_n"
   ]
  },
  {
   "cell_type": "code",
   "execution_count": 31,
   "metadata": {},
   "outputs": [
    {
     "data": {
      "text/html": [
       "<div><div id=853daae0-b6a6-47de-9b06-8ba53616eaea style=\"display:none; background-color:#9D6CFF; color:white; width:200px; height:30px; padding-left:5px; border-radius:4px; flex-direction:row; justify-content:space-around; align-items:center;\" onmouseover=\"this.style.backgroundColor='#BA9BF8'\" onmouseout=\"this.style.backgroundColor='#9D6CFF'\" onclick=\"window.commands?.execute('create-mitosheet-from-dataframe-output');\">See Full Dataframe in Mito</div> <script> if (window.commands.hasCommand('create-mitosheet-from-dataframe-output')) document.getElementById('853daae0-b6a6-47de-9b06-8ba53616eaea').style.display = 'flex' </script> <table border=\"1\" class=\"dataframe\">\n",
       "  <thead>\n",
       "    <tr style=\"text-align: right;\">\n",
       "      <th></th>\n",
       "      <th>c12</th>\n",
       "      <th>c2</th>\n",
       "      <th>c14</th>\n",
       "      <th>c15</th>\n",
       "      <th>c3</th>\n",
       "      <th>c10</th>\n",
       "      <th>c7</th>\n",
       "      <th>c6</th>\n",
       "      <th>c17</th>\n",
       "      <th>prob_c12</th>\n",
       "      <th>prob_c2</th>\n",
       "      <th>prob_c14</th>\n",
       "      <th>prob_c15</th>\n",
       "      <th>prob_c3</th>\n",
       "      <th>prob_c10</th>\n",
       "      <th>prob_c7</th>\n",
       "      <th>prob_c6</th>\n",
       "      <th>prob_c17</th>\n",
       "      <th>prob_joint</th>\n",
       "    </tr>\n",
       "  </thead>\n",
       "  <tbody>\n",
       "    <tr>\n",
       "      <th>0</th>\n",
       "      <td>0.69</td>\n",
       "      <td>0.05</td>\n",
       "      <td>7.71</td>\n",
       "      <td>0.79</td>\n",
       "      <td>1.86</td>\n",
       "      <td>0.09</td>\n",
       "      <td>3.21</td>\n",
       "      <td>0.36</td>\n",
       "      <td>0.00</td>\n",
       "      <td>0.00</td>\n",
       "      <td>0.00</td>\n",
       "      <td>0.00</td>\n",
       "      <td>0.00</td>\n",
       "      <td>0.00</td>\n",
       "      <td>0.00</td>\n",
       "      <td>0.00</td>\n",
       "      <td>0.00</td>\n",
       "      <td>0.04</td>\n",
       "      <td>0.00</td>\n",
       "    </tr>\n",
       "    <tr>\n",
       "      <th>1</th>\n",
       "      <td>8.40</td>\n",
       "      <td>9.25</td>\n",
       "      <td>11.51</td>\n",
       "      <td>12.41</td>\n",
       "      <td>3.04</td>\n",
       "      <td>6.86</td>\n",
       "      <td>28.66</td>\n",
       "      <td>3.58</td>\n",
       "      <td>0.00</td>\n",
       "      <td>0.00</td>\n",
       "      <td>0.00</td>\n",
       "      <td>0.00</td>\n",
       "      <td>0.00</td>\n",
       "      <td>0.00</td>\n",
       "      <td>0.00</td>\n",
       "      <td>0.00</td>\n",
       "      <td>0.00</td>\n",
       "      <td>0.04</td>\n",
       "      <td>0.00</td>\n",
       "    </tr>\n",
       "    <tr>\n",
       "      <th>2</th>\n",
       "      <td>10.09</td>\n",
       "      <td>11.20</td>\n",
       "      <td>14.14</td>\n",
       "      <td>10.83</td>\n",
       "      <td>3.51</td>\n",
       "      <td>8.54</td>\n",
       "      <td>24.30</td>\n",
       "      <td>8.60</td>\n",
       "      <td>0.00</td>\n",
       "      <td>0.00</td>\n",
       "      <td>0.00</td>\n",
       "      <td>0.00</td>\n",
       "      <td>0.00</td>\n",
       "      <td>0.00</td>\n",
       "      <td>0.02</td>\n",
       "      <td>0.00</td>\n",
       "      <td>0.00</td>\n",
       "      <td>0.04</td>\n",
       "      <td>0.00</td>\n",
       "    </tr>\n",
       "    <tr>\n",
       "      <th>3</th>\n",
       "      <td>18.36</td>\n",
       "      <td>19.95</td>\n",
       "      <td>19.57</td>\n",
       "      <td>16.44</td>\n",
       "      <td>10.64</td>\n",
       "      <td>16.30</td>\n",
       "      <td>32.54</td>\n",
       "      <td>16.95</td>\n",
       "      <td>0.00</td>\n",
       "      <td>0.00</td>\n",
       "      <td>0.00</td>\n",
       "      <td>0.00</td>\n",
       "      <td>0.00</td>\n",
       "      <td>0.00</td>\n",
       "      <td>0.01</td>\n",
       "      <td>0.00</td>\n",
       "      <td>0.00</td>\n",
       "      <td>0.04</td>\n",
       "      <td>0.00</td>\n",
       "    </tr>\n",
       "    <tr>\n",
       "      <th>4</th>\n",
       "      <td>31.01</td>\n",
       "      <td>29.48</td>\n",
       "      <td>28.49</td>\n",
       "      <td>25.74</td>\n",
       "      <td>27.37</td>\n",
       "      <td>28.41</td>\n",
       "      <td>42.93</td>\n",
       "      <td>26.57</td>\n",
       "      <td>0.00</td>\n",
       "      <td>0.00</td>\n",
       "      <td>0.00</td>\n",
       "      <td>0.00</td>\n",
       "      <td>0.00</td>\n",
       "      <td>0.00</td>\n",
       "      <td>0.01</td>\n",
       "      <td>0.00</td>\n",
       "      <td>0.00</td>\n",
       "      <td>0.04</td>\n",
       "      <td>0.00</td>\n",
       "    </tr>\n",
       "  </tbody>\n",
       "</table></div>"
      ],
      "text/plain": [
       "    c12    c2   c14   c15    c3   c10    c7    c6  c17  prob_c12  prob_c2  \\\n",
       "0  0.69  0.05  7.71  0.79  1.86  0.09  3.21  0.36 0.00      0.00     0.00   \n",
       "1  8.40  9.25 11.51 12.41  3.04  6.86 28.66  3.58 0.00      0.00     0.00   \n",
       "2 10.09 11.20 14.14 10.83  3.51  8.54 24.30  8.60 0.00      0.00     0.00   \n",
       "3 18.36 19.95 19.57 16.44 10.64 16.30 32.54 16.95 0.00      0.00     0.00   \n",
       "4 31.01 29.48 28.49 25.74 27.37 28.41 42.93 26.57 0.00      0.00     0.00   \n",
       "\n",
       "   prob_c14  prob_c15  prob_c3  prob_c10  prob_c7  prob_c6  prob_c17  \\\n",
       "0      0.00      0.00     0.00      0.00     0.00     0.00      0.04   \n",
       "1      0.00      0.00     0.00      0.00     0.00     0.00      0.04   \n",
       "2      0.00      0.00     0.00      0.02     0.00     0.00      0.04   \n",
       "3      0.00      0.00     0.00      0.01     0.00     0.00      0.04   \n",
       "4      0.00      0.00     0.00      0.01     0.00     0.00      0.04   \n",
       "\n",
       "   prob_joint  \n",
       "0        0.00  \n",
       "1        0.00  \n",
       "2        0.00  \n",
       "3        0.00  \n",
       "4        0.00  "
      ]
     },
     "execution_count": 31,
     "metadata": {},
     "output_type": "execute_result"
    }
   ],
   "source": [
    "df_n_prob.head()"
   ]
  },
  {
   "cell_type": "code",
   "execution_count": 32,
   "metadata": {},
   "outputs": [
    {
     "data": {
      "text/plain": [
       "array([8.37942014e-05])"
      ]
     },
     "execution_count": 32,
     "metadata": {},
     "output_type": "execute_result"
    }
   ],
   "source": [
    "df_n_prob.prob_joint.unique()"
   ]
  },
  {
   "cell_type": "markdown",
   "metadata": {},
   "source": [
    "#### This shows that all the rows in dataset are unique and hence the ombined joint probability is same for all rows"
   ]
  },
  {
   "cell_type": "markdown",
   "metadata": {},
   "source": [
    "# Applying automl Lazy predict all models "
   ]
  },
  {
   "cell_type": "code",
   "execution_count": null,
   "metadata": {},
   "outputs": [],
   "source": []
  },
  {
   "cell_type": "markdown",
   "metadata": {},
   "source": [
    "### Making samller dataset to run lazy predict as full dataset takes tooo much time"
   ]
  },
  {
   "cell_type": "code",
   "execution_count": 33,
   "metadata": {},
   "outputs": [
    {
     "name": "stdout",
     "output_type": "stream",
     "text": [
      "(2387, 9)\n"
     ]
    }
   ],
   "source": [
    "df_np=df_n.sample(frac =.2)\n",
    "print(df_np.shape)"
   ]
  },
  {
   "cell_type": "code",
   "execution_count": 34,
   "metadata": {},
   "outputs": [
    {
     "name": "stderr",
     "output_type": "stream",
     "text": [
      "  5%|▍         | 2/42 [00:00<00:02, 15.74it/s]"
     ]
    },
    {
     "name": "stdout",
     "output_type": "stream",
     "text": [
      "{'Model': 'AdaBoostRegressor', 'R-Squared': 0.16911958710517405, 'Adjusted R-Squared': 0.14021939883057144, 'RMSE': 26.521169069981177, 'Time taken': 0.036000967025756836}\n",
      "{'Model': 'BaggingRegressor', 'R-Squared': 0.9287917924581992, 'Adjusted R-Squared': 0.926314985239354, 'RMSE': 7.764051911988367, 'Time taken': 0.09110188484191895}\n",
      "{'Model': 'BayesianRidge', 'R-Squared': 0.7613567069037792, 'Adjusted R-Squared': 0.7530560706221715, 'RMSE': 14.213401372578957, 'Time taken': 0.015000343322753906}\n",
      "{'Model': 'DecisionTreeRegressor', 'R-Squared': 0.8612118472792631, 'Adjusted R-Squared': 0.8563844332715853, 'RMSE': 10.839259188198886, 'Time taken': 0.021936416625976562}\n",
      "{'Model': 'DummyRegressor', 'R-Squared': -0.004980794305957437, 'Adjusted R-Squared': -0.03993664802094732, 'RMSE': 29.16770673343765, 'Time taken': 0.006919384002685547}\n",
      "{'Model': 'ElasticNet', 'R-Squared': -0.004820512155760293, 'Adjusted R-Squared': -0.03977079083943891, 'RMSE': 29.16538069437464, 'Time taken': 0.008043527603149414}\n"
     ]
    },
    {
     "name": "stderr",
     "output_type": "stream",
     "text": [
      " 17%|█▋        | 7/42 [00:00<00:01, 24.23it/s]"
     ]
    },
    {
     "name": "stdout",
     "output_type": "stream",
     "text": [
      "{'Model': 'ElasticNetCV', 'R-Squared': 0.30806048756383253, 'Adjusted R-Squared': 0.283993026261705, 'RMSE': 24.202346213145937, 'Time taken': 0.12029409408569336}\n",
      "{'Model': 'ExtraTreeRegressor', 'R-Squared': 0.8700689829514697, 'Adjusted R-Squared': 0.8655496432280426, 'RMSE': 10.487689535792104, 'Time taken': 0.008054971694946289}\n"
     ]
    },
    {
     "name": "stderr",
     "output_type": "stream",
     "text": [
      " 24%|██▍       | 10/42 [00:00<00:02, 14.42it/s]"
     ]
    },
    {
     "name": "stdout",
     "output_type": "stream",
     "text": [
      "{'Model': 'ExtraTreesRegressor', 'R-Squared': 0.9548755113500249, 'Adjusted R-Squared': 0.9533059639187215, 'RMSE': 6.180584527745132, 'Time taken': 0.3217153549194336}\n",
      "GammaRegressor model failed to execute\n",
      "Some value(s) of y are out of the valid range for family GammaDistribution\n",
      "{'Model': 'GaussianProcessRegressor', 'R-Squared': 0.999737797311974, 'Adjusted R-Squared': 0.9997286772184775, 'RMSE': 0.4711313168195117, 'Time taken': 2.365335702896118}\n"
     ]
    },
    {
     "name": "stderr",
     "output_type": "stream",
     "text": [
      " 29%|██▊       | 12/42 [00:03<00:12,  2.40it/s]"
     ]
    },
    {
     "name": "stdout",
     "output_type": "stream",
     "text": [
      "{'Model': 'GradientBoostingRegressor', 'R-Squared': 0.7737734936994841, 'Adjusted R-Squared': 0.7659047456542487, 'RMSE': 13.838695323662927, 'Time taken': 0.2841360569000244}\n"
     ]
    },
    {
     "name": "stderr",
     "output_type": "stream",
     "text": [
      " 33%|███▎      | 14/42 [00:03<00:10,  2.72it/s]"
     ]
    },
    {
     "name": "stdout",
     "output_type": "stream",
     "text": [
      "{'Model': 'HistGradientBoostingRegressor', 'R-Squared': 0.9492780081621155, 'Adjusted R-Squared': 0.9475137649677543, 'RMSE': 6.552719135629373, 'Time taken': 0.41959071159362793}\n",
      "{'Model': 'HuberRegressor', 'R-Squared': 0.7521457529417791, 'Adjusted R-Squared': 0.7435247356527974, 'RMSE': 14.48510294737983, 'Time taken': 0.06839513778686523}\n",
      "{'Model': 'KNeighborsRegressor', 'R-Squared': 0.804776076733607, 'Adjusted R-Squared': 0.797985679402602, 'RMSE': 12.855528091465564, 'Time taken': 0.014636993408203125}\n"
     ]
    },
    {
     "name": "stderr",
     "output_type": "stream",
     "text": [
      " 48%|████▊     | 20/42 [00:05<00:06,  3.35it/s]"
     ]
    },
    {
     "name": "stdout",
     "output_type": "stream",
     "text": [
      "{'Model': 'KernelRidge', 'R-Squared': -2.305341440199691, 'Adjusted R-Squared': -2.42030983811968, 'RMSE': 52.897064031869284, 'Time taken': 1.6556293964385986}\n",
      "{'Model': 'Lars', 'R-Squared': -1.7969443336792028, 'Adjusted R-Squared': -1.8942293539810882, 'RMSE': 48.65923927878936, 'Time taken': 0.008088111877441406}\n",
      "{'Model': 'LarsCV', 'R-Squared': -0.18178092422476877, 'Adjusted R-Squared': -0.2228863476760652, 'RMSE': 31.62946829900825, 'Time taken': 0.018062591552734375}\n",
      "{'Model': 'Lasso', 'R-Squared': -0.004980794305957437, 'Adjusted R-Squared': -0.03993664802094732, 'RMSE': 29.16770673343765, 'Time taken': 0.006000041961669922}\n",
      "{'Model': 'LassoCV', 'R-Squared': 0.37314567236856677, 'Adjusted R-Squared': 0.35134204358138643, 'RMSE': 23.03598132749671, 'Time taken': 0.17036676406860352}\n",
      "{'Model': 'LassoLars', 'R-Squared': -0.004980794305957437, 'Adjusted R-Squared': -0.03993664802094732, 'RMSE': 29.16770673343765, 'Time taken': 0.00708770751953125}\n",
      "{'Model': 'LassoLarsCV', 'R-Squared': 0.761422658072805, 'Adjusted R-Squared': 0.7531243157449026, 'RMSE': 14.211437237745834, 'Time taken': 0.017909526824951172}\n",
      "{'Model': 'LassoLarsIC', 'R-Squared': 0.761422658072805, 'Adjusted R-Squared': 0.7531243157449026, 'RMSE': 14.211437237745834, 'Time taken': 0.009082555770874023}\n",
      "{'Model': 'LinearRegression', 'R-Squared': 0.7614226580726478, 'Adjusted R-Squared': 0.7531243157447398, 'RMSE': 14.211437237750514, 'Time taken': 0.006004810333251953}\n",
      "{'Model': 'LinearSVR', 'R-Squared': 0.07860265819760781, 'Adjusted R-Squared': 0.046554055004481065, 'RMSE': 27.928453062212856, 'Time taken': 0.005478382110595703}\n"
     ]
    },
    {
     "name": "stderr",
     "output_type": "stream",
     "text": [
      " 64%|██████▍   | 27/42 [00:06<00:03,  4.24it/s]"
     ]
    },
    {
     "name": "stdout",
     "output_type": "stream",
     "text": [
      "{'Model': 'MLPRegressor', 'R-Squared': 0.034175963923170016, 'Adjusted R-Squared': 0.0005820844074542197, 'RMSE': 28.593835098190674, 'Time taken': 1.0813283920288086}\n",
      "{'Model': 'NuSVR', 'R-Squared': 0.005707767838835642, 'Adjusted R-Squared': -0.028876309801552758, 'RMSE': 29.012184247096908, 'Time taken': 0.16332411766052246}\n",
      "{'Model': 'OrthogonalMatchingPursuit', 'R-Squared': -0.007275903050233401, 'Adjusted R-Squared': -0.04231158663458934, 'RMSE': 29.20099338065504, 'Time taken': 0.00800013542175293}\n",
      "{'Model': 'OrthogonalMatchingPursuitCV', 'R-Squared': 0.5556435879368595, 'Adjusted R-Squared': 0.5401877127346633, 'RMSE': 19.394970765176254, 'Time taken': 0.015955448150634766}\n",
      "{'Model': 'PassiveAggressiveRegressor', 'R-Squared': 0.6594904457708305, 'Adjusted R-Squared': 0.6476466351889463, 'RMSE': 16.978059633555073, 'Time taken': 0.017278432846069336}\n",
      "{'Model': 'PoissonRegressor', 'R-Squared': 0.06236167536758741, 'Adjusted R-Squared': 0.029748168423851307, 'RMSE': 28.173517895925507, 'Time taken': 0.02107381820678711}\n"
     ]
    },
    {
     "name": "stderr",
     "output_type": "stream",
     "text": [
      " 76%|███████▌  | 32/42 [04:59<04:12, 25.21s/it]"
     ]
    },
    {
     "name": "stdout",
     "output_type": "stream",
     "text": [
      "{'Model': 'QuantileRegressor', 'R-Squared': -0.0002236783268318998, 'Adjusted R-Squared': -0.03501406713819999, 'RMSE': 29.098591605115093, 'Time taken': 292.8185269832611}\n",
      "{'Model': 'RANSACRegressor', 'R-Squared': 0.716420920129529, 'Adjusted R-Squared': 0.7065572999601213, 'RMSE': 15.493891062145915, 'Time taken': 0.03216838836669922}\n"
     ]
    },
    {
     "name": "stderr",
     "output_type": "stream",
     "text": [
      " 81%|████████  | 34/42 [05:00<02:42, 20.33s/it]"
     ]
    },
    {
     "name": "stdout",
     "output_type": "stream",
     "text": [
      "{'Model': 'RandomForestRegressor', 'R-Squared': 0.9461484885824745, 'Adjusted R-Squared': 0.9442753925331693, 'RMSE': 6.751843262968917, 'Time taken': 0.722663164138794}\n",
      "{'Model': 'Ridge', 'R-Squared': 0.466821750095209, 'Adjusted R-Squared': 0.448276419663738, 'RMSE': 21.245140913548905, 'Time taken': 0.006079435348510742}\n",
      "{'Model': 'RidgeCV', 'R-Squared': 0.7297722366785957, 'Adjusted R-Squared': 0.7203730101282859, 'RMSE': 15.124756339987007, 'Time taken': 0.00991678237915039}\n",
      "{'Model': 'SGDRegressor', 'R-Squared': 0.10194932452330485, 'Adjusted R-Squared': 0.07071277928933284, 'RMSE': 27.57235271662652, 'Time taken': 0.017091751098632812}\n"
     ]
    },
    {
     "name": "stderr",
     "output_type": "stream",
     "text": [
      " 90%|█████████ | 38/42 [05:00<00:52, 13.04s/it]"
     ]
    },
    {
     "name": "stdout",
     "output_type": "stream",
     "text": [
      "{'Model': 'SVR', 'R-Squared': 0.0005467196933963692, 'Adjusted R-Squared': -0.03421687266509421, 'RMSE': 29.08738320436114, 'Time taken': 0.20095014572143555}\n",
      "{'Model': 'TransformedTargetRegressor', 'R-Squared': 0.7614226580726478, 'Adjusted R-Squared': 0.7531243157447398, 'RMSE': 14.211437237750514, 'Time taken': 0.007027387619018555}\n",
      "{'Model': 'TweedieRegressor', 'R-Squared': -0.0021223430115080433, 'Adjusted R-Squared': -0.036978772333647436, 'RMSE': 29.126196567680925, 'Time taken': 0.012026786804199219}\n"
     ]
    },
    {
     "name": "stderr",
     "output_type": "stream",
     "text": [
      "100%|██████████| 42/42 [05:01<00:00,  7.18s/it]"
     ]
    },
    {
     "name": "stdout",
     "output_type": "stream",
     "text": [
      "{'Model': 'XGBRegressor', 'R-Squared': 0.9489270167575486, 'Adjusted R-Squared': 0.9471505651665069, 'RMSE': 6.575352148069615, 'Time taken': 0.787886381149292}\n",
      "{'Model': 'LGBMRegressor', 'R-Squared': 0.943276109486364, 'Adjusted R-Squared': 0.9413031045989332, 'RMSE': 6.929571953532398, 'Time taken': 0.0758206844329834}\n",
      "                               Adjusted R-Squared  R-Squared  RMSE  Time Taken\n",
      "Model                                                                         \n",
      "GaussianProcessRegressor                     1.00       1.00  0.47        2.37\n",
      "ExtraTreesRegressor                          0.95       0.95  6.18        0.32\n",
      "HistGradientBoostingRegressor                0.95       0.95  6.55        0.42\n",
      "XGBRegressor                                 0.95       0.95  6.58        0.79\n",
      "RandomForestRegressor                        0.94       0.95  6.75        0.72\n",
      "LGBMRegressor                                0.94       0.94  6.93        0.08\n",
      "BaggingRegressor                             0.93       0.93  7.76        0.09\n",
      "ExtraTreeRegressor                           0.87       0.87 10.49        0.01\n",
      "DecisionTreeRegressor                        0.86       0.86 10.84        0.02\n",
      "KNeighborsRegressor                          0.80       0.80 12.86        0.01\n",
      "GradientBoostingRegressor                    0.77       0.77 13.84        0.28\n",
      "LassoLarsIC                                  0.75       0.76 14.21        0.01\n",
      "LassoLarsCV                                  0.75       0.76 14.21        0.02\n",
      "LinearRegression                             0.75       0.76 14.21        0.01\n",
      "TransformedTargetRegressor                   0.75       0.76 14.21        0.01\n",
      "BayesianRidge                                0.75       0.76 14.21        0.02\n",
      "HuberRegressor                               0.74       0.75 14.49        0.07\n",
      "RidgeCV                                      0.72       0.73 15.12        0.01\n",
      "RANSACRegressor                              0.71       0.72 15.49        0.03\n",
      "PassiveAggressiveRegressor                   0.65       0.66 16.98        0.02\n",
      "OrthogonalMatchingPursuitCV                  0.54       0.56 19.39        0.02\n",
      "Ridge                                        0.45       0.47 21.25        0.01\n",
      "LassoCV                                      0.35       0.37 23.04        0.17\n",
      "ElasticNetCV                                 0.28       0.31 24.20        0.12\n",
      "AdaBoostRegressor                            0.14       0.17 26.52        0.04\n",
      "SGDRegressor                                 0.07       0.10 27.57        0.02\n",
      "LinearSVR                                    0.05       0.08 27.93        0.01\n",
      "PoissonRegressor                             0.03       0.06 28.17        0.02\n",
      "MLPRegressor                                 0.00       0.03 28.59        1.08\n",
      "NuSVR                                       -0.03       0.01 29.01        0.16\n",
      "SVR                                         -0.03       0.00 29.09        0.20\n",
      "QuantileRegressor                           -0.04      -0.00 29.10      292.82\n",
      "TweedieRegressor                            -0.04      -0.00 29.13        0.01\n",
      "ElasticNet                                  -0.04      -0.00 29.17        0.01\n",
      "LassoLars                                   -0.04      -0.00 29.17        0.01\n",
      "DummyRegressor                              -0.04      -0.00 29.17        0.01\n",
      "Lasso                                       -0.04      -0.00 29.17        0.01\n",
      "OrthogonalMatchingPursuit                   -0.04      -0.01 29.20        0.01\n",
      "LarsCV                                      -0.22      -0.18 31.63        0.02\n",
      "Lars                                        -1.89      -1.80 48.66        0.01\n",
      "KernelRidge                                 -2.42      -2.31 52.90        1.66\n"
     ]
    },
    {
     "name": "stderr",
     "output_type": "stream",
     "text": [
      "\n"
     ]
    }
   ],
   "source": [
    "X= df_np.drop(columns='c17')\n",
    "X\n",
    "y=df_np['c17']\n",
    "y\n",
    "offset = int(X.shape[0] * 0.9)\n",
    "\n",
    "### splitting dataset into training and testing part.\n",
    "X_train, y_train = X[:offset], y[:offset]\n",
    "X_test, y_test = X[offset:], y[offset:]\n",
    "\n",
    "reg = LazyRegressor(verbose=10, ignore_warnings=False, custom_metric=None)\n",
    "\n",
    "\n",
    "\n",
    "### fitting data in LazyClassifier\n",
    "models, predictions = reg.fit(X_train, X_test, y_train, y_test)\n",
    "print(models)"
   ]
  },
  {
   "cell_type": "code",
   "execution_count": null,
   "metadata": {},
   "outputs": [],
   "source": []
  },
  {
   "cell_type": "markdown",
   "metadata": {},
   "source": [
    "# Creating dataset by Multivariate Gausian"
   ]
  },
  {
   "cell_type": "code",
   "execution_count": 35,
   "metadata": {},
   "outputs": [
    {
     "data": {
      "text/plain": [
       "<AxesSubplot:ylabel='Density'>"
      ]
     },
     "execution_count": 35,
     "metadata": {},
     "output_type": "execute_result"
    },
    {
     "data": {
      "image/png": "[encoded data removed]",
      "text/plain": [
       "<Figure size 432x288 with 1 Axes>"
      ]
     },
     "metadata": {
      "needs_background": "light"
     },
     "output_type": "display_data"
    }
   ],
   "source": [
    "sns.distplot(df_n)"
   ]
  },
  {
   "cell_type": "code",
   "execution_count": 36,
   "metadata": {},
   "outputs": [
    {
     "data": {
      "text/html": [
       "<div><div id=16e6b9a5-5133-4a72-b17b-10d7bde54c99 style=\"display:none; background-color:#9D6CFF; color:white; width:200px; height:30px; padding-left:5px; border-radius:4px; flex-direction:row; justify-content:space-around; align-items:center;\" onmouseover=\"this.style.backgroundColor='#BA9BF8'\" onmouseout=\"this.style.backgroundColor='#9D6CFF'\" onclick=\"window.commands?.execute('create-mitosheet-from-dataframe-output');\">See Full Dataframe in Mito</div> <script> if (window.commands.hasCommand('create-mitosheet-from-dataframe-output')) document.getElementById('16e6b9a5-5133-4a72-b17b-10d7bde54c99').style.display = 'flex' </script> <table border=\"1\" class=\"dataframe\">\n",
       "  <thead>\n",
       "    <tr style=\"text-align: right;\">\n",
       "      <th></th>\n",
       "      <th>c12</th>\n",
       "      <th>c2</th>\n",
       "      <th>c14</th>\n",
       "      <th>c15</th>\n",
       "      <th>c3</th>\n",
       "      <th>c10</th>\n",
       "      <th>c7</th>\n",
       "      <th>c6</th>\n",
       "      <th>c17</th>\n",
       "    </tr>\n",
       "  </thead>\n",
       "  <tbody>\n",
       "    <tr>\n",
       "      <th>c12</th>\n",
       "      <td>950.55</td>\n",
       "      <td>939.20</td>\n",
       "      <td>836.78</td>\n",
       "      <td>876.84</td>\n",
       "      <td>1055.06</td>\n",
       "      <td>964.07</td>\n",
       "      <td>787.56</td>\n",
       "      <td>962.24</td>\n",
       "      <td>-16.93</td>\n",
       "    </tr>\n",
       "    <tr>\n",
       "      <th>c2</th>\n",
       "      <td>939.20</td>\n",
       "      <td>932.48</td>\n",
       "      <td>833.71</td>\n",
       "      <td>873.58</td>\n",
       "      <td>1038.36</td>\n",
       "      <td>954.39</td>\n",
       "      <td>780.56</td>\n",
       "      <td>955.93</td>\n",
       "      <td>0.33</td>\n",
       "    </tr>\n",
       "    <tr>\n",
       "      <th>c14</th>\n",
       "      <td>836.78</td>\n",
       "      <td>833.71</td>\n",
       "      <td>779.51</td>\n",
       "      <td>791.06</td>\n",
       "      <td>923.11</td>\n",
       "      <td>852.34</td>\n",
       "      <td>698.21</td>\n",
       "      <td>855.02</td>\n",
       "      <td>-15.81</td>\n",
       "    </tr>\n",
       "    <tr>\n",
       "      <th>c15</th>\n",
       "      <td>876.84</td>\n",
       "      <td>873.58</td>\n",
       "      <td>791.06</td>\n",
       "      <td>826.50</td>\n",
       "      <td>968.19</td>\n",
       "      <td>892.97</td>\n",
       "      <td>731.30</td>\n",
       "      <td>895.64</td>\n",
       "      <td>-14.94</td>\n",
       "    </tr>\n",
       "    <tr>\n",
       "      <th>c3</th>\n",
       "      <td>1055.06</td>\n",
       "      <td>1038.36</td>\n",
       "      <td>923.11</td>\n",
       "      <td>968.19</td>\n",
       "      <td>1180.40</td>\n",
       "      <td>1069.71</td>\n",
       "      <td>868.03</td>\n",
       "      <td>1064.16</td>\n",
       "      <td>-0.02</td>\n",
       "    </tr>\n",
       "    <tr>\n",
       "      <th>c10</th>\n",
       "      <td>964.07</td>\n",
       "      <td>954.39</td>\n",
       "      <td>852.34</td>\n",
       "      <td>892.97</td>\n",
       "      <td>1069.71</td>\n",
       "      <td>978.97</td>\n",
       "      <td>798.37</td>\n",
       "      <td>978.32</td>\n",
       "      <td>-2.55</td>\n",
       "    </tr>\n",
       "    <tr>\n",
       "      <th>c7</th>\n",
       "      <td>787.56</td>\n",
       "      <td>780.56</td>\n",
       "      <td>698.21</td>\n",
       "      <td>731.30</td>\n",
       "      <td>868.03</td>\n",
       "      <td>798.37</td>\n",
       "      <td>665.14</td>\n",
       "      <td>796.67</td>\n",
       "      <td>-29.76</td>\n",
       "    </tr>\n",
       "    <tr>\n",
       "      <th>c6</th>\n",
       "      <td>962.24</td>\n",
       "      <td>955.93</td>\n",
       "      <td>855.02</td>\n",
       "      <td>895.64</td>\n",
       "      <td>1064.16</td>\n",
       "      <td>978.32</td>\n",
       "      <td>796.67</td>\n",
       "      <td>981.58</td>\n",
       "      <td>0.10</td>\n",
       "    </tr>\n",
       "    <tr>\n",
       "      <th>c17</th>\n",
       "      <td>-16.93</td>\n",
       "      <td>0.33</td>\n",
       "      <td>-15.81</td>\n",
       "      <td>-14.94</td>\n",
       "      <td>-0.02</td>\n",
       "      <td>-2.55</td>\n",
       "      <td>-29.76</td>\n",
       "      <td>0.10</td>\n",
       "      <td>900.08</td>\n",
       "    </tr>\n",
       "  </tbody>\n",
       "</table></div>"
      ],
      "text/plain": [
       "        c12      c2    c14    c15      c3     c10     c7      c6    c17\n",
       "c12  950.55  939.20 836.78 876.84 1055.06  964.07 787.56  962.24 -16.93\n",
       "c2   939.20  932.48 833.71 873.58 1038.36  954.39 780.56  955.93   0.33\n",
       "c14  836.78  833.71 779.51 791.06  923.11  852.34 698.21  855.02 -15.81\n",
       "c15  876.84  873.58 791.06 826.50  968.19  892.97 731.30  895.64 -14.94\n",
       "c3  1055.06 1038.36 923.11 968.19 1180.40 1069.71 868.03 1064.16  -0.02\n",
       "c10  964.07  954.39 852.34 892.97 1069.71  978.97 798.37  978.32  -2.55\n",
       "c7   787.56  780.56 698.21 731.30  868.03  798.37 665.14  796.67 -29.76\n",
       "c6   962.24  955.93 855.02 895.64 1064.16  978.32 796.67  981.58   0.10\n",
       "c17  -16.93    0.33 -15.81 -14.94   -0.02   -2.55 -29.76    0.10 900.08"
      ]
     },
     "execution_count": 36,
     "metadata": {},
     "output_type": "execute_result"
    }
   ],
   "source": [
    "df_n.cov()"
   ]
  },
  {
   "cell_type": "code",
   "execution_count": 37,
   "metadata": {},
   "outputs": [],
   "source": [
    "mean=df_n.mean()"
   ]
  },
  {
   "cell_type": "code",
   "execution_count": 38,
   "metadata": {},
   "outputs": [
    {
     "data": {
      "text/plain": [
       "c12   37.37\n",
       "c2    37.22\n",
       "c14   36.35\n",
       "c15   33.70\n",
       "c3    36.78\n",
       "c10   36.34\n",
       "c7    43.53\n",
       "c6    34.70\n",
       "c17   50.00\n",
       "dtype: float64"
      ]
     },
     "execution_count": 38,
     "metadata": {},
     "output_type": "execute_result"
    }
   ],
   "source": [
    "mean"
   ]
  },
  {
   "cell_type": "code",
   "execution_count": 39,
   "metadata": {},
   "outputs": [
    {
     "data": {
      "text/plain": [
       "7.969423906346272"
      ]
     },
     "execution_count": 39,
     "metadata": {},
     "output_type": "execute_result"
    }
   ],
   "source": [
    "df_n.c12.mode().mean()"
   ]
  },
  {
   "cell_type": "code",
   "execution_count": 40,
   "metadata": {},
   "outputs": [
    {
     "data": {
      "text/plain": [
       "c12    7.97\n",
       "c2    69.96\n",
       "c14    0.00\n",
       "c15    9.81\n",
       "c3    60.82\n",
       "c10    8.60\n",
       "c7    19.64\n",
       "c6     8.60\n",
       "c17   50.00\n",
       "dtype: float64"
      ]
     },
     "execution_count": 40,
     "metadata": {},
     "output_type": "execute_result"
    }
   ],
   "source": [
    "mode=df_n.mode().mean()\n",
    "mode"
   ]
  },
  {
   "cell_type": "code",
   "execution_count": 41,
   "metadata": {},
   "outputs": [
    {
     "data": {
      "text/plain": [
       "(11934, 10)"
      ]
     },
     "execution_count": 41,
     "metadata": {},
     "output_type": "execute_result"
    }
   ],
   "source": [
    "dfr.shape"
   ]
  },
  {
   "cell_type": "markdown",
   "metadata": {},
   "source": [
    "# Part 1 Making datset on the basis of mean of columns and covariance matrix"
   ]
  },
  {
   "cell_type": "code",
   "execution_count": 42,
   "metadata": {},
   "outputs": [],
   "source": [
    "random_seed=1000\n",
    "cov = df_n.cov()\n",
    "mean= df_n.mean()\n",
    "\n",
    "distr = multivariate_normal(cov = cov, mean = mean,\n",
    "\t\t\t\t\t\t\t\tseed = random_seed)\n",
    "\n",
    "# distr = multivariate_normal(cov = cov, mean = mean,\n",
    "# \t\t\t\t\t\t\t\tseed = random_seed,allow_singular=True)\n",
    "\n",
    "\n",
    "data = distr.rvs(size = df_n.shape[0])"
   ]
  },
  {
   "cell_type": "markdown",
   "metadata": {},
   "source": [
    "### Generated data"
   ]
  },
  {
   "cell_type": "code",
   "execution_count": 43,
   "metadata": {},
   "outputs": [],
   "source": [
    "df_g=pd.DataFrame(data)"
   ]
  },
  {
   "cell_type": "code",
   "execution_count": 44,
   "metadata": {},
   "outputs": [
    {
     "data": {
      "text/html": [
       "<div><div id=a927652f-6596-44c2-bafd-70654826cdf5 style=\"display:none; background-color:#9D6CFF; color:white; width:200px; height:30px; padding-left:5px; border-radius:4px; flex-direction:row; justify-content:space-around; align-items:center;\" onmouseover=\"this.style.backgroundColor='#BA9BF8'\" onmouseout=\"this.style.backgroundColor='#9D6CFF'\" onclick=\"window.commands?.execute('create-mitosheet-from-dataframe-output');\">See Full Dataframe in Mito</div> <script> if (window.commands.hasCommand('create-mitosheet-from-dataframe-output')) document.getElementById('a927652f-6596-44c2-bafd-70654826cdf5').style.display = 'flex' </script> <table border=\"1\" class=\"dataframe\">\n",
       "  <thead>\n",
       "    <tr style=\"text-align: right;\">\n",
       "      <th></th>\n",
       "      <th>0</th>\n",
       "      <th>1</th>\n",
       "      <th>2</th>\n",
       "      <th>3</th>\n",
       "      <th>4</th>\n",
       "      <th>5</th>\n",
       "      <th>6</th>\n",
       "      <th>7</th>\n",
       "      <th>8</th>\n",
       "    </tr>\n",
       "  </thead>\n",
       "  <tbody>\n",
       "    <tr>\n",
       "      <th>0</th>\n",
       "      <td>61.89</td>\n",
       "      <td>60.98</td>\n",
       "      <td>59.28</td>\n",
       "      <td>57.27</td>\n",
       "      <td>65.42</td>\n",
       "      <td>61.52</td>\n",
       "      <td>62.09</td>\n",
       "      <td>59.78</td>\n",
       "      <td>40.03</td>\n",
       "    </tr>\n",
       "    <tr>\n",
       "      <th>1</th>\n",
       "      <td>50.49</td>\n",
       "      <td>52.50</td>\n",
       "      <td>50.78</td>\n",
       "      <td>49.67</td>\n",
       "      <td>46.65</td>\n",
       "      <td>50.09</td>\n",
       "      <td>58.04</td>\n",
       "      <td>50.31</td>\n",
       "      <td>29.94</td>\n",
       "    </tr>\n",
       "    <tr>\n",
       "      <th>2</th>\n",
       "      <td>-2.90</td>\n",
       "      <td>-1.43</td>\n",
       "      <td>2.77</td>\n",
       "      <td>-1.18</td>\n",
       "      <td>-6.68</td>\n",
       "      <td>-3.68</td>\n",
       "      <td>11.38</td>\n",
       "      <td>-6.26</td>\n",
       "      <td>80.12</td>\n",
       "    </tr>\n",
       "    <tr>\n",
       "      <th>3</th>\n",
       "      <td>51.52</td>\n",
       "      <td>49.29</td>\n",
       "      <td>38.90</td>\n",
       "      <td>40.84</td>\n",
       "      <td>55.14</td>\n",
       "      <td>50.27</td>\n",
       "      <td>53.18</td>\n",
       "      <td>47.12</td>\n",
       "      <td>74.42</td>\n",
       "    </tr>\n",
       "    <tr>\n",
       "      <th>4</th>\n",
       "      <td>37.55</td>\n",
       "      <td>39.81</td>\n",
       "      <td>46.56</td>\n",
       "      <td>40.63</td>\n",
       "      <td>35.34</td>\n",
       "      <td>38.37</td>\n",
       "      <td>40.23</td>\n",
       "      <td>37.29</td>\n",
       "      <td>67.46</td>\n",
       "    </tr>\n",
       "  </tbody>\n",
       "</table></div>"
      ],
      "text/plain": [
       "      0     1     2     3     4     5     6     7     8\n",
       "0 61.89 60.98 59.28 57.27 65.42 61.52 62.09 59.78 40.03\n",
       "1 50.49 52.50 50.78 49.67 46.65 50.09 58.04 50.31 29.94\n",
       "2 -2.90 -1.43  2.77 -1.18 -6.68 -3.68 11.38 -6.26 80.12\n",
       "3 51.52 49.29 38.90 40.84 55.14 50.27 53.18 47.12 74.42\n",
       "4 37.55 39.81 46.56 40.63 35.34 38.37 40.23 37.29 67.46"
      ]
     },
     "execution_count": 44,
     "metadata": {},
     "output_type": "execute_result"
    }
   ],
   "source": [
    "df_g.head()"
   ]
  },
  {
   "cell_type": "code",
   "execution_count": 45,
   "metadata": {},
   "outputs": [],
   "source": [
    "df_g.columns = df_n.columns"
   ]
  },
  {
   "cell_type": "code",
   "execution_count": 46,
   "metadata": {},
   "outputs": [
    {
     "data": {
      "text/html": [
       "<div><div id=1b5a32d1-8d5b-43c9-b89b-efcbc78dced4 style=\"display:none; background-color:#9D6CFF; color:white; width:200px; height:30px; padding-left:5px; border-radius:4px; flex-direction:row; justify-content:space-around; align-items:center;\" onmouseover=\"this.style.backgroundColor='#BA9BF8'\" onmouseout=\"this.style.backgroundColor='#9D6CFF'\" onclick=\"window.commands?.execute('create-mitosheet-from-dataframe-output');\">See Full Dataframe in Mito</div> <script> if (window.commands.hasCommand('create-mitosheet-from-dataframe-output')) document.getElementById('1b5a32d1-8d5b-43c9-b89b-efcbc78dced4').style.display = 'flex' </script> <table border=\"1\" class=\"dataframe\">\n",
       "  <thead>\n",
       "    <tr style=\"text-align: right;\">\n",
       "      <th></th>\n",
       "      <th>c12</th>\n",
       "      <th>c2</th>\n",
       "      <th>c14</th>\n",
       "      <th>c15</th>\n",
       "      <th>c3</th>\n",
       "      <th>c10</th>\n",
       "      <th>c7</th>\n",
       "      <th>c6</th>\n",
       "      <th>c17</th>\n",
       "    </tr>\n",
       "  </thead>\n",
       "  <tbody>\n",
       "    <tr>\n",
       "      <th>0</th>\n",
       "      <td>61.89</td>\n",
       "      <td>60.98</td>\n",
       "      <td>59.28</td>\n",
       "      <td>57.27</td>\n",
       "      <td>65.42</td>\n",
       "      <td>61.52</td>\n",
       "      <td>62.09</td>\n",
       "      <td>59.78</td>\n",
       "      <td>40.03</td>\n",
       "    </tr>\n",
       "    <tr>\n",
       "      <th>1</th>\n",
       "      <td>50.49</td>\n",
       "      <td>52.50</td>\n",
       "      <td>50.78</td>\n",
       "      <td>49.67</td>\n",
       "      <td>46.65</td>\n",
       "      <td>50.09</td>\n",
       "      <td>58.04</td>\n",
       "      <td>50.31</td>\n",
       "      <td>29.94</td>\n",
       "    </tr>\n",
       "    <tr>\n",
       "      <th>2</th>\n",
       "      <td>-2.90</td>\n",
       "      <td>-1.43</td>\n",
       "      <td>2.77</td>\n",
       "      <td>-1.18</td>\n",
       "      <td>-6.68</td>\n",
       "      <td>-3.68</td>\n",
       "      <td>11.38</td>\n",
       "      <td>-6.26</td>\n",
       "      <td>80.12</td>\n",
       "    </tr>\n",
       "    <tr>\n",
       "      <th>3</th>\n",
       "      <td>51.52</td>\n",
       "      <td>49.29</td>\n",
       "      <td>38.90</td>\n",
       "      <td>40.84</td>\n",
       "      <td>55.14</td>\n",
       "      <td>50.27</td>\n",
       "      <td>53.18</td>\n",
       "      <td>47.12</td>\n",
       "      <td>74.42</td>\n",
       "    </tr>\n",
       "    <tr>\n",
       "      <th>4</th>\n",
       "      <td>37.55</td>\n",
       "      <td>39.81</td>\n",
       "      <td>46.56</td>\n",
       "      <td>40.63</td>\n",
       "      <td>35.34</td>\n",
       "      <td>38.37</td>\n",
       "      <td>40.23</td>\n",
       "      <td>37.29</td>\n",
       "      <td>67.46</td>\n",
       "    </tr>\n",
       "  </tbody>\n",
       "</table></div>"
      ],
      "text/plain": [
       "    c12    c2   c14   c15    c3   c10    c7    c6   c17\n",
       "0 61.89 60.98 59.28 57.27 65.42 61.52 62.09 59.78 40.03\n",
       "1 50.49 52.50 50.78 49.67 46.65 50.09 58.04 50.31 29.94\n",
       "2 -2.90 -1.43  2.77 -1.18 -6.68 -3.68 11.38 -6.26 80.12\n",
       "3 51.52 49.29 38.90 40.84 55.14 50.27 53.18 47.12 74.42\n",
       "4 37.55 39.81 46.56 40.63 35.34 38.37 40.23 37.29 67.46"
      ]
     },
     "execution_count": 46,
     "metadata": {},
     "output_type": "execute_result"
    }
   ],
   "source": [
    "df_g.head()"
   ]
  },
  {
   "cell_type": "code",
   "execution_count": 47,
   "metadata": {},
   "outputs": [
    {
     "data": {
      "text/plain": [
       "<AxesSubplot:ylabel='Density'>"
      ]
     },
     "execution_count": 47,
     "metadata": {},
     "output_type": "execute_result"
    },
    {
     "data": {
      "image/png": "[encoded data removed]",
      "text/plain": [
       "<Figure size 432x288 with 1 Axes>"
      ]
     },
     "metadata": {
      "needs_background": "light"
     },
     "output_type": "display_data"
    }
   ],
   "source": [
    "sns.distplot(df_g)"
   ]
  },
  {
   "cell_type": "code",
   "execution_count": 48,
   "metadata": {},
   "outputs": [
    {
     "data": {
      "text/html": [
       "<div><div id=3761e2a7-4808-462f-8061-0a245eb324b8 style=\"display:none; background-color:#9D6CFF; color:white; width:200px; height:30px; padding-left:5px; border-radius:4px; flex-direction:row; justify-content:space-around; align-items:center;\" onmouseover=\"this.style.backgroundColor='#BA9BF8'\" onmouseout=\"this.style.backgroundColor='#9D6CFF'\" onclick=\"window.commands?.execute('create-mitosheet-from-dataframe-output');\">See Full Dataframe in Mito</div> <script> if (window.commands.hasCommand('create-mitosheet-from-dataframe-output')) document.getElementById('3761e2a7-4808-462f-8061-0a245eb324b8').style.display = 'flex' </script> <table border=\"1\" class=\"dataframe\">\n",
       "  <thead>\n",
       "    <tr style=\"text-align: right;\">\n",
       "      <th></th>\n",
       "      <th>c12</th>\n",
       "      <th>c2</th>\n",
       "      <th>c14</th>\n",
       "      <th>c15</th>\n",
       "      <th>c3</th>\n",
       "      <th>c10</th>\n",
       "      <th>c7</th>\n",
       "      <th>c6</th>\n",
       "      <th>c17</th>\n",
       "    </tr>\n",
       "  </thead>\n",
       "  <tbody>\n",
       "    <tr>\n",
       "      <th>count</th>\n",
       "      <td>11934.00</td>\n",
       "      <td>11934.00</td>\n",
       "      <td>11934.00</td>\n",
       "      <td>11934.00</td>\n",
       "      <td>11934.00</td>\n",
       "      <td>11934.00</td>\n",
       "      <td>11934.00</td>\n",
       "      <td>11934.00</td>\n",
       "      <td>11934.00</td>\n",
       "    </tr>\n",
       "    <tr>\n",
       "      <th>mean</th>\n",
       "      <td>37.37</td>\n",
       "      <td>37.22</td>\n",
       "      <td>36.35</td>\n",
       "      <td>33.70</td>\n",
       "      <td>36.78</td>\n",
       "      <td>36.34</td>\n",
       "      <td>43.53</td>\n",
       "      <td>34.70</td>\n",
       "      <td>50.00</td>\n",
       "    </tr>\n",
       "    <tr>\n",
       "      <th>std</th>\n",
       "      <td>30.83</td>\n",
       "      <td>30.54</td>\n",
       "      <td>27.92</td>\n",
       "      <td>28.75</td>\n",
       "      <td>34.36</td>\n",
       "      <td>31.29</td>\n",
       "      <td>25.79</td>\n",
       "      <td>31.33</td>\n",
       "      <td>30.00</td>\n",
       "    </tr>\n",
       "    <tr>\n",
       "      <th>min</th>\n",
       "      <td>0.00</td>\n",
       "      <td>0.00</td>\n",
       "      <td>0.00</td>\n",
       "      <td>0.00</td>\n",
       "      <td>0.00</td>\n",
       "      <td>0.00</td>\n",
       "      <td>0.00</td>\n",
       "      <td>0.00</td>\n",
       "      <td>0.00</td>\n",
       "    </tr>\n",
       "    <tr>\n",
       "      <th>25%</th>\n",
       "      <td>9.35</td>\n",
       "      <td>11.20</td>\n",
       "      <td>14.78</td>\n",
       "      <td>10.09</td>\n",
       "      <td>3.51</td>\n",
       "      <td>8.54</td>\n",
       "      <td>21.90</td>\n",
       "      <td>8.60</td>\n",
       "      <td>24.00</td>\n",
       "    </tr>\n",
       "    <tr>\n",
       "      <th>50%</th>\n",
       "      <td>30.41</td>\n",
       "      <td>29.47</td>\n",
       "      <td>27.31</td>\n",
       "      <td>24.26</td>\n",
       "      <td>27.37</td>\n",
       "      <td>28.55</td>\n",
       "      <td>39.15</td>\n",
       "      <td>26.56</td>\n",
       "      <td>50.00</td>\n",
       "    </tr>\n",
       "    <tr>\n",
       "      <th>75%</th>\n",
       "      <td>56.78</td>\n",
       "      <td>53.42</td>\n",
       "      <td>48.14</td>\n",
       "      <td>46.15</td>\n",
       "      <td>60.82</td>\n",
       "      <td>54.46</td>\n",
       "      <td>58.16</td>\n",
       "      <td>51.11</td>\n",
       "      <td>76.00</td>\n",
       "    </tr>\n",
       "    <tr>\n",
       "      <th>max</th>\n",
       "      <td>100.00</td>\n",
       "      <td>100.00</td>\n",
       "      <td>100.00</td>\n",
       "      <td>100.00</td>\n",
       "      <td>100.00</td>\n",
       "      <td>100.00</td>\n",
       "      <td>100.00</td>\n",
       "      <td>100.00</td>\n",
       "      <td>100.00</td>\n",
       "    </tr>\n",
       "  </tbody>\n",
       "</table></div>"
      ],
      "text/plain": [
       "           c12       c2      c14      c15       c3      c10       c7       c6  \\\n",
       "count 11934.00 11934.00 11934.00 11934.00 11934.00 11934.00 11934.00 11934.00   \n",
       "mean     37.37    37.22    36.35    33.70    36.78    36.34    43.53    34.70   \n",
       "std      30.83    30.54    27.92    28.75    34.36    31.29    25.79    31.33   \n",
       "min       0.00     0.00     0.00     0.00     0.00     0.00     0.00     0.00   \n",
       "25%       9.35    11.20    14.78    10.09     3.51     8.54    21.90     8.60   \n",
       "50%      30.41    29.47    27.31    24.26    27.37    28.55    39.15    26.56   \n",
       "75%      56.78    53.42    48.14    46.15    60.82    54.46    58.16    51.11   \n",
       "max     100.00   100.00   100.00   100.00   100.00   100.00   100.00   100.00   \n",
       "\n",
       "           c17  \n",
       "count 11934.00  \n",
       "mean     50.00  \n",
       "std      30.00  \n",
       "min       0.00  \n",
       "25%      24.00  \n",
       "50%      50.00  \n",
       "75%      76.00  \n",
       "max     100.00  "
      ]
     },
     "execution_count": 48,
     "metadata": {},
     "output_type": "execute_result"
    }
   ],
   "source": [
    "df_n.describe()"
   ]
  },
  {
   "cell_type": "code",
   "execution_count": 49,
   "metadata": {},
   "outputs": [
    {
     "data": {
      "text/html": [
       "<div><div id=1f48952e-0532-4090-a5f4-c6e29ded8812 style=\"display:none; background-color:#9D6CFF; color:white; width:200px; height:30px; padding-left:5px; border-radius:4px; flex-direction:row; justify-content:space-around; align-items:center;\" onmouseover=\"this.style.backgroundColor='#BA9BF8'\" onmouseout=\"this.style.backgroundColor='#9D6CFF'\" onclick=\"window.commands?.execute('create-mitosheet-from-dataframe-output');\">See Full Dataframe in Mito</div> <script> if (window.commands.hasCommand('create-mitosheet-from-dataframe-output')) document.getElementById('1f48952e-0532-4090-a5f4-c6e29ded8812').style.display = 'flex' </script> <table border=\"1\" class=\"dataframe\">\n",
       "  <thead>\n",
       "    <tr style=\"text-align: right;\">\n",
       "      <th></th>\n",
       "      <th>c12</th>\n",
       "      <th>c2</th>\n",
       "      <th>c14</th>\n",
       "      <th>c15</th>\n",
       "      <th>c3</th>\n",
       "      <th>c10</th>\n",
       "      <th>c7</th>\n",
       "      <th>c6</th>\n",
       "      <th>c17</th>\n",
       "    </tr>\n",
       "  </thead>\n",
       "  <tbody>\n",
       "    <tr>\n",
       "      <th>count</th>\n",
       "      <td>11934.00</td>\n",
       "      <td>11934.00</td>\n",
       "      <td>11934.00</td>\n",
       "      <td>11934.00</td>\n",
       "      <td>11934.00</td>\n",
       "      <td>11934.00</td>\n",
       "      <td>11934.00</td>\n",
       "      <td>11934.00</td>\n",
       "      <td>11934.00</td>\n",
       "    </tr>\n",
       "    <tr>\n",
       "      <th>mean</th>\n",
       "      <td>37.16</td>\n",
       "      <td>37.04</td>\n",
       "      <td>36.33</td>\n",
       "      <td>33.59</td>\n",
       "      <td>36.53</td>\n",
       "      <td>36.15</td>\n",
       "      <td>43.37</td>\n",
       "      <td>34.52</td>\n",
       "      <td>50.35</td>\n",
       "    </tr>\n",
       "    <tr>\n",
       "      <th>std</th>\n",
       "      <td>30.79</td>\n",
       "      <td>30.51</td>\n",
       "      <td>27.89</td>\n",
       "      <td>28.74</td>\n",
       "      <td>34.31</td>\n",
       "      <td>31.26</td>\n",
       "      <td>25.77</td>\n",
       "      <td>31.30</td>\n",
       "      <td>30.22</td>\n",
       "    </tr>\n",
       "    <tr>\n",
       "      <th>min</th>\n",
       "      <td>-78.76</td>\n",
       "      <td>-78.66</td>\n",
       "      <td>-65.19</td>\n",
       "      <td>-74.11</td>\n",
       "      <td>-92.20</td>\n",
       "      <td>-81.63</td>\n",
       "      <td>-56.28</td>\n",
       "      <td>-84.50</td>\n",
       "      <td>-54.16</td>\n",
       "    </tr>\n",
       "    <tr>\n",
       "      <th>25%</th>\n",
       "      <td>16.56</td>\n",
       "      <td>16.59</td>\n",
       "      <td>17.54</td>\n",
       "      <td>14.33</td>\n",
       "      <td>13.36</td>\n",
       "      <td>15.26</td>\n",
       "      <td>26.36</td>\n",
       "      <td>13.53</td>\n",
       "      <td>29.76</td>\n",
       "    </tr>\n",
       "    <tr>\n",
       "      <th>50%</th>\n",
       "      <td>36.92</td>\n",
       "      <td>36.78</td>\n",
       "      <td>35.94</td>\n",
       "      <td>33.50</td>\n",
       "      <td>36.24</td>\n",
       "      <td>35.94</td>\n",
       "      <td>43.04</td>\n",
       "      <td>34.31</td>\n",
       "      <td>50.50</td>\n",
       "    </tr>\n",
       "    <tr>\n",
       "      <th>75%</th>\n",
       "      <td>58.09</td>\n",
       "      <td>57.70</td>\n",
       "      <td>55.33</td>\n",
       "      <td>52.98</td>\n",
       "      <td>59.58</td>\n",
       "      <td>57.42</td>\n",
       "      <td>60.77</td>\n",
       "      <td>55.85</td>\n",
       "      <td>70.84</td>\n",
       "    </tr>\n",
       "    <tr>\n",
       "      <th>max</th>\n",
       "      <td>151.93</td>\n",
       "      <td>150.81</td>\n",
       "      <td>143.91</td>\n",
       "      <td>141.54</td>\n",
       "      <td>163.82</td>\n",
       "      <td>152.48</td>\n",
       "      <td>140.92</td>\n",
       "      <td>150.05</td>\n",
       "      <td>159.65</td>\n",
       "    </tr>\n",
       "  </tbody>\n",
       "</table></div>"
      ],
      "text/plain": [
       "           c12       c2      c14      c15       c3      c10       c7       c6  \\\n",
       "count 11934.00 11934.00 11934.00 11934.00 11934.00 11934.00 11934.00 11934.00   \n",
       "mean     37.16    37.04    36.33    33.59    36.53    36.15    43.37    34.52   \n",
       "std      30.79    30.51    27.89    28.74    34.31    31.26    25.77    31.30   \n",
       "min     -78.76   -78.66   -65.19   -74.11   -92.20   -81.63   -56.28   -84.50   \n",
       "25%      16.56    16.59    17.54    14.33    13.36    15.26    26.36    13.53   \n",
       "50%      36.92    36.78    35.94    33.50    36.24    35.94    43.04    34.31   \n",
       "75%      58.09    57.70    55.33    52.98    59.58    57.42    60.77    55.85   \n",
       "max     151.93   150.81   143.91   141.54   163.82   152.48   140.92   150.05   \n",
       "\n",
       "           c17  \n",
       "count 11934.00  \n",
       "mean     50.35  \n",
       "std      30.22  \n",
       "min     -54.16  \n",
       "25%      29.76  \n",
       "50%      50.50  \n",
       "75%      70.84  \n",
       "max     159.65  "
      ]
     },
     "execution_count": 49,
     "metadata": {},
     "output_type": "execute_result"
    }
   ],
   "source": [
    "df_g.describe()"
   ]
  },
  {
   "cell_type": "markdown",
   "metadata": {},
   "source": [
    "# Finding probabbilties of all columns and joint probabilty on generated data set"
   ]
  },
  {
   "cell_type": "markdown",
   "metadata": {},
   "source": [
    "#### Findining probabilities of all columns"
   ]
  },
  {
   "cell_type": "code",
   "execution_count": 50,
   "metadata": {},
   "outputs": [
    {
     "name": "stdout",
     "output_type": "stream",
     "text": [
      "done\n"
     ]
    },
    {
     "data": {
      "text/plain": [
       "array([0.])"
      ]
     },
     "execution_count": 50,
     "metadata": {},
     "output_type": "execute_result"
    }
   ],
   "source": [
    "df_g_prob=df_g.copy()\n",
    "\n",
    "def f1(b):\n",
    "    \n",
    "    k=df_g[df_g[i] == b].shape[0]\n",
    "    return(k/len(df_g))\n",
    "\n",
    "for i in df_g.columns:\n",
    "    # print(i)\n",
    "    \n",
    "    df_g_prob['prob_'+i] = df_g[i].apply(f1)\n",
    "\n",
    "df_g_prob.head()\n",
    "df_g_prob.head()\n",
    "df_g_prob.prob_c2.value_counts()\n",
    "df_g_prob.prob_c2.unique()\n",
    "\n",
    "\n",
    "### Joint probability\n",
    "df_g.columns\n",
    "\n",
    "def f1(a):\n",
    "    \n",
    "    \n",
    "    k=df_n[ (df_n[col[0]] == a[col[0]]) & (df_n[col[1]] == a[col[1]]) & (df_n[col[2]] == a[col[2]]) \n",
    "        & (df_n[col[3]] == a[col[3]]) & (df_n[col[4]] == a[col[4]]) & (df_n[col[5]] == a[col[5]])  \n",
    "        & (df_n[col[6]] == a[col[6]]) & (df_n[col[7]] == a[col[7]]) & (df_n[col[8]] == a[col[8]])].shape[0]\n",
    "   \n",
    "    \n",
    "    return(k/len(df_g))\n",
    "    \n",
    "\n",
    "df_g_prob['prob_joint'] = df_g.apply(f1,axis=1)\n",
    "\n",
    "print('done')\n",
    "\n",
    "# df_g\n",
    "df_g_prob.head()\n",
    "df_g_prob.prob_joint.unique()"
   ]
  },
  {
   "cell_type": "markdown",
   "metadata": {},
   "source": [
    "#### This shows that all the rows in dataset are unique and hence the ombined joint probability is same for all rows"
   ]
  },
  {
   "cell_type": "markdown",
   "metadata": {},
   "source": [
    "## Use model on new generated dataset"
   ]
  },
  {
   "cell_type": "markdown",
   "metadata": {},
   "source": [
    "### Again creating smaller smaple dataset for running lazy predic models on generated dataste"
   ]
  },
  {
   "cell_type": "code",
   "execution_count": 51,
   "metadata": {},
   "outputs": [
    {
     "name": "stdout",
     "output_type": "stream",
     "text": [
      "(2387, 9)\n"
     ]
    }
   ],
   "source": [
    "df_gp=df_g.sample(frac =.2)\n",
    "print(df_gp.shape)"
   ]
  },
  {
   "cell_type": "code",
   "execution_count": 52,
   "metadata": {},
   "outputs": [
    {
     "name": "stderr",
     "output_type": "stream",
     "text": [
      "  2%|▏         | 1/42 [00:00<00:04,  8.90it/s]"
     ]
    },
    {
     "name": "stdout",
     "output_type": "stream",
     "text": [
      "{'Model': 'AdaBoostRegressor', 'R-Squared': -0.0007741975472810303, 'Adjusted R-Squared': -0.035583734853273485, 'RMSE': 31.76210645485914, 'Time taken': 0.11239814758300781}\n"
     ]
    },
    {
     "name": "stderr",
     "output_type": "stream",
     "text": [
      "  5%|▍         | 2/42 [00:00<00:04,  8.53it/s]"
     ]
    },
    {
     "name": "stdout",
     "output_type": "stream",
     "text": [
      "{'Model': 'BaggingRegressor', 'R-Squared': 0.11890761595208388, 'Adjusted R-Squared': 0.0882609243330259, 'RMSE': 29.802450193892835, 'Time taken': 0.12063980102539062}\n",
      "{'Model': 'BayesianRidge', 'R-Squared': 0.8061695498603364, 'Adjusted R-Squared': 0.7994276211598264, 'RMSE': 13.978232163404762, 'Time taken': 0.009913444519042969}\n",
      "{'Model': 'DecisionTreeRegressor', 'R-Squared': -0.6037191312254913, 'Adjusted R-Squared': -0.6595006662246388, 'RMSE': 40.2073455382473, 'Time taken': 0.02209019660949707}\n",
      "{'Model': 'DummyRegressor', 'R-Squared': -0.0005908953037074838, 'Adjusted R-Squared': -0.0353940568794886, 'RMSE': 31.75919754093755, 'Time taken': 0.005915403366088867}\n",
      "{'Model': 'ElasticNet', 'R-Squared': 0.000829140186143329, 'Adjusted R-Squared': -0.03392462885086034, 'RMSE': 31.736653262166733, 'Time taken': 0.006854534149169922}\n"
     ]
    },
    {
     "name": "stderr",
     "output_type": "stream",
     "text": [
      " 17%|█▋        | 7/42 [00:00<00:01, 19.03it/s]"
     ]
    },
    {
     "name": "stdout",
     "output_type": "stream",
     "text": [
      "{'Model': 'ElasticNetCV', 'R-Squared': 0.32526079311448264, 'Adjusted R-Squared': 0.30179160330976895, 'RMSE': 26.08009808167453, 'Time taken': 0.13890337944030762}\n",
      "{'Model': 'ExtraTreeRegressor', 'R-Squared': -0.6397241042073631, 'Adjusted R-Squared': -0.6967579860928366, 'RMSE': 40.65618628673978, 'Time taken': 0.009999513626098633}\n"
     ]
    },
    {
     "name": "stderr",
     "output_type": "stream",
     "text": [
      " 21%|██▏       | 9/42 [00:00<00:03,  9.97it/s]"
     ]
    },
    {
     "name": "stdout",
     "output_type": "stream",
     "text": [
      "{'Model': 'ExtraTreesRegressor', 'R-Squared': 0.17105436212592084, 'Adjusted R-Squared': 0.14222147037377897, 'RMSE': 28.907083201028286, 'Time taken': 0.39753150939941406}\n",
      "GammaRegressor model failed to execute\n",
      "Some value(s) of y are out of the valid range for family GammaDistribution\n"
     ]
    },
    {
     "name": "stderr",
     "output_type": "stream",
     "text": [
      " 26%|██▌       | 11/42 [00:03<00:14,  2.20it/s]"
     ]
    },
    {
     "name": "stdout",
     "output_type": "stream",
     "text": [
      "{'Model': 'GaussianProcessRegressor', 'R-Squared': -80.44770013985875, 'Adjusted R-Squared': -83.28066362298428, 'RMSE': 286.5369672612481, 'Time taken': 2.4804723262786865}\n"
     ]
    },
    {
     "name": "stderr",
     "output_type": "stream",
     "text": [
      " 29%|██▊       | 12/42 [00:03<00:13,  2.30it/s]"
     ]
    },
    {
     "name": "stdout",
     "output_type": "stream",
     "text": [
      "{'Model': 'GradientBoostingRegressor', 'R-Squared': 0.1086930035411715, 'Adjusted R-Squared': 0.07769102105564707, 'RMSE': 29.974704128119125, 'Time taken': 0.34035778045654297}\n"
     ]
    },
    {
     "name": "stderr",
     "output_type": "stream",
     "text": [
      " 31%|███       | 13/42 [00:04<00:12,  2.29it/s]"
     ]
    },
    {
     "name": "stdout",
     "output_type": "stream",
     "text": [
      "{'Model': 'HistGradientBoostingRegressor', 'R-Squared': 0.16485563190357, 'Adjusted R-Squared': 0.1358071321436941, 'RMSE': 29.01496329897533, 'Time taken': 0.4407017230987549}\n",
      "{'Model': 'HuberRegressor', 'R-Squared': 0.7979341561829953, 'Adjusted R-Squared': 0.7909057790067517, 'RMSE': 14.272094136707889, 'Time taken': 0.06752347946166992}\n",
      "{'Model': 'KNeighborsRegressor', 'R-Squared': -0.02455109432248692, 'Adjusted R-Squared': -0.06018765412500815, 'RMSE': 32.13720165862138, 'Time taken': 0.015050411224365234}\n"
     ]
    },
    {
     "name": "stderr",
     "output_type": "stream",
     "text": [
      " 38%|███▊      | 16/42 [00:05<00:12,  2.01it/s]"
     ]
    },
    {
     "name": "stdout",
     "output_type": "stream",
     "text": [
      "{'Model': 'KernelRidge', 'R-Squared': -1.9429175123055078, 'Adjusted R-Squared': -2.0452798605596123, 'RMSE': 54.46660325507294, 'Time taken': 1.6196489334106445}\n",
      "{'Model': 'Lars', 'R-Squared': 0.7913726419058656, 'Adjusted R-Squared': 0.7841160381460697, 'RMSE': 14.501965794926228, 'Time taken': 0.009998559951782227}\n",
      "{'Model': 'LarsCV', 'R-Squared': 0.0979602411787922, 'Adjusted R-Squared': 0.06658494521979363, 'RMSE': 30.154635781937692, 'Time taken': 0.02177262306213379}\n",
      "{'Model': 'Lasso', 'R-Squared': -0.0005908953037074838, 'Adjusted R-Squared': -0.0353940568794886, 'RMSE': 31.75919754093755, 'Time taken': 0.00698399543762207}\n"
     ]
    },
    {
     "name": "stderr",
     "output_type": "stream",
     "text": [
      " 48%|████▊     | 20/42 [00:06<00:06,  3.47it/s]"
     ]
    },
    {
     "name": "stdout",
     "output_type": "stream",
     "text": [
      "{'Model': 'LassoCV', 'R-Squared': 0.39436936365123243, 'Adjusted R-Squared': 0.37330395021301443, 'RMSE': 24.708430827960868, 'Time taken': 0.1766676902770996}\n",
      "{'Model': 'LassoLars', 'R-Squared': -0.0005908953037074838, 'Adjusted R-Squared': -0.0353940568794886, 'RMSE': 31.75919754093755, 'Time taken': 0.00794839859008789}\n",
      "{'Model': 'LassoLarsCV', 'R-Squared': 0.8061592138332982, 'Adjusted R-Squared': 0.7994169256188043, 'RMSE': 13.97860485371075, 'Time taken': 0.021493196487426758}\n",
      "{'Model': 'LassoLarsIC', 'R-Squared': 0.8061592138332982, 'Adjusted R-Squared': 0.7994169256188043, 'RMSE': 13.97860485371075, 'Time taken': 0.012999773025512695}\n",
      "{'Model': 'LinearRegression', 'R-Squared': 0.8061592138330412, 'Adjusted R-Squared': 0.7994169256185383, 'RMSE': 13.978604853720016, 'Time taken': 0.007479429244995117}\n",
      "{'Model': 'LinearSVR', 'R-Squared': 0.07705476909410669, 'Adjusted R-Squared': 0.044952326279988686, 'RMSE': 30.502062892155845, 'Time taken': 0.007999658584594727}\n"
     ]
    },
    {
     "name": "stderr",
     "output_type": "stream",
     "text": [
      " 64%|██████▍   | 27/42 [00:07<00:03,  4.25it/s]"
     ]
    },
    {
     "name": "stdout",
     "output_type": "stream",
     "text": [
      "{'Model': 'MLPRegressor', 'R-Squared': 0.06619616422217389, 'Adjusted R-Squared': 0.03371603080381469, 'RMSE': 30.680969148881616, 'Time taken': 1.1572339534759521}\n",
      "{'Model': 'NuSVR', 'R-Squared': 0.009436316364202724, 'Adjusted R-Squared': -0.025018072631824984, 'RMSE': 31.59966278201928, 'Time taken': 0.15230822563171387}\n",
      "{'Model': 'OrthogonalMatchingPursuit', 'R-Squared': 0.0007394427433056183, 'Adjusted R-Squared': -0.03401744620475333, 'RMSE': 31.738077759653038, 'Time taken': 0.009000062942504883}\n",
      "{'Model': 'OrthogonalMatchingPursuitCV', 'R-Squared': 0.33661642353202836, 'Adjusted R-Squared': 0.3135422121766206, 'RMSE': 25.859707299694787, 'Time taken': 0.017579317092895508}\n",
      "{'Model': 'PassiveAggressiveRegressor', 'R-Squared': 0.6753090339469183, 'Adjusted R-Squared': 0.6640154351276807, 'RMSE': 18.091573872432544, 'Time taken': 0.014384746551513672}\n",
      "PoissonRegressor model failed to execute\n",
      "Some value(s) of y are out of the valid range for family PoissonDistribution\n"
     ]
    },
    {
     "name": "stderr",
     "output_type": "stream",
     "text": [
      " 76%|███████▌  | 32/42 [05:39<04:48, 28.90s/it]"
     ]
    },
    {
     "name": "stdout",
     "output_type": "stream",
     "text": [
      "{'Model': 'QuantileRegressor', 'R-Squared': -0.0010321640853676595, 'Adjusted R-Squared': -0.03585067414051091, 'RMSE': 31.766199802152308, 'Time taken': 332.1426646709442}\n",
      "{'Model': 'RANSACRegressor', 'R-Squared': 0.7729664813699826, 'Adjusted R-Squared': 0.7650696633306776, 'RMSE': 15.128164462590412, 'Time taken': 0.03981184959411621}\n"
     ]
    },
    {
     "name": "stderr",
     "output_type": "stream",
     "text": [
      " 81%|████████  | 34/42 [05:40<03:06, 23.27s/it]"
     ]
    },
    {
     "name": "stdout",
     "output_type": "stream",
     "text": [
      "{'Model': 'RandomForestRegressor', 'R-Squared': 0.18488565760212194, 'Adjusted R-Squared': 0.1565338543882827, 'RMSE': 28.664905516834065, 'Time taken': 1.0202674865722656}\n",
      "{'Model': 'Ridge', 'R-Squared': 0.47316154808304633, 'Adjusted R-Squared': 0.45483673236419575, 'RMSE': 23.045173368272827, 'Time taken': 0.009074211120605469}\n",
      "{'Model': 'RidgeCV', 'R-Squared': 0.768387281448967, 'Adjusted R-Squared': 0.7603311868906701, 'RMSE': 15.279968159528558, 'Time taken': 0.010111331939697266}\n",
      "{'Model': 'SGDRegressor', 'R-Squared': 0.16744954827935388, 'Adjusted R-Squared': 0.1384912716977662, 'RMSE': 28.9698687485288, 'Time taken': 0.030057907104492188}\n"
     ]
    },
    {
     "name": "stderr",
     "output_type": "stream",
     "text": [
      " 98%|█████████▊| 41/42 [05:41<00:10, 10.74s/it]"
     ]
    },
    {
     "name": "stdout",
     "output_type": "stream",
     "text": [
      "{'Model': 'SVR', 'R-Squared': 0.005570946626266671, 'Adjusted R-Squared': -0.029017890012819736, 'RMSE': 31.661256729222046, 'Time taken': 0.19172215461730957}\n",
      "{'Model': 'TransformedTargetRegressor', 'R-Squared': 0.8061592138330412, 'Adjusted R-Squared': 0.7994169256185383, 'RMSE': 13.978604853720016, 'Time taken': 0.010029792785644531}\n",
      "{'Model': 'TweedieRegressor', 'R-Squared': 0.002965814989804527, 'Adjusted R-Squared': -0.03171363492359358, 'RMSE': 31.70270151204908, 'Time taken': 0.011749744415283203}\n",
      "{'Model': 'XGBRegressor', 'R-Squared': 0.15341137434680396, 'Adjusted R-Squared': 0.12396481345451882, 'RMSE': 29.213087653292305, 'Time taken': 0.1643364429473877}\n"
     ]
    },
    {
     "name": "stderr",
     "output_type": "stream",
     "text": [
      "100%|██████████| 42/42 [05:41<00:00,  8.12s/it]"
     ]
    },
    {
     "name": "stdout",
     "output_type": "stream",
     "text": [
      "{'Model': 'LGBMRegressor', 'R-Squared': 0.16529364926969925, 'Adjusted R-Squared': 0.1362603848964714, 'RMSE': 29.007353402327425, 'Time taken': 0.07998275756835938}\n",
      "                               Adjusted R-Squared  R-Squared   RMSE  \\\n",
      "Model                                                                 \n",
      "BayesianRidge                                0.80       0.81  13.98   \n",
      "LassoLarsCV                                  0.80       0.81  13.98   \n",
      "LassoLarsIC                                  0.80       0.81  13.98   \n",
      "TransformedTargetRegressor                   0.80       0.81  13.98   \n",
      "LinearRegression                             0.80       0.81  13.98   \n",
      "HuberRegressor                               0.79       0.80  14.27   \n",
      "Lars                                         0.78       0.79  14.50   \n",
      "RANSACRegressor                              0.77       0.77  15.13   \n",
      "RidgeCV                                      0.76       0.77  15.28   \n",
      "PassiveAggressiveRegressor                   0.66       0.68  18.09   \n",
      "Ridge                                        0.45       0.47  23.05   \n",
      "LassoCV                                      0.37       0.39  24.71   \n",
      "OrthogonalMatchingPursuitCV                  0.31       0.34  25.86   \n",
      "ElasticNetCV                                 0.30       0.33  26.08   \n",
      "RandomForestRegressor                        0.16       0.18  28.66   \n",
      "ExtraTreesRegressor                          0.14       0.17  28.91   \n",
      "SGDRegressor                                 0.14       0.17  28.97   \n",
      "LGBMRegressor                                0.14       0.17  29.01   \n",
      "HistGradientBoostingRegressor                0.14       0.16  29.01   \n",
      "XGBRegressor                                 0.12       0.15  29.21   \n",
      "BaggingRegressor                             0.09       0.12  29.80   \n",
      "GradientBoostingRegressor                    0.08       0.11  29.97   \n",
      "LarsCV                                       0.07       0.10  30.15   \n",
      "LinearSVR                                    0.04       0.08  30.50   \n",
      "MLPRegressor                                 0.03       0.07  30.68   \n",
      "NuSVR                                       -0.03       0.01  31.60   \n",
      "SVR                                         -0.03       0.01  31.66   \n",
      "TweedieRegressor                            -0.03       0.00  31.70   \n",
      "ElasticNet                                  -0.03       0.00  31.74   \n",
      "OrthogonalMatchingPursuit                   -0.03       0.00  31.74   \n",
      "Lasso                                       -0.04      -0.00  31.76   \n",
      "LassoLars                                   -0.04      -0.00  31.76   \n",
      "DummyRegressor                              -0.04      -0.00  31.76   \n",
      "AdaBoostRegressor                           -0.04      -0.00  31.76   \n",
      "QuantileRegressor                           -0.04      -0.00  31.77   \n",
      "KNeighborsRegressor                         -0.06      -0.02  32.14   \n",
      "DecisionTreeRegressor                       -0.66      -0.60  40.21   \n",
      "ExtraTreeRegressor                          -0.70      -0.64  40.66   \n",
      "KernelRidge                                 -2.05      -1.94  54.47   \n",
      "GaussianProcessRegressor                   -83.28     -80.45 286.54   \n",
      "\n",
      "                               Time Taken  \n",
      "Model                                      \n",
      "BayesianRidge                        0.01  \n",
      "LassoLarsCV                          0.02  \n",
      "LassoLarsIC                          0.01  \n",
      "TransformedTargetRegressor           0.01  \n",
      "LinearRegression                     0.01  \n",
      "HuberRegressor                       0.07  \n",
      "Lars                                 0.01  \n",
      "RANSACRegressor                      0.04  \n",
      "RidgeCV                              0.01  \n",
      "PassiveAggressiveRegressor           0.01  \n",
      "Ridge                                0.01  \n",
      "LassoCV                              0.18  \n",
      "OrthogonalMatchingPursuitCV          0.02  \n",
      "ElasticNetCV                         0.14  \n",
      "RandomForestRegressor                1.02  \n",
      "ExtraTreesRegressor                  0.40  \n",
      "SGDRegressor                         0.03  \n",
      "LGBMRegressor                        0.08  \n",
      "HistGradientBoostingRegressor        0.44  \n",
      "XGBRegressor                         0.16  \n",
      "BaggingRegressor                     0.12  \n",
      "GradientBoostingRegressor            0.34  \n",
      "LarsCV                               0.02  \n",
      "LinearSVR                            0.01  \n",
      "MLPRegressor                         1.16  \n",
      "NuSVR                                0.15  \n",
      "SVR                                  0.19  \n",
      "TweedieRegressor                     0.01  \n",
      "ElasticNet                           0.01  \n",
      "OrthogonalMatchingPursuit            0.01  \n",
      "Lasso                                0.01  \n",
      "LassoLars                            0.01  \n",
      "DummyRegressor                       0.01  \n",
      "AdaBoostRegressor                    0.11  \n",
      "QuantileRegressor                  332.14  \n",
      "KNeighborsRegressor                  0.02  \n",
      "DecisionTreeRegressor                0.02  \n",
      "ExtraTreeRegressor                   0.01  \n",
      "KernelRidge                          1.62  \n",
      "GaussianProcessRegressor             2.48  \n"
     ]
    },
    {
     "name": "stderr",
     "output_type": "stream",
     "text": [
      "\n"
     ]
    }
   ],
   "source": [
    "X= df_gp.drop(columns='c17')\n",
    "X\n",
    "y=df_gp['c17']\n",
    "y\n",
    "offset = int(X.shape[0] * 0.9)\n",
    "\n",
    "### splitting dataset into training and testing part.\n",
    "X_train, y_train = X[:offset], y[:offset]\n",
    "X_test, y_test = X[offset:], y[offset:]\n",
    "\n",
    "reg = LazyRegressor(verbose=10, ignore_warnings=False, custom_metric=None)\n",
    "\n",
    "\n",
    "\n",
    "### fitting data in LazyClassifier\n",
    "models_1, predictions = reg.fit(X_train, X_test, y_train, y_test)\n",
    "\n",
    "print(models_1)"
   ]
  },
  {
   "cell_type": "markdown",
   "metadata": {},
   "source": [
    "# Part 2- Making multivariate gausian based on mean of the modes of columns and covariance matrix"
   ]
  },
  {
   "cell_type": "code",
   "execution_count": 53,
   "metadata": {},
   "outputs": [],
   "source": [
    "random_seed=1000\n",
    "cov = df_n.cov()\n",
    "# mean= df_n.mean()\n",
    "\n",
    "mode=df_n.mode().mean()\n",
    "# mode\n",
    "\n",
    "distr = multivariate_normal(cov = cov, mean = mode,\n",
    "\t\t\t\t\t\t\t\tseed = random_seed)\n",
    "\n",
    "# distr = multivariate_normal(cov = cov, mean = mean,\n",
    "# \t\t\t\t\t\t\t\tseed = random_seed,allow_singular=True)\n",
    "\n",
    "\n",
    "data = distr.rvs(size = df_n.shape[0])"
   ]
  },
  {
   "cell_type": "markdown",
   "metadata": {},
   "source": [
    "### Generated data"
   ]
  },
  {
   "cell_type": "code",
   "execution_count": 54,
   "metadata": {},
   "outputs": [],
   "source": [
    "df_g=pd.DataFrame(data)"
   ]
  },
  {
   "cell_type": "code",
   "execution_count": 55,
   "metadata": {},
   "outputs": [
    {
     "data": {
      "text/html": [
       "<div><div id=11c9b478-b1c0-46f8-8d5d-1699bdb75a95 style=\"display:none; background-color:#9D6CFF; color:white; width:200px; height:30px; padding-left:5px; border-radius:4px; flex-direction:row; justify-content:space-around; align-items:center;\" onmouseover=\"this.style.backgroundColor='#BA9BF8'\" onmouseout=\"this.style.backgroundColor='#9D6CFF'\" onclick=\"window.commands?.execute('create-mitosheet-from-dataframe-output');\">See Full Dataframe in Mito</div> <script> if (window.commands.hasCommand('create-mitosheet-from-dataframe-output')) document.getElementById('11c9b478-b1c0-46f8-8d5d-1699bdb75a95').style.display = 'flex' </script> <table border=\"1\" class=\"dataframe\">\n",
       "  <thead>\n",
       "    <tr style=\"text-align: right;\">\n",
       "      <th></th>\n",
       "      <th>0</th>\n",
       "      <th>1</th>\n",
       "      <th>2</th>\n",
       "      <th>3</th>\n",
       "      <th>4</th>\n",
       "      <th>5</th>\n",
       "      <th>6</th>\n",
       "      <th>7</th>\n",
       "      <th>8</th>\n",
       "    </tr>\n",
       "  </thead>\n",
       "  <tbody>\n",
       "    <tr>\n",
       "      <th>0</th>\n",
       "      <td>32.49</td>\n",
       "      <td>93.72</td>\n",
       "      <td>22.93</td>\n",
       "      <td>33.38</td>\n",
       "      <td>89.46</td>\n",
       "      <td>33.77</td>\n",
       "      <td>38.20</td>\n",
       "      <td>33.68</td>\n",
       "      <td>40.03</td>\n",
       "    </tr>\n",
       "    <tr>\n",
       "      <th>1</th>\n",
       "      <td>21.09</td>\n",
       "      <td>85.23</td>\n",
       "      <td>14.43</td>\n",
       "      <td>25.78</td>\n",
       "      <td>70.69</td>\n",
       "      <td>22.35</td>\n",
       "      <td>34.15</td>\n",
       "      <td>24.21</td>\n",
       "      <td>29.94</td>\n",
       "    </tr>\n",
       "    <tr>\n",
       "      <th>2</th>\n",
       "      <td>-32.30</td>\n",
       "      <td>31.31</td>\n",
       "      <td>-33.58</td>\n",
       "      <td>-25.07</td>\n",
       "      <td>17.37</td>\n",
       "      <td>-31.43</td>\n",
       "      <td>-12.51</td>\n",
       "      <td>-32.36</td>\n",
       "      <td>80.12</td>\n",
       "    </tr>\n",
       "    <tr>\n",
       "      <th>3</th>\n",
       "      <td>22.12</td>\n",
       "      <td>82.03</td>\n",
       "      <td>2.55</td>\n",
       "      <td>16.94</td>\n",
       "      <td>79.18</td>\n",
       "      <td>22.53</td>\n",
       "      <td>29.29</td>\n",
       "      <td>21.02</td>\n",
       "      <td>74.42</td>\n",
       "    </tr>\n",
       "    <tr>\n",
       "      <th>4</th>\n",
       "      <td>8.16</td>\n",
       "      <td>72.55</td>\n",
       "      <td>10.21</td>\n",
       "      <td>16.74</td>\n",
       "      <td>59.38</td>\n",
       "      <td>10.62</td>\n",
       "      <td>16.34</td>\n",
       "      <td>11.19</td>\n",
       "      <td>67.46</td>\n",
       "    </tr>\n",
       "  </tbody>\n",
       "</table></div>"
      ],
      "text/plain": [
       "       0     1      2      3     4      5      6      7     8\n",
       "0  32.49 93.72  22.93  33.38 89.46  33.77  38.20  33.68 40.03\n",
       "1  21.09 85.23  14.43  25.78 70.69  22.35  34.15  24.21 29.94\n",
       "2 -32.30 31.31 -33.58 -25.07 17.37 -31.43 -12.51 -32.36 80.12\n",
       "3  22.12 82.03   2.55  16.94 79.18  22.53  29.29  21.02 74.42\n",
       "4   8.16 72.55  10.21  16.74 59.38  10.62  16.34  11.19 67.46"
      ]
     },
     "execution_count": 55,
     "metadata": {},
     "output_type": "execute_result"
    }
   ],
   "source": [
    "df_g.head()"
   ]
  },
  {
   "cell_type": "code",
   "execution_count": 56,
   "metadata": {},
   "outputs": [],
   "source": [
    "df_g.columns = df_n.columns"
   ]
  },
  {
   "cell_type": "code",
   "execution_count": 57,
   "metadata": {},
   "outputs": [
    {
     "data": {
      "text/html": [
       "<div><div id=4be0150d-bb10-43a6-a99e-5799e57a5cf3 style=\"display:none; background-color:#9D6CFF; color:white; width:200px; height:30px; padding-left:5px; border-radius:4px; flex-direction:row; justify-content:space-around; align-items:center;\" onmouseover=\"this.style.backgroundColor='#BA9BF8'\" onmouseout=\"this.style.backgroundColor='#9D6CFF'\" onclick=\"window.commands?.execute('create-mitosheet-from-dataframe-output');\">See Full Dataframe in Mito</div> <script> if (window.commands.hasCommand('create-mitosheet-from-dataframe-output')) document.getElementById('4be0150d-bb10-43a6-a99e-5799e57a5cf3').style.display = 'flex' </script> <table border=\"1\" class=\"dataframe\">\n",
       "  <thead>\n",
       "    <tr style=\"text-align: right;\">\n",
       "      <th></th>\n",
       "      <th>c12</th>\n",
       "      <th>c2</th>\n",
       "      <th>c14</th>\n",
       "      <th>c15</th>\n",
       "      <th>c3</th>\n",
       "      <th>c10</th>\n",
       "      <th>c7</th>\n",
       "      <th>c6</th>\n",
       "      <th>c17</th>\n",
       "    </tr>\n",
       "  </thead>\n",
       "  <tbody>\n",
       "    <tr>\n",
       "      <th>0</th>\n",
       "      <td>32.49</td>\n",
       "      <td>93.72</td>\n",
       "      <td>22.93</td>\n",
       "      <td>33.38</td>\n",
       "      <td>89.46</td>\n",
       "      <td>33.77</td>\n",
       "      <td>38.20</td>\n",
       "      <td>33.68</td>\n",
       "      <td>40.03</td>\n",
       "    </tr>\n",
       "    <tr>\n",
       "      <th>1</th>\n",
       "      <td>21.09</td>\n",
       "      <td>85.23</td>\n",
       "      <td>14.43</td>\n",
       "      <td>25.78</td>\n",
       "      <td>70.69</td>\n",
       "      <td>22.35</td>\n",
       "      <td>34.15</td>\n",
       "      <td>24.21</td>\n",
       "      <td>29.94</td>\n",
       "    </tr>\n",
       "    <tr>\n",
       "      <th>2</th>\n",
       "      <td>-32.30</td>\n",
       "      <td>31.31</td>\n",
       "      <td>-33.58</td>\n",
       "      <td>-25.07</td>\n",
       "      <td>17.37</td>\n",
       "      <td>-31.43</td>\n",
       "      <td>-12.51</td>\n",
       "      <td>-32.36</td>\n",
       "      <td>80.12</td>\n",
       "    </tr>\n",
       "    <tr>\n",
       "      <th>3</th>\n",
       "      <td>22.12</td>\n",
       "      <td>82.03</td>\n",
       "      <td>2.55</td>\n",
       "      <td>16.94</td>\n",
       "      <td>79.18</td>\n",
       "      <td>22.53</td>\n",
       "      <td>29.29</td>\n",
       "      <td>21.02</td>\n",
       "      <td>74.42</td>\n",
       "    </tr>\n",
       "    <tr>\n",
       "      <th>4</th>\n",
       "      <td>8.16</td>\n",
       "      <td>72.55</td>\n",
       "      <td>10.21</td>\n",
       "      <td>16.74</td>\n",
       "      <td>59.38</td>\n",
       "      <td>10.62</td>\n",
       "      <td>16.34</td>\n",
       "      <td>11.19</td>\n",
       "      <td>67.46</td>\n",
       "    </tr>\n",
       "  </tbody>\n",
       "</table></div>"
      ],
      "text/plain": [
       "     c12    c2    c14    c15    c3    c10     c7     c6   c17\n",
       "0  32.49 93.72  22.93  33.38 89.46  33.77  38.20  33.68 40.03\n",
       "1  21.09 85.23  14.43  25.78 70.69  22.35  34.15  24.21 29.94\n",
       "2 -32.30 31.31 -33.58 -25.07 17.37 -31.43 -12.51 -32.36 80.12\n",
       "3  22.12 82.03   2.55  16.94 79.18  22.53  29.29  21.02 74.42\n",
       "4   8.16 72.55  10.21  16.74 59.38  10.62  16.34  11.19 67.46"
      ]
     },
     "execution_count": 57,
     "metadata": {},
     "output_type": "execute_result"
    }
   ],
   "source": [
    "df_g.head()"
   ]
  },
  {
   "cell_type": "code",
   "execution_count": 58,
   "metadata": {},
   "outputs": [
    {
     "data": {
      "text/plain": [
       "<AxesSubplot:ylabel='Density'>"
      ]
     },
     "execution_count": 58,
     "metadata": {},
     "output_type": "execute_result"
    },
    {
     "data": {
      "image/png": "[encoded data removed]",
      "text/plain": [
       "<Figure size 432x288 with 1 Axes>"
      ]
     },
     "metadata": {
      "needs_background": "light"
     },
     "output_type": "display_data"
    }
   ],
   "source": [
    "sns.distplot(df_g)"
   ]
  },
  {
   "cell_type": "code",
   "execution_count": 59,
   "metadata": {},
   "outputs": [
    {
     "data": {
      "text/html": [
       "<div><div id=efc29b1a-1cfa-4636-a11d-71cef2e1378d style=\"display:none; background-color:#9D6CFF; color:white; width:200px; height:30px; padding-left:5px; border-radius:4px; flex-direction:row; justify-content:space-around; align-items:center;\" onmouseover=\"this.style.backgroundColor='#BA9BF8'\" onmouseout=\"this.style.backgroundColor='#9D6CFF'\" onclick=\"window.commands?.execute('create-mitosheet-from-dataframe-output');\">See Full Dataframe in Mito</div> <script> if (window.commands.hasCommand('create-mitosheet-from-dataframe-output')) document.getElementById('efc29b1a-1cfa-4636-a11d-71cef2e1378d').style.display = 'flex' </script> <table border=\"1\" class=\"dataframe\">\n",
       "  <thead>\n",
       "    <tr style=\"text-align: right;\">\n",
       "      <th></th>\n",
       "      <th>c12</th>\n",
       "      <th>c2</th>\n",
       "      <th>c14</th>\n",
       "      <th>c15</th>\n",
       "      <th>c3</th>\n",
       "      <th>c10</th>\n",
       "      <th>c7</th>\n",
       "      <th>c6</th>\n",
       "      <th>c17</th>\n",
       "    </tr>\n",
       "  </thead>\n",
       "  <tbody>\n",
       "    <tr>\n",
       "      <th>count</th>\n",
       "      <td>11934.00</td>\n",
       "      <td>11934.00</td>\n",
       "      <td>11934.00</td>\n",
       "      <td>11934.00</td>\n",
       "      <td>11934.00</td>\n",
       "      <td>11934.00</td>\n",
       "      <td>11934.00</td>\n",
       "      <td>11934.00</td>\n",
       "      <td>11934.00</td>\n",
       "    </tr>\n",
       "    <tr>\n",
       "      <th>mean</th>\n",
       "      <td>37.37</td>\n",
       "      <td>37.22</td>\n",
       "      <td>36.35</td>\n",
       "      <td>33.70</td>\n",
       "      <td>36.78</td>\n",
       "      <td>36.34</td>\n",
       "      <td>43.53</td>\n",
       "      <td>34.70</td>\n",
       "      <td>50.00</td>\n",
       "    </tr>\n",
       "    <tr>\n",
       "      <th>std</th>\n",
       "      <td>30.83</td>\n",
       "      <td>30.54</td>\n",
       "      <td>27.92</td>\n",
       "      <td>28.75</td>\n",
       "      <td>34.36</td>\n",
       "      <td>31.29</td>\n",
       "      <td>25.79</td>\n",
       "      <td>31.33</td>\n",
       "      <td>30.00</td>\n",
       "    </tr>\n",
       "    <tr>\n",
       "      <th>min</th>\n",
       "      <td>0.00</td>\n",
       "      <td>0.00</td>\n",
       "      <td>0.00</td>\n",
       "      <td>0.00</td>\n",
       "      <td>0.00</td>\n",
       "      <td>0.00</td>\n",
       "      <td>0.00</td>\n",
       "      <td>0.00</td>\n",
       "      <td>0.00</td>\n",
       "    </tr>\n",
       "    <tr>\n",
       "      <th>25%</th>\n",
       "      <td>9.35</td>\n",
       "      <td>11.20</td>\n",
       "      <td>14.78</td>\n",
       "      <td>10.09</td>\n",
       "      <td>3.51</td>\n",
       "      <td>8.54</td>\n",
       "      <td>21.90</td>\n",
       "      <td>8.60</td>\n",
       "      <td>24.00</td>\n",
       "    </tr>\n",
       "    <tr>\n",
       "      <th>50%</th>\n",
       "      <td>30.41</td>\n",
       "      <td>29.47</td>\n",
       "      <td>27.31</td>\n",
       "      <td>24.26</td>\n",
       "      <td>27.37</td>\n",
       "      <td>28.55</td>\n",
       "      <td>39.15</td>\n",
       "      <td>26.56</td>\n",
       "      <td>50.00</td>\n",
       "    </tr>\n",
       "    <tr>\n",
       "      <th>75%</th>\n",
       "      <td>56.78</td>\n",
       "      <td>53.42</td>\n",
       "      <td>48.14</td>\n",
       "      <td>46.15</td>\n",
       "      <td>60.82</td>\n",
       "      <td>54.46</td>\n",
       "      <td>58.16</td>\n",
       "      <td>51.11</td>\n",
       "      <td>76.00</td>\n",
       "    </tr>\n",
       "    <tr>\n",
       "      <th>max</th>\n",
       "      <td>100.00</td>\n",
       "      <td>100.00</td>\n",
       "      <td>100.00</td>\n",
       "      <td>100.00</td>\n",
       "      <td>100.00</td>\n",
       "      <td>100.00</td>\n",
       "      <td>100.00</td>\n",
       "      <td>100.00</td>\n",
       "      <td>100.00</td>\n",
       "    </tr>\n",
       "  </tbody>\n",
       "</table></div>"
      ],
      "text/plain": [
       "           c12       c2      c14      c15       c3      c10       c7       c6  \\\n",
       "count 11934.00 11934.00 11934.00 11934.00 11934.00 11934.00 11934.00 11934.00   \n",
       "mean     37.37    37.22    36.35    33.70    36.78    36.34    43.53    34.70   \n",
       "std      30.83    30.54    27.92    28.75    34.36    31.29    25.79    31.33   \n",
       "min       0.00     0.00     0.00     0.00     0.00     0.00     0.00     0.00   \n",
       "25%       9.35    11.20    14.78    10.09     3.51     8.54    21.90     8.60   \n",
       "50%      30.41    29.47    27.31    24.26    27.37    28.55    39.15    26.56   \n",
       "75%      56.78    53.42    48.14    46.15    60.82    54.46    58.16    51.11   \n",
       "max     100.00   100.00   100.00   100.00   100.00   100.00   100.00   100.00   \n",
       "\n",
       "           c17  \n",
       "count 11934.00  \n",
       "mean     50.00  \n",
       "std      30.00  \n",
       "min       0.00  \n",
       "25%      24.00  \n",
       "50%      50.00  \n",
       "75%      76.00  \n",
       "max     100.00  "
      ]
     },
     "execution_count": 59,
     "metadata": {},
     "output_type": "execute_result"
    }
   ],
   "source": [
    "df_n.describe()"
   ]
  },
  {
   "cell_type": "code",
   "execution_count": 60,
   "metadata": {},
   "outputs": [
    {
     "data": {
      "text/html": [
       "<div><div id=aff734a7-19f6-4f02-9f12-d317c0d0ee93 style=\"display:none; background-color:#9D6CFF; color:white; width:200px; height:30px; padding-left:5px; border-radius:4px; flex-direction:row; justify-content:space-around; align-items:center;\" onmouseover=\"this.style.backgroundColor='#BA9BF8'\" onmouseout=\"this.style.backgroundColor='#9D6CFF'\" onclick=\"window.commands?.execute('create-mitosheet-from-dataframe-output');\">See Full Dataframe in Mito</div> <script> if (window.commands.hasCommand('create-mitosheet-from-dataframe-output')) document.getElementById('aff734a7-19f6-4f02-9f12-d317c0d0ee93').style.display = 'flex' </script> <table border=\"1\" class=\"dataframe\">\n",
       "  <thead>\n",
       "    <tr style=\"text-align: right;\">\n",
       "      <th></th>\n",
       "      <th>c12</th>\n",
       "      <th>c2</th>\n",
       "      <th>c14</th>\n",
       "      <th>c15</th>\n",
       "      <th>c3</th>\n",
       "      <th>c10</th>\n",
       "      <th>c7</th>\n",
       "      <th>c6</th>\n",
       "      <th>c17</th>\n",
       "    </tr>\n",
       "  </thead>\n",
       "  <tbody>\n",
       "    <tr>\n",
       "      <th>count</th>\n",
       "      <td>11934.00</td>\n",
       "      <td>11934.00</td>\n",
       "      <td>11934.00</td>\n",
       "      <td>11934.00</td>\n",
       "      <td>11934.00</td>\n",
       "      <td>11934.00</td>\n",
       "      <td>11934.00</td>\n",
       "      <td>11934.00</td>\n",
       "      <td>11934.00</td>\n",
       "    </tr>\n",
       "    <tr>\n",
       "      <th>mean</th>\n",
       "      <td>7.76</td>\n",
       "      <td>69.78</td>\n",
       "      <td>-0.02</td>\n",
       "      <td>9.69</td>\n",
       "      <td>60.58</td>\n",
       "      <td>8.40</td>\n",
       "      <td>19.48</td>\n",
       "      <td>8.43</td>\n",
       "      <td>50.35</td>\n",
       "    </tr>\n",
       "    <tr>\n",
       "      <th>std</th>\n",
       "      <td>30.79</td>\n",
       "      <td>30.51</td>\n",
       "      <td>27.89</td>\n",
       "      <td>28.74</td>\n",
       "      <td>34.31</td>\n",
       "      <td>31.26</td>\n",
       "      <td>25.77</td>\n",
       "      <td>31.30</td>\n",
       "      <td>30.22</td>\n",
       "    </tr>\n",
       "    <tr>\n",
       "      <th>min</th>\n",
       "      <td>-108.16</td>\n",
       "      <td>-45.92</td>\n",
       "      <td>-101.54</td>\n",
       "      <td>-98.00</td>\n",
       "      <td>-68.15</td>\n",
       "      <td>-109.37</td>\n",
       "      <td>-80.17</td>\n",
       "      <td>-110.60</td>\n",
       "      <td>-54.16</td>\n",
       "    </tr>\n",
       "    <tr>\n",
       "      <th>25%</th>\n",
       "      <td>-12.84</td>\n",
       "      <td>49.33</td>\n",
       "      <td>-18.81</td>\n",
       "      <td>-9.56</td>\n",
       "      <td>37.41</td>\n",
       "      <td>-12.48</td>\n",
       "      <td>2.47</td>\n",
       "      <td>-12.57</td>\n",
       "      <td>29.76</td>\n",
       "    </tr>\n",
       "    <tr>\n",
       "      <th>50%</th>\n",
       "      <td>7.52</td>\n",
       "      <td>69.52</td>\n",
       "      <td>-0.41</td>\n",
       "      <td>9.61</td>\n",
       "      <td>60.29</td>\n",
       "      <td>8.19</td>\n",
       "      <td>19.15</td>\n",
       "      <td>8.21</td>\n",
       "      <td>50.50</td>\n",
       "    </tr>\n",
       "    <tr>\n",
       "      <th>75%</th>\n",
       "      <td>28.69</td>\n",
       "      <td>90.44</td>\n",
       "      <td>18.99</td>\n",
       "      <td>29.09</td>\n",
       "      <td>83.63</td>\n",
       "      <td>29.68</td>\n",
       "      <td>36.88</td>\n",
       "      <td>29.76</td>\n",
       "      <td>70.84</td>\n",
       "    </tr>\n",
       "    <tr>\n",
       "      <th>max</th>\n",
       "      <td>122.53</td>\n",
       "      <td>183.55</td>\n",
       "      <td>107.57</td>\n",
       "      <td>117.65</td>\n",
       "      <td>187.87</td>\n",
       "      <td>124.73</td>\n",
       "      <td>117.03</td>\n",
       "      <td>123.95</td>\n",
       "      <td>159.65</td>\n",
       "    </tr>\n",
       "  </tbody>\n",
       "</table></div>"
      ],
      "text/plain": [
       "           c12       c2      c14      c15       c3      c10       c7       c6  \\\n",
       "count 11934.00 11934.00 11934.00 11934.00 11934.00 11934.00 11934.00 11934.00   \n",
       "mean      7.76    69.78    -0.02     9.69    60.58     8.40    19.48     8.43   \n",
       "std      30.79    30.51    27.89    28.74    34.31    31.26    25.77    31.30   \n",
       "min    -108.16   -45.92  -101.54   -98.00   -68.15  -109.37   -80.17  -110.60   \n",
       "25%     -12.84    49.33   -18.81    -9.56    37.41   -12.48     2.47   -12.57   \n",
       "50%       7.52    69.52    -0.41     9.61    60.29     8.19    19.15     8.21   \n",
       "75%      28.69    90.44    18.99    29.09    83.63    29.68    36.88    29.76   \n",
       "max     122.53   183.55   107.57   117.65   187.87   124.73   117.03   123.95   \n",
       "\n",
       "           c17  \n",
       "count 11934.00  \n",
       "mean     50.35  \n",
       "std      30.22  \n",
       "min     -54.16  \n",
       "25%      29.76  \n",
       "50%      50.50  \n",
       "75%      70.84  \n",
       "max     159.65  "
      ]
     },
     "execution_count": 60,
     "metadata": {},
     "output_type": "execute_result"
    }
   ],
   "source": [
    "df_g.describe()"
   ]
  },
  {
   "cell_type": "markdown",
   "metadata": {},
   "source": [
    "# Finding probabbilties of all columns and joint probabilty on generated data set"
   ]
  },
  {
   "cell_type": "markdown",
   "metadata": {},
   "source": [
    "#### Findining probabilities of all columns"
   ]
  },
  {
   "cell_type": "code",
   "execution_count": 61,
   "metadata": {},
   "outputs": [
    {
     "name": "stdout",
     "output_type": "stream",
     "text": [
      "done\n"
     ]
    },
    {
     "data": {
      "text/plain": [
       "array([0.])"
      ]
     },
     "execution_count": 61,
     "metadata": {},
     "output_type": "execute_result"
    }
   ],
   "source": [
    "df_g_prob=df_g.copy()\n",
    "\n",
    "def f1(b):\n",
    "    \n",
    "    k=df_g[df_g[i] == b].shape[0]\n",
    "    return(k/len(df_g))\n",
    "\n",
    "for i in df_g.columns:\n",
    "    # print(i)\n",
    "    \n",
    "    df_g_prob['prob_'+i] = df_g[i].apply(f1)\n",
    "\n",
    "df_g_prob.head()\n",
    "df_g_prob.head()\n",
    "df_g_prob.prob_c2.value_counts()\n",
    "df_g_prob.prob_c2.unique()\n",
    "\n",
    "\n",
    "### Joint probability\n",
    "df_g.columns\n",
    "\n",
    "def f1(a):\n",
    "    \n",
    "    k=df_n[ (df_n[col[0]] == a[col[0]]) & (df_n[col[1]] == a[col[1]]) & (df_n[col[2]] == a[col[2]]) \n",
    "        & (df_n[col[3]] == a[col[3]]) & (df_n[col[4]] == a[col[4]]) & (df_n[col[5]] == a[col[5]])  \n",
    "        & (df_n[col[6]] == a[col[6]]) & (df_n[col[7]] == a[col[7]]) & (df_n[col[8]] == a[col[8]])].shape[0]\n",
    "   \n",
    "    \n",
    "    return(k/len(df_g))\n",
    "    \n",
    "\n",
    "df_g_prob['prob_joint'] = df_g.apply(f1,axis=1)\n",
    "\n",
    "print('done')\n",
    "\n",
    "# df_g\n",
    "df_g_prob.head()\n",
    "df_g_prob.prob_joint.unique()"
   ]
  },
  {
   "cell_type": "markdown",
   "metadata": {},
   "source": [
    "#### This shows that all the rows in dataset are unique and hence the ombined joint probability is same for all rows"
   ]
  },
  {
   "cell_type": "markdown",
   "metadata": {},
   "source": [
    "## Use model on new generated dataset"
   ]
  },
  {
   "cell_type": "markdown",
   "metadata": {},
   "source": [
    "### Again creating smaller smaple dataset for running lazy predic models on generated dataste"
   ]
  },
  {
   "cell_type": "code",
   "execution_count": 62,
   "metadata": {},
   "outputs": [
    {
     "name": "stdout",
     "output_type": "stream",
     "text": [
      "(2387, 9)\n"
     ]
    }
   ],
   "source": [
    "df_gp=df_g.sample(frac =.2)\n",
    "print(df_gp.shape)"
   ]
  },
  {
   "cell_type": "code",
   "execution_count": 63,
   "metadata": {},
   "outputs": [
    {
     "name": "stderr",
     "output_type": "stream",
     "text": [
      "  5%|▍         | 2/42 [00:00<00:04,  9.88it/s]"
     ]
    },
    {
     "name": "stdout",
     "output_type": "stream",
     "text": [
      "{'Model': 'AdaBoostRegressor', 'R-Squared': -0.001159123418840613, 'Adjusted R-Squared': -0.0359820494508003, 'RMSE': 30.56522543737075, 'Time taken': 0.08444833755493164}\n",
      "{'Model': 'BaggingRegressor', 'R-Squared': -0.019136323050279014, 'Adjusted R-Squared': -0.054584542982462736, 'RMSE': 30.838424967464903, 'Time taken': 0.1180276870727539}\n",
      "{'Model': 'BayesianRidge', 'R-Squared': 0.8127981597628828, 'Adjusted R-Squared': 0.8062867914068093, 'RMSE': 13.216945690680904, 'Time taken': 0.013000249862670898}\n",
      "{'Model': 'DecisionTreeRegressor', 'R-Squared': -1.0804738071069093, 'Adjusted R-Squared': -1.1528381134410628, 'RMSE': 44.061286636802336, 'Time taken': 0.024799346923828125}\n",
      "{'Model': 'DummyRegressor', 'R-Squared': -0.022007199443880854, 'Adjusted R-Squared': -0.05755527594627674, 'RMSE': 30.881829879546544, 'Time taken': 0.009378433227539062}\n",
      "{'Model': 'ElasticNet', 'R-Squared': -0.019996271970310175, 'Adjusted R-Squared': -0.05547440316927754, 'RMSE': 30.851432981070296, 'Time taken': 0.009159564971923828}\n"
     ]
    },
    {
     "name": "stderr",
     "output_type": "stream",
     "text": [
      " 17%|█▋        | 7/42 [00:00<00:01, 19.04it/s]"
     ]
    },
    {
     "name": "stdout",
     "output_type": "stream",
     "text": [
      "{'Model': 'ElasticNetCV', 'R-Squared': 0.2648596377966145, 'Adjusted R-Squared': 0.23928953824171406, 'RMSE': 26.191548922892853, 'Time taken': 0.1354818344116211}\n",
      "{'Model': 'ExtraTreeRegressor', 'R-Squared': -0.9086774337702119, 'Adjusted R-Squared': -0.9750662140752628, 'RMSE': 42.2029022606209, 'Time taken': 0.009133338928222656}\n"
     ]
    },
    {
     "name": "stderr",
     "output_type": "stream",
     "text": [
      " 21%|██▏       | 9/42 [00:00<00:03,  9.40it/s]"
     ]
    },
    {
     "name": "stdout",
     "output_type": "stream",
     "text": [
      "{'Model': 'ExtraTreesRegressor', 'R-Squared': 0.016454832260696994, 'Adjusted R-Squared': -0.017755434443278872, 'RMSE': 30.29515669527755, 'Time taken': 0.44310569763183594}\n",
      "GammaRegressor model failed to execute\n",
      "Some value(s) of y are out of the valid range for family GammaDistribution\n"
     ]
    },
    {
     "name": "stderr",
     "output_type": "stream",
     "text": [
      " 26%|██▌       | 11/42 [00:03<00:13,  2.23it/s]"
     ]
    },
    {
     "name": "stdout",
     "output_type": "stream",
     "text": [
      "{'Model': 'GaussianProcessRegressor', 'R-Squared': -534.7730388429464, 'Adjusted R-Squared': -553.4086228027011, 'RMSE': 707.0766184549643, 'Time taken': 2.4476327896118164}\n"
     ]
    },
    {
     "name": "stderr",
     "output_type": "stream",
     "text": [
      " 29%|██▊       | 12/42 [00:03<00:13,  2.28it/s]"
     ]
    },
    {
     "name": "stdout",
     "output_type": "stream",
     "text": [
      "{'Model': 'GradientBoostingRegressor', 'R-Squared': 0.028452442394580446, 'Adjusted R-Squared': -0.0053405161308255344, 'RMSE': 30.109814560655526, 'Time taken': 0.3876655101776123}\n"
     ]
    },
    {
     "name": "stderr",
     "output_type": "stream",
     "text": [
      " 31%|███       | 13/42 [00:04<00:12,  2.30it/s]"
     ]
    },
    {
     "name": "stdout",
     "output_type": "stream",
     "text": [
      "{'Model': 'HistGradientBoostingRegressor', 'R-Squared': 0.0947944169064141, 'Adjusted R-Squared': 0.06330900532055017, 'RMSE': 29.063616921794342, 'Time taken': 0.4214189052581787}\n",
      "{'Model': 'HuberRegressor', 'R-Squared': 0.7974608944606199, 'Adjusted R-Squared': 0.7904160560070762, 'RMSE': 13.747714118908364, 'Time taken': 0.07269525527954102}\n",
      "{'Model': 'KNeighborsRegressor', 'R-Squared': -0.1705499743779113, 'Adjusted R-Squared': -0.21126475609540396, 'RMSE': 33.04996687456362, 'Time taken': 0.015548229217529297}\n"
     ]
    },
    {
     "name": "stderr",
     "output_type": "stream",
     "text": [
      " 38%|███▊      | 16/42 [00:05<00:12,  2.02it/s]"
     ]
    },
    {
     "name": "stdout",
     "output_type": "stream",
     "text": [
      "{'Model': 'KernelRidge', 'R-Squared': -2.648878291550374, 'Adjusted R-Squared': -2.7757957973434304, 'RMSE': 58.351998860407946, 'Time taken': 1.5966434478759766}\n",
      "{'Model': 'Lars', 'R-Squared': -4.153293664871167, 'Adjusted R-Squared': -4.332538661910164, 'RMSE': 69.34553363635413, 'Time taken': 0.011002540588378906}\n",
      "{'Model': 'LarsCV', 'R-Squared': 0.7887535614878581, 'Adjusted R-Squared': 0.7814058592787402, 'RMSE': 14.040117633914797, 'Time taken': 0.019353628158569336}\n",
      "{'Model': 'Lasso', 'R-Squared': -0.022007199443880854, 'Adjusted R-Squared': -0.05755527594627674, 'RMSE': 30.881829879546544, 'Time taken': 0.006835222244262695}\n"
     ]
    },
    {
     "name": "stderr",
     "output_type": "stream",
     "text": [
      " 48%|████▊     | 20/42 [00:06<00:06,  3.47it/s]"
     ]
    },
    {
     "name": "stdout",
     "output_type": "stream",
     "text": [
      "{'Model': 'LassoCV', 'R-Squared': 0.34067304690185474, 'Adjusted R-Squared': 0.31773993548974533, 'RMSE': 24.804270771949284, 'Time taken': 0.18724679946899414}\n",
      "{'Model': 'LassoLars', 'R-Squared': -0.022007199443880854, 'Adjusted R-Squared': -0.05755527594627674, 'RMSE': 30.881829879546544, 'Time taken': 0.00796055793762207}\n",
      "{'Model': 'LassoLarsCV', 'R-Squared': 0.8129529363741375, 'Adjusted R-Squared': 0.8064469515523683, 'RMSE': 13.211480741529876, 'Time taken': 0.020003795623779297}\n",
      "{'Model': 'LassoLarsIC', 'R-Squared': 0.8129529363741375, 'Adjusted R-Squared': 0.8064469515523683, 'RMSE': 13.211480741529876, 'Time taken': 0.008135795593261719}\n",
      "{'Model': 'LinearRegression', 'R-Squared': 0.8129529363741549, 'Adjusted R-Squared': 0.8064469515523863, 'RMSE': 13.21148074152926, 'Time taken': 0.007092714309692383}\n",
      "{'Model': 'LinearSVR', 'R-Squared': 0.028947823625242952, 'Adjusted R-Squared': -0.004827904248661641, 'RMSE': 30.10213725308844, 'Time taken': 0.0059986114501953125}\n"
     ]
    },
    {
     "name": "stderr",
     "output_type": "stream",
     "text": [
      " 64%|██████▍   | 27/42 [00:07<00:03,  4.27it/s]"
     ]
    },
    {
     "name": "stdout",
     "output_type": "stream",
     "text": [
      "{'Model': 'MLPRegressor', 'R-Squared': 0.032445833300188354, 'Adjusted R-Squared': -0.001208224671979119, 'RMSE': 30.047870052448115, 'Time taken': 1.162327766418457}\n",
      "{'Model': 'NuSVR', 'R-Squared': -0.009314592942010202, 'Adjusted R-Squared': -0.0444211874791236, 'RMSE': 30.689465514782977, 'Time taken': 0.14562606811523438}\n",
      "{'Model': 'OrthogonalMatchingPursuit', 'R-Squared': -0.015774346351572488, 'Adjusted R-Squared': -0.05110562796380114, 'RMSE': 30.787517297062543, 'Time taken': 0.008302450180053711}\n",
      "{'Model': 'OrthogonalMatchingPursuitCV', 'R-Squared': 0.5565160054816409, 'Adjusted R-Squared': 0.5410904752375241, 'RMSE': 20.343001164107054, 'Time taken': 0.01704883575439453}\n",
      "{'Model': 'PassiveAggressiveRegressor', 'R-Squared': 0.7249427042170705, 'Adjusted R-Squared': 0.7153754939289686, 'RMSE': 16.020926688468187, 'Time taken': 0.015990018844604492}\n",
      "PoissonRegressor model failed to execute\n",
      "Some value(s) of y are out of the valid range for family PoissonDistribution\n"
     ]
    },
    {
     "name": "stderr",
     "output_type": "stream",
     "text": [
      " 76%|███████▌  | 32/42 [06:13<05:17, 31.78s/it]"
     ]
    },
    {
     "name": "stdout",
     "output_type": "stream",
     "text": [
      "{'Model': 'QuantileRegressor', 'R-Squared': -0.023537682658379078, 'Adjusted R-Squared': -0.05913899335954009, 'RMSE': 30.90494441372167, 'Time taken': 365.64630007743835}\n",
      "{'Model': 'RANSACRegressor', 'R-Squared': 0.7414041765761124, 'Adjusted R-Squared': 0.7324095392396293, 'RMSE': 15.53412522477572, 'Time taken': 0.05230593681335449}\n"
     ]
    },
    {
     "name": "stderr",
     "output_type": "stream",
     "text": [
      " 81%|████████  | 34/42 [06:14<03:24, 25.58s/it]"
     ]
    },
    {
     "name": "stdout",
     "output_type": "stream",
     "text": [
      "{'Model': 'RandomForestRegressor', 'R-Squared': 0.06848960745036059, 'Adjusted R-Squared': 0.03608924597037311, 'RMSE': 29.482879735824508, 'Time taken': 0.9243018627166748}\n",
      "{'Model': 'Ridge', 'R-Squared': 0.4459751441301558, 'Adjusted R-Squared': 0.42670471436076995, 'RMSE': 22.737393263097296, 'Time taken': 0.007216215133666992}\n",
      "{'Model': 'RidgeCV', 'R-Squared': 0.7617164145904357, 'Adjusted R-Squared': 0.7534282898805378, 'RMSE': 14.911561078573035, 'Time taken': 0.00770115852355957}\n",
      "{'Model': 'SGDRegressor', 'R-Squared': 0.08105893881888449, 'Adjusted R-Squared': 0.04909577147345434, 'RMSE': 29.283290606594537, 'Time taken': 0.02001333236694336}\n"
     ]
    },
    {
     "name": "stderr",
     "output_type": "stream",
     "text": [
      " 98%|█████████▊| 41/42 [06:14<00:11, 11.80s/it]"
     ]
    },
    {
     "name": "stdout",
     "output_type": "stream",
     "text": [
      "{'Model': 'SVR', 'R-Squared': -0.011605760260422926, 'Adjusted R-Squared': -0.04679204757382904, 'RMSE': 30.724278665276085, 'Time taken': 0.17590737342834473}\n",
      "{'Model': 'TransformedTargetRegressor', 'R-Squared': 0.8129529363741549, 'Adjusted R-Squared': 0.8064469515523863, 'RMSE': 13.21148074152926, 'Time taken': 0.00701451301574707}\n",
      "{'Model': 'TweedieRegressor', 'R-Squared': -0.019322386359055033, 'Adjusted R-Squared': -0.054777078058500406, 'RMSE': 30.84123991841382, 'Time taken': 0.01291656494140625}\n",
      "{'Model': 'XGBRegressor', 'R-Squared': 0.01568735383836184, 'Adjusted R-Squared': -0.018549607767260445, 'RMSE': 30.30697432492173, 'Time taken': 0.14805865287780762}\n"
     ]
    },
    {
     "name": "stderr",
     "output_type": "stream",
     "text": [
      "100%|██████████| 42/42 [06:14<00:00,  8.92s/it]"
     ]
    },
    {
     "name": "stdout",
     "output_type": "stream",
     "text": [
      "{'Model': 'LGBMRegressor', 'R-Squared': 0.10602083088978465, 'Adjusted R-Squared': 0.07492590326855975, 'RMSE': 28.88283028038691, 'Time taken': 0.0656435489654541}\n",
      "                               Adjusted R-Squared  R-Squared   RMSE  \\\n",
      "Model                                                                 \n",
      "TransformedTargetRegressor                   0.81       0.81  13.21   \n",
      "LinearRegression                             0.81       0.81  13.21   \n",
      "LassoLarsCV                                  0.81       0.81  13.21   \n",
      "LassoLarsIC                                  0.81       0.81  13.21   \n",
      "BayesianRidge                                0.81       0.81  13.22   \n",
      "HuberRegressor                               0.79       0.80  13.75   \n",
      "LarsCV                                       0.78       0.79  14.04   \n",
      "RidgeCV                                      0.75       0.76  14.91   \n",
      "RANSACRegressor                              0.73       0.74  15.53   \n",
      "PassiveAggressiveRegressor                   0.72       0.72  16.02   \n",
      "OrthogonalMatchingPursuitCV                  0.54       0.56  20.34   \n",
      "Ridge                                        0.43       0.45  22.74   \n",
      "LassoCV                                      0.32       0.34  24.80   \n",
      "ElasticNetCV                                 0.24       0.26  26.19   \n",
      "LGBMRegressor                                0.07       0.11  28.88   \n",
      "HistGradientBoostingRegressor                0.06       0.09  29.06   \n",
      "SGDRegressor                                 0.05       0.08  29.28   \n",
      "RandomForestRegressor                        0.04       0.07  29.48   \n",
      "MLPRegressor                                -0.00       0.03  30.05   \n",
      "LinearSVR                                   -0.00       0.03  30.10   \n",
      "GradientBoostingRegressor                   -0.01       0.03  30.11   \n",
      "ExtraTreesRegressor                         -0.02       0.02  30.30   \n",
      "XGBRegressor                                -0.02       0.02  30.31   \n",
      "AdaBoostRegressor                           -0.04      -0.00  30.57   \n",
      "NuSVR                                       -0.04      -0.01  30.69   \n",
      "SVR                                         -0.05      -0.01  30.72   \n",
      "OrthogonalMatchingPursuit                   -0.05      -0.02  30.79   \n",
      "BaggingRegressor                            -0.05      -0.02  30.84   \n",
      "TweedieRegressor                            -0.05      -0.02  30.84   \n",
      "ElasticNet                                  -0.06      -0.02  30.85   \n",
      "LassoLars                                   -0.06      -0.02  30.88   \n",
      "DummyRegressor                              -0.06      -0.02  30.88   \n",
      "Lasso                                       -0.06      -0.02  30.88   \n",
      "QuantileRegressor                           -0.06      -0.02  30.90   \n",
      "KNeighborsRegressor                         -0.21      -0.17  33.05   \n",
      "ExtraTreeRegressor                          -0.98      -0.91  42.20   \n",
      "DecisionTreeRegressor                       -1.15      -1.08  44.06   \n",
      "KernelRidge                                 -2.78      -2.65  58.35   \n",
      "Lars                                        -4.33      -4.15  69.35   \n",
      "GaussianProcessRegressor                  -553.41    -534.77 707.08   \n",
      "\n",
      "                               Time Taken  \n",
      "Model                                      \n",
      "TransformedTargetRegressor           0.01  \n",
      "LinearRegression                     0.01  \n",
      "LassoLarsCV                          0.02  \n",
      "LassoLarsIC                          0.01  \n",
      "BayesianRidge                        0.01  \n",
      "HuberRegressor                       0.07  \n",
      "LarsCV                               0.02  \n",
      "RidgeCV                              0.01  \n",
      "RANSACRegressor                      0.05  \n",
      "PassiveAggressiveRegressor           0.02  \n",
      "OrthogonalMatchingPursuitCV          0.02  \n",
      "Ridge                                0.01  \n",
      "LassoCV                              0.19  \n",
      "ElasticNetCV                         0.14  \n",
      "LGBMRegressor                        0.07  \n",
      "HistGradientBoostingRegressor        0.42  \n",
      "SGDRegressor                         0.02  \n",
      "RandomForestRegressor                0.92  \n",
      "MLPRegressor                         1.16  \n",
      "LinearSVR                            0.01  \n",
      "GradientBoostingRegressor            0.39  \n",
      "ExtraTreesRegressor                  0.44  \n",
      "XGBRegressor                         0.15  \n",
      "AdaBoostRegressor                    0.08  \n",
      "NuSVR                                0.15  \n",
      "SVR                                  0.18  \n",
      "OrthogonalMatchingPursuit            0.01  \n",
      "BaggingRegressor                     0.12  \n",
      "TweedieRegressor                     0.01  \n",
      "ElasticNet                           0.01  \n",
      "LassoLars                            0.01  \n",
      "DummyRegressor                       0.01  \n",
      "Lasso                                0.01  \n",
      "QuantileRegressor                  365.65  \n",
      "KNeighborsRegressor                  0.02  \n",
      "ExtraTreeRegressor                   0.01  \n",
      "DecisionTreeRegressor                0.02  \n",
      "KernelRidge                          1.60  \n",
      "Lars                                 0.01  \n",
      "GaussianProcessRegressor             2.45  \n"
     ]
    },
    {
     "name": "stderr",
     "output_type": "stream",
     "text": [
      "\n"
     ]
    }
   ],
   "source": [
    "X= df_gp.drop(columns='c17')\n",
    "X\n",
    "y=df_gp['c17']\n",
    "y\n",
    "offset = int(X.shape[0] * 0.9)\n",
    "\n",
    "### splitting dataset into training and testing part.\n",
    "X_train, y_train = X[:offset], y[:offset]\n",
    "X_test, y_test = X[offset:], y[offset:]\n",
    "\n",
    "reg = LazyRegressor(verbose=10, ignore_warnings=False, custom_metric=None)\n",
    "\n",
    "\n",
    "### fitting data in LazyClassifier\n",
    "models_2, predictions = reg.fit(X_train, X_test, y_train, y_test)\n",
    "print(models_2)"
   ]
  },
  {
   "cell_type": "markdown",
   "metadata": {},
   "source": [
    "# Part 3- Making multivariate gausian based on mean of the modes of columns and corelation matrix"
   ]
  },
  {
   "cell_type": "code",
   "execution_count": 64,
   "metadata": {},
   "outputs": [],
   "source": [
    "random_seed=1000\n",
    "# cov = df_n.cov()\n",
    "\n",
    "cov = df_n.corr()\n",
    "# mean= df_n.mean()\n",
    "\n",
    "mode=df_n.mode().mean()\n",
    "# mode\n",
    "\n",
    "distr = multivariate_normal(cov = cov, mean = mode,\n",
    "\t\t\t\t\t\t\t\tseed = random_seed)\n",
    "\n",
    "# distr = multivariate_normal(cov = cov, mean = mean,\n",
    "# \t\t\t\t\t\t\t\tseed = random_seed,allow_singular=True)\n",
    "\n",
    "\n",
    "data = distr.rvs(size = df_n.shape[0])"
   ]
  },
  {
   "cell_type": "markdown",
   "metadata": {},
   "source": [
    "### Generated data"
   ]
  },
  {
   "cell_type": "code",
   "execution_count": 65,
   "metadata": {},
   "outputs": [],
   "source": [
    "df_g=pd.DataFrame(data)"
   ]
  },
  {
   "cell_type": "code",
   "execution_count": 66,
   "metadata": {},
   "outputs": [
    {
     "data": {
      "text/html": [
       "<div><div id=3a5990d0-d3bf-4a33-964f-e128fb68c222 style=\"display:none; background-color:#9D6CFF; color:white; width:200px; height:30px; padding-left:5px; border-radius:4px; flex-direction:row; justify-content:space-around; align-items:center;\" onmouseover=\"this.style.backgroundColor='#BA9BF8'\" onmouseout=\"this.style.backgroundColor='#9D6CFF'\" onclick=\"window.commands?.execute('create-mitosheet-from-dataframe-output');\">See Full Dataframe in Mito</div> <script> if (window.commands.hasCommand('create-mitosheet-from-dataframe-output')) document.getElementById('3a5990d0-d3bf-4a33-964f-e128fb68c222').style.display = 'flex' </script> <table border=\"1\" class=\"dataframe\">\n",
       "  <thead>\n",
       "    <tr style=\"text-align: right;\">\n",
       "      <th></th>\n",
       "      <th>0</th>\n",
       "      <th>1</th>\n",
       "      <th>2</th>\n",
       "      <th>3</th>\n",
       "      <th>4</th>\n",
       "      <th>5</th>\n",
       "      <th>6</th>\n",
       "      <th>7</th>\n",
       "      <th>8</th>\n",
       "    </tr>\n",
       "  </thead>\n",
       "  <tbody>\n",
       "    <tr>\n",
       "      <th>0</th>\n",
       "      <td>8.77</td>\n",
       "      <td>70.74</td>\n",
       "      <td>0.80</td>\n",
       "      <td>10.64</td>\n",
       "      <td>61.65</td>\n",
       "      <td>9.41</td>\n",
       "      <td>20.36</td>\n",
       "      <td>9.41</td>\n",
       "      <td>49.67</td>\n",
       "    </tr>\n",
       "    <tr>\n",
       "      <th>1</th>\n",
       "      <td>8.37</td>\n",
       "      <td>70.43</td>\n",
       "      <td>0.54</td>\n",
       "      <td>10.35</td>\n",
       "      <td>61.09</td>\n",
       "      <td>9.01</td>\n",
       "      <td>20.22</td>\n",
       "      <td>9.06</td>\n",
       "      <td>49.33</td>\n",
       "    </tr>\n",
       "    <tr>\n",
       "      <th>2</th>\n",
       "      <td>6.67</td>\n",
       "      <td>68.68</td>\n",
       "      <td>-1.19</td>\n",
       "      <td>8.58</td>\n",
       "      <td>59.58</td>\n",
       "      <td>7.32</td>\n",
       "      <td>18.37</td>\n",
       "      <td>7.28</td>\n",
       "      <td>51.01</td>\n",
       "    </tr>\n",
       "    <tr>\n",
       "      <th>3</th>\n",
       "      <td>8.44</td>\n",
       "      <td>70.37</td>\n",
       "      <td>0.10</td>\n",
       "      <td>10.08</td>\n",
       "      <td>61.36</td>\n",
       "      <td>9.05</td>\n",
       "      <td>20.04</td>\n",
       "      <td>9.01</td>\n",
       "      <td>50.81</td>\n",
       "    </tr>\n",
       "    <tr>\n",
       "      <th>4</th>\n",
       "      <td>7.97</td>\n",
       "      <td>70.04</td>\n",
       "      <td>0.34</td>\n",
       "      <td>10.05</td>\n",
       "      <td>60.77</td>\n",
       "      <td>8.66</td>\n",
       "      <td>19.51</td>\n",
       "      <td>8.69</td>\n",
       "      <td>50.58</td>\n",
       "    </tr>\n",
       "  </tbody>\n",
       "</table></div>"
      ],
      "text/plain": [
       "     0     1     2     3     4    5     6    7     8\n",
       "0 8.77 70.74  0.80 10.64 61.65 9.41 20.36 9.41 49.67\n",
       "1 8.37 70.43  0.54 10.35 61.09 9.01 20.22 9.06 49.33\n",
       "2 6.67 68.68 -1.19  8.58 59.58 7.32 18.37 7.28 51.01\n",
       "3 8.44 70.37  0.10 10.08 61.36 9.05 20.04 9.01 50.81\n",
       "4 7.97 70.04  0.34 10.05 60.77 8.66 19.51 8.69 50.58"
      ]
     },
     "execution_count": 66,
     "metadata": {},
     "output_type": "execute_result"
    }
   ],
   "source": [
    "df_g.head()"
   ]
  },
  {
   "cell_type": "code",
   "execution_count": 67,
   "metadata": {},
   "outputs": [],
   "source": [
    "df_g.columns = df_n.columns"
   ]
  },
  {
   "cell_type": "code",
   "execution_count": 68,
   "metadata": {},
   "outputs": [
    {
     "data": {
      "text/html": [
       "<div><div id=fe67af06-b46b-4d2d-929b-83a194e22183 style=\"display:none; background-color:#9D6CFF; color:white; width:200px; height:30px; padding-left:5px; border-radius:4px; flex-direction:row; justify-content:space-around; align-items:center;\" onmouseover=\"this.style.backgroundColor='#BA9BF8'\" onmouseout=\"this.style.backgroundColor='#9D6CFF'\" onclick=\"window.commands?.execute('create-mitosheet-from-dataframe-output');\">See Full Dataframe in Mito</div> <script> if (window.commands.hasCommand('create-mitosheet-from-dataframe-output')) document.getElementById('fe67af06-b46b-4d2d-929b-83a194e22183').style.display = 'flex' </script> <table border=\"1\" class=\"dataframe\">\n",
       "  <thead>\n",
       "    <tr style=\"text-align: right;\">\n",
       "      <th></th>\n",
       "      <th>c12</th>\n",
       "      <th>c2</th>\n",
       "      <th>c14</th>\n",
       "      <th>c15</th>\n",
       "      <th>c3</th>\n",
       "      <th>c10</th>\n",
       "      <th>c7</th>\n",
       "      <th>c6</th>\n",
       "      <th>c17</th>\n",
       "    </tr>\n",
       "  </thead>\n",
       "  <tbody>\n",
       "    <tr>\n",
       "      <th>0</th>\n",
       "      <td>8.77</td>\n",
       "      <td>70.74</td>\n",
       "      <td>0.80</td>\n",
       "      <td>10.64</td>\n",
       "      <td>61.65</td>\n",
       "      <td>9.41</td>\n",
       "      <td>20.36</td>\n",
       "      <td>9.41</td>\n",
       "      <td>49.67</td>\n",
       "    </tr>\n",
       "    <tr>\n",
       "      <th>1</th>\n",
       "      <td>8.37</td>\n",
       "      <td>70.43</td>\n",
       "      <td>0.54</td>\n",
       "      <td>10.35</td>\n",
       "      <td>61.09</td>\n",
       "      <td>9.01</td>\n",
       "      <td>20.22</td>\n",
       "      <td>9.06</td>\n",
       "      <td>49.33</td>\n",
       "    </tr>\n",
       "    <tr>\n",
       "      <th>2</th>\n",
       "      <td>6.67</td>\n",
       "      <td>68.68</td>\n",
       "      <td>-1.19</td>\n",
       "      <td>8.58</td>\n",
       "      <td>59.58</td>\n",
       "      <td>7.32</td>\n",
       "      <td>18.37</td>\n",
       "      <td>7.28</td>\n",
       "      <td>51.01</td>\n",
       "    </tr>\n",
       "    <tr>\n",
       "      <th>3</th>\n",
       "      <td>8.44</td>\n",
       "      <td>70.37</td>\n",
       "      <td>0.10</td>\n",
       "      <td>10.08</td>\n",
       "      <td>61.36</td>\n",
       "      <td>9.05</td>\n",
       "      <td>20.04</td>\n",
       "      <td>9.01</td>\n",
       "      <td>50.81</td>\n",
       "    </tr>\n",
       "    <tr>\n",
       "      <th>4</th>\n",
       "      <td>7.97</td>\n",
       "      <td>70.04</td>\n",
       "      <td>0.34</td>\n",
       "      <td>10.05</td>\n",
       "      <td>60.77</td>\n",
       "      <td>8.66</td>\n",
       "      <td>19.51</td>\n",
       "      <td>8.69</td>\n",
       "      <td>50.58</td>\n",
       "    </tr>\n",
       "  </tbody>\n",
       "</table></div>"
      ],
      "text/plain": [
       "   c12    c2   c14   c15    c3  c10    c7   c6   c17\n",
       "0 8.77 70.74  0.80 10.64 61.65 9.41 20.36 9.41 49.67\n",
       "1 8.37 70.43  0.54 10.35 61.09 9.01 20.22 9.06 49.33\n",
       "2 6.67 68.68 -1.19  8.58 59.58 7.32 18.37 7.28 51.01\n",
       "3 8.44 70.37  0.10 10.08 61.36 9.05 20.04 9.01 50.81\n",
       "4 7.97 70.04  0.34 10.05 60.77 8.66 19.51 8.69 50.58"
      ]
     },
     "execution_count": 68,
     "metadata": {},
     "output_type": "execute_result"
    }
   ],
   "source": [
    "df_g.head()"
   ]
  },
  {
   "cell_type": "code",
   "execution_count": 69,
   "metadata": {},
   "outputs": [
    {
     "data": {
      "text/plain": [
       "<AxesSubplot:ylabel='Density'>"
      ]
     },
     "execution_count": 69,
     "metadata": {},
     "output_type": "execute_result"
    },
    {
     "data": {
      "image/png": "[encoded data removed]",
      "text/plain": [
       "<Figure size 432x288 with 1 Axes>"
      ]
     },
     "metadata": {
      "needs_background": "light"
     },
     "output_type": "display_data"
    }
   ],
   "source": [
    "sns.distplot(df_g)"
   ]
  },
  {
   "cell_type": "code",
   "execution_count": 70,
   "metadata": {},
   "outputs": [
    {
     "data": {
      "text/html": [
       "<div><div id=3e9a9aa6-fa1a-43d4-973a-b479d39a6b02 style=\"display:none; background-color:#9D6CFF; color:white; width:200px; height:30px; padding-left:5px; border-radius:4px; flex-direction:row; justify-content:space-around; align-items:center;\" onmouseover=\"this.style.backgroundColor='#BA9BF8'\" onmouseout=\"this.style.backgroundColor='#9D6CFF'\" onclick=\"window.commands?.execute('create-mitosheet-from-dataframe-output');\">See Full Dataframe in Mito</div> <script> if (window.commands.hasCommand('create-mitosheet-from-dataframe-output')) document.getElementById('3e9a9aa6-fa1a-43d4-973a-b479d39a6b02').style.display = 'flex' </script> <table border=\"1\" class=\"dataframe\">\n",
       "  <thead>\n",
       "    <tr style=\"text-align: right;\">\n",
       "      <th></th>\n",
       "      <th>c12</th>\n",
       "      <th>c2</th>\n",
       "      <th>c14</th>\n",
       "      <th>c15</th>\n",
       "      <th>c3</th>\n",
       "      <th>c10</th>\n",
       "      <th>c7</th>\n",
       "      <th>c6</th>\n",
       "      <th>c17</th>\n",
       "    </tr>\n",
       "  </thead>\n",
       "  <tbody>\n",
       "    <tr>\n",
       "      <th>count</th>\n",
       "      <td>11934.00</td>\n",
       "      <td>11934.00</td>\n",
       "      <td>11934.00</td>\n",
       "      <td>11934.00</td>\n",
       "      <td>11934.00</td>\n",
       "      <td>11934.00</td>\n",
       "      <td>11934.00</td>\n",
       "      <td>11934.00</td>\n",
       "      <td>11934.00</td>\n",
       "    </tr>\n",
       "    <tr>\n",
       "      <th>mean</th>\n",
       "      <td>37.37</td>\n",
       "      <td>37.22</td>\n",
       "      <td>36.35</td>\n",
       "      <td>33.70</td>\n",
       "      <td>36.78</td>\n",
       "      <td>36.34</td>\n",
       "      <td>43.53</td>\n",
       "      <td>34.70</td>\n",
       "      <td>50.00</td>\n",
       "    </tr>\n",
       "    <tr>\n",
       "      <th>std</th>\n",
       "      <td>30.83</td>\n",
       "      <td>30.54</td>\n",
       "      <td>27.92</td>\n",
       "      <td>28.75</td>\n",
       "      <td>34.36</td>\n",
       "      <td>31.29</td>\n",
       "      <td>25.79</td>\n",
       "      <td>31.33</td>\n",
       "      <td>30.00</td>\n",
       "    </tr>\n",
       "    <tr>\n",
       "      <th>min</th>\n",
       "      <td>0.00</td>\n",
       "      <td>0.00</td>\n",
       "      <td>0.00</td>\n",
       "      <td>0.00</td>\n",
       "      <td>0.00</td>\n",
       "      <td>0.00</td>\n",
       "      <td>0.00</td>\n",
       "      <td>0.00</td>\n",
       "      <td>0.00</td>\n",
       "    </tr>\n",
       "    <tr>\n",
       "      <th>25%</th>\n",
       "      <td>9.35</td>\n",
       "      <td>11.20</td>\n",
       "      <td>14.78</td>\n",
       "      <td>10.09</td>\n",
       "      <td>3.51</td>\n",
       "      <td>8.54</td>\n",
       "      <td>21.90</td>\n",
       "      <td>8.60</td>\n",
       "      <td>24.00</td>\n",
       "    </tr>\n",
       "    <tr>\n",
       "      <th>50%</th>\n",
       "      <td>30.41</td>\n",
       "      <td>29.47</td>\n",
       "      <td>27.31</td>\n",
       "      <td>24.26</td>\n",
       "      <td>27.37</td>\n",
       "      <td>28.55</td>\n",
       "      <td>39.15</td>\n",
       "      <td>26.56</td>\n",
       "      <td>50.00</td>\n",
       "    </tr>\n",
       "    <tr>\n",
       "      <th>75%</th>\n",
       "      <td>56.78</td>\n",
       "      <td>53.42</td>\n",
       "      <td>48.14</td>\n",
       "      <td>46.15</td>\n",
       "      <td>60.82</td>\n",
       "      <td>54.46</td>\n",
       "      <td>58.16</td>\n",
       "      <td>51.11</td>\n",
       "      <td>76.00</td>\n",
       "    </tr>\n",
       "    <tr>\n",
       "      <th>max</th>\n",
       "      <td>100.00</td>\n",
       "      <td>100.00</td>\n",
       "      <td>100.00</td>\n",
       "      <td>100.00</td>\n",
       "      <td>100.00</td>\n",
       "      <td>100.00</td>\n",
       "      <td>100.00</td>\n",
       "      <td>100.00</td>\n",
       "      <td>100.00</td>\n",
       "    </tr>\n",
       "  </tbody>\n",
       "</table></div>"
      ],
      "text/plain": [
       "           c12       c2      c14      c15       c3      c10       c7       c6  \\\n",
       "count 11934.00 11934.00 11934.00 11934.00 11934.00 11934.00 11934.00 11934.00   \n",
       "mean     37.37    37.22    36.35    33.70    36.78    36.34    43.53    34.70   \n",
       "std      30.83    30.54    27.92    28.75    34.36    31.29    25.79    31.33   \n",
       "min       0.00     0.00     0.00     0.00     0.00     0.00     0.00     0.00   \n",
       "25%       9.35    11.20    14.78    10.09     3.51     8.54    21.90     8.60   \n",
       "50%      30.41    29.47    27.31    24.26    27.37    28.55    39.15    26.56   \n",
       "75%      56.78    53.42    48.14    46.15    60.82    54.46    58.16    51.11   \n",
       "max     100.00   100.00   100.00   100.00   100.00   100.00   100.00   100.00   \n",
       "\n",
       "           c17  \n",
       "count 11934.00  \n",
       "mean     50.00  \n",
       "std      30.00  \n",
       "min       0.00  \n",
       "25%      24.00  \n",
       "50%      50.00  \n",
       "75%      76.00  \n",
       "max     100.00  "
      ]
     },
     "execution_count": 70,
     "metadata": {},
     "output_type": "execute_result"
    }
   ],
   "source": [
    "df_n.describe()"
   ]
  },
  {
   "cell_type": "code",
   "execution_count": 71,
   "metadata": {},
   "outputs": [
    {
     "data": {
      "text/html": [
       "<div><div id=452e4644-914c-4991-b3b5-b642b3c4a517 style=\"display:none; background-color:#9D6CFF; color:white; width:200px; height:30px; padding-left:5px; border-radius:4px; flex-direction:row; justify-content:space-around; align-items:center;\" onmouseover=\"this.style.backgroundColor='#BA9BF8'\" onmouseout=\"this.style.backgroundColor='#9D6CFF'\" onclick=\"window.commands?.execute('create-mitosheet-from-dataframe-output');\">See Full Dataframe in Mito</div> <script> if (window.commands.hasCommand('create-mitosheet-from-dataframe-output')) document.getElementById('452e4644-914c-4991-b3b5-b642b3c4a517').style.display = 'flex' </script> <table border=\"1\" class=\"dataframe\">\n",
       "  <thead>\n",
       "    <tr style=\"text-align: right;\">\n",
       "      <th></th>\n",
       "      <th>c12</th>\n",
       "      <th>c2</th>\n",
       "      <th>c14</th>\n",
       "      <th>c15</th>\n",
       "      <th>c3</th>\n",
       "      <th>c10</th>\n",
       "      <th>c7</th>\n",
       "      <th>c6</th>\n",
       "      <th>c17</th>\n",
       "    </tr>\n",
       "  </thead>\n",
       "  <tbody>\n",
       "    <tr>\n",
       "      <th>count</th>\n",
       "      <td>11934.00</td>\n",
       "      <td>11934.00</td>\n",
       "      <td>11934.00</td>\n",
       "      <td>11934.00</td>\n",
       "      <td>11934.00</td>\n",
       "      <td>11934.00</td>\n",
       "      <td>11934.00</td>\n",
       "      <td>11934.00</td>\n",
       "      <td>11934.00</td>\n",
       "    </tr>\n",
       "    <tr>\n",
       "      <th>mean</th>\n",
       "      <td>7.96</td>\n",
       "      <td>69.95</td>\n",
       "      <td>-0.00</td>\n",
       "      <td>9.80</td>\n",
       "      <td>60.82</td>\n",
       "      <td>8.59</td>\n",
       "      <td>19.63</td>\n",
       "      <td>8.59</td>\n",
       "      <td>50.01</td>\n",
       "    </tr>\n",
       "    <tr>\n",
       "      <th>std</th>\n",
       "      <td>1.00</td>\n",
       "      <td>1.00</td>\n",
       "      <td>1.00</td>\n",
       "      <td>1.00</td>\n",
       "      <td>1.00</td>\n",
       "      <td>1.00</td>\n",
       "      <td>1.00</td>\n",
       "      <td>1.00</td>\n",
       "      <td>1.01</td>\n",
       "    </tr>\n",
       "    <tr>\n",
       "      <th>min</th>\n",
       "      <td>4.21</td>\n",
       "      <td>66.17</td>\n",
       "      <td>-3.65</td>\n",
       "      <td>6.06</td>\n",
       "      <td>57.07</td>\n",
       "      <td>4.84</td>\n",
       "      <td>15.74</td>\n",
       "      <td>4.82</td>\n",
       "      <td>46.53</td>\n",
       "    </tr>\n",
       "    <tr>\n",
       "      <th>25%</th>\n",
       "      <td>7.29</td>\n",
       "      <td>69.28</td>\n",
       "      <td>-0.67</td>\n",
       "      <td>9.14</td>\n",
       "      <td>60.15</td>\n",
       "      <td>7.92</td>\n",
       "      <td>18.97</td>\n",
       "      <td>7.92</td>\n",
       "      <td>49.33</td>\n",
       "    </tr>\n",
       "    <tr>\n",
       "      <th>50%</th>\n",
       "      <td>7.95</td>\n",
       "      <td>69.94</td>\n",
       "      <td>-0.01</td>\n",
       "      <td>9.80</td>\n",
       "      <td>60.81</td>\n",
       "      <td>8.59</td>\n",
       "      <td>19.62</td>\n",
       "      <td>8.59</td>\n",
       "      <td>50.02</td>\n",
       "    </tr>\n",
       "    <tr>\n",
       "      <th>75%</th>\n",
       "      <td>8.64</td>\n",
       "      <td>70.63</td>\n",
       "      <td>0.68</td>\n",
       "      <td>10.48</td>\n",
       "      <td>61.49</td>\n",
       "      <td>9.27</td>\n",
       "      <td>20.31</td>\n",
       "      <td>9.28</td>\n",
       "      <td>50.69</td>\n",
       "    </tr>\n",
       "    <tr>\n",
       "      <th>max</th>\n",
       "      <td>11.68</td>\n",
       "      <td>73.66</td>\n",
       "      <td>3.85</td>\n",
       "      <td>13.54</td>\n",
       "      <td>64.54</td>\n",
       "      <td>12.31</td>\n",
       "      <td>23.37</td>\n",
       "      <td>12.28</td>\n",
       "      <td>53.66</td>\n",
       "    </tr>\n",
       "  </tbody>\n",
       "</table></div>"
      ],
      "text/plain": [
       "           c12       c2      c14      c15       c3      c10       c7       c6  \\\n",
       "count 11934.00 11934.00 11934.00 11934.00 11934.00 11934.00 11934.00 11934.00   \n",
       "mean      7.96    69.95    -0.00     9.80    60.82     8.59    19.63     8.59   \n",
       "std       1.00     1.00     1.00     1.00     1.00     1.00     1.00     1.00   \n",
       "min       4.21    66.17    -3.65     6.06    57.07     4.84    15.74     4.82   \n",
       "25%       7.29    69.28    -0.67     9.14    60.15     7.92    18.97     7.92   \n",
       "50%       7.95    69.94    -0.01     9.80    60.81     8.59    19.62     8.59   \n",
       "75%       8.64    70.63     0.68    10.48    61.49     9.27    20.31     9.28   \n",
       "max      11.68    73.66     3.85    13.54    64.54    12.31    23.37    12.28   \n",
       "\n",
       "           c17  \n",
       "count 11934.00  \n",
       "mean     50.01  \n",
       "std       1.01  \n",
       "min      46.53  \n",
       "25%      49.33  \n",
       "50%      50.02  \n",
       "75%      50.69  \n",
       "max      53.66  "
      ]
     },
     "execution_count": 71,
     "metadata": {},
     "output_type": "execute_result"
    }
   ],
   "source": [
    "df_g.describe()"
   ]
  },
  {
   "cell_type": "markdown",
   "metadata": {},
   "source": [
    "# Finding probabbilties of all columns and joint probabilty on generated data set"
   ]
  },
  {
   "cell_type": "markdown",
   "metadata": {},
   "source": [
    "#### Findining probabilities of all columns"
   ]
  },
  {
   "cell_type": "code",
   "execution_count": 72,
   "metadata": {},
   "outputs": [
    {
     "name": "stdout",
     "output_type": "stream",
     "text": [
      "done\n"
     ]
    },
    {
     "data": {
      "text/plain": [
       "array([0.])"
      ]
     },
     "execution_count": 72,
     "metadata": {},
     "output_type": "execute_result"
    }
   ],
   "source": [
    "df_g_prob=df_g.copy()\n",
    "\n",
    "def f1(b):\n",
    "    \n",
    "    k=df_g[df_g[i] == b].shape[0]\n",
    "    return(k/len(df_g))\n",
    "\n",
    "for i in df_g.columns:\n",
    "    # print(i)\n",
    "    \n",
    "    df_g_prob['prob_'+i] = df_g[i].apply(f1)\n",
    "\n",
    "df_g_prob.head()\n",
    "df_g_prob.head()\n",
    "df_g_prob.prob_c2.value_counts()\n",
    "df_g_prob.prob_c2.unique()\n",
    "\n",
    "\n",
    "### Joint probability\n",
    "df_g.columns\n",
    "\n",
    "def f1(a):\n",
    "    \n",
    "    k=df_n[ (df_n[col[0]] == a[col[0]]) & (df_n[col[1]] == a[col[1]]) & (df_n[col[2]] == a[col[2]]) \n",
    "        & (df_n[col[3]] == a[col[3]]) & (df_n[col[4]] == a[col[4]]) & (df_n[col[5]] == a[col[5]])  \n",
    "        & (df_n[col[6]] == a[col[6]]) & (df_n[col[7]] == a[col[7]]) & (df_n[col[8]] == a[col[8]])].shape[0]\n",
    "    \n",
    "    \n",
    "    return(k/len(df_g))\n",
    "    \n",
    "\n",
    "df_g_prob['prob_joint'] = df_g.apply(f1,axis=1)\n",
    "\n",
    "print('done')\n",
    "\n",
    "# df_g\n",
    "df_g_prob.head()\n",
    "df_g_prob.prob_joint.unique()"
   ]
  },
  {
   "cell_type": "markdown",
   "metadata": {},
   "source": [
    "#### This shows that all the rows in dataset are unique and hence the ombined joint probability is same for all rows"
   ]
  },
  {
   "cell_type": "markdown",
   "metadata": {},
   "source": [
    "## Use model on new generated dataset"
   ]
  },
  {
   "cell_type": "markdown",
   "metadata": {},
   "source": [
    "### Again creating smaller smaple dataset for running lazy predic models on generated dataste"
   ]
  },
  {
   "cell_type": "code",
   "execution_count": 73,
   "metadata": {},
   "outputs": [
    {
     "name": "stdout",
     "output_type": "stream",
     "text": [
      "(2387, 9)\n"
     ]
    }
   ],
   "source": [
    "df_gp=df_g.sample(frac =.2)\n",
    "print(df_gp.shape)"
   ]
  },
  {
   "cell_type": "code",
   "execution_count": 74,
   "metadata": {},
   "outputs": [
    {
     "name": "stderr",
     "output_type": "stream",
     "text": [
      "  0%|          | 0/42 [00:00<?, ?it/s]"
     ]
    },
    {
     "name": "stdout",
     "output_type": "stream",
     "text": [
      "{'Model': 'AdaBoostRegressor', 'R-Squared': -0.00240146067113578, 'Adjusted R-Squared': -0.03726759843361016, 'RMSE': 1.0689461192567908, 'Time taken': 0.0684669017791748}\n"
     ]
    },
    {
     "name": "stderr",
     "output_type": "stream",
     "text": [
      "  5%|▍         | 2/42 [00:00<00:04,  9.65it/s]"
     ]
    },
    {
     "name": "stdout",
     "output_type": "stream",
     "text": [
      "{'Model': 'BaggingRegressor', 'R-Squared': 0.07913925758116702, 'Adjusted R-Squared': 0.04710931871442503, 'RMSE': 1.0245471484488098, 'Time taken': 0.1388382911682129}\n",
      "{'Model': 'BayesianRidge', 'R-Squared': 0.829902304019106, 'Adjusted R-Squared': 0.8239858624197706, 'RMSE': 0.4403359919397159, 'Time taken': 0.012001276016235352}\n",
      "{'Model': 'DecisionTreeRegressor', 'R-Squared': -0.4715862980459715, 'Adjusted R-Squared': -0.522771908412788, 'RMSE': 1.2951731640006863, 'Time taken': 0.02201223373413086}\n",
      "{'Model': 'DummyRegressor', 'R-Squared': -6.902234204697599e-05, 'Adjusted R-Squared': -0.034854031814813835, 'RMSE': 1.0677017560732154, 'Time taken': 0.0070002079010009766}\n",
      "{'Model': 'ElasticNet', 'R-Squared': -6.902234204697599e-05, 'Adjusted R-Squared': -0.034854031814813835, 'RMSE': 1.0677017560732154, 'Time taken': 0.007161855697631836}\n"
     ]
    },
    {
     "name": "stderr",
     "output_type": "stream",
     "text": [
      " 17%|█▋        | 7/42 [00:00<00:02, 13.40it/s]"
     ]
    },
    {
     "name": "stdout",
     "output_type": "stream",
     "text": [
      "{'Model': 'ElasticNetCV', 'R-Squared': 0.4424816264303485, 'Adjusted R-Squared': 0.4230896830018389, 'RMSE': 0.7971949920307249, 'Time taken': 0.28349804878234863}\n",
      "{'Model': 'ExtraTreeRegressor', 'R-Squared': -0.6864906161724973, 'Adjusted R-Squared': -0.7451511593437146, 'RMSE': 1.3865225399347338, 'Time taken': 0.015327692031860352}\n"
     ]
    },
    {
     "name": "stderr",
     "output_type": "stream",
     "text": [
      " 21%|██▏       | 9/42 [00:01<00:04,  8.01it/s]"
     ]
    },
    {
     "name": "stdout",
     "output_type": "stream",
     "text": [
      "{'Model': 'ExtraTreesRegressor', 'R-Squared': 0.06110097140748327, 'Adjusted R-Squared': 0.028443613891221853, 'RMSE': 1.0345331568480822, 'Time taken': 0.45821261405944824}\n",
      "{'Model': 'GammaRegressor', 'R-Squared': 0.0025586658696625797, 'Adjusted R-Squared': -0.03213494575226217, 'RMSE': 1.0662981366202349, 'Time taken': 0.01193690299987793}\n"
     ]
    },
    {
     "name": "stderr",
     "output_type": "stream",
     "text": [
      " 26%|██▌       | 11/42 [00:03<00:14,  2.14it/s]"
     ]
    },
    {
     "name": "stdout",
     "output_type": "stream",
     "text": [
      "{'Model': 'GaussianProcessRegressor', 'R-Squared': -64.73280482410838, 'Adjusted R-Squared': -67.01916325277303, 'RMSE': 8.656175471669174, 'Time taken': 2.479635238647461}\n"
     ]
    },
    {
     "name": "stderr",
     "output_type": "stream",
     "text": [
      " 29%|██▊       | 12/42 [00:03<00:13,  2.22it/s]"
     ]
    },
    {
     "name": "stdout",
     "output_type": "stream",
     "text": [
      "{'Model': 'GradientBoostingRegressor', 'R-Squared': 0.04177819820534534, 'Adjusted R-Squared': 0.008448744229879068, 'RMSE': 1.0451244152466128, 'Time taken': 0.36977267265319824}\n"
     ]
    },
    {
     "name": "stderr",
     "output_type": "stream",
     "text": [
      " 36%|███▌      | 15/42 [00:04<00:08,  3.21it/s]"
     ]
    },
    {
     "name": "stdout",
     "output_type": "stream",
     "text": [
      "{'Model': 'HistGradientBoostingRegressor', 'R-Squared': 0.1413374486107758, 'Adjusted R-Squared': 0.1114709250841941, 'RMSE': 0.9893415089920813, 'Time taken': 0.5052456855773926}\n",
      "{'Model': 'HuberRegressor', 'R-Squared': 0.8061802997860898, 'Adjusted R-Squared': 0.7994387449960407, 'RMSE': 0.4700390374821407, 'Time taken': 0.08394742012023926}\n",
      "{'Model': 'KNeighborsRegressor', 'R-Squared': -0.08777788927618957, 'Adjusted R-Squared': -0.1256136419466658, 'RMSE': 1.113538104715927, 'Time taken': 0.019603252410888672}\n"
     ]
    },
    {
     "name": "stderr",
     "output_type": "stream",
     "text": [
      " 48%|████▊     | 20/42 [00:06<00:06,  3.27it/s]"
     ]
    },
    {
     "name": "stdout",
     "output_type": "stream",
     "text": [
      "{'Model': 'KernelRidge', 'R-Squared': -2191.0795583961058, 'Adjusted R-Squared': -2267.3258039055354, 'RMSE': 49.98769664731694, 'Time taken': 1.7404491901397705}\n",
      "{'Model': 'Lars', 'R-Squared': -1.9827571525714687, 'Adjusted R-Squared': -2.08650522744352, 'RMSE': 1.843927822986507, 'Time taken': 0.007157802581787109}\n",
      "{'Model': 'LarsCV', 'R-Squared': -0.19871679469507209, 'Adjusted R-Squared': -0.24041129190185728, 'RMSE': 1.1689428114654614, 'Time taken': 0.020047903060913086}\n",
      "{'Model': 'Lasso', 'R-Squared': -6.902234204697599e-05, 'Adjusted R-Squared': -0.034854031814813835, 'RMSE': 1.0677017560732154, 'Time taken': 0.006971836090087891}\n",
      "{'Model': 'LassoCV', 'R-Squared': 0.447388393956751, 'Adjusted R-Squared': 0.4281671207030727, 'RMSE': 0.793679148013309, 'Time taken': 0.17326998710632324}\n",
      "{'Model': 'LassoLars', 'R-Squared': -6.902234204697599e-05, 'Adjusted R-Squared': -0.034854031814813835, 'RMSE': 1.0677017560732154, 'Time taken': 0.007998943328857422}\n",
      "{'Model': 'LassoLarsCV', 'R-Squared': 0.8298778350103482, 'Adjusted R-Squared': 0.823960542315056, 'RMSE': 0.4403676625561833, 'Time taken': 0.018007516860961914}\n",
      "{'Model': 'LassoLarsIC', 'R-Squared': 0.8298778350103482, 'Adjusted R-Squared': 0.823960542315056, 'RMSE': 0.4403676625561833, 'Time taken': 0.009685039520263672}\n",
      "{'Model': 'LinearRegression', 'R-Squared': 0.8298778350103858, 'Adjusted R-Squared': 0.8239605423150949, 'RMSE': 0.44036766255613463, 'Time taken': 0.0076105594635009766}\n",
      "{'Model': 'LinearSVR', 'R-Squared': 0.5442447153472624, 'Adjusted R-Squared': 0.5283923576202106, 'RMSE': 0.7207768444143994, 'Time taken': 0.017083168029785156}\n"
     ]
    },
    {
     "name": "stderr",
     "output_type": "stream",
     "text": [
      " 64%|██████▍   | 27/42 [00:07<00:03,  4.21it/s]"
     ]
    },
    {
     "name": "stdout",
     "output_type": "stream",
     "text": [
      "{'Model': 'MLPRegressor', 'R-Squared': -0.009267050885189088, 'Adjusted R-Squared': -0.04437199178554341, 'RMSE': 1.0726005545219626, 'Time taken': 1.1327409744262695}\n",
      "{'Model': 'NuSVR', 'R-Squared': 0.14127425111781733, 'Adjusted R-Squared': 0.11140552941756743, 'RMSE': 0.9893779160489343, 'Time taken': 0.14947128295898438}\n",
      "{'Model': 'OrthogonalMatchingPursuit', 'R-Squared': 0.000837902014374281, 'Adjusted R-Squared': -0.033915562263386656, 'RMSE': 1.0672175173156366, 'Time taken': 0.007367134094238281}\n",
      "{'Model': 'OrthogonalMatchingPursuitCV', 'R-Squared': 0.6069132483321109, 'Adjusted R-Squared': 0.5932406656654017, 'RMSE': 0.6693899272747672, 'Time taken': 0.016939401626586914}\n",
      "{'Model': 'PassiveAggressiveRegressor', 'R-Squared': 0.3623130541017615, 'Adjusted R-Squared': 0.3401326385922575, 'RMSE': 0.8525870519705208, 'Time taken': 0.009076356887817383}\n",
      "{'Model': 'PoissonRegressor', 'R-Squared': 0.07799026595776337, 'Adjusted R-Squared': 0.04592036216498996, 'RMSE': 1.0251861316622306, 'Time taken': 0.016043663024902344}\n"
     ]
    },
    {
     "name": "stderr",
     "output_type": "stream",
     "text": [
      " 76%|███████▌  | 32/42 [06:13<05:28, 32.87s/it]"
     ]
    },
    {
     "name": "stdout",
     "output_type": "stream",
     "text": [
      "{'Model': 'QuantileRegressor', 'R-Squared': -0.0007340614408672952, 'Adjusted R-Squared': -0.035542202708375825, 'RMSE': 1.0680567042768923, 'Time taken': 365.51327776908875}\n",
      "{'Model': 'RANSACRegressor', 'R-Squared': 0.7505929845247321, 'Adjusted R-Squared': 0.7419179578995054, 'RMSE': 0.5331989705323038, 'Time taken': 0.05481910705566406}\n"
     ]
    },
    {
     "name": "stderr",
     "output_type": "stream",
     "text": [
      " 90%|█████████ | 38/42 [06:14<01:06, 16.63s/it]"
     ]
    },
    {
     "name": "stdout",
     "output_type": "stream",
     "text": [
      "{'Model': 'RandomForestRegressor', 'R-Squared': 0.12769296177066092, 'Adjusted R-Squared': 0.0973518473974665, 'RMSE': 0.9971710415180979, 'Time taken': 1.0387399196624756}\n",
      "{'Model': 'Ridge', 'R-Squared': 0.5197929709055236, 'Adjusted R-Squared': 0.5030901177196287, 'RMSE': 0.739859451091017, 'Time taken': 0.007084846496582031}\n",
      "{'Model': 'RidgeCV', 'R-Squared': 0.800460055029648, 'Adjusted R-Squared': 0.7935195352045923, 'RMSE': 0.47692478608339955, 'Time taken': 0.008914709091186523}\n",
      "{'Model': 'SGDRegressor', 'R-Squared': 0.08177386403971743, 'Adjusted R-Squared': 0.04983556365849018, 'RMSE': 1.0230804706694039, 'Time taken': 0.008999824523925781}\n",
      "{'Model': 'SVR', 'R-Squared': 0.15188828495589102, 'Adjusted R-Squared': 0.1223887470413133, 'RMSE': 0.9832444430820555, 'Time taken': 0.16445589065551758}\n"
     ]
    },
    {
     "name": "stderr",
     "output_type": "stream",
     "text": [
      " 98%|█████████▊| 41/42 [06:14<00:11, 11.94s/it]"
     ]
    },
    {
     "name": "stdout",
     "output_type": "stream",
     "text": [
      "{'Model': 'TransformedTargetRegressor', 'R-Squared': 0.8298778350103858, 'Adjusted R-Squared': 0.8239605423150949, 'RMSE': 0.44036766255613463, 'Time taken': 0.008000612258911133}\n",
      "{'Model': 'TweedieRegressor', 'R-Squared': 0.002557889721670925, 'Adjusted R-Squared': -0.032135748896705785, 'RMSE': 1.0662985514842314, 'Time taken': 0.011089563369750977}\n",
      "{'Model': 'XGBRegressor', 'R-Squared': 0.023471022890607318, 'Adjusted R-Squared': -0.010495202400154113, 'RMSE': 1.055060920301788, 'Time taken': 0.14327049255371094}\n"
     ]
    },
    {
     "name": "stderr",
     "output_type": "stream",
     "text": [
      "100%|██████████| 42/42 [06:14<00:00,  8.93s/it]"
     ]
    },
    {
     "name": "stdout",
     "output_type": "stream",
     "text": [
      "{'Model': 'LGBMRegressor', 'R-Squared': 0.11623975059412783, 'Adjusted R-Squared': 0.08550026365827135, 'RMSE': 1.0036960183343178, 'Time taken': 0.08636879920959473}\n",
      "                               Adjusted R-Squared  R-Squared  RMSE  Time Taken\n",
      "Model                                                                         \n",
      "BayesianRidge                                0.82       0.83  0.44        0.01\n",
      "LinearRegression                             0.82       0.83  0.44        0.01\n",
      "TransformedTargetRegressor                   0.82       0.83  0.44        0.01\n",
      "LassoLarsCV                                  0.82       0.83  0.44        0.02\n",
      "LassoLarsIC                                  0.82       0.83  0.44        0.01\n",
      "HuberRegressor                               0.80       0.81  0.47        0.08\n",
      "RidgeCV                                      0.79       0.80  0.48        0.01\n",
      "RANSACRegressor                              0.74       0.75  0.53        0.05\n",
      "OrthogonalMatchingPursuitCV                  0.59       0.61  0.67        0.02\n",
      "LinearSVR                                    0.53       0.54  0.72        0.02\n",
      "Ridge                                        0.50       0.52  0.74        0.01\n",
      "LassoCV                                      0.43       0.45  0.79        0.17\n",
      "ElasticNetCV                                 0.42       0.44  0.80        0.28\n",
      "PassiveAggressiveRegressor                   0.34       0.36  0.85        0.01\n",
      "SVR                                          0.12       0.15  0.98        0.16\n",
      "HistGradientBoostingRegressor                0.11       0.14  0.99        0.51\n",
      "NuSVR                                        0.11       0.14  0.99        0.15\n",
      "RandomForestRegressor                        0.10       0.13  1.00        1.04\n",
      "LGBMRegressor                                0.09       0.12  1.00        0.09\n",
      "SGDRegressor                                 0.05       0.08  1.02        0.01\n",
      "BaggingRegressor                             0.05       0.08  1.02        0.14\n",
      "PoissonRegressor                             0.05       0.08  1.03        0.02\n",
      "ExtraTreesRegressor                          0.03       0.06  1.03        0.46\n",
      "GradientBoostingRegressor                    0.01       0.04  1.05        0.37\n",
      "XGBRegressor                                -0.01       0.02  1.06        0.14\n",
      "GammaRegressor                              -0.03       0.00  1.07        0.01\n",
      "TweedieRegressor                            -0.03       0.00  1.07        0.01\n",
      "OrthogonalMatchingPursuit                   -0.03       0.00  1.07        0.01\n",
      "DummyRegressor                              -0.03      -0.00  1.07        0.01\n",
      "ElasticNet                                  -0.03      -0.00  1.07        0.01\n",
      "Lasso                                       -0.03      -0.00  1.07        0.01\n",
      "LassoLars                                   -0.03      -0.00  1.07        0.01\n",
      "QuantileRegressor                           -0.04      -0.00  1.07      365.51\n",
      "AdaBoostRegressor                           -0.04      -0.00  1.07        0.07\n",
      "MLPRegressor                                -0.04      -0.01  1.07        1.13\n",
      "KNeighborsRegressor                         -0.13      -0.09  1.11        0.02\n",
      "LarsCV                                      -0.24      -0.20  1.17        0.02\n",
      "DecisionTreeRegressor                       -0.52      -0.47  1.30        0.02\n",
      "ExtraTreeRegressor                          -0.75      -0.69  1.39        0.02\n",
      "Lars                                        -2.09      -1.98  1.84        0.01\n",
      "GaussianProcessRegressor                   -67.02     -64.73  8.66        2.48\n",
      "KernelRidge                              -2267.33   -2191.08 49.99        1.74\n"
     ]
    },
    {
     "name": "stderr",
     "output_type": "stream",
     "text": [
      "\n"
     ]
    }
   ],
   "source": [
    "X= df_gp.drop(columns='c17')\n",
    "X\n",
    "y=df_gp['c17']\n",
    "y\n",
    "offset = int(X.shape[0] * 0.9)\n",
    "\n",
    "### splitting dataset into training and testing part.\n",
    "X_train, y_train = X[:offset], y[:offset]\n",
    "X_test, y_test = X[offset:], y[offset:]\n",
    "\n",
    "reg = LazyRegressor(verbose=10, ignore_warnings=False, custom_metric=None)\n",
    "\n",
    "# reg = LazyRegressor(verbose=0, ignore_warnings=False, custom_metric=None)\n",
    "\n",
    "### fitting data in LazyClassifier\n",
    "models_3, predictions = reg.fit(X_train, X_test, y_train, y_test)\n",
    "print(models_3)"
   ]
  },
  {
   "cell_type": "markdown",
   "metadata": {},
   "source": [
    "# Part 4- Making multivariate gausian based on mean  of columns and corelation matrix"
   ]
  },
  {
   "cell_type": "code",
   "execution_count": 75,
   "metadata": {},
   "outputs": [],
   "source": [
    "random_seed=1000\n",
    "# cov = df_n.cov()\n",
    "\n",
    "cov = df_n.corr()\n",
    "mean= df_n.mean()\n",
    "\n",
    "# mode=df_n.mode().mean()\n",
    "# mode\n",
    "\n",
    "distr = multivariate_normal(cov = cov, mean = mean,\n",
    "\t\t\t\t\t\t\t\tseed = random_seed)\n",
    "\n",
    "# distr = multivariate_normal(cov = cov, mean = mean,\n",
    "# \t\t\t\t\t\t\t\tseed = random_seed,allow_singular=True)\n",
    "\n",
    "\n",
    "data = distr.rvs(size = df_n.shape[0])"
   ]
  },
  {
   "cell_type": "markdown",
   "metadata": {},
   "source": [
    "### Generated data"
   ]
  },
  {
   "cell_type": "code",
   "execution_count": 76,
   "metadata": {},
   "outputs": [],
   "source": [
    "df_g=pd.DataFrame(data)"
   ]
  },
  {
   "cell_type": "code",
   "execution_count": 77,
   "metadata": {},
   "outputs": [
    {
     "data": {
      "text/html": [
       "<div><div id=aaa821dd-be8d-4f2f-b5f6-82a49994121b style=\"display:none; background-color:#9D6CFF; color:white; width:200px; height:30px; padding-left:5px; border-radius:4px; flex-direction:row; justify-content:space-around; align-items:center;\" onmouseover=\"this.style.backgroundColor='#BA9BF8'\" onmouseout=\"this.style.backgroundColor='#9D6CFF'\" onclick=\"window.commands?.execute('create-mitosheet-from-dataframe-output');\">See Full Dataframe in Mito</div> <script> if (window.commands.hasCommand('create-mitosheet-from-dataframe-output')) document.getElementById('aaa821dd-be8d-4f2f-b5f6-82a49994121b').style.display = 'flex' </script> <table border=\"1\" class=\"dataframe\">\n",
       "  <thead>\n",
       "    <tr style=\"text-align: right;\">\n",
       "      <th></th>\n",
       "      <th>0</th>\n",
       "      <th>1</th>\n",
       "      <th>2</th>\n",
       "      <th>3</th>\n",
       "      <th>4</th>\n",
       "      <th>5</th>\n",
       "      <th>6</th>\n",
       "      <th>7</th>\n",
       "      <th>8</th>\n",
       "    </tr>\n",
       "  </thead>\n",
       "  <tbody>\n",
       "    <tr>\n",
       "      <th>0</th>\n",
       "      <td>38.17</td>\n",
       "      <td>38.01</td>\n",
       "      <td>37.15</td>\n",
       "      <td>34.53</td>\n",
       "      <td>37.61</td>\n",
       "      <td>37.15</td>\n",
       "      <td>44.25</td>\n",
       "      <td>35.51</td>\n",
       "      <td>49.67</td>\n",
       "    </tr>\n",
       "    <tr>\n",
       "      <th>1</th>\n",
       "      <td>37.77</td>\n",
       "      <td>37.69</td>\n",
       "      <td>36.89</td>\n",
       "      <td>34.24</td>\n",
       "      <td>37.05</td>\n",
       "      <td>36.76</td>\n",
       "      <td>44.11</td>\n",
       "      <td>35.15</td>\n",
       "      <td>49.33</td>\n",
       "    </tr>\n",
       "    <tr>\n",
       "      <th>2</th>\n",
       "      <td>36.06</td>\n",
       "      <td>35.94</td>\n",
       "      <td>35.15</td>\n",
       "      <td>32.47</td>\n",
       "      <td>35.53</td>\n",
       "      <td>35.06</td>\n",
       "      <td>42.26</td>\n",
       "      <td>33.38</td>\n",
       "      <td>51.01</td>\n",
       "    </tr>\n",
       "    <tr>\n",
       "      <th>3</th>\n",
       "      <td>37.84</td>\n",
       "      <td>37.63</td>\n",
       "      <td>36.44</td>\n",
       "      <td>33.97</td>\n",
       "      <td>37.31</td>\n",
       "      <td>36.80</td>\n",
       "      <td>43.93</td>\n",
       "      <td>35.11</td>\n",
       "      <td>50.81</td>\n",
       "    </tr>\n",
       "    <tr>\n",
       "      <th>4</th>\n",
       "      <td>37.37</td>\n",
       "      <td>37.31</td>\n",
       "      <td>36.68</td>\n",
       "      <td>33.94</td>\n",
       "      <td>36.72</td>\n",
       "      <td>36.40</td>\n",
       "      <td>43.40</td>\n",
       "      <td>34.78</td>\n",
       "      <td>50.58</td>\n",
       "    </tr>\n",
       "  </tbody>\n",
       "</table></div>"
      ],
      "text/plain": [
       "      0     1     2     3     4     5     6     7     8\n",
       "0 38.17 38.01 37.15 34.53 37.61 37.15 44.25 35.51 49.67\n",
       "1 37.77 37.69 36.89 34.24 37.05 36.76 44.11 35.15 49.33\n",
       "2 36.06 35.94 35.15 32.47 35.53 35.06 42.26 33.38 51.01\n",
       "3 37.84 37.63 36.44 33.97 37.31 36.80 43.93 35.11 50.81\n",
       "4 37.37 37.31 36.68 33.94 36.72 36.40 43.40 34.78 50.58"
      ]
     },
     "execution_count": 77,
     "metadata": {},
     "output_type": "execute_result"
    }
   ],
   "source": [
    "df_g.head()"
   ]
  },
  {
   "cell_type": "code",
   "execution_count": 78,
   "metadata": {},
   "outputs": [],
   "source": [
    "df_g.columns = df_n.columns"
   ]
  },
  {
   "cell_type": "code",
   "execution_count": 79,
   "metadata": {},
   "outputs": [
    {
     "data": {
      "text/html": [
       "<div><div id=1d1d2b93-9e03-4b7c-8051-877796b697ee style=\"display:none; background-color:#9D6CFF; color:white; width:200px; height:30px; padding-left:5px; border-radius:4px; flex-direction:row; justify-content:space-around; align-items:center;\" onmouseover=\"this.style.backgroundColor='#BA9BF8'\" onmouseout=\"this.style.backgroundColor='#9D6CFF'\" onclick=\"window.commands?.execute('create-mitosheet-from-dataframe-output');\">See Full Dataframe in Mito</div> <script> if (window.commands.hasCommand('create-mitosheet-from-dataframe-output')) document.getElementById('1d1d2b93-9e03-4b7c-8051-877796b697ee').style.display = 'flex' </script> <table border=\"1\" class=\"dataframe\">\n",
       "  <thead>\n",
       "    <tr style=\"text-align: right;\">\n",
       "      <th></th>\n",
       "      <th>c12</th>\n",
       "      <th>c2</th>\n",
       "      <th>c14</th>\n",
       "      <th>c15</th>\n",
       "      <th>c3</th>\n",
       "      <th>c10</th>\n",
       "      <th>c7</th>\n",
       "      <th>c6</th>\n",
       "      <th>c17</th>\n",
       "    </tr>\n",
       "  </thead>\n",
       "  <tbody>\n",
       "    <tr>\n",
       "      <th>0</th>\n",
       "      <td>38.17</td>\n",
       "      <td>38.01</td>\n",
       "      <td>37.15</td>\n",
       "      <td>34.53</td>\n",
       "      <td>37.61</td>\n",
       "      <td>37.15</td>\n",
       "      <td>44.25</td>\n",
       "      <td>35.51</td>\n",
       "      <td>49.67</td>\n",
       "    </tr>\n",
       "    <tr>\n",
       "      <th>1</th>\n",
       "      <td>37.77</td>\n",
       "      <td>37.69</td>\n",
       "      <td>36.89</td>\n",
       "      <td>34.24</td>\n",
       "      <td>37.05</td>\n",
       "      <td>36.76</td>\n",
       "      <td>44.11</td>\n",
       "      <td>35.15</td>\n",
       "      <td>49.33</td>\n",
       "    </tr>\n",
       "    <tr>\n",
       "      <th>2</th>\n",
       "      <td>36.06</td>\n",
       "      <td>35.94</td>\n",
       "      <td>35.15</td>\n",
       "      <td>32.47</td>\n",
       "      <td>35.53</td>\n",
       "      <td>35.06</td>\n",
       "      <td>42.26</td>\n",
       "      <td>33.38</td>\n",
       "      <td>51.01</td>\n",
       "    </tr>\n",
       "    <tr>\n",
       "      <th>3</th>\n",
       "      <td>37.84</td>\n",
       "      <td>37.63</td>\n",
       "      <td>36.44</td>\n",
       "      <td>33.97</td>\n",
       "      <td>37.31</td>\n",
       "      <td>36.80</td>\n",
       "      <td>43.93</td>\n",
       "      <td>35.11</td>\n",
       "      <td>50.81</td>\n",
       "    </tr>\n",
       "    <tr>\n",
       "      <th>4</th>\n",
       "      <td>37.37</td>\n",
       "      <td>37.31</td>\n",
       "      <td>36.68</td>\n",
       "      <td>33.94</td>\n",
       "      <td>36.72</td>\n",
       "      <td>36.40</td>\n",
       "      <td>43.40</td>\n",
       "      <td>34.78</td>\n",
       "      <td>50.58</td>\n",
       "    </tr>\n",
       "  </tbody>\n",
       "</table></div>"
      ],
      "text/plain": [
       "    c12    c2   c14   c15    c3   c10    c7    c6   c17\n",
       "0 38.17 38.01 37.15 34.53 37.61 37.15 44.25 35.51 49.67\n",
       "1 37.77 37.69 36.89 34.24 37.05 36.76 44.11 35.15 49.33\n",
       "2 36.06 35.94 35.15 32.47 35.53 35.06 42.26 33.38 51.01\n",
       "3 37.84 37.63 36.44 33.97 37.31 36.80 43.93 35.11 50.81\n",
       "4 37.37 37.31 36.68 33.94 36.72 36.40 43.40 34.78 50.58"
      ]
     },
     "execution_count": 79,
     "metadata": {},
     "output_type": "execute_result"
    }
   ],
   "source": [
    "df_g.head()"
   ]
  },
  {
   "cell_type": "code",
   "execution_count": 80,
   "metadata": {},
   "outputs": [
    {
     "data": {
      "text/plain": [
       "<AxesSubplot:ylabel='Density'>"
      ]
     },
     "execution_count": 80,
     "metadata": {},
     "output_type": "execute_result"
    },
    {
     "data": {
      "image/png": "[encoded data removed]",
      "text/plain": [
       "<Figure size 432x288 with 1 Axes>"
      ]
     },
     "metadata": {
      "needs_background": "light"
     },
     "output_type": "display_data"
    }
   ],
   "source": [
    "sns.distplot(df_g)"
   ]
  },
  {
   "cell_type": "code",
   "execution_count": 81,
   "metadata": {},
   "outputs": [
    {
     "data": {
      "text/html": [
       "<div><div id=12783fd3-1169-492f-b9d0-5464a2c6b851 style=\"display:none; background-color:#9D6CFF; color:white; width:200px; height:30px; padding-left:5px; border-radius:4px; flex-direction:row; justify-content:space-around; align-items:center;\" onmouseover=\"this.style.backgroundColor='#BA9BF8'\" onmouseout=\"this.style.backgroundColor='#9D6CFF'\" onclick=\"window.commands?.execute('create-mitosheet-from-dataframe-output');\">See Full Dataframe in Mito</div> <script> if (window.commands.hasCommand('create-mitosheet-from-dataframe-output')) document.getElementById('12783fd3-1169-492f-b9d0-5464a2c6b851').style.display = 'flex' </script> <table border=\"1\" class=\"dataframe\">\n",
       "  <thead>\n",
       "    <tr style=\"text-align: right;\">\n",
       "      <th></th>\n",
       "      <th>c12</th>\n",
       "      <th>c2</th>\n",
       "      <th>c14</th>\n",
       "      <th>c15</th>\n",
       "      <th>c3</th>\n",
       "      <th>c10</th>\n",
       "      <th>c7</th>\n",
       "      <th>c6</th>\n",
       "      <th>c17</th>\n",
       "    </tr>\n",
       "  </thead>\n",
       "  <tbody>\n",
       "    <tr>\n",
       "      <th>count</th>\n",
       "      <td>11934.00</td>\n",
       "      <td>11934.00</td>\n",
       "      <td>11934.00</td>\n",
       "      <td>11934.00</td>\n",
       "      <td>11934.00</td>\n",
       "      <td>11934.00</td>\n",
       "      <td>11934.00</td>\n",
       "      <td>11934.00</td>\n",
       "      <td>11934.00</td>\n",
       "    </tr>\n",
       "    <tr>\n",
       "      <th>mean</th>\n",
       "      <td>37.37</td>\n",
       "      <td>37.22</td>\n",
       "      <td>36.35</td>\n",
       "      <td>33.70</td>\n",
       "      <td>36.78</td>\n",
       "      <td>36.34</td>\n",
       "      <td>43.53</td>\n",
       "      <td>34.70</td>\n",
       "      <td>50.00</td>\n",
       "    </tr>\n",
       "    <tr>\n",
       "      <th>std</th>\n",
       "      <td>30.83</td>\n",
       "      <td>30.54</td>\n",
       "      <td>27.92</td>\n",
       "      <td>28.75</td>\n",
       "      <td>34.36</td>\n",
       "      <td>31.29</td>\n",
       "      <td>25.79</td>\n",
       "      <td>31.33</td>\n",
       "      <td>30.00</td>\n",
       "    </tr>\n",
       "    <tr>\n",
       "      <th>min</th>\n",
       "      <td>0.00</td>\n",
       "      <td>0.00</td>\n",
       "      <td>0.00</td>\n",
       "      <td>0.00</td>\n",
       "      <td>0.00</td>\n",
       "      <td>0.00</td>\n",
       "      <td>0.00</td>\n",
       "      <td>0.00</td>\n",
       "      <td>0.00</td>\n",
       "    </tr>\n",
       "    <tr>\n",
       "      <th>25%</th>\n",
       "      <td>9.35</td>\n",
       "      <td>11.20</td>\n",
       "      <td>14.78</td>\n",
       "      <td>10.09</td>\n",
       "      <td>3.51</td>\n",
       "      <td>8.54</td>\n",
       "      <td>21.90</td>\n",
       "      <td>8.60</td>\n",
       "      <td>24.00</td>\n",
       "    </tr>\n",
       "    <tr>\n",
       "      <th>50%</th>\n",
       "      <td>30.41</td>\n",
       "      <td>29.47</td>\n",
       "      <td>27.31</td>\n",
       "      <td>24.26</td>\n",
       "      <td>27.37</td>\n",
       "      <td>28.55</td>\n",
       "      <td>39.15</td>\n",
       "      <td>26.56</td>\n",
       "      <td>50.00</td>\n",
       "    </tr>\n",
       "    <tr>\n",
       "      <th>75%</th>\n",
       "      <td>56.78</td>\n",
       "      <td>53.42</td>\n",
       "      <td>48.14</td>\n",
       "      <td>46.15</td>\n",
       "      <td>60.82</td>\n",
       "      <td>54.46</td>\n",
       "      <td>58.16</td>\n",
       "      <td>51.11</td>\n",
       "      <td>76.00</td>\n",
       "    </tr>\n",
       "    <tr>\n",
       "      <th>max</th>\n",
       "      <td>100.00</td>\n",
       "      <td>100.00</td>\n",
       "      <td>100.00</td>\n",
       "      <td>100.00</td>\n",
       "      <td>100.00</td>\n",
       "      <td>100.00</td>\n",
       "      <td>100.00</td>\n",
       "      <td>100.00</td>\n",
       "      <td>100.00</td>\n",
       "    </tr>\n",
       "  </tbody>\n",
       "</table></div>"
      ],
      "text/plain": [
       "           c12       c2      c14      c15       c3      c10       c7       c6  \\\n",
       "count 11934.00 11934.00 11934.00 11934.00 11934.00 11934.00 11934.00 11934.00   \n",
       "mean     37.37    37.22    36.35    33.70    36.78    36.34    43.53    34.70   \n",
       "std      30.83    30.54    27.92    28.75    34.36    31.29    25.79    31.33   \n",
       "min       0.00     0.00     0.00     0.00     0.00     0.00     0.00     0.00   \n",
       "25%       9.35    11.20    14.78    10.09     3.51     8.54    21.90     8.60   \n",
       "50%      30.41    29.47    27.31    24.26    27.37    28.55    39.15    26.56   \n",
       "75%      56.78    53.42    48.14    46.15    60.82    54.46    58.16    51.11   \n",
       "max     100.00   100.00   100.00   100.00   100.00   100.00   100.00   100.00   \n",
       "\n",
       "           c17  \n",
       "count 11934.00  \n",
       "mean     50.00  \n",
       "std      30.00  \n",
       "min       0.00  \n",
       "25%      24.00  \n",
       "50%      50.00  \n",
       "75%      76.00  \n",
       "max     100.00  "
      ]
     },
     "execution_count": 81,
     "metadata": {},
     "output_type": "execute_result"
    }
   ],
   "source": [
    "df_n.describe()"
   ]
  },
  {
   "cell_type": "code",
   "execution_count": 82,
   "metadata": {},
   "outputs": [
    {
     "data": {
      "text/html": [
       "<div><div id=e507657b-0c12-4a42-bff6-d5de83a70744 style=\"display:none; background-color:#9D6CFF; color:white; width:200px; height:30px; padding-left:5px; border-radius:4px; flex-direction:row; justify-content:space-around; align-items:center;\" onmouseover=\"this.style.backgroundColor='#BA9BF8'\" onmouseout=\"this.style.backgroundColor='#9D6CFF'\" onclick=\"window.commands?.execute('create-mitosheet-from-dataframe-output');\">See Full Dataframe in Mito</div> <script> if (window.commands.hasCommand('create-mitosheet-from-dataframe-output')) document.getElementById('e507657b-0c12-4a42-bff6-d5de83a70744').style.display = 'flex' </script> <table border=\"1\" class=\"dataframe\">\n",
       "  <thead>\n",
       "    <tr style=\"text-align: right;\">\n",
       "      <th></th>\n",
       "      <th>c12</th>\n",
       "      <th>c2</th>\n",
       "      <th>c14</th>\n",
       "      <th>c15</th>\n",
       "      <th>c3</th>\n",
       "      <th>c10</th>\n",
       "      <th>c7</th>\n",
       "      <th>c6</th>\n",
       "      <th>c17</th>\n",
       "    </tr>\n",
       "  </thead>\n",
       "  <tbody>\n",
       "    <tr>\n",
       "      <th>count</th>\n",
       "      <td>11934.00</td>\n",
       "      <td>11934.00</td>\n",
       "      <td>11934.00</td>\n",
       "      <td>11934.00</td>\n",
       "      <td>11934.00</td>\n",
       "      <td>11934.00</td>\n",
       "      <td>11934.00</td>\n",
       "      <td>11934.00</td>\n",
       "      <td>11934.00</td>\n",
       "    </tr>\n",
       "    <tr>\n",
       "      <th>mean</th>\n",
       "      <td>37.36</td>\n",
       "      <td>37.21</td>\n",
       "      <td>36.35</td>\n",
       "      <td>33.69</td>\n",
       "      <td>36.77</td>\n",
       "      <td>36.34</td>\n",
       "      <td>43.52</td>\n",
       "      <td>34.69</td>\n",
       "      <td>50.01</td>\n",
       "    </tr>\n",
       "    <tr>\n",
       "      <th>std</th>\n",
       "      <td>1.00</td>\n",
       "      <td>1.00</td>\n",
       "      <td>1.00</td>\n",
       "      <td>1.00</td>\n",
       "      <td>1.00</td>\n",
       "      <td>1.00</td>\n",
       "      <td>1.00</td>\n",
       "      <td>1.00</td>\n",
       "      <td>1.01</td>\n",
       "    </tr>\n",
       "    <tr>\n",
       "      <th>min</th>\n",
       "      <td>33.61</td>\n",
       "      <td>33.44</td>\n",
       "      <td>32.70</td>\n",
       "      <td>29.95</td>\n",
       "      <td>33.02</td>\n",
       "      <td>32.58</td>\n",
       "      <td>39.63</td>\n",
       "      <td>30.91</td>\n",
       "      <td>46.53</td>\n",
       "    </tr>\n",
       "    <tr>\n",
       "      <th>25%</th>\n",
       "      <td>36.69</td>\n",
       "      <td>36.54</td>\n",
       "      <td>35.68</td>\n",
       "      <td>33.03</td>\n",
       "      <td>36.10</td>\n",
       "      <td>35.67</td>\n",
       "      <td>42.86</td>\n",
       "      <td>34.02</td>\n",
       "      <td>49.33</td>\n",
       "    </tr>\n",
       "    <tr>\n",
       "      <th>50%</th>\n",
       "      <td>37.35</td>\n",
       "      <td>37.20</td>\n",
       "      <td>36.33</td>\n",
       "      <td>33.69</td>\n",
       "      <td>36.76</td>\n",
       "      <td>36.33</td>\n",
       "      <td>43.51</td>\n",
       "      <td>34.68</td>\n",
       "      <td>50.02</td>\n",
       "    </tr>\n",
       "    <tr>\n",
       "      <th>75%</th>\n",
       "      <td>38.04</td>\n",
       "      <td>37.89</td>\n",
       "      <td>37.02</td>\n",
       "      <td>34.37</td>\n",
       "      <td>37.44</td>\n",
       "      <td>37.02</td>\n",
       "      <td>44.20</td>\n",
       "      <td>35.37</td>\n",
       "      <td>50.69</td>\n",
       "    </tr>\n",
       "    <tr>\n",
       "      <th>max</th>\n",
       "      <td>41.08</td>\n",
       "      <td>40.93</td>\n",
       "      <td>40.20</td>\n",
       "      <td>37.43</td>\n",
       "      <td>40.49</td>\n",
       "      <td>40.05</td>\n",
       "      <td>47.26</td>\n",
       "      <td>38.38</td>\n",
       "      <td>53.66</td>\n",
       "    </tr>\n",
       "  </tbody>\n",
       "</table></div>"
      ],
      "text/plain": [
       "           c12       c2      c14      c15       c3      c10       c7       c6  \\\n",
       "count 11934.00 11934.00 11934.00 11934.00 11934.00 11934.00 11934.00 11934.00   \n",
       "mean     37.36    37.21    36.35    33.69    36.77    36.34    43.52    34.69   \n",
       "std       1.00     1.00     1.00     1.00     1.00     1.00     1.00     1.00   \n",
       "min      33.61    33.44    32.70    29.95    33.02    32.58    39.63    30.91   \n",
       "25%      36.69    36.54    35.68    33.03    36.10    35.67    42.86    34.02   \n",
       "50%      37.35    37.20    36.33    33.69    36.76    36.33    43.51    34.68   \n",
       "75%      38.04    37.89    37.02    34.37    37.44    37.02    44.20    35.37   \n",
       "max      41.08    40.93    40.20    37.43    40.49    40.05    47.26    38.38   \n",
       "\n",
       "           c17  \n",
       "count 11934.00  \n",
       "mean     50.01  \n",
       "std       1.01  \n",
       "min      46.53  \n",
       "25%      49.33  \n",
       "50%      50.02  \n",
       "75%      50.69  \n",
       "max      53.66  "
      ]
     },
     "execution_count": 82,
     "metadata": {},
     "output_type": "execute_result"
    }
   ],
   "source": [
    "df_g.describe()"
   ]
  },
  {
   "cell_type": "markdown",
   "metadata": {},
   "source": [
    "# Finding probabbilties of all columns and joint probabilty on generated data set"
   ]
  },
  {
   "cell_type": "markdown",
   "metadata": {},
   "source": [
    "#### Findining probabilities of all columns"
   ]
  },
  {
   "cell_type": "code",
   "execution_count": 83,
   "metadata": {},
   "outputs": [
    {
     "name": "stdout",
     "output_type": "stream",
     "text": [
      "done\n"
     ]
    },
    {
     "data": {
      "text/plain": [
       "array([0.])"
      ]
     },
     "execution_count": 83,
     "metadata": {},
     "output_type": "execute_result"
    }
   ],
   "source": [
    "df_g_prob=df_g.copy()\n",
    "\n",
    "def f1(b):\n",
    "    \n",
    "    k=df_g[df_g[i] == b].shape[0]\n",
    "    return(k/len(df_g))\n",
    "\n",
    "for i in df_g.columns:\n",
    "    # print(i)\n",
    "    \n",
    "    df_g_prob['prob_'+i] = df_g[i].apply(f1)\n",
    "\n",
    "df_g_prob.head()\n",
    "df_g_prob.head()\n",
    "df_g_prob.prob_c2.value_counts()\n",
    "df_g_prob.prob_c2.unique()\n",
    "\n",
    "\n",
    "### Joint probability\n",
    "df_g.columns\n",
    "\n",
    "def f1(a):\n",
    "    \n",
    "    k=df_n[ (df_n[col[0]] == a[col[0]]) & (df_n[col[1]] == a[col[1]]) & (df_n[col[2]] == a[col[2]]) \n",
    "        & (df_n[col[3]] == a[col[3]]) & (df_n[col[4]] == a[col[4]]) & (df_n[col[5]] == a[col[5]])  \n",
    "        & (df_n[col[6]] == a[col[6]]) & (df_n[col[7]] == a[col[7]]) & (df_n[col[8]] == a[col[8]])].shape[0]\n",
    "   \n",
    "    \n",
    "    return(k/len(df_g))\n",
    "    \n",
    "\n",
    "df_g_prob['prob_joint'] = df_g.apply(f1,axis=1)\n",
    "\n",
    "print('done')\n",
    "\n",
    "# df_g\n",
    "df_g_prob.head()\n",
    "df_g_prob.prob_joint.unique()"
   ]
  },
  {
   "cell_type": "markdown",
   "metadata": {},
   "source": [
    "#### This shows that all the rows in dataset are unique and hence the ombined joint probability is same for all rows"
   ]
  },
  {
   "cell_type": "markdown",
   "metadata": {},
   "source": [
    "## Use model on new generated dataset"
   ]
  },
  {
   "cell_type": "markdown",
   "metadata": {},
   "source": [
    "### Again creating smaller smaple dataset for running lazy predic models on generated dataste"
   ]
  },
  {
   "cell_type": "code",
   "execution_count": 84,
   "metadata": {},
   "outputs": [
    {
     "name": "stdout",
     "output_type": "stream",
     "text": [
      "(2387, 9)\n"
     ]
    }
   ],
   "source": [
    "df_gp=df_g.sample(frac =.2)\n",
    "print(df_gp.shape)"
   ]
  },
  {
   "cell_type": "code",
   "execution_count": 85,
   "metadata": {},
   "outputs": [
    {
     "name": "stderr",
     "output_type": "stream",
     "text": [
      "  5%|▍         | 2/42 [00:00<00:05,  7.51it/s]"
     ]
    },
    {
     "name": "stdout",
     "output_type": "stream",
     "text": [
      "{'Model': 'AdaBoostRegressor', 'R-Squared': -0.013789387766734773, 'Adjusted R-Squared': -0.04905162734122981, 'RMSE': 0.864450270887217, 'Time taken': 0.10177397727966309}\n",
      "{'Model': 'BaggingRegressor', 'R-Squared': -0.005699780382486752, 'Adjusted R-Squared': -0.04068064230883417, 'RMSE': 0.860994390536728, 'Time taken': 0.15389013290405273}\n",
      "{'Model': 'BayesianRidge', 'R-Squared': 0.7300179118209489, 'Adjusted R-Squared': 0.7206272304929819, 'RMSE': 0.4461014351227396, 'Time taken': 0.013250589370727539}\n",
      "{'Model': 'DecisionTreeRegressor', 'R-Squared': -1.6149600275363616, 'Adjusted R-Squared': -1.7059151589289305, 'RMSE': 1.3883490634493296, 'Time taken': 0.0251619815826416}\n",
      "{'Model': 'DummyRegressor', 'R-Squared': -0.027921958811190306, 'Adjusted R-Squared': -0.06367576607418823, 'RMSE': 0.8704547833943606, 'Time taken': 0.009482860565185547}\n",
      "{'Model': 'ElasticNet', 'R-Squared': -0.027921958811190306, 'Adjusted R-Squared': -0.06367576607418823, 'RMSE': 0.8704547833943606, 'Time taken': 0.008048772811889648}\n"
     ]
    },
    {
     "name": "stderr",
     "output_type": "stream",
     "text": [
      " 17%|█▋        | 7/42 [00:00<00:02, 14.78it/s]"
     ]
    },
    {
     "name": "stdout",
     "output_type": "stream",
     "text": [
      "{'Model': 'ElasticNetCV', 'R-Squared': 0.33113154447901116, 'Adjusted R-Squared': 0.3078665547217594, 'RMSE': 0.7021606731369406, 'Time taken': 0.19979619979858398}\n",
      "{'Model': 'ExtraTreeRegressor', 'R-Squared': -1.5881768069693498, 'Adjusted R-Squared': -1.6782003480813272, 'RMSE': 1.3812208161344568, 'Time taken': 0.01018667221069336}\n"
     ]
    },
    {
     "name": "stderr",
     "output_type": "stream",
     "text": [
      " 21%|██▏       | 9/42 [00:00<00:03,  8.79it/s]"
     ]
    },
    {
     "name": "stdout",
     "output_type": "stream",
     "text": [
      "{'Model': 'ExtraTreesRegressor', 'R-Squared': -0.004586561123518962, 'Adjusted R-Squared': -0.03952870237998929, 'RMSE': 0.8605177368973541, 'Time taken': 0.41672277450561523}\n",
      "{'Model': 'GammaRegressor', 'R-Squared': -0.025689253376108168, 'Adjusted R-Squared': -0.06136540131962498, 'RMSE': 0.8695089306530688, 'Time taken': 0.013000011444091797}\n"
     ]
    },
    {
     "name": "stderr",
     "output_type": "stream",
     "text": [
      " 26%|██▌       | 11/42 [00:03<00:14,  2.21it/s]"
     ]
    },
    {
     "name": "stdout",
     "output_type": "stream",
     "text": [
      "{'Model': 'GaussianProcessRegressor', 'R-Squared': -170.68511824775132, 'Adjusted R-Squared': -176.65677453462962, 'RMSE': 11.249480579793508, 'Time taken': 2.3884999752044678}\n"
     ]
    },
    {
     "name": "stderr",
     "output_type": "stream",
     "text": [
      " 29%|██▊       | 12/42 [00:03<00:12,  2.33it/s]"
     ]
    },
    {
     "name": "stdout",
     "output_type": "stream",
     "text": [
      "{'Model': 'GradientBoostingRegressor', 'R-Squared': 0.007817281348024507, 'Adjusted R-Squared': -0.026693421909435466, 'RMSE': 0.8551887391061274, 'Time taken': 0.32208919525146484}\n"
     ]
    },
    {
     "name": "stderr",
     "output_type": "stream",
     "text": [
      " 31%|███       | 13/42 [00:04<00:12,  2.34it/s]"
     ]
    },
    {
     "name": "stdout",
     "output_type": "stream",
     "text": [
      "{'Model': 'HistGradientBoostingRegressor', 'R-Squared': 0.0726848264579667, 'Adjusted R-Squared': 0.040430385639113386, 'RMSE': 0.8267607059503232, 'Time taken': 0.42549777030944824}\n",
      "{'Model': 'HuberRegressor', 'R-Squared': 0.7197202421666062, 'Adjusted R-Squared': 0.7099713810245751, 'RMSE': 0.4545294329807228, 'Time taken': 0.0706031322479248}\n",
      "{'Model': 'KNeighborsRegressor', 'R-Squared': -0.1262596923013115, 'Adjusted R-Squared': -0.16543394246831378, 'RMSE': 0.9111406336364251, 'Time taken': 0.01454782485961914}\n"
     ]
    },
    {
     "name": "stderr",
     "output_type": "stream",
     "text": [
      " 38%|███▊      | 16/42 [00:05<00:12,  2.02it/s]"
     ]
    },
    {
     "name": "stdout",
     "output_type": "stream",
     "text": [
      "{'Model': 'KernelRidge', 'R-Squared': -3404.4940123352944, 'Adjusted R-Squared': -3522.9459779817394, 'RMSE': 50.10213177293939, 'Time taken': 1.6341078281402588}\n",
      "{'Model': 'Lars', 'R-Squared': 0.7089521635611109, 'Adjusted R-Squared': 0.6988287605545409, 'RMSE': 0.4631784360302983, 'Time taken': 0.007000446319580078}\n",
      "{'Model': 'LarsCV', 'R-Squared': 0.7202576506607303, 'Adjusted R-Squared': 0.71052748198806, 'RMSE': 0.4540934664623676, 'Time taken': 0.02099752426147461}\n",
      "{'Model': 'Lasso', 'R-Squared': -0.027921958811190306, 'Adjusted R-Squared': -0.06367576607418823, 'RMSE': 0.8704547833943606, 'Time taken': 0.008002996444702148}\n"
     ]
    },
    {
     "name": "stderr",
     "output_type": "stream",
     "text": [
      " 48%|████▊     | 20/42 [00:06<00:06,  3.48it/s]"
     ]
    },
    {
     "name": "stdout",
     "output_type": "stream",
     "text": [
      "{'Model': 'LassoCV', 'R-Squared': 0.33110785709898904, 'Adjusted R-Squared': 0.3078420434328669, 'RMSE': 0.7021731062239785, 'Time taken': 0.1752767562866211}\n",
      "{'Model': 'LassoLars', 'R-Squared': -0.027921958811190306, 'Adjusted R-Squared': -0.06367576607418823, 'RMSE': 0.8704547833943606, 'Time taken': 0.008087873458862305}\n",
      "{'Model': 'LassoLarsCV', 'R-Squared': 0.729939091352631, 'Adjusted R-Squared': 0.7205456684431573, 'RMSE': 0.44616654936474454, 'Time taken': 0.01922607421875}\n",
      "{'Model': 'LassoLarsIC', 'R-Squared': 0.729939091352631, 'Adjusted R-Squared': 0.7205456684431573, 'RMSE': 0.44616654936474454, 'Time taken': 0.009006261825561523}\n",
      "{'Model': 'LinearRegression', 'R-Squared': 0.7299390913524546, 'Adjusted R-Squared': 0.7205456684429747, 'RMSE': 0.4461665493648902, 'Time taken': 0.005242824554443359}\n",
      "{'Model': 'LinearSVR', 'R-Squared': 0.48492927445742684, 'Adjusted R-Squared': 0.46701377096029384, 'RMSE': 0.6161686213326383, 'Time taken': 0.018245220184326172}\n"
     ]
    },
    {
     "name": "stderr",
     "output_type": "stream",
     "text": [
      " 64%|██████▍   | 27/42 [00:07<00:03,  4.36it/s]"
     ]
    },
    {
     "name": "stdout",
     "output_type": "stream",
     "text": [
      "{'Model': 'MLPRegressor', 'R-Squared': -0.21542255174309188, 'Adjusted R-Squared': -0.25769811876024296, 'RMSE': 0.9465199878539996, 'Time taken': 1.1054155826568604}\n",
      "{'Model': 'NuSVR', 'R-Squared': 0.09441962031840634, 'Adjusted R-Squared': 0.06292117232948136, 'RMSE': 0.8170142786587424, 'Time taken': 0.13511300086975098}\n",
      "{'Model': 'OrthogonalMatchingPursuit', 'R-Squared': -0.029932704900238027, 'Adjusted R-Squared': -0.06575645115763762, 'RMSE': 0.871305727592028, 'Time taken': 0.006996631622314453}\n",
      "{'Model': 'OrthogonalMatchingPursuitCV', 'R-Squared': 0.2982538082177735, 'Adjusted R-Squared': 0.27384524502534824, 'RMSE': 0.7192107606759105, 'Time taken': 0.017094135284423828}\n",
      "{'Model': 'PassiveAggressiveRegressor', 'R-Squared': -0.2683741996197355, 'Adjusted R-Squared': -0.3124915630847698, 'RMSE': 0.9669184429305332, 'Time taken': 0.006993770599365234}\n",
      "{'Model': 'PoissonRegressor', 'R-Squared': 0.044959141868712416, 'Adjusted R-Squared': 0.011740329411972006, 'RMSE': 0.8390292864932495, 'Time taken': 0.012111663818359375}\n"
     ]
    },
    {
     "name": "stderr",
     "output_type": "stream",
     "text": [
      " 76%|███████▌  | 32/42 [06:16<05:21, 32.13s/it]"
     ]
    },
    {
     "name": "stdout",
     "output_type": "stream",
     "text": [
      "{'Model': 'QuantileRegressor', 'R-Squared': -0.025331140502407923, 'Adjusted R-Squared': -0.06099483234596992, 'RMSE': 0.8693571256473736, 'Time taken': 369.492800951004}\n",
      "{'Model': 'RANSACRegressor', 'R-Squared': 0.6806811889532216, 'Adjusted R-Squared': 0.6695744476994205, 'RMSE': 0.48515263681204, 'Time taken': 0.039797067642211914}\n"
     ]
    },
    {
     "name": "stderr",
     "output_type": "stream",
     "text": [
      " 90%|█████████ | 38/42 [06:18<01:06, 16.53s/it]"
     ]
    },
    {
     "name": "stdout",
     "output_type": "stream",
     "text": [
      "{'Model': 'RandomForestRegressor', 'R-Squared': 0.01916804219033008, 'Adjusted R-Squared': -0.014947851994354, 'RMSE': 0.850282906124132, 'Time taken': 0.9994425773620605}\n",
      "{'Model': 'Ridge', 'R-Squared': 0.46527101061176246, 'Adjusted R-Squared': 0.4466717414156498, 'RMSE': 0.6278169098532953, 'Time taken': 0.007308244705200195}\n",
      "{'Model': 'RidgeCV', 'R-Squared': 0.7159998353827219, 'Adjusted R-Squared': 0.7061215687873383, 'RMSE': 0.45753617824092285, 'Time taken': 0.01092076301574707}\n",
      "{'Model': 'SGDRegressor', 'R-Squared': 0.06060855356361927, 'Adjusted R-Squared': 0.027934068470179874, 'RMSE': 0.8321266767274395, 'Time taken': 0.009342193603515625}\n",
      "{'Model': 'SVR', 'R-Squared': 0.11651312206671405, 'Adjusted R-Squared': 0.08578314370381712, 'RMSE': 0.8069863635766067, 'Time taken': 0.17453384399414062}\n"
     ]
    },
    {
     "name": "stderr",
     "output_type": "stream",
     "text": [
      " 98%|█████████▊| 41/42 [06:18<00:11, 11.93s/it]"
     ]
    },
    {
     "name": "stdout",
     "output_type": "stream",
     "text": [
      "{'Model': 'TransformedTargetRegressor', 'R-Squared': 0.7299390913524546, 'Adjusted R-Squared': 0.7205456684429747, 'RMSE': 0.4461665493648902, 'Time taken': 0.00699162483215332}\n",
      "{'Model': 'TweedieRegressor', 'R-Squared': -0.02568374414203345, 'Adjusted R-Squared': -0.061359700460017264, 'RMSE': 0.8695065954747261, 'Time taken': 0.012001276016235352}\n",
      "{'Model': 'XGBRegressor', 'R-Squared': -0.10683701816950286, 'Adjusted R-Squared': -0.14533569706235516, 'RMSE': 0.9032500248595797, 'Time taken': 0.14974498748779297}\n"
     ]
    },
    {
     "name": "stderr",
     "output_type": "stream",
     "text": [
      "100%|██████████| 42/42 [06:18<00:00,  9.01s/it]"
     ]
    },
    {
     "name": "stdout",
     "output_type": "stream",
     "text": [
      "{'Model': 'LGBMRegressor', 'R-Squared': 0.09570328941917627, 'Adjusted R-Squared': 0.06424949079027809, 'RMSE': 0.816435010415877, 'Time taken': 0.08996343612670898}\n",
      "                               Adjusted R-Squared  R-Squared  RMSE  Time Taken\n",
      "Model                                                                         \n",
      "BayesianRidge                                0.72       0.73  0.45        0.01\n",
      "LassoLarsCV                                  0.72       0.73  0.45        0.02\n",
      "LassoLarsIC                                  0.72       0.73  0.45        0.01\n",
      "TransformedTargetRegressor                   0.72       0.73  0.45        0.01\n",
      "LinearRegression                             0.72       0.73  0.45        0.01\n",
      "LarsCV                                       0.71       0.72  0.45        0.02\n",
      "HuberRegressor                               0.71       0.72  0.45        0.07\n",
      "RidgeCV                                      0.71       0.72  0.46        0.01\n",
      "Lars                                         0.70       0.71  0.46        0.01\n",
      "RANSACRegressor                              0.67       0.68  0.49        0.04\n",
      "LinearSVR                                    0.47       0.48  0.62        0.02\n",
      "Ridge                                        0.45       0.47  0.63        0.01\n",
      "ElasticNetCV                                 0.31       0.33  0.70        0.20\n",
      "LassoCV                                      0.31       0.33  0.70        0.18\n",
      "OrthogonalMatchingPursuitCV                  0.27       0.30  0.72        0.02\n",
      "SVR                                          0.09       0.12  0.81        0.17\n",
      "LGBMRegressor                                0.06       0.10  0.82        0.09\n",
      "NuSVR                                        0.06       0.09  0.82        0.14\n",
      "HistGradientBoostingRegressor                0.04       0.07  0.83        0.43\n",
      "SGDRegressor                                 0.03       0.06  0.83        0.01\n",
      "PoissonRegressor                             0.01       0.04  0.84        0.01\n",
      "RandomForestRegressor                       -0.01       0.02  0.85        1.00\n",
      "GradientBoostingRegressor                   -0.03       0.01  0.86        0.32\n",
      "ExtraTreesRegressor                         -0.04      -0.00  0.86        0.42\n",
      "BaggingRegressor                            -0.04      -0.01  0.86        0.15\n",
      "AdaBoostRegressor                           -0.05      -0.01  0.86        0.10\n",
      "QuantileRegressor                           -0.06      -0.03  0.87      369.49\n",
      "TweedieRegressor                            -0.06      -0.03  0.87        0.01\n",
      "GammaRegressor                              -0.06      -0.03  0.87        0.01\n",
      "DummyRegressor                              -0.06      -0.03  0.87        0.01\n",
      "Lasso                                       -0.06      -0.03  0.87        0.01\n",
      "LassoLars                                   -0.06      -0.03  0.87        0.01\n",
      "ElasticNet                                  -0.06      -0.03  0.87        0.01\n",
      "OrthogonalMatchingPursuit                   -0.07      -0.03  0.87        0.01\n",
      "XGBRegressor                                -0.15      -0.11  0.90        0.15\n",
      "KNeighborsRegressor                         -0.17      -0.13  0.91        0.01\n",
      "MLPRegressor                                -0.26      -0.22  0.95        1.11\n",
      "PassiveAggressiveRegressor                  -0.31      -0.27  0.97        0.01\n",
      "ExtraTreeRegressor                          -1.68      -1.59  1.38        0.01\n",
      "DecisionTreeRegressor                       -1.71      -1.61  1.39        0.03\n",
      "GaussianProcessRegressor                  -176.66    -170.69 11.25        2.39\n",
      "KernelRidge                              -3522.95   -3404.49 50.10        1.63\n"
     ]
    },
    {
     "name": "stderr",
     "output_type": "stream",
     "text": [
      "\n"
     ]
    }
   ],
   "source": [
    "X= df_gp.drop(columns='c17')\n",
    "X\n",
    "y=df_gp['c17']\n",
    "y\n",
    "offset = int(X.shape[0] * 0.9)\n",
    "\n",
    "### splitting dataset into training and testing part.\n",
    "X_train, y_train = X[:offset], y[:offset]\n",
    "X_test, y_test = X[offset:], y[offset:]\n",
    "\n",
    "reg = LazyRegressor(verbose=10, ignore_warnings=False, custom_metric=None)\n",
    "\n",
    "\n",
    "### fitting data in LazyClassifier\n",
    "models_4, predictions = reg.fit(X_train, X_test, y_train, y_test)\n",
    "print(models_4)"
   ]
  },
  {
   "cell_type": "code",
   "execution_count": null,
   "metadata": {},
   "outputs": [],
   "source": []
  },
  {
   "cell_type": "code",
   "execution_count": null,
   "metadata": {},
   "outputs": [],
   "source": []
  },
  {
   "cell_type": "markdown",
   "metadata": {},
   "source": [
    "# Comparing all models results of parts"
   ]
  },
  {
   "cell_type": "code",
   "execution_count": 86,
   "metadata": {},
   "outputs": [
    {
     "name": "stdout",
     "output_type": "stream",
     "text": [
      "                               Adjusted R-Squared  R-Squared  RMSE  Time Taken\n",
      "Model                                                                         \n",
      "GaussianProcessRegressor                     1.00       1.00  0.47        2.37\n",
      "ExtraTreesRegressor                          0.95       0.95  6.18        0.32\n",
      "HistGradientBoostingRegressor                0.95       0.95  6.55        0.42\n",
      "XGBRegressor                                 0.95       0.95  6.58        0.79\n",
      "RandomForestRegressor                        0.94       0.95  6.75        0.72\n",
      "LGBMRegressor                                0.94       0.94  6.93        0.08\n",
      "BaggingRegressor                             0.93       0.93  7.76        0.09\n",
      "ExtraTreeRegressor                           0.87       0.87 10.49        0.01\n",
      "DecisionTreeRegressor                        0.86       0.86 10.84        0.02\n",
      "KNeighborsRegressor                          0.80       0.80 12.86        0.01\n",
      "GradientBoostingRegressor                    0.77       0.77 13.84        0.28\n",
      "LassoLarsIC                                  0.75       0.76 14.21        0.01\n",
      "LassoLarsCV                                  0.75       0.76 14.21        0.02\n",
      "LinearRegression                             0.75       0.76 14.21        0.01\n",
      "TransformedTargetRegressor                   0.75       0.76 14.21        0.01\n",
      "BayesianRidge                                0.75       0.76 14.21        0.02\n",
      "HuberRegressor                               0.74       0.75 14.49        0.07\n",
      "RidgeCV                                      0.72       0.73 15.12        0.01\n",
      "RANSACRegressor                              0.71       0.72 15.49        0.03\n",
      "PassiveAggressiveRegressor                   0.65       0.66 16.98        0.02\n",
      "OrthogonalMatchingPursuitCV                  0.54       0.56 19.39        0.02\n",
      "Ridge                                        0.45       0.47 21.25        0.01\n",
      "LassoCV                                      0.35       0.37 23.04        0.17\n",
      "ElasticNetCV                                 0.28       0.31 24.20        0.12\n",
      "AdaBoostRegressor                            0.14       0.17 26.52        0.04\n",
      "SGDRegressor                                 0.07       0.10 27.57        0.02\n",
      "LinearSVR                                    0.05       0.08 27.93        0.01\n",
      "PoissonRegressor                             0.03       0.06 28.17        0.02\n",
      "MLPRegressor                                 0.00       0.03 28.59        1.08\n",
      "NuSVR                                       -0.03       0.01 29.01        0.16\n",
      "SVR                                         -0.03       0.00 29.09        0.20\n",
      "QuantileRegressor                           -0.04      -0.00 29.10      292.82\n",
      "TweedieRegressor                            -0.04      -0.00 29.13        0.01\n",
      "ElasticNet                                  -0.04      -0.00 29.17        0.01\n",
      "LassoLars                                   -0.04      -0.00 29.17        0.01\n",
      "DummyRegressor                              -0.04      -0.00 29.17        0.01\n",
      "Lasso                                       -0.04      -0.00 29.17        0.01\n",
      "OrthogonalMatchingPursuit                   -0.04      -0.01 29.20        0.01\n",
      "LarsCV                                      -0.22      -0.18 31.63        0.02\n",
      "Lars                                        -1.89      -1.80 48.66        0.01\n",
      "KernelRidge                                 -2.42      -2.31 52.90        1.66\n"
     ]
    }
   ],
   "source": [
    "print(models)"
   ]
  },
  {
   "cell_type": "code",
   "execution_count": 87,
   "metadata": {},
   "outputs": [
    {
     "name": "stdout",
     "output_type": "stream",
     "text": [
      "                               Adjusted R-Squared  R-Squared   RMSE  \\\n",
      "Model                                                                 \n",
      "BayesianRidge                                0.80       0.81  13.98   \n",
      "LassoLarsCV                                  0.80       0.81  13.98   \n",
      "LassoLarsIC                                  0.80       0.81  13.98   \n",
      "TransformedTargetRegressor                   0.80       0.81  13.98   \n",
      "LinearRegression                             0.80       0.81  13.98   \n",
      "HuberRegressor                               0.79       0.80  14.27   \n",
      "Lars                                         0.78       0.79  14.50   \n",
      "RANSACRegressor                              0.77       0.77  15.13   \n",
      "RidgeCV                                      0.76       0.77  15.28   \n",
      "PassiveAggressiveRegressor                   0.66       0.68  18.09   \n",
      "Ridge                                        0.45       0.47  23.05   \n",
      "LassoCV                                      0.37       0.39  24.71   \n",
      "OrthogonalMatchingPursuitCV                  0.31       0.34  25.86   \n",
      "ElasticNetCV                                 0.30       0.33  26.08   \n",
      "RandomForestRegressor                        0.16       0.18  28.66   \n",
      "ExtraTreesRegressor                          0.14       0.17  28.91   \n",
      "SGDRegressor                                 0.14       0.17  28.97   \n",
      "LGBMRegressor                                0.14       0.17  29.01   \n",
      "HistGradientBoostingRegressor                0.14       0.16  29.01   \n",
      "XGBRegressor                                 0.12       0.15  29.21   \n",
      "BaggingRegressor                             0.09       0.12  29.80   \n",
      "GradientBoostingRegressor                    0.08       0.11  29.97   \n",
      "LarsCV                                       0.07       0.10  30.15   \n",
      "LinearSVR                                    0.04       0.08  30.50   \n",
      "MLPRegressor                                 0.03       0.07  30.68   \n",
      "NuSVR                                       -0.03       0.01  31.60   \n",
      "SVR                                         -0.03       0.01  31.66   \n",
      "TweedieRegressor                            -0.03       0.00  31.70   \n",
      "ElasticNet                                  -0.03       0.00  31.74   \n",
      "OrthogonalMatchingPursuit                   -0.03       0.00  31.74   \n",
      "Lasso                                       -0.04      -0.00  31.76   \n",
      "LassoLars                                   -0.04      -0.00  31.76   \n",
      "DummyRegressor                              -0.04      -0.00  31.76   \n",
      "AdaBoostRegressor                           -0.04      -0.00  31.76   \n",
      "QuantileRegressor                           -0.04      -0.00  31.77   \n",
      "KNeighborsRegressor                         -0.06      -0.02  32.14   \n",
      "DecisionTreeRegressor                       -0.66      -0.60  40.21   \n",
      "ExtraTreeRegressor                          -0.70      -0.64  40.66   \n",
      "KernelRidge                                 -2.05      -1.94  54.47   \n",
      "GaussianProcessRegressor                   -83.28     -80.45 286.54   \n",
      "\n",
      "                               Time Taken  \n",
      "Model                                      \n",
      "BayesianRidge                        0.01  \n",
      "LassoLarsCV                          0.02  \n",
      "LassoLarsIC                          0.01  \n",
      "TransformedTargetRegressor           0.01  \n",
      "LinearRegression                     0.01  \n",
      "HuberRegressor                       0.07  \n",
      "Lars                                 0.01  \n",
      "RANSACRegressor                      0.04  \n",
      "RidgeCV                              0.01  \n",
      "PassiveAggressiveRegressor           0.01  \n",
      "Ridge                                0.01  \n",
      "LassoCV                              0.18  \n",
      "OrthogonalMatchingPursuitCV          0.02  \n",
      "ElasticNetCV                         0.14  \n",
      "RandomForestRegressor                1.02  \n",
      "ExtraTreesRegressor                  0.40  \n",
      "SGDRegressor                         0.03  \n",
      "LGBMRegressor                        0.08  \n",
      "HistGradientBoostingRegressor        0.44  \n",
      "XGBRegressor                         0.16  \n",
      "BaggingRegressor                     0.12  \n",
      "GradientBoostingRegressor            0.34  \n",
      "LarsCV                               0.02  \n",
      "LinearSVR                            0.01  \n",
      "MLPRegressor                         1.16  \n",
      "NuSVR                                0.15  \n",
      "SVR                                  0.19  \n",
      "TweedieRegressor                     0.01  \n",
      "ElasticNet                           0.01  \n",
      "OrthogonalMatchingPursuit            0.01  \n",
      "Lasso                                0.01  \n",
      "LassoLars                            0.01  \n",
      "DummyRegressor                       0.01  \n",
      "AdaBoostRegressor                    0.11  \n",
      "QuantileRegressor                  332.14  \n",
      "KNeighborsRegressor                  0.02  \n",
      "DecisionTreeRegressor                0.02  \n",
      "ExtraTreeRegressor                   0.01  \n",
      "KernelRidge                          1.62  \n",
      "GaussianProcessRegressor             2.48  \n"
     ]
    }
   ],
   "source": [
    "print(models_1)"
   ]
  },
  {
   "cell_type": "code",
   "execution_count": 88,
   "metadata": {},
   "outputs": [
    {
     "name": "stdout",
     "output_type": "stream",
     "text": [
      "                               Adjusted R-Squared  R-Squared   RMSE  \\\n",
      "Model                                                                 \n",
      "TransformedTargetRegressor                   0.81       0.81  13.21   \n",
      "LinearRegression                             0.81       0.81  13.21   \n",
      "LassoLarsCV                                  0.81       0.81  13.21   \n",
      "LassoLarsIC                                  0.81       0.81  13.21   \n",
      "BayesianRidge                                0.81       0.81  13.22   \n",
      "HuberRegressor                               0.79       0.80  13.75   \n",
      "LarsCV                                       0.78       0.79  14.04   \n",
      "RidgeCV                                      0.75       0.76  14.91   \n",
      "RANSACRegressor                              0.73       0.74  15.53   \n",
      "PassiveAggressiveRegressor                   0.72       0.72  16.02   \n",
      "OrthogonalMatchingPursuitCV                  0.54       0.56  20.34   \n",
      "Ridge                                        0.43       0.45  22.74   \n",
      "LassoCV                                      0.32       0.34  24.80   \n",
      "ElasticNetCV                                 0.24       0.26  26.19   \n",
      "LGBMRegressor                                0.07       0.11  28.88   \n",
      "HistGradientBoostingRegressor                0.06       0.09  29.06   \n",
      "SGDRegressor                                 0.05       0.08  29.28   \n",
      "RandomForestRegressor                        0.04       0.07  29.48   \n",
      "MLPRegressor                                -0.00       0.03  30.05   \n",
      "LinearSVR                                   -0.00       0.03  30.10   \n",
      "GradientBoostingRegressor                   -0.01       0.03  30.11   \n",
      "ExtraTreesRegressor                         -0.02       0.02  30.30   \n",
      "XGBRegressor                                -0.02       0.02  30.31   \n",
      "AdaBoostRegressor                           -0.04      -0.00  30.57   \n",
      "NuSVR                                       -0.04      -0.01  30.69   \n",
      "SVR                                         -0.05      -0.01  30.72   \n",
      "OrthogonalMatchingPursuit                   -0.05      -0.02  30.79   \n",
      "BaggingRegressor                            -0.05      -0.02  30.84   \n",
      "TweedieRegressor                            -0.05      -0.02  30.84   \n",
      "ElasticNet                                  -0.06      -0.02  30.85   \n",
      "LassoLars                                   -0.06      -0.02  30.88   \n",
      "DummyRegressor                              -0.06      -0.02  30.88   \n",
      "Lasso                                       -0.06      -0.02  30.88   \n",
      "QuantileRegressor                           -0.06      -0.02  30.90   \n",
      "KNeighborsRegressor                         -0.21      -0.17  33.05   \n",
      "ExtraTreeRegressor                          -0.98      -0.91  42.20   \n",
      "DecisionTreeRegressor                       -1.15      -1.08  44.06   \n",
      "KernelRidge                                 -2.78      -2.65  58.35   \n",
      "Lars                                        -4.33      -4.15  69.35   \n",
      "GaussianProcessRegressor                  -553.41    -534.77 707.08   \n",
      "\n",
      "                               Time Taken  \n",
      "Model                                      \n",
      "TransformedTargetRegressor           0.01  \n",
      "LinearRegression                     0.01  \n",
      "LassoLarsCV                          0.02  \n",
      "LassoLarsIC                          0.01  \n",
      "BayesianRidge                        0.01  \n",
      "HuberRegressor                       0.07  \n",
      "LarsCV                               0.02  \n",
      "RidgeCV                              0.01  \n",
      "RANSACRegressor                      0.05  \n",
      "PassiveAggressiveRegressor           0.02  \n",
      "OrthogonalMatchingPursuitCV          0.02  \n",
      "Ridge                                0.01  \n",
      "LassoCV                              0.19  \n",
      "ElasticNetCV                         0.14  \n",
      "LGBMRegressor                        0.07  \n",
      "HistGradientBoostingRegressor        0.42  \n",
      "SGDRegressor                         0.02  \n",
      "RandomForestRegressor                0.92  \n",
      "MLPRegressor                         1.16  \n",
      "LinearSVR                            0.01  \n",
      "GradientBoostingRegressor            0.39  \n",
      "ExtraTreesRegressor                  0.44  \n",
      "XGBRegressor                         0.15  \n",
      "AdaBoostRegressor                    0.08  \n",
      "NuSVR                                0.15  \n",
      "SVR                                  0.18  \n",
      "OrthogonalMatchingPursuit            0.01  \n",
      "BaggingRegressor                     0.12  \n",
      "TweedieRegressor                     0.01  \n",
      "ElasticNet                           0.01  \n",
      "LassoLars                            0.01  \n",
      "DummyRegressor                       0.01  \n",
      "Lasso                                0.01  \n",
      "QuantileRegressor                  365.65  \n",
      "KNeighborsRegressor                  0.02  \n",
      "ExtraTreeRegressor                   0.01  \n",
      "DecisionTreeRegressor                0.02  \n",
      "KernelRidge                          1.60  \n",
      "Lars                                 0.01  \n",
      "GaussianProcessRegressor             2.45  \n"
     ]
    }
   ],
   "source": [
    "print(models_2)"
   ]
  },
  {
   "cell_type": "code",
   "execution_count": 89,
   "metadata": {},
   "outputs": [
    {
     "name": "stdout",
     "output_type": "stream",
     "text": [
      "                               Adjusted R-Squared  R-Squared  RMSE  Time Taken\n",
      "Model                                                                         \n",
      "BayesianRidge                                0.82       0.83  0.44        0.01\n",
      "LinearRegression                             0.82       0.83  0.44        0.01\n",
      "TransformedTargetRegressor                   0.82       0.83  0.44        0.01\n",
      "LassoLarsCV                                  0.82       0.83  0.44        0.02\n",
      "LassoLarsIC                                  0.82       0.83  0.44        0.01\n",
      "HuberRegressor                               0.80       0.81  0.47        0.08\n",
      "RidgeCV                                      0.79       0.80  0.48        0.01\n",
      "RANSACRegressor                              0.74       0.75  0.53        0.05\n",
      "OrthogonalMatchingPursuitCV                  0.59       0.61  0.67        0.02\n",
      "LinearSVR                                    0.53       0.54  0.72        0.02\n",
      "Ridge                                        0.50       0.52  0.74        0.01\n",
      "LassoCV                                      0.43       0.45  0.79        0.17\n",
      "ElasticNetCV                                 0.42       0.44  0.80        0.28\n",
      "PassiveAggressiveRegressor                   0.34       0.36  0.85        0.01\n",
      "SVR                                          0.12       0.15  0.98        0.16\n",
      "HistGradientBoostingRegressor                0.11       0.14  0.99        0.51\n",
      "NuSVR                                        0.11       0.14  0.99        0.15\n",
      "RandomForestRegressor                        0.10       0.13  1.00        1.04\n",
      "LGBMRegressor                                0.09       0.12  1.00        0.09\n",
      "SGDRegressor                                 0.05       0.08  1.02        0.01\n",
      "BaggingRegressor                             0.05       0.08  1.02        0.14\n",
      "PoissonRegressor                             0.05       0.08  1.03        0.02\n",
      "ExtraTreesRegressor                          0.03       0.06  1.03        0.46\n",
      "GradientBoostingRegressor                    0.01       0.04  1.05        0.37\n",
      "XGBRegressor                                -0.01       0.02  1.06        0.14\n",
      "GammaRegressor                              -0.03       0.00  1.07        0.01\n",
      "TweedieRegressor                            -0.03       0.00  1.07        0.01\n",
      "OrthogonalMatchingPursuit                   -0.03       0.00  1.07        0.01\n",
      "DummyRegressor                              -0.03      -0.00  1.07        0.01\n",
      "ElasticNet                                  -0.03      -0.00  1.07        0.01\n",
      "Lasso                                       -0.03      -0.00  1.07        0.01\n",
      "LassoLars                                   -0.03      -0.00  1.07        0.01\n",
      "QuantileRegressor                           -0.04      -0.00  1.07      365.51\n",
      "AdaBoostRegressor                           -0.04      -0.00  1.07        0.07\n",
      "MLPRegressor                                -0.04      -0.01  1.07        1.13\n",
      "KNeighborsRegressor                         -0.13      -0.09  1.11        0.02\n",
      "LarsCV                                      -0.24      -0.20  1.17        0.02\n",
      "DecisionTreeRegressor                       -0.52      -0.47  1.30        0.02\n",
      "ExtraTreeRegressor                          -0.75      -0.69  1.39        0.02\n",
      "Lars                                        -2.09      -1.98  1.84        0.01\n",
      "GaussianProcessRegressor                   -67.02     -64.73  8.66        2.48\n",
      "KernelRidge                              -2267.33   -2191.08 49.99        1.74\n"
     ]
    }
   ],
   "source": [
    "print(models_3)"
   ]
  },
  {
   "cell_type": "code",
   "execution_count": 90,
   "metadata": {},
   "outputs": [
    {
     "name": "stdout",
     "output_type": "stream",
     "text": [
      "                               Adjusted R-Squared  R-Squared  RMSE  Time Taken\n",
      "Model                                                                         \n",
      "BayesianRidge                                0.72       0.73  0.45        0.01\n",
      "LassoLarsCV                                  0.72       0.73  0.45        0.02\n",
      "LassoLarsIC                                  0.72       0.73  0.45        0.01\n",
      "TransformedTargetRegressor                   0.72       0.73  0.45        0.01\n",
      "LinearRegression                             0.72       0.73  0.45        0.01\n",
      "LarsCV                                       0.71       0.72  0.45        0.02\n",
      "HuberRegressor                               0.71       0.72  0.45        0.07\n",
      "RidgeCV                                      0.71       0.72  0.46        0.01\n",
      "Lars                                         0.70       0.71  0.46        0.01\n",
      "RANSACRegressor                              0.67       0.68  0.49        0.04\n",
      "LinearSVR                                    0.47       0.48  0.62        0.02\n",
      "Ridge                                        0.45       0.47  0.63        0.01\n",
      "ElasticNetCV                                 0.31       0.33  0.70        0.20\n",
      "LassoCV                                      0.31       0.33  0.70        0.18\n",
      "OrthogonalMatchingPursuitCV                  0.27       0.30  0.72        0.02\n",
      "SVR                                          0.09       0.12  0.81        0.17\n",
      "LGBMRegressor                                0.06       0.10  0.82        0.09\n",
      "NuSVR                                        0.06       0.09  0.82        0.14\n",
      "HistGradientBoostingRegressor                0.04       0.07  0.83        0.43\n",
      "SGDRegressor                                 0.03       0.06  0.83        0.01\n",
      "PoissonRegressor                             0.01       0.04  0.84        0.01\n",
      "RandomForestRegressor                       -0.01       0.02  0.85        1.00\n",
      "GradientBoostingRegressor                   -0.03       0.01  0.86        0.32\n",
      "ExtraTreesRegressor                         -0.04      -0.00  0.86        0.42\n",
      "BaggingRegressor                            -0.04      -0.01  0.86        0.15\n",
      "AdaBoostRegressor                           -0.05      -0.01  0.86        0.10\n",
      "QuantileRegressor                           -0.06      -0.03  0.87      369.49\n",
      "TweedieRegressor                            -0.06      -0.03  0.87        0.01\n",
      "GammaRegressor                              -0.06      -0.03  0.87        0.01\n",
      "DummyRegressor                              -0.06      -0.03  0.87        0.01\n",
      "Lasso                                       -0.06      -0.03  0.87        0.01\n",
      "LassoLars                                   -0.06      -0.03  0.87        0.01\n",
      "ElasticNet                                  -0.06      -0.03  0.87        0.01\n",
      "OrthogonalMatchingPursuit                   -0.07      -0.03  0.87        0.01\n",
      "XGBRegressor                                -0.15      -0.11  0.90        0.15\n",
      "KNeighborsRegressor                         -0.17      -0.13  0.91        0.01\n",
      "MLPRegressor                                -0.26      -0.22  0.95        1.11\n",
      "PassiveAggressiveRegressor                  -0.31      -0.27  0.97        0.01\n",
      "ExtraTreeRegressor                          -1.68      -1.59  1.38        0.01\n",
      "DecisionTreeRegressor                       -1.71      -1.61  1.39        0.03\n",
      "GaussianProcessRegressor                  -176.66    -170.69 11.25        2.39\n",
      "KernelRidge                              -3522.95   -3404.49 50.10        1.63\n"
     ]
    }
   ],
   "source": [
    "print(models_4)"
   ]
  },
  {
   "cell_type": "markdown",
   "metadata": {},
   "source": [
    "# Best gaussian estimate (part 3)"
   ]
  },
  {
   "cell_type": "code",
   "execution_count": 91,
   "metadata": {},
   "outputs": [
    {
     "data": {
      "text/html": [
       "<div><div id=3b1549e8-89a5-47a5-8346-fac3fd01372a style=\"display:none; background-color:#9D6CFF; color:white; width:200px; height:30px; padding-left:5px; border-radius:4px; flex-direction:row; justify-content:space-around; align-items:center;\" onmouseover=\"this.style.backgroundColor='#BA9BF8'\" onmouseout=\"this.style.backgroundColor='#9D6CFF'\" onclick=\"window.commands?.execute('create-mitosheet-from-dataframe-output');\">See Full Dataframe in Mito</div> <script> if (window.commands.hasCommand('create-mitosheet-from-dataframe-output')) document.getElementById('3b1549e8-89a5-47a5-8346-fac3fd01372a').style.display = 'flex' </script> <table border=\"1\" class=\"dataframe\">\n",
       "  <thead>\n",
       "    <tr style=\"text-align: right;\">\n",
       "      <th></th>\n",
       "      <th>c12</th>\n",
       "      <th>c2</th>\n",
       "      <th>c14</th>\n",
       "      <th>c15</th>\n",
       "      <th>c3</th>\n",
       "      <th>c10</th>\n",
       "      <th>c7</th>\n",
       "      <th>c6</th>\n",
       "      <th>c17</th>\n",
       "    </tr>\n",
       "  </thead>\n",
       "  <tbody>\n",
       "    <tr>\n",
       "      <th>0</th>\n",
       "      <td>8.77</td>\n",
       "      <td>70.74</td>\n",
       "      <td>0.80</td>\n",
       "      <td>10.64</td>\n",
       "      <td>61.65</td>\n",
       "      <td>9.41</td>\n",
       "      <td>20.36</td>\n",
       "      <td>9.41</td>\n",
       "      <td>49.67</td>\n",
       "    </tr>\n",
       "    <tr>\n",
       "      <th>1</th>\n",
       "      <td>8.37</td>\n",
       "      <td>70.43</td>\n",
       "      <td>0.54</td>\n",
       "      <td>10.35</td>\n",
       "      <td>61.09</td>\n",
       "      <td>9.01</td>\n",
       "      <td>20.22</td>\n",
       "      <td>9.06</td>\n",
       "      <td>49.33</td>\n",
       "    </tr>\n",
       "    <tr>\n",
       "      <th>2</th>\n",
       "      <td>6.67</td>\n",
       "      <td>68.68</td>\n",
       "      <td>-1.19</td>\n",
       "      <td>8.58</td>\n",
       "      <td>59.58</td>\n",
       "      <td>7.32</td>\n",
       "      <td>18.37</td>\n",
       "      <td>7.28</td>\n",
       "      <td>51.01</td>\n",
       "    </tr>\n",
       "    <tr>\n",
       "      <th>3</th>\n",
       "      <td>8.44</td>\n",
       "      <td>70.37</td>\n",
       "      <td>0.10</td>\n",
       "      <td>10.08</td>\n",
       "      <td>61.36</td>\n",
       "      <td>9.05</td>\n",
       "      <td>20.04</td>\n",
       "      <td>9.01</td>\n",
       "      <td>50.81</td>\n",
       "    </tr>\n",
       "    <tr>\n",
       "      <th>4</th>\n",
       "      <td>7.97</td>\n",
       "      <td>70.04</td>\n",
       "      <td>0.34</td>\n",
       "      <td>10.05</td>\n",
       "      <td>60.77</td>\n",
       "      <td>8.66</td>\n",
       "      <td>19.51</td>\n",
       "      <td>8.69</td>\n",
       "      <td>50.58</td>\n",
       "    </tr>\n",
       "  </tbody>\n",
       "</table></div>"
      ],
      "text/plain": [
       "   c12    c2   c14   c15    c3  c10    c7   c6   c17\n",
       "0 8.77 70.74  0.80 10.64 61.65 9.41 20.36 9.41 49.67\n",
       "1 8.37 70.43  0.54 10.35 61.09 9.01 20.22 9.06 49.33\n",
       "2 6.67 68.68 -1.19  8.58 59.58 7.32 18.37 7.28 51.01\n",
       "3 8.44 70.37  0.10 10.08 61.36 9.05 20.04 9.01 50.81\n",
       "4 7.97 70.04  0.34 10.05 60.77 8.66 19.51 8.69 50.58"
      ]
     },
     "execution_count": 91,
     "metadata": {},
     "output_type": "execute_result"
    }
   ],
   "source": [
    "random_seed=1000\n",
    "# cov = df_n.cov()\n",
    "\n",
    "cov = df_n.corr()\n",
    "# mean= df_n.mean()\n",
    "\n",
    "mode=df_n.mode().mean()\n",
    "# mode\n",
    "\n",
    "distr = multivariate_normal(cov = cov, mean = mode,\n",
    "\t\t\t\t\t\t\t\tseed = random_seed)\n",
    "\n",
    "# distr = multivariate_normal(cov = cov, mean = mean,\n",
    "# \t\t\t\t\t\t\t\tseed = random_seed,allow_singular=True)\n",
    "\n",
    "\n",
    "data = distr.rvs(size = df_n.shape[0])\n",
    "### Generated data\n",
    "df_g=pd.DataFrame(data)\n",
    "df_g.head()\n",
    "df_g.columns = df_n.columns\n",
    "df_g.head()"
   ]
  },
  {
   "cell_type": "markdown",
   "metadata": {},
   "source": [
    "# Joint distribution plot of original dataste and best generated dataset (part 3)"
   ]
  },
  {
   "cell_type": "markdown",
   "metadata": {},
   "source": [
    "### Orginal dataset"
   ]
  },
  {
   "cell_type": "code",
   "execution_count": 92,
   "metadata": {},
   "outputs": [
    {
     "data": {
      "text/plain": [
       "<AxesSubplot:ylabel='Density'>"
      ]
     },
     "execution_count": 92,
     "metadata": {},
     "output_type": "execute_result"
    },
    {
     "data": {
      "image/png": "[encoded data removed]",
      "text/plain": [
       "<Figure size 432x288 with 1 Axes>"
      ]
     },
     "metadata": {
      "needs_background": "light"
     },
     "output_type": "display_data"
    }
   ],
   "source": [
    "sns.distplot(df_n)"
   ]
  },
  {
   "cell_type": "markdown",
   "metadata": {},
   "source": [
    "### Generated dataset of best model (part 3)"
   ]
  },
  {
   "cell_type": "code",
   "execution_count": 93,
   "metadata": {},
   "outputs": [
    {
     "data": {
      "text/plain": [
       "<AxesSubplot:ylabel='Density'>"
      ]
     },
     "execution_count": 93,
     "metadata": {},
     "output_type": "execute_result"
    },
    {
     "data": {
      "image/png": "[encoded data removed]",
      "text/plain": [
       "<Figure size 432x288 with 1 Axes>"
      ]
     },
     "metadata": {
      "needs_background": "light"
     },
     "output_type": "display_data"
    }
   ],
   "source": [
    "sns.distplot(df_g)"
   ]
  },
  {
   "cell_type": "markdown",
   "metadata": {},
   "source": [
    "### the generated datset which gave best results of ML model is not gaussian this is because the joint distribution plot of original datset is not gaussian also"
   ]
  },
  {
   "cell_type": "markdown",
   "metadata": {},
   "source": [
    "# Results\n",
    "\n",
    "### It can be seen that part 3( mean of mode of columns and correlation matrix)   performed best and has results of ML models result of R2adj = 0.82 which is closest to results of original dataset"
   ]
  },
  {
   "cell_type": "markdown",
   "metadata": {},
   "source": [
    "# Conclusion\n",
    "\n",
    "### We have built a mutilvarite gausian on all the columns of dataset, we sued for variations and parts trying to best fit our dataset on multivariate gaussian\n",
    "\n",
    "## Following conclusions were made:\n",
    "\n",
    "## For original dataset:\n",
    "#### The 9 columns are not purely gaussian and are mostly skewed and therefore its combined distribution plot is not pure Gaussian, the best result of ML model from lazy predit is R2adj = 1.0\n",
    "\n",
    "\n",
    "## For part 1 (using mean of columns and covariance matrix):\n",
    "### The comined distribution plot is purely gaussuian as shown in figure also, the best result of ML model from lazy predit is R2adj = 0.8\n",
    "\n",
    "\n",
    "## For part 2 (using mean of mode of columns and covariance matrix):\n",
    "### The comined distribution plot is purely gaussuian as shown in figure also, the best result of ML model from lazy predit is R2adj = 0.81\n",
    "\n",
    "\n",
    "## For part 3 (using mean of mode of columns and correlation matrix):\n",
    "### The comined distribution plot is purely gaussuian as shown in figure also, the best result of ML model from lazy predit is R2adj = 0.82\n",
    "\n",
    "\n",
    "## For part 4 (using mean of  columns and correlation matrix):\n",
    "### The comined distribution plot is purely gaussuian as shown in figure also, the best result of ML model from lazy predit is R2adj = 0.72"
   ]
  },
  {
   "cell_type": "markdown",
   "metadata": {},
   "source": [
    "# Fututure Work:\n",
    "\n",
    "### Can use best models of Lazy predict on complete dataset.\n",
    "### Find ways of using implementing MLE and joint probabilities to find the mean and standard deviation of sample\n",
    "### Find dataset which has norammly distributed random variables (features)"
   ]
  },
  {
   "cell_type": "markdown",
   "metadata": {},
   "source": [
    "# End"
   ]
  }
 ],
 "metadata": {
  "kernelspec": {
   "display_name": "Python 3.8.8 ('base')",
   "language": "python",
   "name": "python3"
  },
  "language_info": {
   "codemirror_mode": {
    "name": "ipython",
    "version": 3
   },
   "file_extension": ".py",
   "mimetype": "text/x-python",
   "name": "python",
   "nbconvert_exporter": "python",
   "pygments_lexer": "ipython3",
   "version": "3.8.8"
  },
  "orig_nbformat": 4,
  "vscode": {
   "interpreter": {
    "hash": "a2ab3825ac7005fb7b26f112e9c99ae62f464c629e30b0d534c3b931b6cbc3ff"
   }
  }
 },
 "nbformat": 4,
 "nbformat_minor": 2
}
